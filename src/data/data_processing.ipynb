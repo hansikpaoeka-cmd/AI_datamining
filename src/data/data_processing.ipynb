{
 "cells": [
  {
   "cell_type": "code",
   "execution_count": 1,
   "id": "initial_id",
   "metadata": {
    "collapsed": true,
    "ExecuteTime": {
     "end_time": "2025-08-23T06:01:05.992153800Z",
     "start_time": "2025-08-23T06:01:02.181082200Z"
    }
   },
   "outputs": [
    {
     "data": {
      "text/plain": "                               type    size missing  unique  \\\nSK_ID_CURR                    int64  307511   0.00%  307511   \nTARGET                        int64  307511   0.00%       2   \nNAME_CONTRACT_TYPE           object  307511   0.00%       2   \nCODE_GENDER                  object  307511   0.00%       3   \nFLAG_OWN_CAR                 object  307511   0.00%       2   \n...                             ...     ...     ...     ...   \nAMT_REQ_CREDIT_BUREAU_DAY   float64  307511  13.50%       9   \nAMT_REQ_CREDIT_BUREAU_WEEK  float64  307511  13.50%       9   \nAMT_REQ_CREDIT_BUREAU_MON   float64  307511  13.50%      24   \nAMT_REQ_CREDIT_BUREAU_QRT   float64  307511  13.50%      11   \nAMT_REQ_CREDIT_BUREAU_YEAR  float64  307511  13.50%      25   \n\n                                 mean_or_top1            std_or_top2  \\\nSK_ID_CURR                      278180.518577          102790.175348   \nTARGET                               0.080729               0.272419   \nNAME_CONTRACT_TYPE          Cash loans:90.48%  Revolving loans:9.52%   \nCODE_GENDER                          F:65.83%               M:34.16%   \nFLAG_OWN_CAR                         N:65.99%               Y:34.01%   \n...                                       ...                    ...   \nAMT_REQ_CREDIT_BUREAU_DAY               0.007               0.110757   \nAMT_REQ_CREDIT_BUREAU_WEEK           0.034362               0.204685   \nAMT_REQ_CREDIT_BUREAU_MON            0.267395               0.916002   \nAMT_REQ_CREDIT_BUREAU_QRT            0.265474               0.794056   \nAMT_REQ_CREDIT_BUREAU_YEAR           1.899974               1.869295   \n\n                           min_or_top3 1%_or_top4 10%_or_top5 50%_or_bottom5  \\\nSK_ID_CURR                    100002.0   103590.2    135692.0       278202.0   \nTARGET                             0.0        0.0         0.0            0.0   \nNAME_CONTRACT_TYPE                None       None        None           None   \nCODE_GENDER                  XNA:0.00%       None        None           None   \nFLAG_OWN_CAR                      None       None        None           None   \n...                                ...        ...         ...            ...   \nAMT_REQ_CREDIT_BUREAU_DAY          0.0        0.0         0.0            0.0   \nAMT_REQ_CREDIT_BUREAU_WEEK         0.0        0.0         0.0            0.0   \nAMT_REQ_CREDIT_BUREAU_MON          0.0        0.0         0.0            0.0   \nAMT_REQ_CREDIT_BUREAU_QRT          0.0        0.0         0.0            0.0   \nAMT_REQ_CREDIT_BUREAU_YEAR         0.0        0.0         0.0            1.0   \n\n                           75%_or_bottom4 90%_or_bottom3     99%_or_bottom2  \\\nSK_ID_CURR                       367142.5       420729.0           452712.9   \nTARGET                                0.0            0.0                1.0   \nNAME_CONTRACT_TYPE                   None           None  Cash loans:90.48%   \nCODE_GENDER                          None       F:65.83%           M:34.16%   \nFLAG_OWN_CAR                         None           None           N:65.99%   \n...                                   ...            ...                ...   \nAMT_REQ_CREDIT_BUREAU_DAY             0.0            0.0                0.0   \nAMT_REQ_CREDIT_BUREAU_WEEK            0.0            0.0                1.0   \nAMT_REQ_CREDIT_BUREAU_MON             0.0            1.0                4.0   \nAMT_REQ_CREDIT_BUREAU_QRT             0.0            1.0                2.0   \nAMT_REQ_CREDIT_BUREAU_YEAR            3.0            4.0                8.0   \n\n                                   max_or_bottom1  \nSK_ID_CURR                               456255.0  \nTARGET                                        1.0  \nNAME_CONTRACT_TYPE          Revolving loans:9.52%  \nCODE_GENDER                             XNA:0.00%  \nFLAG_OWN_CAR                             Y:34.01%  \n...                                           ...  \nAMT_REQ_CREDIT_BUREAU_DAY                     9.0  \nAMT_REQ_CREDIT_BUREAU_WEEK                    8.0  \nAMT_REQ_CREDIT_BUREAU_MON                    27.0  \nAMT_REQ_CREDIT_BUREAU_QRT                   261.0  \nAMT_REQ_CREDIT_BUREAU_YEAR                   25.0  \n\n[122 rows x 14 columns]",
      "text/html": "<div>\n<style scoped>\n    .dataframe tbody tr th:only-of-type {\n        vertical-align: middle;\n    }\n\n    .dataframe tbody tr th {\n        vertical-align: top;\n    }\n\n    .dataframe thead th {\n        text-align: right;\n    }\n</style>\n<table border=\"1\" class=\"dataframe\">\n  <thead>\n    <tr style=\"text-align: right;\">\n      <th></th>\n      <th>type</th>\n      <th>size</th>\n      <th>missing</th>\n      <th>unique</th>\n      <th>mean_or_top1</th>\n      <th>std_or_top2</th>\n      <th>min_or_top3</th>\n      <th>1%_or_top4</th>\n      <th>10%_or_top5</th>\n      <th>50%_or_bottom5</th>\n      <th>75%_or_bottom4</th>\n      <th>90%_or_bottom3</th>\n      <th>99%_or_bottom2</th>\n      <th>max_or_bottom1</th>\n    </tr>\n  </thead>\n  <tbody>\n    <tr>\n      <th>SK_ID_CURR</th>\n      <td>int64</td>\n      <td>307511</td>\n      <td>0.00%</td>\n      <td>307511</td>\n      <td>278180.518577</td>\n      <td>102790.175348</td>\n      <td>100002.0</td>\n      <td>103590.2</td>\n      <td>135692.0</td>\n      <td>278202.0</td>\n      <td>367142.5</td>\n      <td>420729.0</td>\n      <td>452712.9</td>\n      <td>456255.0</td>\n    </tr>\n    <tr>\n      <th>TARGET</th>\n      <td>int64</td>\n      <td>307511</td>\n      <td>0.00%</td>\n      <td>2</td>\n      <td>0.080729</td>\n      <td>0.272419</td>\n      <td>0.0</td>\n      <td>0.0</td>\n      <td>0.0</td>\n      <td>0.0</td>\n      <td>0.0</td>\n      <td>0.0</td>\n      <td>1.0</td>\n      <td>1.0</td>\n    </tr>\n    <tr>\n      <th>NAME_CONTRACT_TYPE</th>\n      <td>object</td>\n      <td>307511</td>\n      <td>0.00%</td>\n      <td>2</td>\n      <td>Cash loans:90.48%</td>\n      <td>Revolving loans:9.52%</td>\n      <td>None</td>\n      <td>None</td>\n      <td>None</td>\n      <td>None</td>\n      <td>None</td>\n      <td>None</td>\n      <td>Cash loans:90.48%</td>\n      <td>Revolving loans:9.52%</td>\n    </tr>\n    <tr>\n      <th>CODE_GENDER</th>\n      <td>object</td>\n      <td>307511</td>\n      <td>0.00%</td>\n      <td>3</td>\n      <td>F:65.83%</td>\n      <td>M:34.16%</td>\n      <td>XNA:0.00%</td>\n      <td>None</td>\n      <td>None</td>\n      <td>None</td>\n      <td>None</td>\n      <td>F:65.83%</td>\n      <td>M:34.16%</td>\n      <td>XNA:0.00%</td>\n    </tr>\n    <tr>\n      <th>FLAG_OWN_CAR</th>\n      <td>object</td>\n      <td>307511</td>\n      <td>0.00%</td>\n      <td>2</td>\n      <td>N:65.99%</td>\n      <td>Y:34.01%</td>\n      <td>None</td>\n      <td>None</td>\n      <td>None</td>\n      <td>None</td>\n      <td>None</td>\n      <td>None</td>\n      <td>N:65.99%</td>\n      <td>Y:34.01%</td>\n    </tr>\n    <tr>\n      <th>...</th>\n      <td>...</td>\n      <td>...</td>\n      <td>...</td>\n      <td>...</td>\n      <td>...</td>\n      <td>...</td>\n      <td>...</td>\n      <td>...</td>\n      <td>...</td>\n      <td>...</td>\n      <td>...</td>\n      <td>...</td>\n      <td>...</td>\n      <td>...</td>\n    </tr>\n    <tr>\n      <th>AMT_REQ_CREDIT_BUREAU_DAY</th>\n      <td>float64</td>\n      <td>307511</td>\n      <td>13.50%</td>\n      <td>9</td>\n      <td>0.007</td>\n      <td>0.110757</td>\n      <td>0.0</td>\n      <td>0.0</td>\n      <td>0.0</td>\n      <td>0.0</td>\n      <td>0.0</td>\n      <td>0.0</td>\n      <td>0.0</td>\n      <td>9.0</td>\n    </tr>\n    <tr>\n      <th>AMT_REQ_CREDIT_BUREAU_WEEK</th>\n      <td>float64</td>\n      <td>307511</td>\n      <td>13.50%</td>\n      <td>9</td>\n      <td>0.034362</td>\n      <td>0.204685</td>\n      <td>0.0</td>\n      <td>0.0</td>\n      <td>0.0</td>\n      <td>0.0</td>\n      <td>0.0</td>\n      <td>0.0</td>\n      <td>1.0</td>\n      <td>8.0</td>\n    </tr>\n    <tr>\n      <th>AMT_REQ_CREDIT_BUREAU_MON</th>\n      <td>float64</td>\n      <td>307511</td>\n      <td>13.50%</td>\n      <td>24</td>\n      <td>0.267395</td>\n      <td>0.916002</td>\n      <td>0.0</td>\n      <td>0.0</td>\n      <td>0.0</td>\n      <td>0.0</td>\n      <td>0.0</td>\n      <td>1.0</td>\n      <td>4.0</td>\n      <td>27.0</td>\n    </tr>\n    <tr>\n      <th>AMT_REQ_CREDIT_BUREAU_QRT</th>\n      <td>float64</td>\n      <td>307511</td>\n      <td>13.50%</td>\n      <td>11</td>\n      <td>0.265474</td>\n      <td>0.794056</td>\n      <td>0.0</td>\n      <td>0.0</td>\n      <td>0.0</td>\n      <td>0.0</td>\n      <td>0.0</td>\n      <td>1.0</td>\n      <td>2.0</td>\n      <td>261.0</td>\n    </tr>\n    <tr>\n      <th>AMT_REQ_CREDIT_BUREAU_YEAR</th>\n      <td>float64</td>\n      <td>307511</td>\n      <td>13.50%</td>\n      <td>25</td>\n      <td>1.899974</td>\n      <td>1.869295</td>\n      <td>0.0</td>\n      <td>0.0</td>\n      <td>0.0</td>\n      <td>1.0</td>\n      <td>3.0</td>\n      <td>4.0</td>\n      <td>8.0</td>\n      <td>25.0</td>\n    </tr>\n  </tbody>\n</table>\n<p>122 rows × 14 columns</p>\n</div>"
     },
     "execution_count": 1,
     "metadata": {},
     "output_type": "execute_result"
    }
   ],
   "source": [
    "import pandas as pd \n",
    "import toad\n",
    "data = pd.read_csv(r'I:\\PYTHON\\AI_datamining\\data\\raw\\application_train.csv')\n",
    "toad.detect(data)"
   ]
  },
  {
   "cell_type": "code",
   "execution_count": 2,
   "outputs": [
    {
     "data": {
      "text/plain": "   SK_ID_CURR  TARGET NAME_CONTRACT_TYPE CODE_GENDER FLAG_OWN_CAR  \\\n0      100002       1         Cash loans           M            N   \n1      100003       0         Cash loans           F            N   \n2      100004       0    Revolving loans           M            Y   \n3      100006       0         Cash loans           F            N   \n4      100007       0         Cash loans           M            N   \n\n  FLAG_OWN_REALTY  CNT_CHILDREN  AMT_INCOME_TOTAL  AMT_CREDIT  AMT_ANNUITY  \\\n0               Y             0          202500.0    406597.5      24700.5   \n1               N             0          270000.0   1293502.5      35698.5   \n2               Y             0           67500.0    135000.0       6750.0   \n3               Y             0          135000.0    312682.5      29686.5   \n4               Y             0          121500.0    513000.0      21865.5   \n\n   ...  FLAG_DOCUMENT_18 FLAG_DOCUMENT_19 FLAG_DOCUMENT_20 FLAG_DOCUMENT_21  \\\n0  ...                 0                0                0                0   \n1  ...                 0                0                0                0   \n2  ...                 0                0                0                0   \n3  ...                 0                0                0                0   \n4  ...                 0                0                0                0   \n\n  AMT_REQ_CREDIT_BUREAU_HOUR AMT_REQ_CREDIT_BUREAU_DAY  \\\n0                        0.0                       0.0   \n1                        0.0                       0.0   \n2                        0.0                       0.0   \n3                        NaN                       NaN   \n4                        0.0                       0.0   \n\n   AMT_REQ_CREDIT_BUREAU_WEEK  AMT_REQ_CREDIT_BUREAU_MON  \\\n0                         0.0                        0.0   \n1                         0.0                        0.0   \n2                         0.0                        0.0   \n3                         NaN                        NaN   \n4                         0.0                        0.0   \n\n   AMT_REQ_CREDIT_BUREAU_QRT  AMT_REQ_CREDIT_BUREAU_YEAR  \n0                        0.0                         1.0  \n1                        0.0                         0.0  \n2                        0.0                         0.0  \n3                        NaN                         NaN  \n4                        0.0                         0.0  \n\n[5 rows x 122 columns]",
      "text/html": "<div>\n<style scoped>\n    .dataframe tbody tr th:only-of-type {\n        vertical-align: middle;\n    }\n\n    .dataframe tbody tr th {\n        vertical-align: top;\n    }\n\n    .dataframe thead th {\n        text-align: right;\n    }\n</style>\n<table border=\"1\" class=\"dataframe\">\n  <thead>\n    <tr style=\"text-align: right;\">\n      <th></th>\n      <th>SK_ID_CURR</th>\n      <th>TARGET</th>\n      <th>NAME_CONTRACT_TYPE</th>\n      <th>CODE_GENDER</th>\n      <th>FLAG_OWN_CAR</th>\n      <th>FLAG_OWN_REALTY</th>\n      <th>CNT_CHILDREN</th>\n      <th>AMT_INCOME_TOTAL</th>\n      <th>AMT_CREDIT</th>\n      <th>AMT_ANNUITY</th>\n      <th>...</th>\n      <th>FLAG_DOCUMENT_18</th>\n      <th>FLAG_DOCUMENT_19</th>\n      <th>FLAG_DOCUMENT_20</th>\n      <th>FLAG_DOCUMENT_21</th>\n      <th>AMT_REQ_CREDIT_BUREAU_HOUR</th>\n      <th>AMT_REQ_CREDIT_BUREAU_DAY</th>\n      <th>AMT_REQ_CREDIT_BUREAU_WEEK</th>\n      <th>AMT_REQ_CREDIT_BUREAU_MON</th>\n      <th>AMT_REQ_CREDIT_BUREAU_QRT</th>\n      <th>AMT_REQ_CREDIT_BUREAU_YEAR</th>\n    </tr>\n  </thead>\n  <tbody>\n    <tr>\n      <th>0</th>\n      <td>100002</td>\n      <td>1</td>\n      <td>Cash loans</td>\n      <td>M</td>\n      <td>N</td>\n      <td>Y</td>\n      <td>0</td>\n      <td>202500.0</td>\n      <td>406597.5</td>\n      <td>24700.5</td>\n      <td>...</td>\n      <td>0</td>\n      <td>0</td>\n      <td>0</td>\n      <td>0</td>\n      <td>0.0</td>\n      <td>0.0</td>\n      <td>0.0</td>\n      <td>0.0</td>\n      <td>0.0</td>\n      <td>1.0</td>\n    </tr>\n    <tr>\n      <th>1</th>\n      <td>100003</td>\n      <td>0</td>\n      <td>Cash loans</td>\n      <td>F</td>\n      <td>N</td>\n      <td>N</td>\n      <td>0</td>\n      <td>270000.0</td>\n      <td>1293502.5</td>\n      <td>35698.5</td>\n      <td>...</td>\n      <td>0</td>\n      <td>0</td>\n      <td>0</td>\n      <td>0</td>\n      <td>0.0</td>\n      <td>0.0</td>\n      <td>0.0</td>\n      <td>0.0</td>\n      <td>0.0</td>\n      <td>0.0</td>\n    </tr>\n    <tr>\n      <th>2</th>\n      <td>100004</td>\n      <td>0</td>\n      <td>Revolving loans</td>\n      <td>M</td>\n      <td>Y</td>\n      <td>Y</td>\n      <td>0</td>\n      <td>67500.0</td>\n      <td>135000.0</td>\n      <td>6750.0</td>\n      <td>...</td>\n      <td>0</td>\n      <td>0</td>\n      <td>0</td>\n      <td>0</td>\n      <td>0.0</td>\n      <td>0.0</td>\n      <td>0.0</td>\n      <td>0.0</td>\n      <td>0.0</td>\n      <td>0.0</td>\n    </tr>\n    <tr>\n      <th>3</th>\n      <td>100006</td>\n      <td>0</td>\n      <td>Cash loans</td>\n      <td>F</td>\n      <td>N</td>\n      <td>Y</td>\n      <td>0</td>\n      <td>135000.0</td>\n      <td>312682.5</td>\n      <td>29686.5</td>\n      <td>...</td>\n      <td>0</td>\n      <td>0</td>\n      <td>0</td>\n      <td>0</td>\n      <td>NaN</td>\n      <td>NaN</td>\n      <td>NaN</td>\n      <td>NaN</td>\n      <td>NaN</td>\n      <td>NaN</td>\n    </tr>\n    <tr>\n      <th>4</th>\n      <td>100007</td>\n      <td>0</td>\n      <td>Cash loans</td>\n      <td>M</td>\n      <td>N</td>\n      <td>Y</td>\n      <td>0</td>\n      <td>121500.0</td>\n      <td>513000.0</td>\n      <td>21865.5</td>\n      <td>...</td>\n      <td>0</td>\n      <td>0</td>\n      <td>0</td>\n      <td>0</td>\n      <td>0.0</td>\n      <td>0.0</td>\n      <td>0.0</td>\n      <td>0.0</td>\n      <td>0.0</td>\n      <td>0.0</td>\n    </tr>\n  </tbody>\n</table>\n<p>5 rows × 122 columns</p>\n</div>"
     },
     "execution_count": 2,
     "metadata": {},
     "output_type": "execute_result"
    }
   ],
   "source": [
    "data.head()"
   ],
   "metadata": {
    "collapsed": false,
    "ExecuteTime": {
     "end_time": "2025-08-23T06:01:05.998289900Z",
     "start_time": "2025-08-23T06:01:05.987377800Z"
    }
   },
   "id": "9204d8ebe9b323f"
  },
  {
   "cell_type": "code",
   "execution_count": 3,
   "outputs": [],
   "source": [
    "def optimize_int_and_float(df):\n",
    "    df_int = df.select_dtypes(include=['int64'])\n",
    "    df_int_converted=df_int.apply(pd.to_numeric,downcast='integer')\n",
    "    df_float = df.select_dtypes(include=['float64'])\n",
    "    df_float_converted = df_float.apply(pd.to_numeric,downcast='float')\n",
    "    df_object = df.select_dtypes(include=['object'])\n",
    "    return pd.concat([df_int_converted,df_float_converted,df_object],axis =1)\n",
    "\n",
    "\n",
    "        "
   ],
   "metadata": {
    "collapsed": false,
    "ExecuteTime": {
     "end_time": "2025-08-23T06:01:06.012199500Z",
     "start_time": "2025-08-23T06:01:05.998289900Z"
    }
   },
   "id": "cab148bcb3e5a770"
  },
  {
   "cell_type": "code",
   "execution_count": 4,
   "outputs": [],
   "source": [
    "application_train = optimize_int_and_float(data)\n"
   ],
   "metadata": {
    "collapsed": false,
    "ExecuteTime": {
     "end_time": "2025-08-23T06:01:07.325190900Z",
     "start_time": "2025-08-23T06:01:06.005298200Z"
    }
   },
   "id": "e31b469751312be3"
  },
  {
   "cell_type": "code",
   "execution_count": 5,
   "outputs": [
    {
     "data": {
      "text/plain": "                       type    size missing  unique  \\\nSK_ID_CURR            int32  307511   0.00%  307511   \nTARGET                 int8  307511   0.00%       2   \nCNT_CHILDREN           int8  307511   0.00%      15   \nDAYS_BIRTH            int16  307511   0.00%   17460   \nDAYS_EMPLOYED         int32  307511   0.00%   12574   \n...                     ...     ...     ...     ...   \nORGANIZATION_TYPE    object  307511   0.00%      58   \nFONDKAPREMONT_MODE   object  307511  68.39%       4   \nHOUSETYPE_MODE       object  307511  50.18%       3   \nWALLSMATERIAL_MODE   object  307511  50.84%       7   \nEMERGENCYSTATE_MODE  object  307511  47.40%       2   \n\n                                      mean_or_top1  \\\nSK_ID_CURR                           278180.518577   \nTARGET                                    0.080729   \nCNT_CHILDREN                              0.417052   \nDAYS_BIRTH                           -16036.995067   \nDAYS_EMPLOYED                         63815.045904   \n...                                            ...   \nORGANIZATION_TYPE    Business Entity Type 3:22.11%   \nFONDKAPREMONT_MODE         reg oper account:24.01%   \nHOUSETYPE_MODE               block of flats:48.94%   \nWALLSMATERIAL_MODE                    Panel:21.48%   \nEMERGENCYSTATE_MODE                      No:51.84%   \n\n                                     std_or_top2           min_or_top3  \\\nSK_ID_CURR                         102790.175348              100002.0   \nTARGET                                  0.272419                   0.0   \nCNT_CHILDREN                            0.722121                   0.0   \nDAYS_BIRTH                           4363.988632              -25229.0   \nDAYS_EMPLOYED                      141275.766519              -17912.0   \n...                                          ...                   ...   \nORGANIZATION_TYPE                     XNA:18.01%  Self-employed:12.49%   \nFONDKAPREMONT_MODE   reg oper spec account:3.93%   not specified:1.85%   \nHOUSETYPE_MODE            specific housing:0.49%  terraced house:0.39%   \nWALLSMATERIAL_MODE           Stone, brick:21.08%           Block:3.01%   \nEMERGENCYSTATE_MODE                    Yes:0.76%                  None   \n\n                                 1%_or_top4     10%_or_top5  50%_or_bottom5  \\\nSK_ID_CURR                         103590.2        135692.0        278202.0   \nTARGET                                  0.0             0.0             0.0   \nCNT_CHILDREN                            0.0             0.0             0.0   \nDAYS_BIRTH                         -24419.0        -22181.0        -15750.0   \nDAYS_EMPLOYED                      -10894.9         -4881.0         -1213.0   \n...                                     ...             ...             ...   \nORGANIZATION_TYPE               Other:5.43%  Medicine:3.64%  Religion:0.03%   \nFONDKAPREMONT_MODE   org spec account:1.83%            None            None   \nHOUSETYPE_MODE                         None            None            None   \nWALLSMATERIAL_MODE             Wooden:1.74%     Mixed:0.75%     Block:3.01%   \nEMERGENCYSTATE_MODE                    None            None            None   \n\n                              75%_or_bottom4               90%_or_bottom3  \\\nSK_ID_CURR                          367142.5                     420729.0   \nTARGET                                   0.0                          0.0   \nCNT_CHILDREN                             1.0                          2.0   \nDAYS_BIRTH                          -12413.0                     -10284.0   \nDAYS_EMPLOYED                         -289.0                     365243.0   \n...                                      ...                          ...   \nORGANIZATION_TYPE    Industry: type 13:0.02%          Trade: type 4:0.02%   \nFONDKAPREMONT_MODE   reg oper account:24.01%  reg oper spec account:3.93%   \nHOUSETYPE_MODE                          None        block of flats:48.94%   \nWALLSMATERIAL_MODE              Wooden:1.74%                  Mixed:0.75%   \nEMERGENCYSTATE_MODE                     None                         None   \n\n                             99%_or_bottom2          max_or_bottom1  \nSK_ID_CURR                         452712.9                456255.0  \nTARGET                                  1.0                     1.0  \nCNT_CHILDREN                            3.0                    19.0  \nDAYS_BIRTH                          -8263.0                 -7489.0  \nDAYS_EMPLOYED                      365243.0                365243.0  \n...                                     ...                     ...  \nORGANIZATION_TYPE       Trade: type 5:0.02%  Industry: type 8:0.01%  \nFONDKAPREMONT_MODE      not specified:1.85%  org spec account:1.83%  \nHOUSETYPE_MODE       specific housing:0.49%    terraced house:0.39%  \nWALLSMATERIAL_MODE         Monolithic:0.58%            Others:0.53%  \nEMERGENCYSTATE_MODE               No:51.84%               Yes:0.76%  \n\n[122 rows x 14 columns]",
      "text/html": "<div>\n<style scoped>\n    .dataframe tbody tr th:only-of-type {\n        vertical-align: middle;\n    }\n\n    .dataframe tbody tr th {\n        vertical-align: top;\n    }\n\n    .dataframe thead th {\n        text-align: right;\n    }\n</style>\n<table border=\"1\" class=\"dataframe\">\n  <thead>\n    <tr style=\"text-align: right;\">\n      <th></th>\n      <th>type</th>\n      <th>size</th>\n      <th>missing</th>\n      <th>unique</th>\n      <th>mean_or_top1</th>\n      <th>std_or_top2</th>\n      <th>min_or_top3</th>\n      <th>1%_or_top4</th>\n      <th>10%_or_top5</th>\n      <th>50%_or_bottom5</th>\n      <th>75%_or_bottom4</th>\n      <th>90%_or_bottom3</th>\n      <th>99%_or_bottom2</th>\n      <th>max_or_bottom1</th>\n    </tr>\n  </thead>\n  <tbody>\n    <tr>\n      <th>SK_ID_CURR</th>\n      <td>int32</td>\n      <td>307511</td>\n      <td>0.00%</td>\n      <td>307511</td>\n      <td>278180.518577</td>\n      <td>102790.175348</td>\n      <td>100002.0</td>\n      <td>103590.2</td>\n      <td>135692.0</td>\n      <td>278202.0</td>\n      <td>367142.5</td>\n      <td>420729.0</td>\n      <td>452712.9</td>\n      <td>456255.0</td>\n    </tr>\n    <tr>\n      <th>TARGET</th>\n      <td>int8</td>\n      <td>307511</td>\n      <td>0.00%</td>\n      <td>2</td>\n      <td>0.080729</td>\n      <td>0.272419</td>\n      <td>0.0</td>\n      <td>0.0</td>\n      <td>0.0</td>\n      <td>0.0</td>\n      <td>0.0</td>\n      <td>0.0</td>\n      <td>1.0</td>\n      <td>1.0</td>\n    </tr>\n    <tr>\n      <th>CNT_CHILDREN</th>\n      <td>int8</td>\n      <td>307511</td>\n      <td>0.00%</td>\n      <td>15</td>\n      <td>0.417052</td>\n      <td>0.722121</td>\n      <td>0.0</td>\n      <td>0.0</td>\n      <td>0.0</td>\n      <td>0.0</td>\n      <td>1.0</td>\n      <td>2.0</td>\n      <td>3.0</td>\n      <td>19.0</td>\n    </tr>\n    <tr>\n      <th>DAYS_BIRTH</th>\n      <td>int16</td>\n      <td>307511</td>\n      <td>0.00%</td>\n      <td>17460</td>\n      <td>-16036.995067</td>\n      <td>4363.988632</td>\n      <td>-25229.0</td>\n      <td>-24419.0</td>\n      <td>-22181.0</td>\n      <td>-15750.0</td>\n      <td>-12413.0</td>\n      <td>-10284.0</td>\n      <td>-8263.0</td>\n      <td>-7489.0</td>\n    </tr>\n    <tr>\n      <th>DAYS_EMPLOYED</th>\n      <td>int32</td>\n      <td>307511</td>\n      <td>0.00%</td>\n      <td>12574</td>\n      <td>63815.045904</td>\n      <td>141275.766519</td>\n      <td>-17912.0</td>\n      <td>-10894.9</td>\n      <td>-4881.0</td>\n      <td>-1213.0</td>\n      <td>-289.0</td>\n      <td>365243.0</td>\n      <td>365243.0</td>\n      <td>365243.0</td>\n    </tr>\n    <tr>\n      <th>...</th>\n      <td>...</td>\n      <td>...</td>\n      <td>...</td>\n      <td>...</td>\n      <td>...</td>\n      <td>...</td>\n      <td>...</td>\n      <td>...</td>\n      <td>...</td>\n      <td>...</td>\n      <td>...</td>\n      <td>...</td>\n      <td>...</td>\n      <td>...</td>\n    </tr>\n    <tr>\n      <th>ORGANIZATION_TYPE</th>\n      <td>object</td>\n      <td>307511</td>\n      <td>0.00%</td>\n      <td>58</td>\n      <td>Business Entity Type 3:22.11%</td>\n      <td>XNA:18.01%</td>\n      <td>Self-employed:12.49%</td>\n      <td>Other:5.43%</td>\n      <td>Medicine:3.64%</td>\n      <td>Religion:0.03%</td>\n      <td>Industry: type 13:0.02%</td>\n      <td>Trade: type 4:0.02%</td>\n      <td>Trade: type 5:0.02%</td>\n      <td>Industry: type 8:0.01%</td>\n    </tr>\n    <tr>\n      <th>FONDKAPREMONT_MODE</th>\n      <td>object</td>\n      <td>307511</td>\n      <td>68.39%</td>\n      <td>4</td>\n      <td>reg oper account:24.01%</td>\n      <td>reg oper spec account:3.93%</td>\n      <td>not specified:1.85%</td>\n      <td>org spec account:1.83%</td>\n      <td>None</td>\n      <td>None</td>\n      <td>reg oper account:24.01%</td>\n      <td>reg oper spec account:3.93%</td>\n      <td>not specified:1.85%</td>\n      <td>org spec account:1.83%</td>\n    </tr>\n    <tr>\n      <th>HOUSETYPE_MODE</th>\n      <td>object</td>\n      <td>307511</td>\n      <td>50.18%</td>\n      <td>3</td>\n      <td>block of flats:48.94%</td>\n      <td>specific housing:0.49%</td>\n      <td>terraced house:0.39%</td>\n      <td>None</td>\n      <td>None</td>\n      <td>None</td>\n      <td>None</td>\n      <td>block of flats:48.94%</td>\n      <td>specific housing:0.49%</td>\n      <td>terraced house:0.39%</td>\n    </tr>\n    <tr>\n      <th>WALLSMATERIAL_MODE</th>\n      <td>object</td>\n      <td>307511</td>\n      <td>50.84%</td>\n      <td>7</td>\n      <td>Panel:21.48%</td>\n      <td>Stone, brick:21.08%</td>\n      <td>Block:3.01%</td>\n      <td>Wooden:1.74%</td>\n      <td>Mixed:0.75%</td>\n      <td>Block:3.01%</td>\n      <td>Wooden:1.74%</td>\n      <td>Mixed:0.75%</td>\n      <td>Monolithic:0.58%</td>\n      <td>Others:0.53%</td>\n    </tr>\n    <tr>\n      <th>EMERGENCYSTATE_MODE</th>\n      <td>object</td>\n      <td>307511</td>\n      <td>47.40%</td>\n      <td>2</td>\n      <td>No:51.84%</td>\n      <td>Yes:0.76%</td>\n      <td>None</td>\n      <td>None</td>\n      <td>None</td>\n      <td>None</td>\n      <td>None</td>\n      <td>None</td>\n      <td>No:51.84%</td>\n      <td>Yes:0.76%</td>\n    </tr>\n  </tbody>\n</table>\n<p>122 rows × 14 columns</p>\n</div>"
     },
     "execution_count": 5,
     "metadata": {},
     "output_type": "execute_result"
    }
   ],
   "source": [
    "toad.detect(application_train)"
   ],
   "metadata": {
    "collapsed": false,
    "ExecuteTime": {
     "end_time": "2025-08-23T06:01:08.783430600Z",
     "start_time": "2025-08-23T06:01:07.325320800Z"
    }
   },
   "id": "f3f649047ef1910f"
  },
  {
   "cell_type": "code",
   "execution_count": 6,
   "outputs": [],
   "source": [
    "def show_application_detail(application,show_detail=False):\n",
    "    '''\n",
    "    :param application:申请数据 \n",
    "    :param show_detail: 是否显示详细数据\n",
    "    :return: \n",
    "    '''\n",
    "    users = application['SK_ID_CURR'].nunique()\n",
    "    default_users = len(application[application['TARGET']==1]['SK_ID_CURR'].unique())\n",
    "    if show_detail:\n",
    "        rows = application['SK_ID_CURR'].shape[0]\n",
    "        print('#申请表中数据条目数:',rows)\n",
    "        print('#申请表中申请用户数量:',users)\n",
    "        print('#申请表中违约用户数量:',default_users)\n",
    "        ratio = default_users/users\n",
    "        print('的申请用户违约:%.2f%%'%(ratio*100))\n",
    "    return users,default_users\n",
    "        "
   ],
   "metadata": {
    "collapsed": false,
    "ExecuteTime": {
     "end_time": "2025-08-23T06:01:08.788184Z",
     "start_time": "2025-08-23T06:01:08.782378200Z"
    }
   },
   "id": "28a68c3e2882b315"
  },
  {
   "cell_type": "code",
   "execution_count": 7,
   "outputs": [],
   "source": [
    "def calc_coverage(application,right_table,table_name,key='SK_ID_CURR'):\n",
    "    '''\n",
    "    :param application:申请数据 \n",
    "    :param right_table: 用于计算覆盖度的表\n",
    "    :param table_name: 表名\n",
    "    :param key: 用于与申请表连接的字段\n",
    "    :return: \n",
    "    '''\n",
    "    users,default_users = show_application_detail(application)\n",
    "    # rows = len(right_table[key])\n",
    "    # tab_users = len(right_table[key].unique())\n",
    "    #print('# rows in ',table_name, rows)\n",
    "    #print('# users in',table_name,tab_users)\n",
    "    joined_table = application.merge(right_table,on=key,how='inner')\n",
    "    covered_users = len(joined_table[key].unique())\n",
    "    print('# all users covered by',table_name,covered_users)\n",
    "    covered_ratio = covered_users / users\n",
    "    print('% all users covered by',table_name,covered_ratio)\n",
    "    pos_covered_users = len(joined_table[joined_table['TARGET']==1][key].unique())\n",
    "    print('# default users covered by',table_name,pos_covered_users)\n",
    "    pos_covered_ratio = pos_covered_users / default_users\n",
    "    print('% default users covered by',table_name,pos_covered_ratio)"
   ],
   "metadata": {
    "collapsed": false,
    "ExecuteTime": {
     "end_time": "2025-08-23T06:01:08.805118700Z",
     "start_time": "2025-08-23T06:01:08.788184Z"
    }
   },
   "id": "ea7d3517b590577d"
  },
  {
   "cell_type": "code",
   "execution_count": 8,
   "outputs": [],
   "source": [
    "%load_ext autoreload\n",
    "%autoreload 2\n",
    "import sys\n",
    "import os\n",
    "\n",
    "sys.path.insert(0,os.path.abspath('../'))\n",
    "\n",
    "%matplotlib inline\n",
    "\n",
    "import preprocessor\n",
    "import coverage\n",
    "\n",
    "data_path = f'{os.path.abspath(\".\")}/home-credit-default-risk/'\n",
    "\n",
    "\n"
   ],
   "metadata": {
    "collapsed": false,
    "ExecuteTime": {
     "end_time": "2025-08-23T06:01:09.207705300Z",
     "start_time": "2025-08-23T06:01:08.792387500Z"
    }
   },
   "id": "c5be7b01368d052f"
  },
  {
   "cell_type": "code",
   "execution_count": 9,
   "outputs": [
    {
     "data": {
      "text/plain": "<Axes: ylabel='Frequency'>"
     },
     "execution_count": 9,
     "metadata": {},
     "output_type": "execute_result"
    },
    {
     "data": {
      "text/plain": "<Figure size 640x480 with 1 Axes>",
      "image/png": "[encoded data removed]"
     },
     "metadata": {},
     "output_type": "display_data"
    }
   ],
   "source": [
    "application_train['TARGET'].plot.hist()"
   ],
   "metadata": {
    "collapsed": false,
    "ExecuteTime": {
     "end_time": "2025-08-23T06:01:09.412458300Z",
     "start_time": "2025-08-23T06:01:09.207705300Z"
    }
   },
   "id": "4b55208e99a44256"
  },
  {
   "cell_type": "code",
   "execution_count": 10,
   "outputs": [
    {
     "data": {
      "text/plain": "                       type    size missing  unique  \\\nSK_ID_CURR            int32  307511   0.00%  307511   \nTARGET                 int8  307511   0.00%       2   \nCNT_CHILDREN           int8  307511   0.00%      15   \nDAYS_BIRTH            int16  307511   0.00%   17460   \nDAYS_EMPLOYED         int32  307511   0.00%   12574   \n...                     ...     ...     ...     ...   \nORGANIZATION_TYPE    object  307511   0.00%      58   \nFONDKAPREMONT_MODE   object  307511  68.39%       4   \nHOUSETYPE_MODE       object  307511  50.18%       3   \nWALLSMATERIAL_MODE   object  307511  50.84%       7   \nEMERGENCYSTATE_MODE  object  307511  47.40%       2   \n\n                                      mean_or_top1  \\\nSK_ID_CURR                           278180.518577   \nTARGET                                    0.080729   \nCNT_CHILDREN                              0.417052   \nDAYS_BIRTH                           -16036.995067   \nDAYS_EMPLOYED                         63815.045904   \n...                                            ...   \nORGANIZATION_TYPE    Business Entity Type 3:22.11%   \nFONDKAPREMONT_MODE         reg oper account:24.01%   \nHOUSETYPE_MODE               block of flats:48.94%   \nWALLSMATERIAL_MODE                    Panel:21.48%   \nEMERGENCYSTATE_MODE                      No:51.84%   \n\n                                     std_or_top2           min_or_top3  \\\nSK_ID_CURR                         102790.175348              100002.0   \nTARGET                                  0.272419                   0.0   \nCNT_CHILDREN                            0.722121                   0.0   \nDAYS_BIRTH                           4363.988632              -25229.0   \nDAYS_EMPLOYED                      141275.766519              -17912.0   \n...                                          ...                   ...   \nORGANIZATION_TYPE                     XNA:18.01%  Self-employed:12.49%   \nFONDKAPREMONT_MODE   reg oper spec account:3.93%   not specified:1.85%   \nHOUSETYPE_MODE            specific housing:0.49%  terraced house:0.39%   \nWALLSMATERIAL_MODE           Stone, brick:21.08%           Block:3.01%   \nEMERGENCYSTATE_MODE                    Yes:0.76%                  None   \n\n                                 1%_or_top4     10%_or_top5  50%_or_bottom5  \\\nSK_ID_CURR                         103590.2        135692.0        278202.0   \nTARGET                                  0.0             0.0             0.0   \nCNT_CHILDREN                            0.0             0.0             0.0   \nDAYS_BIRTH                         -24419.0        -22181.0        -15750.0   \nDAYS_EMPLOYED                      -10894.9         -4881.0         -1213.0   \n...                                     ...             ...             ...   \nORGANIZATION_TYPE               Other:5.43%  Medicine:3.64%  Religion:0.03%   \nFONDKAPREMONT_MODE   org spec account:1.83%            None            None   \nHOUSETYPE_MODE                         None            None            None   \nWALLSMATERIAL_MODE             Wooden:1.74%     Mixed:0.75%     Block:3.01%   \nEMERGENCYSTATE_MODE                    None            None            None   \n\n                              75%_or_bottom4               90%_or_bottom3  \\\nSK_ID_CURR                          367142.5                     420729.0   \nTARGET                                   0.0                          0.0   \nCNT_CHILDREN                             1.0                          2.0   \nDAYS_BIRTH                          -12413.0                     -10284.0   \nDAYS_EMPLOYED                         -289.0                     365243.0   \n...                                      ...                          ...   \nORGANIZATION_TYPE    Industry: type 13:0.02%          Trade: type 4:0.02%   \nFONDKAPREMONT_MODE   reg oper account:24.01%  reg oper spec account:3.93%   \nHOUSETYPE_MODE                          None        block of flats:48.94%   \nWALLSMATERIAL_MODE              Wooden:1.74%                  Mixed:0.75%   \nEMERGENCYSTATE_MODE                     None                         None   \n\n                             99%_or_bottom2          max_or_bottom1  \nSK_ID_CURR                         452712.9                456255.0  \nTARGET                                  1.0                     1.0  \nCNT_CHILDREN                            3.0                    19.0  \nDAYS_BIRTH                          -8263.0                 -7489.0  \nDAYS_EMPLOYED                      365243.0                365243.0  \n...                                     ...                     ...  \nORGANIZATION_TYPE       Trade: type 5:0.02%  Industry: type 8:0.01%  \nFONDKAPREMONT_MODE      not specified:1.85%  org spec account:1.83%  \nHOUSETYPE_MODE       specific housing:0.49%    terraced house:0.39%  \nWALLSMATERIAL_MODE         Monolithic:0.58%            Others:0.53%  \nEMERGENCYSTATE_MODE               No:51.84%               Yes:0.76%  \n\n[122 rows x 14 columns]",
      "text/html": "<div>\n<style scoped>\n    .dataframe tbody tr th:only-of-type {\n        vertical-align: middle;\n    }\n\n    .dataframe tbody tr th {\n        vertical-align: top;\n    }\n\n    .dataframe thead th {\n        text-align: right;\n    }\n</style>\n<table border=\"1\" class=\"dataframe\">\n  <thead>\n    <tr style=\"text-align: right;\">\n      <th></th>\n      <th>type</th>\n      <th>size</th>\n      <th>missing</th>\n      <th>unique</th>\n      <th>mean_or_top1</th>\n      <th>std_or_top2</th>\n      <th>min_or_top3</th>\n      <th>1%_or_top4</th>\n      <th>10%_or_top5</th>\n      <th>50%_or_bottom5</th>\n      <th>75%_or_bottom4</th>\n      <th>90%_or_bottom3</th>\n      <th>99%_or_bottom2</th>\n      <th>max_or_bottom1</th>\n    </tr>\n  </thead>\n  <tbody>\n    <tr>\n      <th>SK_ID_CURR</th>\n      <td>int32</td>\n      <td>307511</td>\n      <td>0.00%</td>\n      <td>307511</td>\n      <td>278180.518577</td>\n      <td>102790.175348</td>\n      <td>100002.0</td>\n      <td>103590.2</td>\n      <td>135692.0</td>\n      <td>278202.0</td>\n      <td>367142.5</td>\n      <td>420729.0</td>\n      <td>452712.9</td>\n      <td>456255.0</td>\n    </tr>\n    <tr>\n      <th>TARGET</th>\n      <td>int8</td>\n      <td>307511</td>\n      <td>0.00%</td>\n      <td>2</td>\n      <td>0.080729</td>\n      <td>0.272419</td>\n      <td>0.0</td>\n      <td>0.0</td>\n      <td>0.0</td>\n      <td>0.0</td>\n      <td>0.0</td>\n      <td>0.0</td>\n      <td>1.0</td>\n      <td>1.0</td>\n    </tr>\n    <tr>\n      <th>CNT_CHILDREN</th>\n      <td>int8</td>\n      <td>307511</td>\n      <td>0.00%</td>\n      <td>15</td>\n      <td>0.417052</td>\n      <td>0.722121</td>\n      <td>0.0</td>\n      <td>0.0</td>\n      <td>0.0</td>\n      <td>0.0</td>\n      <td>1.0</td>\n      <td>2.0</td>\n      <td>3.0</td>\n      <td>19.0</td>\n    </tr>\n    <tr>\n      <th>DAYS_BIRTH</th>\n      <td>int16</td>\n      <td>307511</td>\n      <td>0.00%</td>\n      <td>17460</td>\n      <td>-16036.995067</td>\n      <td>4363.988632</td>\n      <td>-25229.0</td>\n      <td>-24419.0</td>\n      <td>-22181.0</td>\n      <td>-15750.0</td>\n      <td>-12413.0</td>\n      <td>-10284.0</td>\n      <td>-8263.0</td>\n      <td>-7489.0</td>\n    </tr>\n    <tr>\n      <th>DAYS_EMPLOYED</th>\n      <td>int32</td>\n      <td>307511</td>\n      <td>0.00%</td>\n      <td>12574</td>\n      <td>63815.045904</td>\n      <td>141275.766519</td>\n      <td>-17912.0</td>\n      <td>-10894.9</td>\n      <td>-4881.0</td>\n      <td>-1213.0</td>\n      <td>-289.0</td>\n      <td>365243.0</td>\n      <td>365243.0</td>\n      <td>365243.0</td>\n    </tr>\n    <tr>\n      <th>...</th>\n      <td>...</td>\n      <td>...</td>\n      <td>...</td>\n      <td>...</td>\n      <td>...</td>\n      <td>...</td>\n      <td>...</td>\n      <td>...</td>\n      <td>...</td>\n      <td>...</td>\n      <td>...</td>\n      <td>...</td>\n      <td>...</td>\n      <td>...</td>\n    </tr>\n    <tr>\n      <th>ORGANIZATION_TYPE</th>\n      <td>object</td>\n      <td>307511</td>\n      <td>0.00%</td>\n      <td>58</td>\n      <td>Business Entity Type 3:22.11%</td>\n      <td>XNA:18.01%</td>\n      <td>Self-employed:12.49%</td>\n      <td>Other:5.43%</td>\n      <td>Medicine:3.64%</td>\n      <td>Religion:0.03%</td>\n      <td>Industry: type 13:0.02%</td>\n      <td>Trade: type 4:0.02%</td>\n      <td>Trade: type 5:0.02%</td>\n      <td>Industry: type 8:0.01%</td>\n    </tr>\n    <tr>\n      <th>FONDKAPREMONT_MODE</th>\n      <td>object</td>\n      <td>307511</td>\n      <td>68.39%</td>\n      <td>4</td>\n      <td>reg oper account:24.01%</td>\n      <td>reg oper spec account:3.93%</td>\n      <td>not specified:1.85%</td>\n      <td>org spec account:1.83%</td>\n      <td>None</td>\n      <td>None</td>\n      <td>reg oper account:24.01%</td>\n      <td>reg oper spec account:3.93%</td>\n      <td>not specified:1.85%</td>\n      <td>org spec account:1.83%</td>\n    </tr>\n    <tr>\n      <th>HOUSETYPE_MODE</th>\n      <td>object</td>\n      <td>307511</td>\n      <td>50.18%</td>\n      <td>3</td>\n      <td>block of flats:48.94%</td>\n      <td>specific housing:0.49%</td>\n      <td>terraced house:0.39%</td>\n      <td>None</td>\n      <td>None</td>\n      <td>None</td>\n      <td>None</td>\n      <td>block of flats:48.94%</td>\n      <td>specific housing:0.49%</td>\n      <td>terraced house:0.39%</td>\n    </tr>\n    <tr>\n      <th>WALLSMATERIAL_MODE</th>\n      <td>object</td>\n      <td>307511</td>\n      <td>50.84%</td>\n      <td>7</td>\n      <td>Panel:21.48%</td>\n      <td>Stone, brick:21.08%</td>\n      <td>Block:3.01%</td>\n      <td>Wooden:1.74%</td>\n      <td>Mixed:0.75%</td>\n      <td>Block:3.01%</td>\n      <td>Wooden:1.74%</td>\n      <td>Mixed:0.75%</td>\n      <td>Monolithic:0.58%</td>\n      <td>Others:0.53%</td>\n    </tr>\n    <tr>\n      <th>EMERGENCYSTATE_MODE</th>\n      <td>object</td>\n      <td>307511</td>\n      <td>47.40%</td>\n      <td>2</td>\n      <td>No:51.84%</td>\n      <td>Yes:0.76%</td>\n      <td>None</td>\n      <td>None</td>\n      <td>None</td>\n      <td>None</td>\n      <td>None</td>\n      <td>None</td>\n      <td>No:51.84%</td>\n      <td>Yes:0.76%</td>\n    </tr>\n  </tbody>\n</table>\n<p>122 rows × 14 columns</p>\n</div>"
     },
     "execution_count": 10,
     "metadata": {},
     "output_type": "execute_result"
    }
   ],
   "source": [
    "toad.detect(application_train)"
   ],
   "metadata": {
    "collapsed": false,
    "ExecuteTime": {
     "end_time": "2025-08-23T06:01:10.951707200Z",
     "start_time": "2025-08-23T06:01:09.375991600Z"
    }
   },
   "id": "859ff0e6dca71a8b"
  },
  {
   "cell_type": "code",
   "execution_count": 11,
   "outputs": [
    {
     "name": "stdout",
     "output_type": "stream",
     "text": [
      "#申请表中数据条目数: 307511\n",
      "#申请表中申请用户数量: 307511\n",
      "#申请表中违约用户数量: 24825\n",
      "的申请用户违约:8.07%\n"
     ]
    }
   ],
   "source": [
    "_,_ = show_application_detail(application_train,show_detail=True)"
   ],
   "metadata": {
    "collapsed": false,
    "ExecuteTime": {
     "end_time": "2025-08-23T06:01:11.095087600Z",
     "start_time": "2025-08-23T06:01:10.948923700Z"
    }
   },
   "id": "74824acf782bb8bd"
  },
  {
   "cell_type": "code",
   "execution_count": 12,
   "outputs": [],
   "source": [
    "# 加载数据\n",
    "bureau = pd.read_csv(r'I:\\PYTHON\\AI_datamining\\data\\raw\\bureau.csv')\n",
    "bureau_balance = pd.read_csv(r'I:\\PYTHON\\AI_datamining\\data\\raw\\bureau_balance.csv')\n",
    "pos_cash_balance = pd.read_csv(r'I:\\PYTHON\\AI_datamining\\data\\raw\\POS_CASH_balance.csv')\n",
    "credit_card_balance = pd.read_csv(r'I:\\PYTHON\\AI_datamining\\data\\raw\\credit_card_balance.csv')\n",
    "installment_payments = pd.read_csv(r'I:\\PYTHON\\AI_datamining\\data\\raw\\installments_payments.csv')\n",
    "previous_application = pd.read_csv(r'I:\\PYTHON\\AI_datamining\\data\\raw\\previous_application.csv')\n",
    "\n"
   ],
   "metadata": {
    "collapsed": false,
    "ExecuteTime": {
     "end_time": "2025-08-23T06:01:30.026913300Z",
     "start_time": "2025-08-23T06:01:11.010433900Z"
    }
   },
   "id": "dee15de07f72777b"
  },
  {
   "cell_type": "code",
   "execution_count": 13,
   "outputs": [
    {
     "name": "stdout",
     "output_type": "stream",
     "text": [
      "# all users covered by bureau 263491\n",
      "% all users covered by bureau 0.8568506492450677\n",
      "# default users covered by bureau 20368\n",
      "% default users covered by bureau 0.8204632426988923\n",
      "# all users covered by pos_cash_balance 289444\n",
      "% all users covered by pos_cash_balance 0.9412476301660754\n",
      "# default users covered by pos_cash_balance 23621\n",
      "% default users covered by pos_cash_balance 0.9515005035246727\n",
      "# all users covered by credit_card_balance 86905\n",
      "% all users covered by credit_card_balance 0.2826077766323806\n",
      "# default users covered by credit_card_balance 7534\n",
      "% default users covered by credit_card_balance 0.30348439073514605\n",
      "# all users covered by installment_payments 291643\n",
      "% all users covered by installment_payments 0.9483985938714388\n",
      "# default users covered by installment_payments 23876\n",
      "% default users covered by installment_payments 0.9617724068479355\n",
      "# all users covered by previous_application 291057\n",
      "% all users covered by previous_application 0.9464929709831518\n",
      "# default users covered by previous_application 23845\n",
      "% default users covered by previous_application 0.9605236656596173\n"
     ]
    }
   ],
   "source": [
    "calc_coverage(application_train,bureau,'bureau')\n",
    "bureau_ = bureau.merge(bureau_balance,on='SK_ID_BUREAU',how='inner')\n",
    "calc_coverage(application_train,pos_cash_balance,'pos_cash_balance')\n",
    "calc_coverage(application_train,credit_card_balance,'credit_card_balance')\n",
    "calc_coverage(application_train,installment_payments,'installment_payments')\n",
    "calc_coverage(application_train,previous_application,'previous_application')\n",
    "\n",
    "\n"
   ],
   "metadata": {
    "collapsed": false,
    "ExecuteTime": {
     "end_time": "2025-08-23T06:01:58.323519200Z",
     "start_time": "2025-08-23T06:01:30.026913300Z"
    }
   },
   "id": "e021b464c879590"
  },
  {
   "cell_type": "code",
   "execution_count": 14,
   "outputs": [
    {
     "name": "stdout",
     "output_type": "stream",
     "text": [
      "# all users covered by bureau_balance 92231\n",
      "% all users covered by bureau_balance 0.29992748226892696\n",
      "# default users covered by bureau_balance 7510\n",
      "% default users covered by bureau_balance 0.3025176233635448\n"
     ]
    }
   ],
   "source": [
    "calc_coverage(application_train,bureau_,'bureau_balance')"
   ],
   "metadata": {
    "collapsed": false,
    "ExecuteTime": {
     "end_time": "2025-08-23T06:02:20.714622400Z",
     "start_time": "2025-08-23T06:01:58.326144500Z"
    }
   },
   "id": "2f521fc754e99702"
  },
  {
   "cell_type": "code",
   "execution_count": 15,
   "outputs": [
    {
     "name": "stdout",
     "output_type": "stream",
     "text": [
      "# all users covered by pos_cash_balance 286967\n",
      "% all users covered by pos_cash_balance 0.9331926337594427\n",
      "# default users covered by pos_cash_balance 23398\n",
      "% default users covered by pos_cash_balance 0.9425176233635448\n",
      "# all users covered by credit_card_balance 77934\n",
      "% all users covered by credit_card_balance 0.2534348364773943\n",
      "# default users covered by credit_card_balance 7044\n",
      "% default users covered by credit_card_balance 0.28374622356495466\n",
      "# all users covered by installment_payments 289406\n",
      "% all users covered by installment_payments 0.941124057350794\n",
      "# default users covered by installment_payments 23700\n",
      "% default users covered by installment_payments 0.9546827794561934\n"
     ]
    }
   ],
   "source": [
    "previous_application_ = previous_application[[x for x in previous_application.columns if x != 'SK_ID_CURR']]\n",
    "pos_cash_balance_prev = previous_application_.merge(pos_cash_balance,on='SK_ID_PREV',how='inner')\n",
    "credit_card_balance_prev = previous_application_.merge(credit_card_balance,on='SK_ID_PREV',how='inner')\n",
    "installment_payments_prev = previous_application_.merge(installment_payments,on='SK_ID_PREV',how='inner')\n",
    "\n",
    "calc_coverage(application_train,pos_cash_balance_prev,'pos_cash_balance')\n",
    "calc_coverage(application_train,credit_card_balance_prev,'credit_card_balance')\n",
    "calc_coverage(application_train,installment_payments_prev,'installment_payments')\n"
   ],
   "metadata": {
    "collapsed": false,
    "ExecuteTime": {
     "end_time": "2025-08-23T06:03:29.526174300Z",
     "start_time": "2025-08-23T06:02:20.714622400Z"
    }
   },
   "id": "d6801d7025946763"
  },
  {
   "cell_type": "code",
   "execution_count": 16,
   "outputs": [
    {
     "data": {
      "text/plain": "                   type    size missing  unique   mean_or_top1    std_or_top2  \\\nSK_ID_CURR        int32  307511   0.00%  307511  278180.518577  102790.175348   \nTARGET             int8  307511   0.00%       2       0.080729       0.272419   \nCNT_CHILDREN       int8  307511   0.00%      15       0.417052       0.722121   \nDAYS_BIRTH        int16  307511   0.00%   17460  -16036.995067    4363.988632   \nDAYS_EMPLOYED     int32  307511   0.00%   12574   63815.045904  141275.766519   \nDAYS_ID_PUBLISH   int16  307511   0.00%    6168   -2994.202373    1509.450419   \nFLAG_MOBIL         int8  307511   0.00%       2       0.999997       0.001803   \nFLAG_EMP_PHONE     int8  307511   0.00%       2       0.819889        0.38428   \nFLAG_WORK_PHONE    int8  307511   0.00%       2       0.199368       0.399526   \nFLAG_CONT_MOBILE   int8  307511   0.00%       2       0.998133       0.043164   \n\n                 min_or_top3 1%_or_top4 10%_or_top5 50%_or_bottom5  \\\nSK_ID_CURR          100002.0   103590.2    135692.0       278202.0   \nTARGET                   0.0        0.0         0.0            0.0   \nCNT_CHILDREN             0.0        0.0         0.0            0.0   \nDAYS_BIRTH          -25229.0   -24419.0    -22181.0       -15750.0   \nDAYS_EMPLOYED       -17912.0   -10894.9     -4881.0        -1213.0   \nDAYS_ID_PUBLISH      -7197.0    -5447.0     -4724.0        -3254.0   \nFLAG_MOBIL               0.0        1.0         1.0            1.0   \nFLAG_EMP_PHONE           0.0        0.0         0.0            1.0   \nFLAG_WORK_PHONE          0.0        0.0         0.0            0.0   \nFLAG_CONT_MOBILE         0.0        1.0         1.0            1.0   \n\n                 75%_or_bottom4 90%_or_bottom3 99%_or_bottom2 max_or_bottom1  \nSK_ID_CURR             367142.5       420729.0       452712.9       456255.0  \nTARGET                      0.0            0.0            1.0            1.0  \nCNT_CHILDREN                1.0            2.0            3.0           19.0  \nDAYS_BIRTH             -12413.0       -10284.0        -8263.0        -7489.0  \nDAYS_EMPLOYED            -289.0       365243.0       365243.0       365243.0  \nDAYS_ID_PUBLISH         -1720.0         -730.0          -61.0            0.0  \nFLAG_MOBIL                  1.0            1.0            1.0            1.0  \nFLAG_EMP_PHONE              1.0            1.0            1.0            1.0  \nFLAG_WORK_PHONE             0.0            1.0            1.0            1.0  \nFLAG_CONT_MOBILE            1.0            1.0            1.0            1.0  ",
      "text/html": "<div>\n<style scoped>\n    .dataframe tbody tr th:only-of-type {\n        vertical-align: middle;\n    }\n\n    .dataframe tbody tr th {\n        vertical-align: top;\n    }\n\n    .dataframe thead th {\n        text-align: right;\n    }\n</style>\n<table border=\"1\" class=\"dataframe\">\n  <thead>\n    <tr style=\"text-align: right;\">\n      <th></th>\n      <th>type</th>\n      <th>size</th>\n      <th>missing</th>\n      <th>unique</th>\n      <th>mean_or_top1</th>\n      <th>std_or_top2</th>\n      <th>min_or_top3</th>\n      <th>1%_or_top4</th>\n      <th>10%_or_top5</th>\n      <th>50%_or_bottom5</th>\n      <th>75%_or_bottom4</th>\n      <th>90%_or_bottom3</th>\n      <th>99%_or_bottom2</th>\n      <th>max_or_bottom1</th>\n    </tr>\n  </thead>\n  <tbody>\n    <tr>\n      <th>SK_ID_CURR</th>\n      <td>int32</td>\n      <td>307511</td>\n      <td>0.00%</td>\n      <td>307511</td>\n      <td>278180.518577</td>\n      <td>102790.175348</td>\n      <td>100002.0</td>\n      <td>103590.2</td>\n      <td>135692.0</td>\n      <td>278202.0</td>\n      <td>367142.5</td>\n      <td>420729.0</td>\n      <td>452712.9</td>\n      <td>456255.0</td>\n    </tr>\n    <tr>\n      <th>TARGET</th>\n      <td>int8</td>\n      <td>307511</td>\n      <td>0.00%</td>\n      <td>2</td>\n      <td>0.080729</td>\n      <td>0.272419</td>\n      <td>0.0</td>\n      <td>0.0</td>\n      <td>0.0</td>\n      <td>0.0</td>\n      <td>0.0</td>\n      <td>0.0</td>\n      <td>1.0</td>\n      <td>1.0</td>\n    </tr>\n    <tr>\n      <th>CNT_CHILDREN</th>\n      <td>int8</td>\n      <td>307511</td>\n      <td>0.00%</td>\n      <td>15</td>\n      <td>0.417052</td>\n      <td>0.722121</td>\n      <td>0.0</td>\n      <td>0.0</td>\n      <td>0.0</td>\n      <td>0.0</td>\n      <td>1.0</td>\n      <td>2.0</td>\n      <td>3.0</td>\n      <td>19.0</td>\n    </tr>\n    <tr>\n      <th>DAYS_BIRTH</th>\n      <td>int16</td>\n      <td>307511</td>\n      <td>0.00%</td>\n      <td>17460</td>\n      <td>-16036.995067</td>\n      <td>4363.988632</td>\n      <td>-25229.0</td>\n      <td>-24419.0</td>\n      <td>-22181.0</td>\n      <td>-15750.0</td>\n      <td>-12413.0</td>\n      <td>-10284.0</td>\n      <td>-8263.0</td>\n      <td>-7489.0</td>\n    </tr>\n    <tr>\n      <th>DAYS_EMPLOYED</th>\n      <td>int32</td>\n      <td>307511</td>\n      <td>0.00%</td>\n      <td>12574</td>\n      <td>63815.045904</td>\n      <td>141275.766519</td>\n      <td>-17912.0</td>\n      <td>-10894.9</td>\n      <td>-4881.0</td>\n      <td>-1213.0</td>\n      <td>-289.0</td>\n      <td>365243.0</td>\n      <td>365243.0</td>\n      <td>365243.0</td>\n    </tr>\n    <tr>\n      <th>DAYS_ID_PUBLISH</th>\n      <td>int16</td>\n      <td>307511</td>\n      <td>0.00%</td>\n      <td>6168</td>\n      <td>-2994.202373</td>\n      <td>1509.450419</td>\n      <td>-7197.0</td>\n      <td>-5447.0</td>\n      <td>-4724.0</td>\n      <td>-3254.0</td>\n      <td>-1720.0</td>\n      <td>-730.0</td>\n      <td>-61.0</td>\n      <td>0.0</td>\n    </tr>\n    <tr>\n      <th>FLAG_MOBIL</th>\n      <td>int8</td>\n      <td>307511</td>\n      <td>0.00%</td>\n      <td>2</td>\n      <td>0.999997</td>\n      <td>0.001803</td>\n      <td>0.0</td>\n      <td>1.0</td>\n      <td>1.0</td>\n      <td>1.0</td>\n      <td>1.0</td>\n      <td>1.0</td>\n      <td>1.0</td>\n      <td>1.0</td>\n    </tr>\n    <tr>\n      <th>FLAG_EMP_PHONE</th>\n      <td>int8</td>\n      <td>307511</td>\n      <td>0.00%</td>\n      <td>2</td>\n      <td>0.819889</td>\n      <td>0.38428</td>\n      <td>0.0</td>\n      <td>0.0</td>\n      <td>0.0</td>\n      <td>1.0</td>\n      <td>1.0</td>\n      <td>1.0</td>\n      <td>1.0</td>\n      <td>1.0</td>\n    </tr>\n    <tr>\n      <th>FLAG_WORK_PHONE</th>\n      <td>int8</td>\n      <td>307511</td>\n      <td>0.00%</td>\n      <td>2</td>\n      <td>0.199368</td>\n      <td>0.399526</td>\n      <td>0.0</td>\n      <td>0.0</td>\n      <td>0.0</td>\n      <td>0.0</td>\n      <td>0.0</td>\n      <td>1.0</td>\n      <td>1.0</td>\n      <td>1.0</td>\n    </tr>\n    <tr>\n      <th>FLAG_CONT_MOBILE</th>\n      <td>int8</td>\n      <td>307511</td>\n      <td>0.00%</td>\n      <td>2</td>\n      <td>0.998133</td>\n      <td>0.043164</td>\n      <td>0.0</td>\n      <td>1.0</td>\n      <td>1.0</td>\n      <td>1.0</td>\n      <td>1.0</td>\n      <td>1.0</td>\n      <td>1.0</td>\n      <td>1.0</td>\n    </tr>\n  </tbody>\n</table>\n</div>"
     },
     "execution_count": 16,
     "metadata": {},
     "output_type": "execute_result"
    }
   ],
   "source": [
    "application_check = toad.detect(application_train)\n",
    "application_check.head(10)"
   ],
   "metadata": {
    "collapsed": false,
    "ExecuteTime": {
     "end_time": "2025-08-23T06:03:31.296478700Z",
     "start_time": "2025-08-23T06:03:29.538371400Z"
    }
   },
   "id": "c802b90ec9a85bfc"
  },
  {
   "cell_type": "code",
   "execution_count": 17,
   "outputs": [
    {
     "name": "stdout",
     "output_type": "stream",
     "text": [
      "top 10 features with high iv\n"
     ]
    },
    {
     "data": {
      "text/plain": "                         iv  gini  entropy    unique\nEXT_SOURCE_3       0.332758   NaN      NaN     815.0\nEXT_SOURCE_2       0.321745   NaN      NaN  119832.0\nEXT_SOURCE_1       0.154901   NaN      NaN  114585.0\nDAYS_EMPLOYED      0.114698   NaN      NaN   12574.0\nAMT_GOODS_PRICE    0.101163   NaN      NaN    1003.0\nDAYS_BIRTH         0.090051   NaN      NaN   17460.0\nOCCUPATION_TYPE    0.082865   NaN      NaN      19.0\nORGANIZATION_TYPE  0.073368   NaN      NaN      58.0\nAMT_CREDIT         0.068424   NaN      NaN    5603.0\nNAME_INCOME_TYPE   0.058334   NaN      NaN       8.0",
      "text/html": "<div>\n<style scoped>\n    .dataframe tbody tr th:only-of-type {\n        vertical-align: middle;\n    }\n\n    .dataframe tbody tr th {\n        vertical-align: top;\n    }\n\n    .dataframe thead th {\n        text-align: right;\n    }\n</style>\n<table border=\"1\" class=\"dataframe\">\n  <thead>\n    <tr style=\"text-align: right;\">\n      <th></th>\n      <th>iv</th>\n      <th>gini</th>\n      <th>entropy</th>\n      <th>unique</th>\n    </tr>\n  </thead>\n  <tbody>\n    <tr>\n      <th>EXT_SOURCE_3</th>\n      <td>0.332758</td>\n      <td>NaN</td>\n      <td>NaN</td>\n      <td>815.0</td>\n    </tr>\n    <tr>\n      <th>EXT_SOURCE_2</th>\n      <td>0.321745</td>\n      <td>NaN</td>\n      <td>NaN</td>\n      <td>119832.0</td>\n    </tr>\n    <tr>\n      <th>EXT_SOURCE_1</th>\n      <td>0.154901</td>\n      <td>NaN</td>\n      <td>NaN</td>\n      <td>114585.0</td>\n    </tr>\n    <tr>\n      <th>DAYS_EMPLOYED</th>\n      <td>0.114698</td>\n      <td>NaN</td>\n      <td>NaN</td>\n      <td>12574.0</td>\n    </tr>\n    <tr>\n      <th>AMT_GOODS_PRICE</th>\n      <td>0.101163</td>\n      <td>NaN</td>\n      <td>NaN</td>\n      <td>1003.0</td>\n    </tr>\n    <tr>\n      <th>DAYS_BIRTH</th>\n      <td>0.090051</td>\n      <td>NaN</td>\n      <td>NaN</td>\n      <td>17460.0</td>\n    </tr>\n    <tr>\n      <th>OCCUPATION_TYPE</th>\n      <td>0.082865</td>\n      <td>NaN</td>\n      <td>NaN</td>\n      <td>19.0</td>\n    </tr>\n    <tr>\n      <th>ORGANIZATION_TYPE</th>\n      <td>0.073368</td>\n      <td>NaN</td>\n      <td>NaN</td>\n      <td>58.0</td>\n    </tr>\n    <tr>\n      <th>AMT_CREDIT</th>\n      <td>0.068424</td>\n      <td>NaN</td>\n      <td>NaN</td>\n      <td>5603.0</td>\n    </tr>\n    <tr>\n      <th>NAME_INCOME_TYPE</th>\n      <td>0.058334</td>\n      <td>NaN</td>\n      <td>NaN</td>\n      <td>8.0</td>\n    </tr>\n  </tbody>\n</table>\n</div>"
     },
     "metadata": {},
     "output_type": "display_data"
    },
    {
     "name": "stdout",
     "output_type": "stream",
     "text": [
      "last 10 features with low iv\n"
     ]
    },
    {
     "data": {
      "text/plain": "                            iv  gini  entropy  unique\nFLAG_MOBIL        8.938043e-05   NaN      NaN     2.0\nFLAG_DOCUMENT_12  5.775823e-05   NaN      NaN     2.0\nFLAG_EMAIL        4.210277e-05   NaN      NaN     2.0\nFLAG_DOCUMENT_7   3.818893e-05   NaN      NaN     2.0\nFLAG_DOCUMENT_4   3.787674e-05   NaN      NaN     2.0\nFLAG_DOCUMENT_19  2.726998e-05   NaN      NaN     2.0\nFLAG_DOCUMENT_10  7.552028e-06   NaN      NaN     2.0\nFLAG_CONT_MOBILE  1.870741e-06   NaN      NaN     2.0\nFLAG_DOCUMENT_5   1.348882e-06   NaN      NaN     2.0\nFLAG_DOCUMENT_20  6.161632e-07   NaN      NaN     2.0",
      "text/html": "<div>\n<style scoped>\n    .dataframe tbody tr th:only-of-type {\n        vertical-align: middle;\n    }\n\n    .dataframe tbody tr th {\n        vertical-align: top;\n    }\n\n    .dataframe thead th {\n        text-align: right;\n    }\n</style>\n<table border=\"1\" class=\"dataframe\">\n  <thead>\n    <tr style=\"text-align: right;\">\n      <th></th>\n      <th>iv</th>\n      <th>gini</th>\n      <th>entropy</th>\n      <th>unique</th>\n    </tr>\n  </thead>\n  <tbody>\n    <tr>\n      <th>FLAG_MOBIL</th>\n      <td>8.938043e-05</td>\n      <td>NaN</td>\n      <td>NaN</td>\n      <td>2.0</td>\n    </tr>\n    <tr>\n      <th>FLAG_DOCUMENT_12</th>\n      <td>5.775823e-05</td>\n      <td>NaN</td>\n      <td>NaN</td>\n      <td>2.0</td>\n    </tr>\n    <tr>\n      <th>FLAG_EMAIL</th>\n      <td>4.210277e-05</td>\n      <td>NaN</td>\n      <td>NaN</td>\n      <td>2.0</td>\n    </tr>\n    <tr>\n      <th>FLAG_DOCUMENT_7</th>\n      <td>3.818893e-05</td>\n      <td>NaN</td>\n      <td>NaN</td>\n      <td>2.0</td>\n    </tr>\n    <tr>\n      <th>FLAG_DOCUMENT_4</th>\n      <td>3.787674e-05</td>\n      <td>NaN</td>\n      <td>NaN</td>\n      <td>2.0</td>\n    </tr>\n    <tr>\n      <th>FLAG_DOCUMENT_19</th>\n      <td>2.726998e-05</td>\n      <td>NaN</td>\n      <td>NaN</td>\n      <td>2.0</td>\n    </tr>\n    <tr>\n      <th>FLAG_DOCUMENT_10</th>\n      <td>7.552028e-06</td>\n      <td>NaN</td>\n      <td>NaN</td>\n      <td>2.0</td>\n    </tr>\n    <tr>\n      <th>FLAG_CONT_MOBILE</th>\n      <td>1.870741e-06</td>\n      <td>NaN</td>\n      <td>NaN</td>\n      <td>2.0</td>\n    </tr>\n    <tr>\n      <th>FLAG_DOCUMENT_5</th>\n      <td>1.348882e-06</td>\n      <td>NaN</td>\n      <td>NaN</td>\n      <td>2.0</td>\n    </tr>\n    <tr>\n      <th>FLAG_DOCUMENT_20</th>\n      <td>6.161632e-07</td>\n      <td>NaN</td>\n      <td>NaN</td>\n      <td>2.0</td>\n    </tr>\n  </tbody>\n</table>\n</div>"
     },
     "metadata": {},
     "output_type": "display_data"
    }
   ],
   "source": [
    "print('top 10 features with high iv')\n",
    "display(toad.quality(application_train.drop('SK_ID_CURR',axis=1),'TARGET',iv_only=True)[:10])\n",
    "print('last 10 features with low iv')\n",
    "display(toad.quality(application_train.drop('SK_ID_CURR',axis=1),'TARGET',iv_only=True)[-10:])"
   ],
   "metadata": {
    "collapsed": false,
    "ExecuteTime": {
     "end_time": "2025-08-23T06:03:39.311899300Z",
     "start_time": "2025-08-23T06:03:31.278080Z"
    }
   },
   "id": "49991de85dd4016c"
  },
  {
   "cell_type": "code",
   "execution_count": 18,
   "outputs": [
    {
     "data": {
      "text/plain": "(307511, 122)"
     },
     "execution_count": 18,
     "metadata": {},
     "output_type": "execute_result"
    }
   ],
   "source": [
    "application_train.shape"
   ],
   "metadata": {
    "collapsed": false,
    "ExecuteTime": {
     "end_time": "2025-08-23T06:03:39.402646900Z",
     "start_time": "2025-08-23T06:03:39.309861600Z"
    }
   },
   "id": "1da8daf396410e1e"
  },
  {
   "cell_type": "code",
   "execution_count": 19,
   "outputs": [
    {
     "name": "stdout",
     "output_type": "stream",
     "text": [
      "<class 'pandas.core.frame.DataFrame'>\n",
      "RangeIndex: 307511 entries, 0 to 307510\n",
      "Columns: 122 entries, SK_ID_CURR to EMERGENCYSTATE_MODE\n",
      "dtypes: float32(64), float64(1), int16(2), int32(2), int8(37), object(16)\n",
      "memory usage: 129.3+ MB\n"
     ]
    }
   ],
   "source": [
    "application_train.info()"
   ],
   "metadata": {
    "collapsed": false,
    "ExecuteTime": {
     "end_time": "2025-08-23T06:03:39.573594700Z",
     "start_time": "2025-08-23T06:03:39.528669400Z"
    }
   },
   "id": "93c144d03c61d8ef"
  },
  {
   "cell_type": "code",
   "execution_count": 20,
   "outputs": [
    {
     "name": "stdout",
     "output_type": "stream",
     "text": [
      "<class 'pandas.core.frame.DataFrame'>\n",
      "RangeIndex: 307511 entries, 0 to 307510\n",
      "Data columns (total 122 columns):\n",
      " #    Column                        Non-Null Count   Dtype  \n",
      "---   ------                        --------------   -----  \n",
      " 0    SK_ID_CURR                    307511 non-null  int32  \n",
      " 1    TARGET                        307511 non-null  int8   \n",
      " 2    CNT_CHILDREN                  307511 non-null  int8   \n",
      " 3    DAYS_BIRTH                    307511 non-null  int16  \n",
      " 4    DAYS_EMPLOYED                 307511 non-null  int32  \n",
      " 5    DAYS_ID_PUBLISH               307511 non-null  int16  \n",
      " 6    FLAG_MOBIL                    307511 non-null  int8   \n",
      " 7    FLAG_EMP_PHONE                307511 non-null  int8   \n",
      " 8    FLAG_WORK_PHONE               307511 non-null  int8   \n",
      " 9    FLAG_CONT_MOBILE              307511 non-null  int8   \n",
      " 10   FLAG_PHONE                    307511 non-null  int8   \n",
      " 11   FLAG_EMAIL                    307511 non-null  int8   \n",
      " 12   REGION_RATING_CLIENT          307511 non-null  int8   \n",
      " 13   REGION_RATING_CLIENT_W_CITY   307511 non-null  int8   \n",
      " 14   HOUR_APPR_PROCESS_START       307511 non-null  int8   \n",
      " 15   REG_REGION_NOT_LIVE_REGION    307511 non-null  int8   \n",
      " 16   REG_REGION_NOT_WORK_REGION    307511 non-null  int8   \n",
      " 17   LIVE_REGION_NOT_WORK_REGION   307511 non-null  int8   \n",
      " 18   REG_CITY_NOT_LIVE_CITY        307511 non-null  int8   \n",
      " 19   REG_CITY_NOT_WORK_CITY        307511 non-null  int8   \n",
      " 20   LIVE_CITY_NOT_WORK_CITY       307511 non-null  int8   \n",
      " 21   FLAG_DOCUMENT_2               307511 non-null  int8   \n",
      " 22   FLAG_DOCUMENT_3               307511 non-null  int8   \n",
      " 23   FLAG_DOCUMENT_4               307511 non-null  int8   \n",
      " 24   FLAG_DOCUMENT_5               307511 non-null  int8   \n",
      " 25   FLAG_DOCUMENT_6               307511 non-null  int8   \n",
      " 26   FLAG_DOCUMENT_7               307511 non-null  int8   \n",
      " 27   FLAG_DOCUMENT_8               307511 non-null  int8   \n",
      " 28   FLAG_DOCUMENT_9               307511 non-null  int8   \n",
      " 29   FLAG_DOCUMENT_10              307511 non-null  int8   \n",
      " 30   FLAG_DOCUMENT_11              307511 non-null  int8   \n",
      " 31   FLAG_DOCUMENT_12              307511 non-null  int8   \n",
      " 32   FLAG_DOCUMENT_13              307511 non-null  int8   \n",
      " 33   FLAG_DOCUMENT_14              307511 non-null  int8   \n",
      " 34   FLAG_DOCUMENT_15              307511 non-null  int8   \n",
      " 35   FLAG_DOCUMENT_16              307511 non-null  int8   \n",
      " 36   FLAG_DOCUMENT_17              307511 non-null  int8   \n",
      " 37   FLAG_DOCUMENT_18              307511 non-null  int8   \n",
      " 38   FLAG_DOCUMENT_19              307511 non-null  int8   \n",
      " 39   FLAG_DOCUMENT_20              307511 non-null  int8   \n",
      " 40   FLAG_DOCUMENT_21              307511 non-null  int8   \n",
      " 41   AMT_INCOME_TOTAL              307511 non-null  float64\n",
      " 42   AMT_CREDIT                    307511 non-null  float32\n",
      " 43   AMT_ANNUITY                   307499 non-null  float32\n",
      " 44   AMT_GOODS_PRICE               307233 non-null  float32\n",
      " 45   REGION_POPULATION_RELATIVE    307511 non-null  float32\n",
      " 46   DAYS_REGISTRATION             307511 non-null  float32\n",
      " 47   OWN_CAR_AGE                   104582 non-null  float32\n",
      " 48   CNT_FAM_MEMBERS               307509 non-null  float32\n",
      " 49   EXT_SOURCE_1                  134133 non-null  float32\n",
      " 50   EXT_SOURCE_2                  306851 non-null  float32\n",
      " 51   EXT_SOURCE_3                  246546 non-null  float32\n",
      " 52   APARTMENTS_AVG                151450 non-null  float32\n",
      " 53   BASEMENTAREA_AVG              127568 non-null  float32\n",
      " 54   YEARS_BEGINEXPLUATATION_AVG   157504 non-null  float32\n",
      " 55   YEARS_BUILD_AVG               103023 non-null  float32\n",
      " 56   COMMONAREA_AVG                92646 non-null   float32\n",
      " 57   ELEVATORS_AVG                 143620 non-null  float32\n",
      " 58   ENTRANCES_AVG                 152683 non-null  float32\n",
      " 59   FLOORSMAX_AVG                 154491 non-null  float32\n",
      " 60   FLOORSMIN_AVG                 98869 non-null   float32\n",
      " 61   LANDAREA_AVG                  124921 non-null  float32\n",
      " 62   LIVINGAPARTMENTS_AVG          97312 non-null   float32\n",
      " 63   LIVINGAREA_AVG                153161 non-null  float32\n",
      " 64   NONLIVINGAPARTMENTS_AVG       93997 non-null   float32\n",
      " 65   NONLIVINGAREA_AVG             137829 non-null  float32\n",
      " 66   APARTMENTS_MODE               151450 non-null  float32\n",
      " 67   BASEMENTAREA_MODE             127568 non-null  float32\n",
      " 68   YEARS_BEGINEXPLUATATION_MODE  157504 non-null  float32\n",
      " 69   YEARS_BUILD_MODE              103023 non-null  float32\n",
      " 70   COMMONAREA_MODE               92646 non-null   float32\n",
      " 71   ELEVATORS_MODE                143620 non-null  float32\n",
      " 72   ENTRANCES_MODE                152683 non-null  float32\n",
      " 73   FLOORSMAX_MODE                154491 non-null  float32\n",
      " 74   FLOORSMIN_MODE                98869 non-null   float32\n",
      " 75   LANDAREA_MODE                 124921 non-null  float32\n",
      " 76   LIVINGAPARTMENTS_MODE         97312 non-null   float32\n",
      " 77   LIVINGAREA_MODE               153161 non-null  float32\n",
      " 78   NONLIVINGAPARTMENTS_MODE      93997 non-null   float32\n",
      " 79   NONLIVINGAREA_MODE            137829 non-null  float32\n",
      " 80   APARTMENTS_MEDI               151450 non-null  float32\n",
      " 81   BASEMENTAREA_MEDI             127568 non-null  float32\n",
      " 82   YEARS_BEGINEXPLUATATION_MEDI  157504 non-null  float32\n",
      " 83   YEARS_BUILD_MEDI              103023 non-null  float32\n",
      " 84   COMMONAREA_MEDI               92646 non-null   float32\n",
      " 85   ELEVATORS_MEDI                143620 non-null  float32\n",
      " 86   ENTRANCES_MEDI                152683 non-null  float32\n",
      " 87   FLOORSMAX_MEDI                154491 non-null  float32\n",
      " 88   FLOORSMIN_MEDI                98869 non-null   float32\n",
      " 89   LANDAREA_MEDI                 124921 non-null  float32\n",
      " 90   LIVINGAPARTMENTS_MEDI         97312 non-null   float32\n",
      " 91   LIVINGAREA_MEDI               153161 non-null  float32\n",
      " 92   NONLIVINGAPARTMENTS_MEDI      93997 non-null   float32\n",
      " 93   NONLIVINGAREA_MEDI            137829 non-null  float32\n",
      " 94   TOTALAREA_MODE                159080 non-null  float32\n",
      " 95   OBS_30_CNT_SOCIAL_CIRCLE      306490 non-null  float32\n",
      " 96   DEF_30_CNT_SOCIAL_CIRCLE      306490 non-null  float32\n",
      " 97   OBS_60_CNT_SOCIAL_CIRCLE      306490 non-null  float32\n",
      " 98   DEF_60_CNT_SOCIAL_CIRCLE      306490 non-null  float32\n",
      " 99   DAYS_LAST_PHONE_CHANGE        307510 non-null  float32\n",
      " 100  AMT_REQ_CREDIT_BUREAU_HOUR    265992 non-null  float32\n",
      " 101  AMT_REQ_CREDIT_BUREAU_DAY     265992 non-null  float32\n",
      " 102  AMT_REQ_CREDIT_BUREAU_WEEK    265992 non-null  float32\n",
      " 103  AMT_REQ_CREDIT_BUREAU_MON     265992 non-null  float32\n",
      " 104  AMT_REQ_CREDIT_BUREAU_QRT     265992 non-null  float32\n",
      " 105  AMT_REQ_CREDIT_BUREAU_YEAR    265992 non-null  float32\n",
      " 106  NAME_CONTRACT_TYPE            307511 non-null  object \n",
      " 107  CODE_GENDER                   307511 non-null  object \n",
      " 108  FLAG_OWN_CAR                  307511 non-null  object \n",
      " 109  FLAG_OWN_REALTY               307511 non-null  object \n",
      " 110  NAME_TYPE_SUITE               306219 non-null  object \n",
      " 111  NAME_INCOME_TYPE              307511 non-null  object \n",
      " 112  NAME_EDUCATION_TYPE           307511 non-null  object \n",
      " 113  NAME_FAMILY_STATUS            307511 non-null  object \n",
      " 114  NAME_HOUSING_TYPE             307511 non-null  object \n",
      " 115  OCCUPATION_TYPE               211120 non-null  object \n",
      " 116  WEEKDAY_APPR_PROCESS_START    307511 non-null  object \n",
      " 117  ORGANIZATION_TYPE             307511 non-null  object \n",
      " 118  FONDKAPREMONT_MODE            97216 non-null   object \n",
      " 119  HOUSETYPE_MODE                153214 non-null  object \n",
      " 120  WALLSMATERIAL_MODE            151170 non-null  object \n",
      " 121  EMERGENCYSTATE_MODE           161756 non-null  object \n",
      "dtypes: float32(64), float64(1), int16(2), int32(2), int8(37), object(16)\n",
      "memory usage: 129.3+ MB\n"
     ]
    }
   ],
   "source": [
    "application_train.info(verbose=True,show_counts=True)"
   ],
   "metadata": {
    "collapsed": false,
    "ExecuteTime": {
     "end_time": "2025-08-23T06:03:40.033197900Z",
     "start_time": "2025-08-23T06:03:39.572466200Z"
    }
   },
   "id": "2c790ec0167adc63"
  },
  {
   "cell_type": "code",
   "execution_count": 21,
   "outputs": [
    {
     "name": "stdout",
     "output_type": "stream",
     "text": [
      "缺失列数量67\n"
     ]
    }
   ],
   "source": [
    "count = 0\n",
    "for column in application_train.columns:\n",
    "    na_count = application_train[column][application_train[column].isna()].shape[0]\n",
    "    if na_count>0:\n",
    "        count+=1\n",
    "print('缺失列数量'+str(count))"
   ],
   "metadata": {
    "collapsed": false,
    "ExecuteTime": {
     "end_time": "2025-08-23T06:03:40.322913Z",
     "start_time": "2025-08-23T06:03:40.029649Z"
    }
   },
   "id": "922fcdbeb2bc45d3"
  },
  {
   "cell_type": "code",
   "execution_count": 22,
   "outputs": [
    {
     "data": {
      "text/plain": "array(['M', 'F', 'XNA'], dtype=object)"
     },
     "execution_count": 22,
     "metadata": {},
     "output_type": "execute_result"
    }
   ],
   "source": [
    "application_train['CODE_GENDER'].unique()"
   ],
   "metadata": {
    "collapsed": false,
    "ExecuteTime": {
     "end_time": "2025-08-23T06:03:40.414924700Z",
     "start_time": "2025-08-23T06:03:40.320913600Z"
    }
   },
   "id": "ab3d6db5ed384299"
  },
  {
   "cell_type": "code",
   "execution_count": 23,
   "outputs": [
    {
     "data": {
      "text/plain": "array([365243])"
     },
     "execution_count": 23,
     "metadata": {},
     "output_type": "execute_result"
    }
   ],
   "source": [
    "application_train['DAYS_EMPLOYED'][application_train['DAYS_EMPLOYED']>0].unique()"
   ],
   "metadata": {
    "collapsed": false,
    "ExecuteTime": {
     "end_time": "2025-08-23T06:03:40.416295Z",
     "start_time": "2025-08-23T06:03:40.362824100Z"
    }
   },
   "id": "fedaf5b0d6d1995e"
  },
  {
   "cell_type": "code",
   "execution_count": 24,
   "outputs": [
    {
     "data": {
      "text/plain": "array([0.], dtype=float32)"
     },
     "execution_count": 24,
     "metadata": {},
     "output_type": "execute_result"
    }
   ],
   "source": [
    "application_train['DAYS_LAST_PHONE_CHANGE'][application_train['DAYS_LAST_PHONE_CHANGE']>=0].unique()"
   ],
   "metadata": {
    "collapsed": false,
    "ExecuteTime": {
     "end_time": "2025-08-23T06:03:40.485778400Z",
     "start_time": "2025-08-23T06:03:40.397409700Z"
    }
   },
   "id": "ffdcfdb6a5f9df92"
  },
  {
   "cell_type": "code",
   "execution_count": 25,
   "outputs": [
    {
     "data": {
      "text/plain": "array(['Single / not married', 'Married', 'Civil marriage', 'Widow',\n       'Separated', 'Unknown'], dtype=object)"
     },
     "execution_count": 25,
     "metadata": {},
     "output_type": "execute_result"
    }
   ],
   "source": [
    "application_train['NAME_FAMILY_STATUS'].unique()"
   ],
   "metadata": {
    "collapsed": false,
    "ExecuteTime": {
     "end_time": "2025-08-23T06:03:40.487441500Z",
     "start_time": "2025-08-23T06:03:40.435412500Z"
    }
   },
   "id": "86bb98e3e8035bbe"
  },
  {
   "cell_type": "code",
   "execution_count": 26,
   "outputs": [
    {
     "data": {
      "text/plain": "array(['Business Entity Type 3', 'School', 'Government', 'Religion',\n       'Other', 'XNA', 'Electricity', 'Medicine',\n       'Business Entity Type 2', 'Self-employed', 'Transport: type 2',\n       'Construction', 'Housing', 'Kindergarten', 'Trade: type 7',\n       'Industry: type 11', 'Military', 'Services', 'Security Ministries',\n       'Transport: type 4', 'Industry: type 1', 'Emergency', 'Security',\n       'Trade: type 2', 'University', 'Transport: type 3', 'Police',\n       'Business Entity Type 1', 'Postal', 'Industry: type 4',\n       'Agriculture', 'Restaurant', 'Culture', 'Hotel',\n       'Industry: type 7', 'Trade: type 3', 'Industry: type 3', 'Bank',\n       'Industry: type 9', 'Insurance', 'Trade: type 6',\n       'Industry: type 2', 'Transport: type 1', 'Industry: type 12',\n       'Mobile', 'Trade: type 1', 'Industry: type 5', 'Industry: type 10',\n       'Legal Services', 'Advertising', 'Trade: type 5', 'Cleaning',\n       'Industry: type 13', 'Trade: type 4', 'Telecom',\n       'Industry: type 8', 'Realtor', 'Industry: type 6'], dtype=object)"
     },
     "execution_count": 26,
     "metadata": {},
     "output_type": "execute_result"
    }
   ],
   "source": [
    "application_train['ORGANIZATION_TYPE'].unique()"
   ],
   "metadata": {
    "collapsed": false,
    "ExecuteTime": {
     "end_time": "2025-08-23T06:03:40.560403200Z",
     "start_time": "2025-08-23T06:03:40.476707600Z"
    }
   },
   "id": "7bc45f4f6bf05f47"
  },
  {
   "cell_type": "code",
   "execution_count": 27,
   "outputs": [],
   "source": [
    "import numpy as np\n",
    "def application_cleaning(df,fill_missing=False,fill_value=0):\n",
    "    '''\n",
    "    :param df:数据dataframe \n",
    "    :param fill_missing: 是否填充缺失值\n",
    "    :param fill_value: 用来填充缺失值的数据\n",
    "    :return: \n",
    "    '''\n",
    "    df['CODE_GENDER'].replace('XNA',np.nan,inplace=True)\n",
    "    df['DAYS_EMPLOYED'].replace(365243,np.nan,inplace=True)\n",
    "    df['DAYS_LAST_PHONE_CHANGE'].replace(0,np.nan,inplace=True)\n",
    "    df['NAME_FAMILY_STATUS'].replace('Unknown',np.nan,inplace=True)\n",
    "    df['ORGANIZATION_TYPE'].replace('XNA',np.nan,inplace=True)\n",
    "    \n",
    "    if fill_missing:\n",
    "        df.fillna(fill_value,inplace=True)\n",
    "    \n",
    "    return df"
   ],
   "metadata": {
    "collapsed": false,
    "ExecuteTime": {
     "end_time": "2025-08-23T06:03:40.560403200Z",
     "start_time": "2025-08-23T06:03:40.523969500Z"
    }
   },
   "id": "b31e6a4a8b436017"
  },
  {
   "cell_type": "code",
   "execution_count": 28,
   "outputs": [],
   "source": [
    "application_train_cleaning_test = application_train.copy()\n",
    "application_train_cleaned = application_cleaning(application_train_cleaning_test,fill_missing=True,fill_value=-1)"
   ],
   "metadata": {
    "collapsed": false,
    "ExecuteTime": {
     "end_time": "2025-08-23T06:03:41.192595800Z",
     "start_time": "2025-08-23T06:03:40.557293600Z"
    }
   },
   "id": "f52769d909f02eaf"
  },
  {
   "cell_type": "code",
   "execution_count": 29,
   "outputs": [],
   "source": [
    "def count_list_na(table_name):\n",
    "    count = 0 \n",
    "    for column in table_name.columns:\n",
    "        na_count = table_name[column][table_name[column].isna()].shape[0]\n",
    "        if na_count>0:\n",
    "            count+=1\n",
    "    print('缺失列数量'+str(count))"
   ],
   "metadata": {
    "collapsed": false,
    "ExecuteTime": {
     "end_time": "2025-08-23T06:03:41.229141900Z",
     "start_time": "2025-08-23T06:03:41.192595800Z"
    }
   },
   "id": "8ea100bf83a4514b"
  },
  {
   "cell_type": "code",
   "execution_count": 29,
   "outputs": [],
   "source": [],
   "metadata": {
    "collapsed": false,
    "ExecuteTime": {
     "end_time": "2025-08-23T06:03:41.230141400Z",
     "start_time": "2025-08-23T06:03:41.223471200Z"
    }
   },
   "id": "2eecedbfd9054838"
  },
  {
   "cell_type": "code",
   "execution_count": 30,
   "outputs": [
    {
     "data": {
      "text/plain": "   SK_ID_CURR  SK_ID_BUREAU CREDIT_ACTIVE CREDIT_CURRENCY  DAYS_CREDIT  \\\n0      215354       5714462        Closed      currency 1         -497   \n1      215354       5714463        Active      currency 1         -208   \n2      215354       5714464        Active      currency 1         -203   \n3      215354       5714465        Active      currency 1         -203   \n4      215354       5714466        Active      currency 1         -629   \n\n   CREDIT_DAY_OVERDUE  DAYS_CREDIT_ENDDATE  DAYS_ENDDATE_FACT  \\\n0                   0               -153.0             -153.0   \n1                   0               1075.0                NaN   \n2                   0                528.0                NaN   \n3                   0                  NaN                NaN   \n4                   0               1197.0                NaN   \n\n   AMT_CREDIT_MAX_OVERDUE  CNT_CREDIT_PROLONG  AMT_CREDIT_SUM  \\\n0                     NaN                   0         91323.0   \n1                     NaN                   0        225000.0   \n2                     NaN                   0        464323.5   \n3                     NaN                   0         90000.0   \n4                 77674.5                   0       2700000.0   \n\n   AMT_CREDIT_SUM_DEBT  AMT_CREDIT_SUM_LIMIT  AMT_CREDIT_SUM_OVERDUE  \\\n0                  0.0                   NaN                     0.0   \n1             171342.0                   NaN                     0.0   \n2                  NaN                   NaN                     0.0   \n3                  NaN                   NaN                     0.0   \n4                  NaN                   NaN                     0.0   \n\n       CREDIT_TYPE  DAYS_CREDIT_UPDATE  AMT_ANNUITY  \n0  Consumer credit                -131          NaN  \n1      Credit card                 -20          NaN  \n2  Consumer credit                 -16          NaN  \n3      Credit card                 -16          NaN  \n4  Consumer credit                 -21          NaN  ",
      "text/html": "<div>\n<style scoped>\n    .dataframe tbody tr th:only-of-type {\n        vertical-align: middle;\n    }\n\n    .dataframe tbody tr th {\n        vertical-align: top;\n    }\n\n    .dataframe thead th {\n        text-align: right;\n    }\n</style>\n<table border=\"1\" class=\"dataframe\">\n  <thead>\n    <tr style=\"text-align: right;\">\n      <th></th>\n      <th>SK_ID_CURR</th>\n      <th>SK_ID_BUREAU</th>\n      <th>CREDIT_ACTIVE</th>\n      <th>CREDIT_CURRENCY</th>\n      <th>DAYS_CREDIT</th>\n      <th>CREDIT_DAY_OVERDUE</th>\n      <th>DAYS_CREDIT_ENDDATE</th>\n      <th>DAYS_ENDDATE_FACT</th>\n      <th>AMT_CREDIT_MAX_OVERDUE</th>\n      <th>CNT_CREDIT_PROLONG</th>\n      <th>AMT_CREDIT_SUM</th>\n      <th>AMT_CREDIT_SUM_DEBT</th>\n      <th>AMT_CREDIT_SUM_LIMIT</th>\n      <th>AMT_CREDIT_SUM_OVERDUE</th>\n      <th>CREDIT_TYPE</th>\n      <th>DAYS_CREDIT_UPDATE</th>\n      <th>AMT_ANNUITY</th>\n    </tr>\n  </thead>\n  <tbody>\n    <tr>\n      <th>0</th>\n      <td>215354</td>\n      <td>5714462</td>\n      <td>Closed</td>\n      <td>currency 1</td>\n      <td>-497</td>\n      <td>0</td>\n      <td>-153.0</td>\n      <td>-153.0</td>\n      <td>NaN</td>\n      <td>0</td>\n      <td>91323.0</td>\n      <td>0.0</td>\n      <td>NaN</td>\n      <td>0.0</td>\n      <td>Consumer credit</td>\n      <td>-131</td>\n      <td>NaN</td>\n    </tr>\n    <tr>\n      <th>1</th>\n      <td>215354</td>\n      <td>5714463</td>\n      <td>Active</td>\n      <td>currency 1</td>\n      <td>-208</td>\n      <td>0</td>\n      <td>1075.0</td>\n      <td>NaN</td>\n      <td>NaN</td>\n      <td>0</td>\n      <td>225000.0</td>\n      <td>171342.0</td>\n      <td>NaN</td>\n      <td>0.0</td>\n      <td>Credit card</td>\n      <td>-20</td>\n      <td>NaN</td>\n    </tr>\n    <tr>\n      <th>2</th>\n      <td>215354</td>\n      <td>5714464</td>\n      <td>Active</td>\n      <td>currency 1</td>\n      <td>-203</td>\n      <td>0</td>\n      <td>528.0</td>\n      <td>NaN</td>\n      <td>NaN</td>\n      <td>0</td>\n      <td>464323.5</td>\n      <td>NaN</td>\n      <td>NaN</td>\n      <td>0.0</td>\n      <td>Consumer credit</td>\n      <td>-16</td>\n      <td>NaN</td>\n    </tr>\n    <tr>\n      <th>3</th>\n      <td>215354</td>\n      <td>5714465</td>\n      <td>Active</td>\n      <td>currency 1</td>\n      <td>-203</td>\n      <td>0</td>\n      <td>NaN</td>\n      <td>NaN</td>\n      <td>NaN</td>\n      <td>0</td>\n      <td>90000.0</td>\n      <td>NaN</td>\n      <td>NaN</td>\n      <td>0.0</td>\n      <td>Credit card</td>\n      <td>-16</td>\n      <td>NaN</td>\n    </tr>\n    <tr>\n      <th>4</th>\n      <td>215354</td>\n      <td>5714466</td>\n      <td>Active</td>\n      <td>currency 1</td>\n      <td>-629</td>\n      <td>0</td>\n      <td>1197.0</td>\n      <td>NaN</td>\n      <td>77674.5</td>\n      <td>0</td>\n      <td>2700000.0</td>\n      <td>NaN</td>\n      <td>NaN</td>\n      <td>0.0</td>\n      <td>Consumer credit</td>\n      <td>-21</td>\n      <td>NaN</td>\n    </tr>\n  </tbody>\n</table>\n</div>"
     },
     "execution_count": 30,
     "metadata": {},
     "output_type": "execute_result"
    }
   ],
   "source": [
    "bureau.head()"
   ],
   "metadata": {
    "collapsed": false,
    "ExecuteTime": {
     "end_time": "2025-08-23T06:03:41.287380400Z",
     "start_time": "2025-08-23T06:03:41.232142Z"
    }
   },
   "id": "e652ce26600b0a29"
  },
  {
   "cell_type": "code",
   "execution_count": 31,
   "outputs": [
    {
     "name": "stdout",
     "output_type": "stream",
     "text": [
      "<class 'pandas.core.frame.DataFrame'>\n",
      "RangeIndex: 1716428 entries, 0 to 1716427\n",
      "Data columns (total 17 columns):\n",
      " #   Column                  Non-Null Count    Dtype  \n",
      "---  ------                  --------------    -----  \n",
      " 0   SK_ID_CURR              1716428 non-null  int64  \n",
      " 1   SK_ID_BUREAU            1716428 non-null  int64  \n",
      " 2   CREDIT_ACTIVE           1716428 non-null  object \n",
      " 3   CREDIT_CURRENCY         1716428 non-null  object \n",
      " 4   DAYS_CREDIT             1716428 non-null  int64  \n",
      " 5   CREDIT_DAY_OVERDUE      1716428 non-null  int64  \n",
      " 6   DAYS_CREDIT_ENDDATE     1610875 non-null  float64\n",
      " 7   DAYS_ENDDATE_FACT       1082775 non-null  float64\n",
      " 8   AMT_CREDIT_MAX_OVERDUE  591940 non-null   float64\n",
      " 9   CNT_CREDIT_PROLONG      1716428 non-null  int64  \n",
      " 10  AMT_CREDIT_SUM          1716415 non-null  float64\n",
      " 11  AMT_CREDIT_SUM_DEBT     1458759 non-null  float64\n",
      " 12  AMT_CREDIT_SUM_LIMIT    1124648 non-null  float64\n",
      " 13  AMT_CREDIT_SUM_OVERDUE  1716428 non-null  float64\n",
      " 14  CREDIT_TYPE             1716428 non-null  object \n",
      " 15  DAYS_CREDIT_UPDATE      1716428 non-null  int64  \n",
      " 16  AMT_ANNUITY             489637 non-null   float64\n",
      "dtypes: float64(8), int64(6), object(3)\n",
      "memory usage: 222.6+ MB\n"
     ]
    }
   ],
   "source": [
    "bureau.info(verbose=True,show_counts=True)"
   ],
   "metadata": {
    "collapsed": false,
    "ExecuteTime": {
     "end_time": "2025-08-23T06:03:42.071142900Z",
     "start_time": "2025-08-23T06:03:41.275607700Z"
    }
   },
   "id": "30d699c31ebeacaa"
  },
  {
   "cell_type": "code",
   "execution_count": 32,
   "outputs": [
    {
     "name": "stdout",
     "output_type": "stream",
     "text": [
      "缺失列数量7\n"
     ]
    }
   ],
   "source": [
    "count_list_na(bureau)"
   ],
   "metadata": {
    "collapsed": false,
    "ExecuteTime": {
     "end_time": "2025-08-23T06:03:42.255811300Z",
     "start_time": "2025-08-23T06:03:42.070005800Z"
    }
   },
   "id": "e2affef8b9295920"
  },
  {
   "cell_type": "code",
   "execution_count": 33,
   "outputs": [
    {
     "data": {
      "text/plain": "array([      nan,     0.   ,  2691.   , ...,  7681.95 ,  4482.585,\n       24351.435])"
     },
     "execution_count": 33,
     "metadata": {},
     "output_type": "execute_result"
    }
   ],
   "source": [
    "bureau['AMT_ANNUITY'].unique()"
   ],
   "metadata": {
    "collapsed": false,
    "ExecuteTime": {
     "end_time": "2025-08-23T06:03:42.360364100Z",
     "start_time": "2025-08-23T06:03:42.255811300Z"
    }
   },
   "id": "468a36eee2ff30f7"
  },
  {
   "cell_type": "code",
   "execution_count": 34,
   "outputs": [],
   "source": [
    "def bureau_cleaning(df,fill_missing=False,fill_value=0):\n",
    "    '''\n",
    "    :param df:数据dataframe \n",
    "    :param fill_missing: 是否填充缺失值\n",
    "    :param fill_value: 用来填充缺失值的数据\n",
    "    :return: \n",
    "    '''\n",
    "    df['CREDIT_TYPE'].replace('Unknown type of loan',np.nan,inplace=True)\n",
    "    if fill_missing:\n",
    "        df.fillna(fill_value,inplace=True)\n",
    "    \n",
    "    return df"
   ],
   "metadata": {
    "collapsed": false,
    "ExecuteTime": {
     "end_time": "2025-08-23T06:03:42.360364100Z",
     "start_time": "2025-08-23T06:03:42.309916100Z"
    }
   },
   "id": "469d1ae4941beacc"
  },
  {
   "cell_type": "code",
   "execution_count": 35,
   "outputs": [],
   "source": [
    "bureau_cleaning_test = bureau.copy()\n",
    "bureau_cleaned = bureau_cleaning(bureau_cleaning_test,fill_missing=True,fill_value=-1)"
   ],
   "metadata": {
    "collapsed": false,
    "ExecuteTime": {
     "end_time": "2025-08-23T06:03:43.088413100Z",
     "start_time": "2025-08-23T06:03:42.339364600Z"
    }
   },
   "id": "aa2e779b067d3818"
  },
  {
   "cell_type": "code",
   "execution_count": 36,
   "outputs": [
    {
     "name": "stdout",
     "output_type": "stream",
     "text": [
      "缺失列数量0\n"
     ]
    }
   ],
   "source": [
    "count_list_na(bureau_cleaned)"
   ],
   "metadata": {
    "collapsed": false,
    "ExecuteTime": {
     "end_time": "2025-08-23T06:03:43.214638900Z",
     "start_time": "2025-08-23T06:03:43.088413100Z"
    }
   },
   "id": "5bf45258508678f7"
  },
  {
   "cell_type": "code",
   "execution_count": 37,
   "outputs": [
    {
     "data": {
      "text/plain": "   SK_ID_BUREAU  MONTHS_BALANCE STATUS\n0       5715448               0      C\n1       5715448              -1      C\n2       5715448              -2      C\n3       5715448              -3      C\n4       5715448              -4      C",
      "text/html": "<div>\n<style scoped>\n    .dataframe tbody tr th:only-of-type {\n        vertical-align: middle;\n    }\n\n    .dataframe tbody tr th {\n        vertical-align: top;\n    }\n\n    .dataframe thead th {\n        text-align: right;\n    }\n</style>\n<table border=\"1\" class=\"dataframe\">\n  <thead>\n    <tr style=\"text-align: right;\">\n      <th></th>\n      <th>SK_ID_BUREAU</th>\n      <th>MONTHS_BALANCE</th>\n      <th>STATUS</th>\n    </tr>\n  </thead>\n  <tbody>\n    <tr>\n      <th>0</th>\n      <td>5715448</td>\n      <td>0</td>\n      <td>C</td>\n    </tr>\n    <tr>\n      <th>1</th>\n      <td>5715448</td>\n      <td>-1</td>\n      <td>C</td>\n    </tr>\n    <tr>\n      <th>2</th>\n      <td>5715448</td>\n      <td>-2</td>\n      <td>C</td>\n    </tr>\n    <tr>\n      <th>3</th>\n      <td>5715448</td>\n      <td>-3</td>\n      <td>C</td>\n    </tr>\n    <tr>\n      <th>4</th>\n      <td>5715448</td>\n      <td>-4</td>\n      <td>C</td>\n    </tr>\n  </tbody>\n</table>\n</div>"
     },
     "execution_count": 37,
     "metadata": {},
     "output_type": "execute_result"
    }
   ],
   "source": [
    "bureau_balance.head()"
   ],
   "metadata": {
    "collapsed": false,
    "ExecuteTime": {
     "end_time": "2025-08-23T06:03:43.290808600Z",
     "start_time": "2025-08-23T06:03:43.212907100Z"
    }
   },
   "id": "e58e87e11264a76c"
  },
  {
   "cell_type": "code",
   "execution_count": 38,
   "outputs": [
    {
     "name": "stdout",
     "output_type": "stream",
     "text": [
      "<class 'pandas.core.frame.DataFrame'>\n",
      "RangeIndex: 10001358 entries, 0 to 10001357\n",
      "Data columns (total 8 columns):\n",
      " #   Column                 Non-Null Count     Dtype  \n",
      "---  ------                 --------------     -----  \n",
      " 0   SK_ID_PREV             10001358 non-null  int64  \n",
      " 1   SK_ID_CURR             10001358 non-null  int64  \n",
      " 2   MONTHS_BALANCE         10001358 non-null  int64  \n",
      " 3   CNT_INSTALMENT         9975287 non-null   float64\n",
      " 4   CNT_INSTALMENT_FUTURE  9975271 non-null   float64\n",
      " 5   NAME_CONTRACT_STATUS   10001358 non-null  object \n",
      " 6   SK_DPD                 10001358 non-null  int64  \n",
      " 7   SK_DPD_DEF             10001358 non-null  int64  \n",
      "dtypes: float64(2), int64(5), object(1)\n",
      "memory usage: 610.4+ MB\n"
     ]
    }
   ],
   "source": [
    "pos_cash_balance.info(verbose=True,show_counts=True)"
   ],
   "metadata": {
    "collapsed": false,
    "ExecuteTime": {
     "end_time": "2025-08-23T06:03:44.208732500Z",
     "start_time": "2025-08-23T06:03:43.250912Z"
    }
   },
   "id": "3c58c636eac9c855"
  },
  {
   "cell_type": "code",
   "execution_count": 39,
   "outputs": [
    {
     "name": "stdout",
     "output_type": "stream",
     "text": [
      "缺失列数量2\n"
     ]
    }
   ],
   "source": [
    "count_list_na(pos_cash_balance)"
   ],
   "metadata": {
    "collapsed": false,
    "ExecuteTime": {
     "end_time": "2025-08-23T06:03:44.451376700Z",
     "start_time": "2025-08-23T06:03:44.207438500Z"
    }
   },
   "id": "ad8d1ea7df84714e"
  },
  {
   "cell_type": "code",
   "execution_count": 42,
   "outputs": [
    {
     "data": {
      "text/plain": "array([   0,    1,    2, ..., 2806, 2376, 2495], dtype=int64)"
     },
     "execution_count": 42,
     "metadata": {},
     "output_type": "execute_result"
    }
   ],
   "source": [
    "pos_cash_balance['SK_DPD_DEF'].unique()"
   ],
   "metadata": {
    "collapsed": false,
    "ExecuteTime": {
     "end_time": "2025-08-23T06:09:08.604424900Z",
     "start_time": "2025-08-23T06:09:07.691993200Z"
    }
   },
   "id": "4a623fe30ad6b622"
  },
  {
   "cell_type": "code",
   "execution_count": 43,
   "outputs": [],
   "source": [
    "def pos_cash_balance_cleaning(df,fill_missing=False,fill_value=-1):\n",
    "    '''\n",
    "    :param df:数据dataframe \n",
    "    :param fill_missing: 是否填充缺失值\n",
    "    :param fill_value: 用来填充缺失值的数据\n",
    "    :return: \n",
    "    '''\n",
    "    df['NAME_CONTRACT_STATUS'].replace('XNA',np.nan,inplace=True)\n",
    "    if fill_missing:\n",
    "        df.fillna(fill_value,inplace=True)\n",
    "    \n",
    "    return df"
   ],
   "metadata": {
    "collapsed": false,
    "ExecuteTime": {
     "end_time": "2025-08-23T06:09:53.278655300Z",
     "start_time": "2025-08-23T06:09:53.209723Z"
    }
   },
   "id": "639c88b40f1414b5"
  },
  {
   "cell_type": "code",
   "execution_count": 44,
   "outputs": [],
   "source": [
    "pos_cash_balance_cleaning_test = pos_cash_balance.copy()\n",
    "pos_cash_balance_cleaned = pos_cash_balance_cleaning(pos_cash_balance_cleaning_test,fill_missing=True,fill_value=-1)"
   ],
   "metadata": {
    "collapsed": false,
    "ExecuteTime": {
     "end_time": "2025-08-23T06:12:02.561637400Z",
     "start_time": "2025-08-23T06:12:01.272653500Z"
    }
   },
   "id": "124370ca2d932fd4"
  },
  {
   "cell_type": "code",
   "execution_count": 46,
   "outputs": [
    {
     "name": "stdout",
     "output_type": "stream",
     "text": [
      "缺失列数量0\n"
     ]
    }
   ],
   "source": [
    "count_list_na(pos_cash_balance_cleaned)"
   ],
   "metadata": {
    "collapsed": false,
    "ExecuteTime": {
     "end_time": "2025-08-23T06:12:34.158957100Z",
     "start_time": "2025-08-23T06:12:33.926014900Z"
    }
   },
   "id": "dd4675beafe865f9"
  },
  {
   "cell_type": "code",
   "execution_count": 48,
   "outputs": [
    {
     "name": "stdout",
     "output_type": "stream",
     "text": [
      "缺失列数量9\n"
     ]
    }
   ],
   "source": [
    "count_list_na(credit_card_balance)"
   ],
   "metadata": {
    "collapsed": false,
    "ExecuteTime": {
     "end_time": "2025-08-23T06:12:53.307735300Z",
     "start_time": "2025-08-23T06:12:53.011780700Z"
    }
   },
   "id": "ff26e5159a04cd46"
  },
  {
   "cell_type": "code",
   "execution_count": 49,
   "outputs": [
    {
     "name": "stdout",
     "output_type": "stream",
     "text": [
      "<class 'pandas.core.frame.DataFrame'>\n",
      "RangeIndex: 3840312 entries, 0 to 3840311\n",
      "Data columns (total 23 columns):\n",
      " #   Column                      Non-Null Count    Dtype  \n",
      "---  ------                      --------------    -----  \n",
      " 0   SK_ID_PREV                  3840312 non-null  int64  \n",
      " 1   SK_ID_CURR                  3840312 non-null  int64  \n",
      " 2   MONTHS_BALANCE              3840312 non-null  int64  \n",
      " 3   AMT_BALANCE                 3840312 non-null  float64\n",
      " 4   AMT_CREDIT_LIMIT_ACTUAL     3840312 non-null  int64  \n",
      " 5   AMT_DRAWINGS_ATM_CURRENT    3090496 non-null  float64\n",
      " 6   AMT_DRAWINGS_CURRENT        3840312 non-null  float64\n",
      " 7   AMT_DRAWINGS_OTHER_CURRENT  3090496 non-null  float64\n",
      " 8   AMT_DRAWINGS_POS_CURRENT    3090496 non-null  float64\n",
      " 9   AMT_INST_MIN_REGULARITY     3535076 non-null  float64\n",
      " 10  AMT_PAYMENT_CURRENT         3072324 non-null  float64\n",
      " 11  AMT_PAYMENT_TOTAL_CURRENT   3840312 non-null  float64\n",
      " 12  AMT_RECEIVABLE_PRINCIPAL    3840312 non-null  float64\n",
      " 13  AMT_RECIVABLE               3840312 non-null  float64\n",
      " 14  AMT_TOTAL_RECEIVABLE        3840312 non-null  float64\n",
      " 15  CNT_DRAWINGS_ATM_CURRENT    3090496 non-null  float64\n",
      " 16  CNT_DRAWINGS_CURRENT        3840312 non-null  int64  \n",
      " 17  CNT_DRAWINGS_OTHER_CURRENT  3090496 non-null  float64\n",
      " 18  CNT_DRAWINGS_POS_CURRENT    3090496 non-null  float64\n",
      " 19  CNT_INSTALMENT_MATURE_CUM   3535076 non-null  float64\n",
      " 20  NAME_CONTRACT_STATUS        3840312 non-null  object \n",
      " 21  SK_DPD                      3840312 non-null  int64  \n",
      " 22  SK_DPD_DEF                  3840312 non-null  int64  \n",
      "dtypes: float64(15), int64(7), object(1)\n",
      "memory usage: 673.9+ MB\n"
     ]
    }
   ],
   "source": [
    "credit_card_balance.info(verbose=True,show_counts=True)"
   ],
   "metadata": {
    "collapsed": false,
    "ExecuteTime": {
     "end_time": "2025-08-23T06:13:21.908955400Z",
     "start_time": "2025-08-23T06:13:21.544514Z"
    }
   },
   "id": "95e1a4e1e005c187"
  },
  {
   "cell_type": "code",
   "execution_count": 73,
   "outputs": [
    {
     "data": {
      "text/plain": "array([   0,    7,   99,    1,  701,    8,    5,   63,   31, 1158, 1007,\n         62,  122,   18,  610,   12,   30,  189, 1217,   32,  641,  548,\n        519,   28, 1401,   79, 3045, 2377, 1035, 2223,  141,   29, 1187,\n        458,  213,   60,  367, 2588, 1919,   46, 1827,  732,    6, 1980,\n       1707, 1674,  672,   68,  110, 1219,  822, 1434,   57, 2164,   93,\n        761,  823,  185,   19,   11,  762,  913,   17, 2772, 1493,    9,\n       1584, 1643, 1918, 1127, 2011, 1250,  456,  944,   27, 2313, 1339,\n        821,  169, 2040,  488,  151,   90, 1249, 2374, 2314,  307, 2315,\n         61, 1004,  580,  427,  138, 2161, 3015,   59,  215, 1278,  487,\n        550,  639, 1037, 1676,  547,  457,   26, 1218, 1189,  154,  276,\n        124,  946,  975,  977, 2833, 1311, 1737,  152,   10,  275,  366,\n       1159, 2742, 1036,   16,  304,  611, 1248,  731, 1340, 1096, 1005,\n       1797,  245,  336,  130, 1186, 2102,  123, 2133, 1034, 2224,  305,\n       1949,   69,   91, 2284, 2285, 2041, 2008,   39,  338, 1462, 1735,\n        824,  397,  383,  943, 2343, 1523, 2192, 1615,  854, 1067,  489,\n        153,  520, 1279, 1704, 1068,   38, 1552,  609, 2193,  120, 2252,\n       2346, 2800, 3198,  413,  475,  161, 1705, 2466,  702, 1948, 1402,\n       1433, 1583, 1156,  244,  791, 1981,  640, 2558, 1796, 1582, 2345,\n        274, 1950,  792, 2586, 1097, 1613, 2530, 1524,  352,  915, 1799,\n       2069, 2100, 1280,  853, 3229, 1766, 1645, 3137,  976,  852,  883,\n        184,  214, 1342,  277,  183,  428,  444,  671,  182, 2404, 2073,\n        260, 2101,  503,  395,  760, 1920, 1765, 2680, 2282, 2619, 2162,\n         48, 1888, 2405, 1281, 1431,   49, 2617,  793,  246, 2376, 2803,\n       1646,  916, 1125, 1889,  459,  291, 1309,  335, 3260,  581,  337,\n        669,  700, 1768, 2527,   89, 1978, 1400, 3107,  107, 3168,  763,\n       1553, 2131, 1858, 1554, 2039, 2438, 2496,  885,   92,  243, 1644,\n       1856,  322, 2283,  703,  199,  612,  179,  945, 2253,  670,  306,\n       2222, 2435,  608,  549,   47, 1069, 1767, 2499, 1128, 2864,   80,\n        230, 1066, 2407,  517, 3076, 2770,  914, 1006,  172, 2739, 1736,\n       2711,  518, 2406, 2497, 1038, 2071, 2589, 2678,  973, 2072,  974,\n       2254, 1188, 2650,  426, 1157,  882, 1828, 1370, 2708,  490, 1403,\n        579, 2923, 1492,  578,   42,   56,  216, 1857,  121, 2130, 1065,\n        884, 2468, 1372, 2042,  398, 1917, 1126,  200, 2010, 1247, 2984,\n        396,   58, 2221, 2954, 1887, 2070, 1371, 2009, 1432, 2132, 2895,\n         77, 1706, 2647,  855], dtype=int64)"
     },
     "execution_count": 73,
     "metadata": {},
     "output_type": "execute_result"
    }
   ],
   "source": [
    "credit_card_balance['AMT_DRAWINGS_CURRENT'].unique()"
   ],
   "metadata": {
    "collapsed": false,
    "ExecuteTime": {
     "end_time": "2025-08-23T06:31:33.858441500Z",
     "start_time": "2025-08-23T06:31:33.807818500Z"
    }
   },
   "id": "53b83e777da7726f"
  },
  {
   "cell_type": "code",
   "execution_count": 80,
   "outputs": [],
   "source": [
    "def credit_card_balance_cleaning(df,fill_missing=False,fill_value=-1):\n",
    "    '''\n",
    "    :param df:数据dataframe \n",
    "    :param fill_missing: 是否填充缺失值\n",
    "    :param fill_value: 用来填充缺失值的数据\n",
    "    :return: \n",
    "    '''\n",
    "    df['AMT_DRAWINGS_ATM_CURRENT'].replace(-6827.310,np.nan,inplace=True)\n",
    "    df['AMT_DRAWINGS_CURRENT'].replace([-6211.620,-1687.500,-519.570],np.nan,inplace=True)\n",
    "    if fill_missing:\n",
    "        df.fillna(fill_value,inplace=True)\n",
    "    \n",
    "    return df"
   ],
   "metadata": {
    "collapsed": false,
    "ExecuteTime": {
     "end_time": "2025-08-23T06:36:19.934378500Z",
     "start_time": "2025-08-23T06:36:19.900339200Z"
    }
   },
   "id": "21205600a5ccd843"
  },
  {
   "cell_type": "code",
   "execution_count": 82,
   "outputs": [],
   "source": [
    "credit_card_balance_cleaning_test = credit_card_balance.copy()\n",
    "credit_card_balance_cleaned = credit_card_balance_cleaning(credit_card_balance_cleaning_test,fill_missing=True,fill_value=-1)"
   ],
   "metadata": {
    "collapsed": false,
    "ExecuteTime": {
     "end_time": "2025-08-23T06:36:25.054989400Z",
     "start_time": "2025-08-23T06:36:23.990193300Z"
    }
   },
   "id": "95f0f12fdd91540d"
  },
  {
   "cell_type": "code",
   "execution_count": 85,
   "outputs": [
    {
     "data": {
      "text/plain": "array(['Active', 'Completed', 'Signed', 'Approved',\n       'Returned to the store', 'Demand', 'Canceled', -1,\n       'Amortized debt'], dtype=object)"
     },
     "execution_count": 85,
     "metadata": {},
     "output_type": "execute_result"
    }
   ],
   "source": [
    "pos_cash_balance_cleaned['NAME_CONTRACT_STATUS'].unique()"
   ],
   "metadata": {
    "collapsed": false,
    "ExecuteTime": {
     "end_time": "2025-08-23T06:37:15.409886500Z",
     "start_time": "2025-08-23T06:37:15.165721900Z"
    }
   },
   "id": "72619f860db6d014"
  },
  {
   "cell_type": "code",
   "execution_count": 90,
   "outputs": [
    {
     "name": "stdout",
     "output_type": "stream",
     "text": [
      "缺失列数量16\n"
     ]
    }
   ],
   "source": [
    "count_list_na(previous_application)"
   ],
   "metadata": {
    "collapsed": false,
    "ExecuteTime": {
     "end_time": "2025-08-23T06:40:41.193440100Z",
     "start_time": "2025-08-23T06:40:40.470519500Z"
    }
   },
   "id": "22a33461c52aeb5"
  },
  {
   "cell_type": "code",
   "execution_count": 91,
   "outputs": [
    {
     "name": "stdout",
     "output_type": "stream",
     "text": [
      "<class 'pandas.core.frame.DataFrame'>\n",
      "RangeIndex: 1670214 entries, 0 to 1670213\n",
      "Data columns (total 37 columns):\n",
      " #   Column                       Non-Null Count    Dtype  \n",
      "---  ------                       --------------    -----  \n",
      " 0   SK_ID_PREV                   1670214 non-null  int64  \n",
      " 1   SK_ID_CURR                   1670214 non-null  int64  \n",
      " 2   NAME_CONTRACT_TYPE           1670214 non-null  object \n",
      " 3   AMT_ANNUITY                  1297979 non-null  float64\n",
      " 4   AMT_APPLICATION              1670214 non-null  float64\n",
      " 5   AMT_CREDIT                   1670213 non-null  float64\n",
      " 6   AMT_DOWN_PAYMENT             774370 non-null   float64\n",
      " 7   AMT_GOODS_PRICE              1284699 non-null  float64\n",
      " 8   WEEKDAY_APPR_PROCESS_START   1670214 non-null  object \n",
      " 9   HOUR_APPR_PROCESS_START      1670214 non-null  int64  \n",
      " 10  FLAG_LAST_APPL_PER_CONTRACT  1670214 non-null  object \n",
      " 11  NFLAG_LAST_APPL_IN_DAY       1670214 non-null  int64  \n",
      " 12  RATE_DOWN_PAYMENT            774370 non-null   float64\n",
      " 13  RATE_INTEREST_PRIMARY        5951 non-null     float64\n",
      " 14  RATE_INTEREST_PRIVILEGED     5951 non-null     float64\n",
      " 15  NAME_CASH_LOAN_PURPOSE       1670214 non-null  object \n",
      " 16  NAME_CONTRACT_STATUS         1670214 non-null  object \n",
      " 17  DAYS_DECISION                1670214 non-null  int64  \n",
      " 18  NAME_PAYMENT_TYPE            1670214 non-null  object \n",
      " 19  CODE_REJECT_REASON           1670214 non-null  object \n",
      " 20  NAME_TYPE_SUITE              849809 non-null   object \n",
      " 21  NAME_CLIENT_TYPE             1670214 non-null  object \n",
      " 22  NAME_GOODS_CATEGORY          1670214 non-null  object \n",
      " 23  NAME_PORTFOLIO               1670214 non-null  object \n",
      " 24  NAME_PRODUCT_TYPE            1670214 non-null  object \n",
      " 25  CHANNEL_TYPE                 1670214 non-null  object \n",
      " 26  SELLERPLACE_AREA             1670214 non-null  int64  \n",
      " 27  NAME_SELLER_INDUSTRY         1670214 non-null  object \n",
      " 28  CNT_PAYMENT                  1297984 non-null  float64\n",
      " 29  NAME_YIELD_GROUP             1670214 non-null  object \n",
      " 30  PRODUCT_COMBINATION          1669868 non-null  object \n",
      " 31  DAYS_FIRST_DRAWING           997149 non-null   float64\n",
      " 32  DAYS_FIRST_DUE               997149 non-null   float64\n",
      " 33  DAYS_LAST_DUE_1ST_VERSION    997149 non-null   float64\n",
      " 34  DAYS_LAST_DUE                997149 non-null   float64\n",
      " 35  DAYS_TERMINATION             997149 non-null   float64\n",
      " 36  NFLAG_INSURED_ON_APPROVAL    997149 non-null   float64\n",
      "dtypes: float64(15), int64(6), object(16)\n",
      "memory usage: 471.5+ MB\n"
     ]
    }
   ],
   "source": [
    "previous_application.info(verbose=True,show_counts=True)"
   ],
   "metadata": {
    "collapsed": false,
    "ExecuteTime": {
     "end_time": "2025-08-23T06:40:47.100399100Z",
     "start_time": "2025-08-23T06:40:45.329438100Z"
    }
   },
   "id": "8aefde52d3a7b7bf"
  },
  {
   "cell_type": "code",
   "execution_count": 130,
   "outputs": [
    {
     "data": {
      "text/plain": "array([ 0.,  1., nan])"
     },
     "execution_count": 130,
     "metadata": {},
     "output_type": "execute_result"
    }
   ],
   "source": [
    "previous_application['NFLAG_INSURED_ON_APPROVAL'].unique()"
   ],
   "metadata": {
    "collapsed": false,
    "ExecuteTime": {
     "end_time": "2025-08-23T06:58:59.185165700Z",
     "start_time": "2025-08-23T06:58:59.121524300Z"
    }
   },
   "id": "e133183e10ed74ad"
  },
  {
   "cell_type": "code",
   "execution_count": 131,
   "outputs": [],
   "source": [
    "def previous_application_cleaning(df,fill_missing=False,fill_value=-1):\n",
    "    '''\n",
    "    :param df:数据dataframe \n",
    "    :param fill_missing: 是否填充缺失值\n",
    "    :param fill_value: 用来填充缺失值的数据\n",
    "    :return: \n",
    "    '''\n",
    "    df['NAME_CONTRACT_TYPE'].replace('XNA',np.nan,inplace=True)\n",
    "    df['DAYS_LAST_DUE'].replace(365243.0,np.nan,inplace=True)\n",
    "    df['DAYS_TERMINATION'].replace(365243.0,np.nan,inplace=True)\n",
    "    df['DAYS_FIRST_DRAWING'].replace(365243.0,np.nan,inplace=True)\n",
    "    df['DAYS_FIRST_DUE'].replace(365243.0,np.nan,inplace=True)\n",
    "    df['DAYS_LAST_DUE_1ST_VERSION'].replace(365243.0,np.nan,inplace=True)\n",
    "    df['PRODUCT_COMBINATION'].replace('NaN',np.nan,inplace=True)\n",
    "    df['NFLAG_INSURED_ON_APPROVAL'].replace('NaN',np.nan,inplace=True)\n",
    "    df['NAME_YIELD_GROUP'].replace('XNA',np.nan,inplace=True)\n",
    "    df['NAME_SELLER_INDUSTRY'].replace('XNA',np.nan,inplace=True)\n",
    "    df['NAME_GOODS_CATEGORY'].replace('XNA',np.nan,inplace=True)\n",
    "    df['NAME_PRODUCT_TYPE'].replace('XNA',np.nan,inplace=True)\n",
    "    df['NAME_PORTFOLIO'].replace('XNA',np.nan,inplace=True)\n",
    "    df['NAME_CLIENT_TYPE'].replace('XNA',np.nan,inplace=True)\n",
    "    df['NAME_TYPE_SUITE'].replace('NaN',np.nan,inplace=True)\n",
    "    df['CODE_REJECT_REASON'].replace('XNA',np.nan,inplace=True)\n",
    "    df['NAME_PAYMENT_TYPE'].replace('XNA',np.nan,inplace=True)\n",
    "    df['NAME_CASH_LOAN_PURPOSE'].replace('XNA',np.nan,inplace=True)\n",
    "    df['RATE_DOWN_PAYMENT'].replace([-1.497876e-05,-1.369340e-05],np.nan,inplace=True)\n",
    "    df['AMT_DOWN_PAYMENT'].replace([-0.900,-0.450],np.nan,inplace=True)\n",
    "    if fill_missing:\n",
    "        df.fillna(fill_value,inplace=True)\n",
    "    \n",
    "    return df"
   ],
   "metadata": {
    "collapsed": false,
    "ExecuteTime": {
     "end_time": "2025-08-23T06:59:20.524519600Z",
     "start_time": "2025-08-23T06:59:20.440627Z"
    }
   },
   "id": "4cd98352fd7fd14e"
  },
  {
   "cell_type": "code",
   "execution_count": 132,
   "outputs": [],
   "source": [
    "previous_application_cleaning_test = previous_application.copy()\n",
    "previous_application_cleaned = previous_application_cleaning(previous_application_cleaning_test,fill_missing=True,fill_value=-1)"
   ],
   "metadata": {
    "collapsed": false,
    "ExecuteTime": {
     "end_time": "2025-08-23T07:00:41.738359900Z",
     "start_time": "2025-08-23T07:00:38.908825900Z"
    }
   },
   "id": "ee6c73bce05dded1"
  },
  {
   "cell_type": "code",
   "execution_count": 134,
   "outputs": [
    {
     "name": "stdout",
     "output_type": "stream",
     "text": [
      "缺失列数量0\n"
     ]
    }
   ],
   "source": [
    "count_list_na(previous_application_cleaned)"
   ],
   "metadata": {
    "collapsed": false,
    "ExecuteTime": {
     "end_time": "2025-08-23T07:01:01.369434Z",
     "start_time": "2025-08-23T07:01:00.823593900Z"
    }
   },
   "id": "ea074fa8c98faec6"
  },
  {
   "cell_type": "code",
   "execution_count": 135,
   "outputs": [
    {
     "name": "stdout",
     "output_type": "stream",
     "text": [
      "缺失列数量2\n"
     ]
    }
   ],
   "source": [
    "count_list_na(installment_payments)"
   ],
   "metadata": {
    "collapsed": false,
    "ExecuteTime": {
     "end_time": "2025-08-23T07:01:31.226727300Z",
     "start_time": "2025-08-23T07:01:30.535345700Z"
    }
   },
   "id": "21142f36f7ed3afa"
  },
  {
   "cell_type": "code",
   "execution_count": 137,
   "outputs": [
    {
     "name": "stdout",
     "output_type": "stream",
     "text": [
      "<class 'pandas.core.frame.DataFrame'>\n",
      "RangeIndex: 13605401 entries, 0 to 13605400\n",
      "Data columns (total 8 columns):\n",
      " #   Column                  Non-Null Count     Dtype  \n",
      "---  ------                  --------------     -----  \n",
      " 0   SK_ID_PREV              13605401 non-null  int64  \n",
      " 1   SK_ID_CURR              13605401 non-null  int64  \n",
      " 2   NUM_INSTALMENT_VERSION  13605401 non-null  float64\n",
      " 3   NUM_INSTALMENT_NUMBER   13605401 non-null  int64  \n",
      " 4   DAYS_INSTALMENT         13605401 non-null  float64\n",
      " 5   DAYS_ENTRY_PAYMENT      13602496 non-null  float64\n",
      " 6   AMT_INSTALMENT          13605401 non-null  float64\n",
      " 7   AMT_PAYMENT             13602496 non-null  float64\n",
      "dtypes: float64(5), int64(3)\n",
      "memory usage: 830.4 MB\n"
     ]
    }
   ],
   "source": [
    "installment_payments.info(verbose=True,show_counts=True)"
   ],
   "metadata": {
    "collapsed": false,
    "ExecuteTime": {
     "end_time": "2025-08-23T07:01:52.259209400Z",
     "start_time": "2025-08-23T07:01:52.094901500Z"
    }
   },
   "id": "4330cdad7de0a9fa"
  },
  {
   "cell_type": "code",
   "execution_count": 144,
   "outputs": [
    {
     "data": {
      "text/plain": "array([  6948.36 ,   1716.525,  25425.   , ..., 144843.48 ,  53710.02 ,\n        46517.49 ])"
     },
     "execution_count": 144,
     "metadata": {},
     "output_type": "execute_result"
    }
   ],
   "source": [
    "installment_payments['AMT_PAYMENT'].unique()"
   ],
   "metadata": {
    "collapsed": false,
    "ExecuteTime": {
     "end_time": "2025-08-23T07:04:25.581324500Z",
     "start_time": "2025-08-23T07:04:25.210453700Z"
    }
   },
   "id": "860da97b8e44c584"
  },
  {
   "cell_type": "code",
   "execution_count": 145,
   "outputs": [],
   "source": [
    "def installment_payments_cleaning(df,fill_missing=False,fill_value=-1):\n",
    "    '''\n",
    "    :param df:数据dataframe \n",
    "    :param fill_missing: 是否填充缺失值\n",
    "    :param fill_value: 用来填充缺失值的数据\n",
    "    :return: \n",
    "    '''\n",
    "    if fill_missing:\n",
    "        df.fillna(fill_value,inplace=True)\n",
    "    \n",
    "    return df"
   ],
   "metadata": {
    "collapsed": false,
    "ExecuteTime": {
     "end_time": "2025-08-23T07:04:51.713275900Z",
     "start_time": "2025-08-23T07:04:51.649494800Z"
    }
   },
   "id": "4b037535b01d0ad8"
  },
  {
   "cell_type": "code",
   "execution_count": 146,
   "outputs": [],
   "source": [
    "installment_payments_cleaning_test = installment_payments.copy()\n",
    "installment_payments_cleaned = installment_payments_cleaning(installment_payments_cleaning_test,fill_missing=True,fill_value=-1)"
   ],
   "metadata": {
    "collapsed": false,
    "ExecuteTime": {
     "end_time": "2025-08-23T07:05:32.293902100Z",
     "start_time": "2025-08-23T07:05:31.336121200Z"
    }
   },
   "id": "e62f371e00d9c837"
  },
  {
   "cell_type": "code",
   "execution_count": 147,
   "outputs": [
    {
     "name": "stdout",
     "output_type": "stream",
     "text": [
      "缺失列数量0\n"
     ]
    }
   ],
   "source": [
    "count_list_na(installment_payments_cleaned)"
   ],
   "metadata": {
    "collapsed": false,
    "ExecuteTime": {
     "end_time": "2025-08-23T07:05:46.845130Z",
     "start_time": "2025-08-23T07:05:46.737156800Z"
    }
   },
   "id": "46edbab7a29d02c2"
  }
 ],
 "metadata": {
  "kernelspec": {
   "display_name": "Python 3",
   "language": "python",
   "name": "python3"
  },
  "language_info": {
   "codemirror_mode": {
    "name": "ipython",
    "version": 2
   },
   "file_extension": ".py",
   "mimetype": "text/x-python",
   "name": "python",
   "nbconvert_exporter": "python",
   "pygments_lexer": "ipython2",
   "version": "2.7.6"
  }
 },
 "nbformat": 4,
 "nbformat_minor": 5
}
