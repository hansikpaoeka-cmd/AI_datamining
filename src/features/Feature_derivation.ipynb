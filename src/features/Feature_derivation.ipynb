{
 "cells": [
  {
   "cell_type": "code",
   "execution_count": 1,
   "id": "initial_id",
   "metadata": {
    "collapsed": true,
    "ExecuteTime": {
     "end_time": "2025-08-25T04:02:02.347658Z",
     "start_time": "2025-08-25T04:01:58.867886100Z"
    }
   },
   "outputs": [],
   "source": [
    "import pandas as pd\n",
    "import toad.transform\n",
    "\n",
    "\n",
    "def fe_application(df):\n",
    "    #上班天数比例\n",
    "    df['DAYS_EMPLOYED_PERC'] = df['DAYS_EMPLOYED'] / df['DAYS_BIRTH']\n",
    "    # 收入和授信比例\n",
    "    df['INCOME_CREDIT_PERC'] = df['AMT_INCOME_TOTAL'] / df['AMT_CREDIT']\n",
    "    # 家庭人均收入   收入/家庭人口\n",
    "    df['INCOME_PER_PERSON'] = df['AMT_INCOME_TOTAL'] / df['CNT_FAM_MEMBERS']\n",
    "    # 年金/收入 比例\n",
    "    df['ANNUITY_INCOME_PERC'] = df['AMT_ANNUITY'] / df['AMT_INCOME_TOTAL']\n",
    "    # 年金/授信比例\n",
    "    df['PAYMENT_RATE'] = df['AMT_ANNUITY'] / df['AMT_CREDIT']\n",
    "    ft_list = ['income_per_person', 'DAYS_EMPLOYED_PERC', 'INCOME_CREDIT_PERC', 'INCOME_PER_PERSON',\n",
    "               'ANNUITY_INCOME_PERC', 'PAYMENT_RATE']\n",
    "    return df, ft_list"
   ]
  },
  {
   "cell_type": "code",
   "execution_count": 2,
   "outputs": [],
   "source": [
    "import pandas as pd\n",
    "application_train_ft = pd.read_csv(r'I:\\PYTHON\\AI_datamining\\data\\processed\\application_train_cleaned.csv')\n",
    "application_train_ft, new_application_fts = fe_application(application_train_ft)\n",
    "df_ft = application_train_ft"
   ],
   "metadata": {
    "collapsed": false,
    "ExecuteTime": {
     "end_time": "2025-08-25T04:02:04.186653400Z",
     "start_time": "2025-08-25T04:02:02.350662600Z"
    }
   },
   "id": "feeee2177b16ceb"
  },
  {
   "cell_type": "code",
   "execution_count": 3,
   "outputs": [],
   "source": [
    "bureau_balance_ft = pd.read_csv(r'I:\\PYTHON\\AI_datamining\\data\\processed\\bureau_balance.csv')\n",
    "bureau_ft = pd.read_csv(r'I:\\PYTHON\\AI_datamining\\data\\processed\\bureau_cleaned.csv')\n",
    "pos_cash_balance_ft = pd.read_csv(r'I:\\PYTHON\\AI_datamining\\data\\processed\\pos_cash_balance_cleaned.csv')\n",
    "credit_card_balance_ft = pd.read_csv(r'I:\\PYTHON\\AI_datamining\\data\\processed\\credit_card_balance_cleaned.csv')\n",
    "previous_application_ft = pd.read_csv(r'I:\\PYTHON\\AI_datamining\\data\\processed\\previous_application_cleaned.csv')\n",
    "installment_payments_ft = pd.read_csv(r'I:\\PYTHON\\AI_datamining\\data\\processed\\installment_payments_cleaned.csv')"
   ],
   "metadata": {
    "collapsed": false,
    "ExecuteTime": {
     "end_time": "2025-08-25T04:02:25.032604900Z",
     "start_time": "2025-08-25T04:02:04.184896900Z"
    }
   },
   "id": "a4644747814293d9"
  },
  {
   "cell_type": "code",
   "execution_count": 74,
   "outputs": [
    {
     "data": {
      "text/plain": "        SK_ID_CURR\n0           271877\n1           108129\n2           122040\n3           176158\n4           202054\n...            ...\n338852      239799\n338853      174832\n338854      253940\n338855      353284\n338856      191629\n\n[338857 rows x 1 columns]",
      "text/html": "<div>\n<style scoped>\n    .dataframe tbody tr th:only-of-type {\n        vertical-align: middle;\n    }\n\n    .dataframe tbody tr th {\n        vertical-align: top;\n    }\n\n    .dataframe thead th {\n        text-align: right;\n    }\n</style>\n<table border=\"1\" class=\"dataframe\">\n  <thead>\n    <tr style=\"text-align: right;\">\n      <th></th>\n      <th>SK_ID_CURR</th>\n    </tr>\n  </thead>\n  <tbody>\n    <tr>\n      <th>0</th>\n      <td>271877</td>\n    </tr>\n    <tr>\n      <th>1</th>\n      <td>108129</td>\n    </tr>\n    <tr>\n      <th>2</th>\n      <td>122040</td>\n    </tr>\n    <tr>\n      <th>3</th>\n      <td>176158</td>\n    </tr>\n    <tr>\n      <th>4</th>\n      <td>202054</td>\n    </tr>\n    <tr>\n      <th>...</th>\n      <td>...</td>\n    </tr>\n    <tr>\n      <th>338852</th>\n      <td>239799</td>\n    </tr>\n    <tr>\n      <th>338853</th>\n      <td>174832</td>\n    </tr>\n    <tr>\n      <th>338854</th>\n      <td>253940</td>\n    </tr>\n    <tr>\n      <th>338855</th>\n      <td>353284</td>\n    </tr>\n    <tr>\n      <th>338856</th>\n      <td>191629</td>\n    </tr>\n  </tbody>\n</table>\n<p>338857 rows × 1 columns</p>\n</div>"
     },
     "execution_count": 74,
     "metadata": {},
     "output_type": "execute_result"
    }
   ],
   "source": [
    "df_b = pd.DataFrame()\n",
    "df_b['SK_ID_CURR'] = previous_application_ft['SK_ID_CURR'].unique()\n",
    "df_b"
   ],
   "metadata": {
    "collapsed": false,
    "ExecuteTime": {
     "end_time": "2025-08-25T08:15:17.574656500Z",
     "start_time": "2025-08-25T08:15:17.535196700Z"
    }
   },
   "id": "2fec61fc6c1947db"
  },
  {
   "cell_type": "code",
   "execution_count": 75,
   "outputs": [
    {
     "data": {
      "text/plain": "0          271877\n1          108129\n2          122040\n3          176158\n4          202054\n            ...  \n1670209    352015\n1670210    334635\n1670211    249544\n1670212    400317\n1670213    261212\nName: SK_ID_CURR, Length: 1670214, dtype: int64"
     },
     "execution_count": 75,
     "metadata": {},
     "output_type": "execute_result"
    }
   ],
   "source": [
    "previous_application_ft['SK_ID_CURR']"
   ],
   "metadata": {
    "collapsed": false,
    "ExecuteTime": {
     "end_time": "2025-08-25T08:15:48.911829500Z",
     "start_time": "2025-08-25T08:15:48.901242200Z"
    }
   },
   "id": "475666588de925e8"
  },
  {
   "cell_type": "code",
   "execution_count": 69,
   "outputs": [
    {
     "data": {
      "text/plain": "SK_ID_CURR\n100001    1\n100002    1\n100003    3\n100004    1\n100005    1\n         ..\n456251    1\n456252    1\n456253    2\n456254    2\n456255    8\nName: SK_ID_PREV, Length: 338402, dtype: int64"
     },
     "execution_count": 69,
     "metadata": {},
     "output_type": "execute_result"
    }
   ],
   "source": [
    "lists =['Unused offer','Canceled']\n",
    "pf = previous_application_ft[~previous_application_ft['NAME_CONTRACT_STATUS'].isin(lists)]\n",
    "pf.groupby('SK_ID_CURR')['SK_ID_PREV'].count()"
   ],
   "metadata": {
    "collapsed": false,
    "ExecuteTime": {
     "end_time": "2025-08-25T08:08:53.897730500Z",
     "start_time": "2025-08-25T08:08:53.599279800Z"
    }
   },
   "id": "cd9070bee5bcce93"
  },
  {
   "cell_type": "code",
   "execution_count": 130,
   "outputs": [],
   "source": [
    "def fe_previous_application_ft(df_a):\n",
    "    df_b = pd.DataFrame()\n",
    "    lists =['Unused offer','Canceled']\n",
    "    df = df_a[~df_a['NAME_CONTRACT_STATUS'].isin(lists)]\n",
    "    df_p = df_a[df_a['NAME_CONTRACT_STATUS']=='Approved']\n",
    "    df_r = df_a[df_a['NAME_CONTRACT_STATUS']=='Refused']\n",
    "\n",
    "    #历史申请次数\n",
    "    df_b['Number_of_historical_applications'] = df.groupby('SK_ID_CURR')['SK_ID_PREV'].count()\n",
    "    #历史申请总额度\n",
    "    df_b['Total_historical_application'] = df.groupby('SK_ID_CURR')['AMT_APPLICATION'].sum()\n",
    "    #历史发放总额度\n",
    "    df_b['Total_historical'] = df.groupby('SK_ID_CURR')['AMT_CREDIT'].sum()\n",
    "    #平均每次申请额度\n",
    "    df_b['avg_application_amount']=df_b['Total_historical_application']/df_b['Number_of_historical_applications']\n",
    "    #平均每次发放额度\n",
    "    df_b['avg_amount']=df_b['Total_historical']/df_b['Number_of_historical_applications']\n",
    "    #使用目的最多\n",
    "    df_b['NAME_CASH_LOAN_PURPOSE_MAX'] = df.groupby('SK_ID_CURR')['NAME_CASH_LOAN_PURPOSE'].agg(lambda x:x.value_counts().index[0])\n",
    "    #被拒绝原因最多\n",
    "    df_b['CODE_REJECT_REASON_MAX'] = df.groupby('SK_ID_CURR')['CODE_REJECT_REASON'].agg(lambda x:x.value_counts().index[0])\n",
    "    #申请贷款类型最多\n",
    "    df_b['NAME_PORTFOLIO_MAX'] = df.groupby('SK_ID_CURR')['NAME_PORTFOLIO'].agg(lambda x:x.value_counts().index[0])\n",
    "    #授信期数最多\n",
    "    df_b['CNT_PAYMENT_MAX'] =df.groupby('SK_ID_CURR')['CNT_PAYMENT'].max()\n",
    "    #授信期数平均\n",
    "    df_b['CNT_PAYMENT_AVG'] =df.groupby('SK_ID_CURR')['CNT_PAYMENT'].mean()\n",
    "    #授信期数最小\n",
    "    df_b['CNT_PAYMENT_MIN'] =df.groupby('SK_ID_CURR')['CNT_PAYMENT'].min()\n",
    "    #授信期数总数\n",
    "    df_b['CNT_PAYMENT_SUM'] =df.groupby('SK_ID_CURR')['CNT_PAYMENT'].sum()\n",
    "    #申请记录利率水平最多\n",
    "    df_b['NAME_YIELD_GROUP_MAX'] = df.groupby('SK_ID_CURR')['NAME_YIELD_GROUP'].agg(lambda x:x.value_counts().index[0])\n",
    "    #申请记录的第一次付款时间相隔天数最多\n",
    "    df_b['DAYS_FIRST_DRAWING_MAX'] =df.groupby('SK_ID_CURR')['DAYS_FIRST_DRAWING'].max()\n",
    "    #申请记录的第一次付款时间相隔天数平均\n",
    "    df_b['DAYS_FIRST_DRAWING_AVG'] =df.groupby('SK_ID_CURR')['DAYS_FIRST_DRAWING'].mean()\n",
    "    #申请记录的第一次付款时间相隔天数最小\n",
    "    df_b['DAYS_FIRST_DRAWING_MIN'] =df.groupby('SK_ID_CURR')['DAYS_FIRST_DRAWING'].min()\n",
    "    #申请记录的第一次付款时间相隔天数总数\n",
    "    df_b['DAYS_FIRST_DRAWING_SUM'] =df.groupby('SK_ID_CURR')['DAYS_FIRST_DRAWING'].sum()    \n",
    "    \n",
    "    #申请记录的首次到期时间相隔天数最多\n",
    "    df_b['DAYS_FIRST_DUE_MAX'] =df.groupby('SK_ID_CURR')['DAYS_FIRST_DUE'].max()\n",
    "    #平均\n",
    "    df_b['DAYS_FIRST_DUE_AVG'] =df.groupby('SK_ID_CURR')['DAYS_FIRST_DUE'].mean()\n",
    "    #最小\n",
    "    df_b['DAYS_FIRST_DUE_MIN'] =df.groupby('SK_ID_CURR')['DAYS_FIRST_DUE'].min()\n",
    "    #总数\n",
    "    df_b['DAYS_FIRST_DUE_SUM'] =df.groupby('SK_ID_CURR')['DAYS_FIRST_DUE'].sum()\n",
    "    \n",
    "    #申请记录的首次逾期时间相隔天数最多\n",
    "    df_b['DAYS_LAST_DUE_1ST_VERSION_MAX'] =df.groupby('SK_ID_CURR')['DAYS_LAST_DUE_1ST_VERSION'].max()\n",
    "    #平均\n",
    "    df_b['DAYS_LAST_DUE_1ST_VERSION_AVG'] =df.groupby('SK_ID_CURR')['DAYS_LAST_DUE_1ST_VERSION'].mean()\n",
    "    #最小\n",
    "    df_b['DAYS_LAST_DUE_1ST_VERSION_MIN'] =df.groupby('SK_ID_CURR')['DAYS_LAST_DUE_1ST_VERSION'].min()\n",
    "    #总数\n",
    "    df_b['DAYS_LAST_DUE_1ST_VERSION_SUM'] =df.groupby('SK_ID_CURR')['DAYS_LAST_DUE_1ST_VERSION'].sum()\n",
    "    \n",
    "    #申请记录的最后一次到期时间相隔天数最多\n",
    "    df_b['DAYS_LAST_DUE_MAX'] =df.groupby('SK_ID_CURR')['DAYS_LAST_DUE'].max()\n",
    "    #平均\n",
    "    df_b['DAYS_LAST_DUE_AVG'] =df.groupby('SK_ID_CURR')['DAYS_LAST_DUE'].mean()\n",
    "    #最小\n",
    "    df_b['DAYS_LAST_DUE_MIN'] =df.groupby('SK_ID_CURR')['DAYS_LAST_DUE'].min()\n",
    "    #总数\n",
    "    df_b['DAYS_LAST_DUE_SUM'] =df.groupby('SK_ID_CURR')['DAYS_LAST_DUE'].sum()\n",
    "    \n",
    "    #预期终止时间相隔天数最多\n",
    "    df_b['DAYS_TERMINATION_MAX'] =df.groupby('SK_ID_CURR')['DAYS_TERMINATION'].max()\n",
    "    #平均\n",
    "    df_b['DAYS_TERMINATION_AVG'] =df.groupby('SK_ID_CURR')['DAYS_TERMINATION'].mean()\n",
    "    #最小\n",
    "    df_b['DAYS_TERMINATION_MIN'] =df.groupby('SK_ID_CURR')['DAYS_TERMINATION'].min()\n",
    "    #总数\n",
    "    df_b['DAYS_TERMINATION_SUM'] =df.groupby('SK_ID_CURR')['DAYS_TERMINATION'].sum()\n",
    "    \n",
    "     #历史被拒次数\n",
    "    df_b['Number_of_Refused'] = df_r.groupby('SK_ID_CURR')['SK_ID_PREV'].count()\n",
    "    #历史被拒总金额\n",
    "    df_b['R_Total_historical_application'] = df_r.groupby('SK_ID_CURR')['AMT_APPLICATION'].sum()\n",
    "    #平均每次被拒额度\n",
    "    df_b['R_avg_application_amount']=df_b['R_Total_historical_application']/df_b['Number_of_Refused']\n",
    "    #最小被拒金额\n",
    "    df_b['R_min_amount'] = df_r.groupby('SK_ID_CURR')['AMT_APPLICATION'].min()\n",
    "    \n",
    " \n",
    "    #历史通过次数\n",
    "    df_b['Number_of_Approved'] = df_p.groupby('SK_ID_CURR')['SK_ID_PREV'].count()\n",
    "    #历史通过最大金额\n",
    "    df_b['P_max_amount'] = df_p.groupby('SK_ID_CURR')['AMT_APPLICATION'].max()\n",
    "    #历史通过总金额\n",
    "    df_b['P_Total_historical_application'] = df_p.groupby('SK_ID_CURR')['AMT_APPLICATION'].sum()   \n",
    "    #平均每次通过额度\n",
    "    df_b['P_avg_application_amount']=df_b['P_Total_historical_application']/df_b['Number_of_Approved']\n",
    "    \n",
    "    #历史实际通过最大金额\n",
    "    df_b['P_max_AMT_CREDIT'] = df_p.groupby('SK_ID_CURR')['AMT_CREDIT'].max()\n",
    "    #历史实际通过总金额\n",
    "    df_b['P_Total_AMT_CREDIT_application'] = df_p.groupby('SK_ID_CURR')['AMT_CREDIT'].sum()\n",
    "    #平均每次实际通过额度\n",
    "    df_b['P_avg_application_AMT_CREDIT']=df_b['P_Total_AMT_CREDIT_application']/df_b['Number_of_Approved']\n",
    "    \n",
    "    \n",
    "    #申请额度与实际额度差值\n",
    "    df_b['Difference_total'] = df_b['P_Total_AMT_CREDIT_application'] -df_b['P_Total_historical_application']\n",
    "      \n",
    "    ##最大申请额度与最大实际额度差值\n",
    "    df_b['Difference_max'] = df_b['P_max_AMT_CREDIT']-df_b['P_max_amount']\n",
    "    \n",
    "    #历史通过率\n",
    "    df_b['Pass_rate'] = (df_b['Number_of_Refused']+df_b['Number_of_Approved'])/df_b['Number_of_Approved']\n",
    "    \n",
    "    #距今90天内 DAYS_DECISION 距今时间\n",
    "    df = df_a[~df_a['NAME_CONTRACT_STATUS'].isin(lists)]\n",
    "    df = df[df['DAYS_DECISION']>=-90]\n",
    "\n",
    "    df_p = df_a[df_a['NAME_CONTRACT_STATUS']=='Approved']\n",
    "    df_p = df_p[df_p['DAYS_DECISION']>=-90]\n",
    "    df_r = df_a[df_a['NAME_CONTRACT_STATUS']=='Refused']\n",
    "    df_r = df_r[df_r['DAYS_DECISION']>=-90]\n",
    "    \n",
    "    #历史被拒次数\n",
    "    df_b['90D_Number_of_Refused'] = df_r.groupby('SK_ID_CURR')['SK_ID_PREV'].count()\n",
    "    #历史被拒总金额\n",
    "    df_b['90D_R_Total_historical_application'] = df_r.groupby('SK_ID_CURR')['AMT_APPLICATION'].sum()\n",
    "    #平均每次被拒额度\n",
    "    df_b['90D_R_avg_application_amount']=df_b['R_Total_historical_application']/df_b['Number_of_Refused']\n",
    "    #最小被拒金额\n",
    "    df_b['90D_R_min_amount'] = df_r.groupby('SK_ID_CURR')['AMT_APPLICATION'].min()\n",
    "    \n",
    " \n",
    "    #历史通过次数\n",
    "    df_b['90D_Number_of_Approved'] = df_p.groupby('SK_ID_CURR')['SK_ID_PREV'].count()\n",
    "    #历史通过最大金额\n",
    "    df_b['90D_P_max_amount'] = df_p.groupby('SK_ID_CURR')['AMT_APPLICATION'].max()\n",
    "    #历史通过总金额\n",
    "    df_b['90D_P_Total_historical_application'] = df_p.groupby('SK_ID_CURR')['AMT_APPLICATION'].sum()\n",
    "    #平均每次通过额度\n",
    "    df_b['90D_P_avg_application_amount']=df_b['P_Total_historical_application']/df_b['Number_of_Approved']\n",
    "    \n",
    "    #历史实际通过最大金额\n",
    "    df_b['90D_P_max_AMT_CREDIT'] = df_p.groupby('SK_ID_CURR')['AMT_CREDIT'].max()\n",
    "    #历史实际通过总金额\n",
    "    df_b['90D_P_Total_AMT_CREDIT_application'] = df_p.groupby('SK_ID_CURR')['AMT_CREDIT'].sum()\n",
    "    #平均每次实际通过额度\n",
    "    df_b['90D_P_avg_application_AMT_CREDIT']=df_b['P_Total_AMT_CREDIT_application']/df_b['Number_of_Approved']\n",
    "    \n",
    "    \n",
    "    #申请额度与实际额度差值\n",
    "    df_b['90D_Difference_total'] = df_b['P_Total_AMT_CREDIT_application'] -df_b['P_Total_historical_application']\n",
    "      \n",
    "    ##最大申请额度与最大实际额度差值\n",
    "    df_b['90D_Difference_max'] = df_b['P_max_AMT_CREDIT']-df_b['P_max_amount']\n",
    "\n",
    "    #历史申请次数\n",
    "    df_b['90D_Number_of_historical_applications'] = df.groupby('SK_ID_CURR')['SK_ID_PREV'].count()\n",
    "    #历史申请总额度\n",
    "    df_b['90D_Total_historical_application'] = df.groupby('SK_ID_CURR')['AMT_APPLICATION'].sum()\n",
    "    #历史发放总额度\n",
    "    df_b['90D_Total_historical'] = df.groupby('SK_ID_CURR')['AMT_CREDIT'].sum()\n",
    "    #平均每次申请额度\n",
    "    df_b['90D_avg_application_amount']=df_b['Total_historical_application']/df_b['Number_of_historical_applications']\n",
    "    #平均每次发放额度\n",
    "    df_b['90D_avg_amount']=df_b['Total_historical']/df_b['Number_of_historical_applications']\n",
    "    #使用目的最多\n",
    "    df_b['90D_NAME_CASH_LOAN_PURPOSE_MAX'] = df.groupby('SK_ID_CURR')['NAME_CASH_LOAN_PURPOSE'].agg(lambda x:x.value_counts().index[0])\n",
    "    #被拒绝原因最多\n",
    "    df_b['90D_CODE_REJECT_REASON_MAX'] = df.groupby('SK_ID_CURR')['CODE_REJECT_REASON'].agg(lambda x:x.value_counts().index[0])\n",
    "    #申请贷款类型最多\n",
    "    df_b['90D_NAME_PORTFOLIO_MAX'] = df.groupby('SK_ID_CURR')['NAME_PORTFOLIO'].agg(lambda x:x.value_counts().index[0])\n",
    "    #授信期数最多\n",
    "    df_b['90D_CNT_PAYMENT_MAX'] =df.groupby('SK_ID_CURR')['CNT_PAYMENT'].max()\n",
    "    #授信期数平均\n",
    "    df_b['90D_CNT_PAYMENT_AVG'] =df.groupby('SK_ID_CURR')['CNT_PAYMENT'].mean()\n",
    "    #授信期数最小\n",
    "    df_b['90D_CNT_PAYMENT_MIN'] =df.groupby('SK_ID_CURR')['CNT_PAYMENT'].min()\n",
    "    #授信期数总数\n",
    "    df_b['90D_CNT_PAYMENT_SUM'] =df.groupby('SK_ID_CURR')['CNT_PAYMENT'].sum()\n",
    "    #申请记录利率水平最多\n",
    "    df_b['90D_NAME_YIELD_GROUP_MAX'] = df.groupby('SK_ID_CURR')['NAME_YIELD_GROUP'].agg(lambda x:x.value_counts().index[0])\n",
    "\n",
    "\n",
    "    #距今280天内\n",
    "    df = df_a[~df_a['NAME_CONTRACT_STATUS'].isin(lists)]\n",
    "    df = df[df['DAYS_DECISION']>=-280]\n",
    "    \n",
    "    df_p = df_a[df_a['NAME_CONTRACT_STATUS']=='Approved']\n",
    "    df_p = df_p[df_p['DAYS_DECISION']>=-280]\n",
    "    df_r = df_a[df_a['NAME_CONTRACT_STATUS']=='Refused']\n",
    "    df_r = df_r[df_r['DAYS_DECISION']>=-280]\n",
    "    \n",
    "    #历史被拒次数\n",
    "    df_b['280D_Number_of_Refused'] = df_r.groupby('SK_ID_CURR')['SK_ID_PREV'].count()\n",
    "    #历史被拒总金额\n",
    "    df_b['280D_R_Total_historical_application'] = df_r.groupby('SK_ID_CURR')['AMT_APPLICATION'].sum()\n",
    "    #平均每次被拒额度\n",
    "    df_b['280D_R_avg_application_amount']=df_b['R_Total_historical_application']/df_b['Number_of_Refused']\n",
    "    #最小被拒金额\n",
    "    df_b['280D_R_min_amount'] = df_r.groupby('SK_ID_CURR')['AMT_APPLICATION'].min()\n",
    "    \n",
    " \n",
    "    #历史通过次数\n",
    "    df_b['280D_Number_of_Approved'] = df_p.groupby('SK_ID_CURR')['SK_ID_PREV'].count()\n",
    "    #历史通过最大金额\n",
    "    df_b['280D_P_max_amount'] = df_p.groupby('SK_ID_CURR')['AMT_APPLICATION'].max()\n",
    "    #历史通过总金额\n",
    "    df_b['280D_P_Total_historical_application'] = df_p.groupby('SK_ID_CURR')['AMT_APPLICATION'].sum()\n",
    "    #平均每次通过额度\n",
    "    df_b['280D_P_avg_application_amount']=df_b['P_Total_historical_application']/df_b['Number_of_Approved']\n",
    "    \n",
    "    #历史实际通过最大金额\n",
    "    df_b['280D_P_max_AMT_CREDIT'] = df_p.groupby('SK_ID_CURR')['AMT_CREDIT'].max()\n",
    "    #历史实际通过总金额\n",
    "    df_b['280D_P_Total_AMT_CREDIT_application'] = df_p.groupby('SK_ID_CURR')['AMT_CREDIT'].sum()\n",
    "    #平均每次实际通过额度\n",
    "    df_b['280D_P_avg_application_AMT_CREDIT']=df_b['P_Total_AMT_CREDIT_application']/df_b['Number_of_Approved']\n",
    "    \n",
    "    \n",
    "    #申请额度与实际额度差值\n",
    "    df_b['280D_Difference_total'] = df_b['P_Total_AMT_CREDIT_application'] -df_b['P_Total_historical_application']\n",
    "      \n",
    "    ##最大申请额度与最大实际额度差值\n",
    "    df_b['280D_Difference_max'] = df_b['P_max_AMT_CREDIT']-df_b['P_max_amount']\n",
    "\n",
    "    #历史申请次数\n",
    "    df_b['280D_Number_of_historical_applications'] = df.groupby('SK_ID_CURR')['SK_ID_PREV'].count()\n",
    "    #历史申请总额度\n",
    "    df_b['280D_Total_historical_application'] = df.groupby('SK_ID_CURR')['AMT_APPLICATION'].sum()\n",
    "    #历史发放总额度\n",
    "    df_b['280D_Total_historical'] = df.groupby('SK_ID_CURR')['AMT_CREDIT'].sum()\n",
    "    #平均每次申请额度\n",
    "    df_b['280D_avg_application_amount']=df_b['Total_historical_application']/df_b['Number_of_historical_applications']\n",
    "    #平均每次发放额度\n",
    "    df_b['280D_avg_amount']=df_b['Total_historical']/df_b['Number_of_historical_applications']\n",
    "    #使用目的最多\n",
    "    df_b['280D_NAME_CASH_LOAN_PURPOSE_MAX'] = df.groupby('SK_ID_CURR')['NAME_CASH_LOAN_PURPOSE'].agg(lambda x:x.value_counts().index[0])\n",
    "    #被拒绝原因最多\n",
    "    df_b['280D_CODE_REJECT_REASON_MAX'] = df.groupby('SK_ID_CURR')['CODE_REJECT_REASON'].agg(lambda x:x.value_counts().index[0])\n",
    "    #申请贷款类型最多\n",
    "    df_b['280D_NAME_PORTFOLIO_MAX'] = df.groupby('SK_ID_CURR')['NAME_PORTFOLIO'].agg(lambda x:x.value_counts().index[0])\n",
    "    #授信期数最多\n",
    "    df_b['280D_CNT_PAYMENT_MAX'] =df.groupby('SK_ID_CURR')['CNT_PAYMENT'].max()\n",
    "    #授信期数平均\n",
    "    df_b['280D_CNT_PAYMENT_AVG'] =df.groupby('SK_ID_CURR')['CNT_PAYMENT'].mean()\n",
    "    #授信期数最小\n",
    "    df_b['280D_CNT_PAYMENT_MIN'] =df.groupby('SK_ID_CURR')['CNT_PAYMENT'].min()\n",
    "    #授信期数总数\n",
    "    df_b['280D_CNT_PAYMENT_SUM'] =df.groupby('SK_ID_CURR')['CNT_PAYMENT'].sum()\n",
    "    #申请记录利率水平最多\n",
    "    df_b['280D_NAME_YIELD_GROUP_MAX'] = df.groupby('SK_ID_CURR')['NAME_YIELD_GROUP'].agg(lambda x:x.value_counts().index[0])\n",
    "    \n",
    "    #距今581天内\n",
    "    df = df_a[~df_a['NAME_CONTRACT_STATUS'].isin(lists)]\n",
    "    df = df[df['DAYS_DECISION']>=-581]\n",
    "\n",
    "    df_p = df_a[df_a['NAME_CONTRACT_STATUS']=='Approved']\n",
    "    df_p = df_p[df_p['DAYS_DECISION']>=-581]\n",
    "    df_r = df_a[df_a['NAME_CONTRACT_STATUS']=='Refused']\n",
    "    df_r = df_r[df_r['DAYS_DECISION']>=-581]\n",
    "    \n",
    "    #历史被拒次数\n",
    "    df_b['581D_Number_of_Refused'] = df_r.groupby('SK_ID_CURR')['SK_ID_PREV'].count()\n",
    "    #历史被拒总金额\n",
    "    df_b['581D_R_Total_historical_application'] = df_r.groupby('SK_ID_CURR')['AMT_APPLICATION'].sum()\n",
    "    #平均每次被拒额度\n",
    "    df_b['581D_R_avg_application_amount']=df_b['R_Total_historical_application']/df_b['Number_of_Refused']\n",
    "    #最小被拒金额\n",
    "    df_b['581D_R_min_amount'] = df_r.groupby('SK_ID_CURR')['AMT_APPLICATION'].min()\n",
    "    \n",
    " \n",
    "    #历史通过次数\n",
    "    df_b['581D_Number_of_Approved'] = df_p.groupby('SK_ID_CURR')['SK_ID_PREV'].count()\n",
    "    #历史通过最大金额\n",
    "    df_b['581D_P_max_amount'] = df_p.groupby('SK_ID_CURR')['AMT_APPLICATION'].max()\n",
    "    #历史通过总金额\n",
    "    df_b['581D_P_Total_historical_application'] = df_p.groupby('SK_ID_CURR')['AMT_APPLICATION'].sum()\n",
    "    #平均每次通过额度\n",
    "    df_b['581D_P_avg_application_amount']=df_b['P_Total_historical_application']/df_b['Number_of_Approved']\n",
    "    \n",
    "    #历史实际通过最大金额\n",
    "    df_b['581D_P_max_AMT_CREDIT'] = df_p.groupby('SK_ID_CURR')['AMT_CREDIT'].max()\n",
    "    #历史实际通过总金额\n",
    "    df_b['581D_P_Total_AMT_CREDIT_application'] = df_p.groupby('SK_ID_CURR')['AMT_CREDIT'].sum()\n",
    "    #平均每次实际通过额度\n",
    "    df_b['581D_P_avg_application_AMT_CREDIT']=df_b['P_Total_AMT_CREDIT_application']/df_b['Number_of_Approved']\n",
    "    \n",
    "    \n",
    "    #申请额度与实际额度差值\n",
    "    df_b['581D_Difference_total'] = df_b['P_Total_AMT_CREDIT_application'] -df_b['P_Total_historical_application']\n",
    "      \n",
    "    ##最大申请额度与最大实际额度差值\n",
    "    df_b['581D_Difference_max'] = df_b['P_max_AMT_CREDIT']-df_b['P_max_amount']\n",
    "\n",
    "    #历史申请次数\n",
    "    df_b['581D_Number_of_historical_applications'] = df.groupby('SK_ID_CURR')['SK_ID_PREV'].count()\n",
    "    #历史申请总额度\n",
    "    df_b['581D_Total_historical_application'] = df.groupby('SK_ID_CURR')['AMT_APPLICATION'].sum()\n",
    "    #历史发放总额度\n",
    "    df_b['581D_Total_historical'] = df.groupby('SK_ID_CURR')['AMT_CREDIT'].sum()\n",
    "    #平均每次申请额度\n",
    "    df_b['581D_avg_application_amount']=df_b['Total_historical_application']/df_b['Number_of_historical_applications']\n",
    "    #平均每次发放额度\n",
    "    df_b['581D_avg_amount']=df_b['Total_historical']/df_b['Number_of_historical_applications']\n",
    "    #使用目的最多\n",
    "    df_b['581D_NAME_CASH_LOAN_PURPOSE_MAX'] = df.groupby('SK_ID_CURR')['NAME_CASH_LOAN_PURPOSE'].agg(lambda x:x.value_counts().index[0])\n",
    "    #被拒绝原因最多\n",
    "    df_b['581D_CODE_REJECT_REASON_MAX'] = df.groupby('SK_ID_CURR')['CODE_REJECT_REASON'].agg(lambda x:x.value_counts().index[0])\n",
    "    #申请贷款类型最多\n",
    "    df_b['581D_NAME_PORTFOLIO_MAX'] = df.groupby('SK_ID_CURR')['NAME_PORTFOLIO'].agg(lambda x:x.value_counts().index[0])\n",
    "    #授信期数最多\n",
    "    df_b['581D_CNT_PAYMENT_MAX'] =df.groupby('SK_ID_CURR')['CNT_PAYMENT'].max()\n",
    "    #授信期数平均\n",
    "    df_b['581D_CNT_PAYMENT_AVG'] =df.groupby('SK_ID_CURR')['CNT_PAYMENT'].mean()\n",
    "    #授信期数最小\n",
    "    df_b['581D_CNT_PAYMENT_MIN'] =df.groupby('SK_ID_CURR')['CNT_PAYMENT'].min()\n",
    "    #授信期数总数\n",
    "    df_b['581D_CNT_PAYMENT_SUM'] =df.groupby('SK_ID_CURR')['CNT_PAYMENT'].sum()\n",
    "    #申请记录利率水平最多\n",
    "    df_b['581D_NAME_YIELD_GROUP_MAX'] = df.groupby('SK_ID_CURR')['NAME_YIELD_GROUP'].agg(lambda x:x.value_counts().index[0])\n",
    "    \n",
    "    #距今1300天内\n",
    "    df = df_a[~df_a['NAME_CONTRACT_STATUS'].isin(lists)]\n",
    "    df = df[df['DAYS_DECISION']>=-1300]\n",
    "\n",
    "    df_p = df_a[df_a['NAME_CONTRACT_STATUS']=='Approved']\n",
    "    df_p = df_p[df_p['DAYS_DECISION']>=-1300]\n",
    "    df_r = df_a[df_a['NAME_CONTRACT_STATUS']=='Refused']\n",
    "    df_r = df_r[df_r['DAYS_DECISION']>=-1300]\n",
    "    \n",
    "    #历史被拒次数\n",
    "    df_b['1300D_Number_of_Refused'] = df_r.groupby('SK_ID_CURR')['SK_ID_PREV'].count()\n",
    "    #历史被拒总金额\n",
    "    df_b['1300D_R_Total_historical_application'] = df_r.groupby('SK_ID_CURR')['AMT_APPLICATION'].sum()\n",
    "    #平均每次被拒额度\n",
    "    df_b['1300D_R_avg_application_amount']=df_b['R_Total_historical_application']/df_b['Number_of_Refused']\n",
    "    #最小被拒金额\n",
    "    df_b['1300D_R_min_amount'] = df_r.groupby('SK_ID_CURR')['AMT_APPLICATION'].min()\n",
    "    \n",
    " \n",
    "    #历史通过次数\n",
    "    df_b['1300D_Number_of_Approved'] = df_p.groupby('SK_ID_CURR')['SK_ID_PREV'].count()\n",
    "    #历史通过最大金额\n",
    "    df_b['1300D_P_max_amount'] = df_p.groupby('SK_ID_CURR')['AMT_APPLICATION'].max()\n",
    "    #历史通过总金额\n",
    "    df_b['1300D_P_Total_historical_application'] = df_p.groupby('SK_ID_CURR')['AMT_APPLICATION'].sum()\n",
    "    #平均每次通过额度\n",
    "    df_b['1300D_P_avg_application_amount']=df_b['P_Total_historical_application']/df_b['Number_of_Approved']\n",
    "    \n",
    "    #历史实际通过最大金额\n",
    "    df_b['1300D_P_max_AMT_CREDIT'] = df_p.groupby('SK_ID_CURR')['AMT_CREDIT'].max()\n",
    "    #历史实际通过总金额\n",
    "    df_b['1300D_P_Total_AMT_CREDIT_application'] = df_p.groupby('SK_ID_CURR')['AMT_CREDIT'].sum()\n",
    "    #平均每次实际通过额度\n",
    "    df_b['1300D_P_avg_application_AMT_CREDIT']=df_b['P_Total_AMT_CREDIT_application']/df_b['Number_of_Approved']\n",
    "    \n",
    "    \n",
    "    #申请额度与实际额度差值\n",
    "    df_b['1300D_Difference_total'] = df_b['P_Total_AMT_CREDIT_application'] -df_b['P_Total_historical_application']\n",
    "      \n",
    "    ##最大申请额度与最大实际额度差值\n",
    "    df_b['1300D_Difference_max'] = df_b['P_max_AMT_CREDIT']-df_b['P_max_amount']\n",
    "\n",
    "    #历史申请次数\n",
    "    df_b['1300D_Number_of_historical_applications'] = df.groupby('SK_ID_CURR')['SK_ID_PREV'].count()\n",
    "    #历史申请总额度\n",
    "    df_b['1300D_Total_historical_application'] = df.groupby('SK_ID_CURR')['AMT_APPLICATION'].sum()\n",
    "    #历史发放总额度\n",
    "    df_b['1300D_Total_historical'] = df.groupby('SK_ID_CURR')['AMT_CREDIT'].sum()\n",
    "    #平均每次申请额度\n",
    "    df_b['1300D_avg_application_amount']=df_b['Total_historical_application']/df_b['Number_of_historical_applications']\n",
    "    #平均每次发放额度\n",
    "    df_b['1300D_avg_amount']=df_b['Total_historical']/df_b['Number_of_historical_applications']\n",
    "    #使用目的最多\n",
    "    df_b['1300D_NAME_CASH_LOAN_PURPOSE_MAX'] = df.groupby('SK_ID_CURR')['NAME_CASH_LOAN_PURPOSE'].agg(lambda x:x.value_counts().index[0])\n",
    "    #被拒绝原因最多\n",
    "    df_b['1300D_CODE_REJECT_REASON_MAX'] = df.groupby('SK_ID_CURR')['CODE_REJECT_REASON'].agg(lambda x:x.value_counts().index[0])\n",
    "    #申请贷款类型最多\n",
    "    df_b['1300D_NAME_PORTFOLIO_MAX'] = df.groupby('SK_ID_CURR')['NAME_PORTFOLIO'].agg(lambda x:x.value_counts().index[0])\n",
    "    #授信期数最多\n",
    "    df_b['1300D_CNT_PAYMENT_MAX'] =df.groupby('SK_ID_CURR')['CNT_PAYMENT'].max()\n",
    "    #授信期数平均\n",
    "    df_b['1300D_CNT_PAYMENT_AVG'] =df.groupby('SK_ID_CURR')['CNT_PAYMENT'].mean()\n",
    "    #授信期数最小\n",
    "    df_b['1300D_CNT_PAYMENT_MIN'] =df.groupby('SK_ID_CURR')['CNT_PAYMENT'].min()\n",
    "    #授信期数总数\n",
    "    df_b['1300D_CNT_PAYMENT_SUM'] =df.groupby('SK_ID_CURR')['CNT_PAYMENT'].sum()\n",
    "    #申请记录利率水平最多\n",
    "    df_b['1300D_NAME_YIELD_GROUP_MAX'] = df.groupby('SK_ID_CURR')['NAME_YIELD_GROUP'].agg(lambda x:x.value_counts().index[0])\n",
    "    df_b = df_b.reset_index()\n",
    "    return df_b"
   ],
   "metadata": {
    "collapsed": false,
    "ExecuteTime": {
     "end_time": "2025-08-25T09:38:56.139096100Z",
     "start_time": "2025-08-25T09:38:56.120784500Z"
    }
   },
   "id": "96a63b6a734381c9"
  },
  {
   "cell_type": "code",
   "execution_count": 131,
   "outputs": [
    {
     "name": "stderr",
     "output_type": "stream",
     "text": [
      "C:\\Users\\melx99\\AppData\\Local\\Temp\\ipykernel_14996\\2421835880.py:266: PerformanceWarning: DataFrame is highly fragmented.  This is usually the result of calling `frame.insert` many times, which has poor performance.  Consider joining all columns at once using pd.concat(axis=1) instead. To get a de-fragmented frame, use `newframe = frame.copy()`\n",
      "  df_b['581D_R_Total_historical_application'] = df_r.groupby('SK_ID_CURR')['AMT_APPLICATION'].sum()\n",
      "C:\\Users\\melx99\\AppData\\Local\\Temp\\ipykernel_14996\\2421835880.py:268: PerformanceWarning: DataFrame is highly fragmented.  This is usually the result of calling `frame.insert` many times, which has poor performance.  Consider joining all columns at once using pd.concat(axis=1) instead. To get a de-fragmented frame, use `newframe = frame.copy()`\n",
      "  df_b['581D_R_avg_application_amount']=df_b['R_Total_historical_application']/df_b['Number_of_Refused']\n",
      "C:\\Users\\melx99\\AppData\\Local\\Temp\\ipykernel_14996\\2421835880.py:270: PerformanceWarning: DataFrame is highly fragmented.  This is usually the result of calling `frame.insert` many times, which has poor performance.  Consider joining all columns at once using pd.concat(axis=1) instead. To get a de-fragmented frame, use `newframe = frame.copy()`\n",
      "  df_b['581D_R_min_amount'] = df_r.groupby('SK_ID_CURR')['AMT_APPLICATION'].min()\n",
      "C:\\Users\\melx99\\AppData\\Local\\Temp\\ipykernel_14996\\2421835880.py:274: PerformanceWarning: DataFrame is highly fragmented.  This is usually the result of calling `frame.insert` many times, which has poor performance.  Consider joining all columns at once using pd.concat(axis=1) instead. To get a de-fragmented frame, use `newframe = frame.copy()`\n",
      "  df_b['581D_Number_of_Approved'] = df_p.groupby('SK_ID_CURR')['SK_ID_PREV'].count()\n",
      "C:\\Users\\melx99\\AppData\\Local\\Temp\\ipykernel_14996\\2421835880.py:276: PerformanceWarning: DataFrame is highly fragmented.  This is usually the result of calling `frame.insert` many times, which has poor performance.  Consider joining all columns at once using pd.concat(axis=1) instead. To get a de-fragmented frame, use `newframe = frame.copy()`\n",
      "  df_b['581D_P_max_amount'] = df_p.groupby('SK_ID_CURR')['AMT_APPLICATION'].max()\n",
      "C:\\Users\\melx99\\AppData\\Local\\Temp\\ipykernel_14996\\2421835880.py:278: PerformanceWarning: DataFrame is highly fragmented.  This is usually the result of calling `frame.insert` many times, which has poor performance.  Consider joining all columns at once using pd.concat(axis=1) instead. To get a de-fragmented frame, use `newframe = frame.copy()`\n",
      "  df_b['581D_P_Total_historical_application'] = df_p.groupby('SK_ID_CURR')['AMT_APPLICATION'].sum()\n",
      "C:\\Users\\melx99\\AppData\\Local\\Temp\\ipykernel_14996\\2421835880.py:280: PerformanceWarning: DataFrame is highly fragmented.  This is usually the result of calling `frame.insert` many times, which has poor performance.  Consider joining all columns at once using pd.concat(axis=1) instead. To get a de-fragmented frame, use `newframe = frame.copy()`\n",
      "  df_b['581D_P_avg_application_amount']=df_b['P_Total_historical_application']/df_b['Number_of_Approved']\n",
      "C:\\Users\\melx99\\AppData\\Local\\Temp\\ipykernel_14996\\2421835880.py:283: PerformanceWarning: DataFrame is highly fragmented.  This is usually the result of calling `frame.insert` many times, which has poor performance.  Consider joining all columns at once using pd.concat(axis=1) instead. To get a de-fragmented frame, use `newframe = frame.copy()`\n",
      "  df_b['581D_P_max_AMT_CREDIT'] = df_p.groupby('SK_ID_CURR')['AMT_CREDIT'].max()\n",
      "C:\\Users\\melx99\\AppData\\Local\\Temp\\ipykernel_14996\\2421835880.py:285: PerformanceWarning: DataFrame is highly fragmented.  This is usually the result of calling `frame.insert` many times, which has poor performance.  Consider joining all columns at once using pd.concat(axis=1) instead. To get a de-fragmented frame, use `newframe = frame.copy()`\n",
      "  df_b['581D_P_Total_AMT_CREDIT_application'] = df_p.groupby('SK_ID_CURR')['AMT_CREDIT'].sum()\n",
      "C:\\Users\\melx99\\AppData\\Local\\Temp\\ipykernel_14996\\2421835880.py:287: PerformanceWarning: DataFrame is highly fragmented.  This is usually the result of calling `frame.insert` many times, which has poor performance.  Consider joining all columns at once using pd.concat(axis=1) instead. To get a de-fragmented frame, use `newframe = frame.copy()`\n",
      "  df_b['581D_P_avg_application_AMT_CREDIT']=df_b['P_Total_AMT_CREDIT_application']/df_b['Number_of_Approved']\n",
      "C:\\Users\\melx99\\AppData\\Local\\Temp\\ipykernel_14996\\2421835880.py:291: PerformanceWarning: DataFrame is highly fragmented.  This is usually the result of calling `frame.insert` many times, which has poor performance.  Consider joining all columns at once using pd.concat(axis=1) instead. To get a de-fragmented frame, use `newframe = frame.copy()`\n",
      "  df_b['581D_Difference_total'] = df_b['P_Total_AMT_CREDIT_application'] -df_b['P_Total_historical_application']\n",
      "C:\\Users\\melx99\\AppData\\Local\\Temp\\ipykernel_14996\\2421835880.py:294: PerformanceWarning: DataFrame is highly fragmented.  This is usually the result of calling `frame.insert` many times, which has poor performance.  Consider joining all columns at once using pd.concat(axis=1) instead. To get a de-fragmented frame, use `newframe = frame.copy()`\n",
      "  df_b['581D_Difference_max'] = df_b['P_max_AMT_CREDIT']-df_b['P_max_amount']\n",
      "C:\\Users\\melx99\\AppData\\Local\\Temp\\ipykernel_14996\\2421835880.py:297: PerformanceWarning: DataFrame is highly fragmented.  This is usually the result of calling `frame.insert` many times, which has poor performance.  Consider joining all columns at once using pd.concat(axis=1) instead. To get a de-fragmented frame, use `newframe = frame.copy()`\n",
      "  df_b['581D_Number_of_historical_applications'] = df.groupby('SK_ID_CURR')['SK_ID_PREV'].count()\n",
      "C:\\Users\\melx99\\AppData\\Local\\Temp\\ipykernel_14996\\2421835880.py:299: PerformanceWarning: DataFrame is highly fragmented.  This is usually the result of calling `frame.insert` many times, which has poor performance.  Consider joining all columns at once using pd.concat(axis=1) instead. To get a de-fragmented frame, use `newframe = frame.copy()`\n",
      "  df_b['581D_Total_historical_application'] = df.groupby('SK_ID_CURR')['AMT_APPLICATION'].sum()\n",
      "C:\\Users\\melx99\\AppData\\Local\\Temp\\ipykernel_14996\\2421835880.py:301: PerformanceWarning: DataFrame is highly fragmented.  This is usually the result of calling `frame.insert` many times, which has poor performance.  Consider joining all columns at once using pd.concat(axis=1) instead. To get a de-fragmented frame, use `newframe = frame.copy()`\n",
      "  df_b['581D_Total_historical'] = df.groupby('SK_ID_CURR')['AMT_CREDIT'].sum()\n",
      "C:\\Users\\melx99\\AppData\\Local\\Temp\\ipykernel_14996\\2421835880.py:303: PerformanceWarning: DataFrame is highly fragmented.  This is usually the result of calling `frame.insert` many times, which has poor performance.  Consider joining all columns at once using pd.concat(axis=1) instead. To get a de-fragmented frame, use `newframe = frame.copy()`\n",
      "  df_b['581D_avg_application_amount']=df_b['Total_historical_application']/df_b['Number_of_historical_applications']\n",
      "C:\\Users\\melx99\\AppData\\Local\\Temp\\ipykernel_14996\\2421835880.py:305: PerformanceWarning: DataFrame is highly fragmented.  This is usually the result of calling `frame.insert` many times, which has poor performance.  Consider joining all columns at once using pd.concat(axis=1) instead. To get a de-fragmented frame, use `newframe = frame.copy()`\n",
      "  df_b['581D_avg_amount']=df_b['Total_historical']/df_b['Number_of_historical_applications']\n",
      "C:\\Users\\melx99\\AppData\\Local\\Temp\\ipykernel_14996\\2421835880.py:307: PerformanceWarning: DataFrame is highly fragmented.  This is usually the result of calling `frame.insert` many times, which has poor performance.  Consider joining all columns at once using pd.concat(axis=1) instead. To get a de-fragmented frame, use `newframe = frame.copy()`\n",
      "  df_b['581D_NAME_CASH_LOAN_PURPOSE_MAX'] = df.groupby('SK_ID_CURR')['NAME_CASH_LOAN_PURPOSE'].agg(lambda x:x.value_counts().index[0])\n",
      "C:\\Users\\melx99\\AppData\\Local\\Temp\\ipykernel_14996\\2421835880.py:309: PerformanceWarning: DataFrame is highly fragmented.  This is usually the result of calling `frame.insert` many times, which has poor performance.  Consider joining all columns at once using pd.concat(axis=1) instead. To get a de-fragmented frame, use `newframe = frame.copy()`\n",
      "  df_b['581D_CODE_REJECT_REASON_MAX'] = df.groupby('SK_ID_CURR')['CODE_REJECT_REASON'].agg(lambda x:x.value_counts().index[0])\n",
      "C:\\Users\\melx99\\AppData\\Local\\Temp\\ipykernel_14996\\2421835880.py:311: PerformanceWarning: DataFrame is highly fragmented.  This is usually the result of calling `frame.insert` many times, which has poor performance.  Consider joining all columns at once using pd.concat(axis=1) instead. To get a de-fragmented frame, use `newframe = frame.copy()`\n",
      "  df_b['581D_NAME_PORTFOLIO_MAX'] = df.groupby('SK_ID_CURR')['NAME_PORTFOLIO'].agg(lambda x:x.value_counts().index[0])\n",
      "C:\\Users\\melx99\\AppData\\Local\\Temp\\ipykernel_14996\\2421835880.py:313: PerformanceWarning: DataFrame is highly fragmented.  This is usually the result of calling `frame.insert` many times, which has poor performance.  Consider joining all columns at once using pd.concat(axis=1) instead. To get a de-fragmented frame, use `newframe = frame.copy()`\n",
      "  df_b['581D_CNT_PAYMENT_MAX'] =df.groupby('SK_ID_CURR')['CNT_PAYMENT'].max()\n",
      "C:\\Users\\melx99\\AppData\\Local\\Temp\\ipykernel_14996\\2421835880.py:315: PerformanceWarning: DataFrame is highly fragmented.  This is usually the result of calling `frame.insert` many times, which has poor performance.  Consider joining all columns at once using pd.concat(axis=1) instead. To get a de-fragmented frame, use `newframe = frame.copy()`\n",
      "  df_b['581D_CNT_PAYMENT_AVG'] =df.groupby('SK_ID_CURR')['CNT_PAYMENT'].mean()\n",
      "C:\\Users\\melx99\\AppData\\Local\\Temp\\ipykernel_14996\\2421835880.py:317: PerformanceWarning: DataFrame is highly fragmented.  This is usually the result of calling `frame.insert` many times, which has poor performance.  Consider joining all columns at once using pd.concat(axis=1) instead. To get a de-fragmented frame, use `newframe = frame.copy()`\n",
      "  df_b['581D_CNT_PAYMENT_MIN'] =df.groupby('SK_ID_CURR')['CNT_PAYMENT'].min()\n",
      "C:\\Users\\melx99\\AppData\\Local\\Temp\\ipykernel_14996\\2421835880.py:319: PerformanceWarning: DataFrame is highly fragmented.  This is usually the result of calling `frame.insert` many times, which has poor performance.  Consider joining all columns at once using pd.concat(axis=1) instead. To get a de-fragmented frame, use `newframe = frame.copy()`\n",
      "  df_b['581D_CNT_PAYMENT_SUM'] =df.groupby('SK_ID_CURR')['CNT_PAYMENT'].sum()\n",
      "C:\\Users\\melx99\\AppData\\Local\\Temp\\ipykernel_14996\\2421835880.py:321: PerformanceWarning: DataFrame is highly fragmented.  This is usually the result of calling `frame.insert` many times, which has poor performance.  Consider joining all columns at once using pd.concat(axis=1) instead. To get a de-fragmented frame, use `newframe = frame.copy()`\n",
      "  df_b['581D_NAME_YIELD_GROUP_MAX'] = df.groupby('SK_ID_CURR')['NAME_YIELD_GROUP'].agg(lambda x:x.value_counts().index[0])\n",
      "C:\\Users\\melx99\\AppData\\Local\\Temp\\ipykernel_14996\\2421835880.py:333: PerformanceWarning: DataFrame is highly fragmented.  This is usually the result of calling `frame.insert` many times, which has poor performance.  Consider joining all columns at once using pd.concat(axis=1) instead. To get a de-fragmented frame, use `newframe = frame.copy()`\n",
      "  df_b['1300D_Number_of_Refused'] = df_r.groupby('SK_ID_CURR')['SK_ID_PREV'].count()\n",
      "C:\\Users\\melx99\\AppData\\Local\\Temp\\ipykernel_14996\\2421835880.py:335: PerformanceWarning: DataFrame is highly fragmented.  This is usually the result of calling `frame.insert` many times, which has poor performance.  Consider joining all columns at once using pd.concat(axis=1) instead. To get a de-fragmented frame, use `newframe = frame.copy()`\n",
      "  df_b['1300D_R_Total_historical_application'] = df_r.groupby('SK_ID_CURR')['AMT_APPLICATION'].sum()\n",
      "C:\\Users\\melx99\\AppData\\Local\\Temp\\ipykernel_14996\\2421835880.py:337: PerformanceWarning: DataFrame is highly fragmented.  This is usually the result of calling `frame.insert` many times, which has poor performance.  Consider joining all columns at once using pd.concat(axis=1) instead. To get a de-fragmented frame, use `newframe = frame.copy()`\n",
      "  df_b['1300D_R_avg_application_amount']=df_b['R_Total_historical_application']/df_b['Number_of_Refused']\n",
      "C:\\Users\\melx99\\AppData\\Local\\Temp\\ipykernel_14996\\2421835880.py:339: PerformanceWarning: DataFrame is highly fragmented.  This is usually the result of calling `frame.insert` many times, which has poor performance.  Consider joining all columns at once using pd.concat(axis=1) instead. To get a de-fragmented frame, use `newframe = frame.copy()`\n",
      "  df_b['1300D_R_min_amount'] = df_r.groupby('SK_ID_CURR')['AMT_APPLICATION'].min()\n",
      "C:\\Users\\melx99\\AppData\\Local\\Temp\\ipykernel_14996\\2421835880.py:343: PerformanceWarning: DataFrame is highly fragmented.  This is usually the result of calling `frame.insert` many times, which has poor performance.  Consider joining all columns at once using pd.concat(axis=1) instead. To get a de-fragmented frame, use `newframe = frame.copy()`\n",
      "  df_b['1300D_Number_of_Approved'] = df_p.groupby('SK_ID_CURR')['SK_ID_PREV'].count()\n",
      "C:\\Users\\melx99\\AppData\\Local\\Temp\\ipykernel_14996\\2421835880.py:345: PerformanceWarning: DataFrame is highly fragmented.  This is usually the result of calling `frame.insert` many times, which has poor performance.  Consider joining all columns at once using pd.concat(axis=1) instead. To get a de-fragmented frame, use `newframe = frame.copy()`\n",
      "  df_b['1300D_P_max_amount'] = df_p.groupby('SK_ID_CURR')['AMT_APPLICATION'].max()\n",
      "C:\\Users\\melx99\\AppData\\Local\\Temp\\ipykernel_14996\\2421835880.py:347: PerformanceWarning: DataFrame is highly fragmented.  This is usually the result of calling `frame.insert` many times, which has poor performance.  Consider joining all columns at once using pd.concat(axis=1) instead. To get a de-fragmented frame, use `newframe = frame.copy()`\n",
      "  df_b['1300D_P_Total_historical_application'] = df_p.groupby('SK_ID_CURR')['AMT_APPLICATION'].sum()\n",
      "C:\\Users\\melx99\\AppData\\Local\\Temp\\ipykernel_14996\\2421835880.py:349: PerformanceWarning: DataFrame is highly fragmented.  This is usually the result of calling `frame.insert` many times, which has poor performance.  Consider joining all columns at once using pd.concat(axis=1) instead. To get a de-fragmented frame, use `newframe = frame.copy()`\n",
      "  df_b['1300D_P_avg_application_amount']=df_b['P_Total_historical_application']/df_b['Number_of_Approved']\n",
      "C:\\Users\\melx99\\AppData\\Local\\Temp\\ipykernel_14996\\2421835880.py:352: PerformanceWarning: DataFrame is highly fragmented.  This is usually the result of calling `frame.insert` many times, which has poor performance.  Consider joining all columns at once using pd.concat(axis=1) instead. To get a de-fragmented frame, use `newframe = frame.copy()`\n",
      "  df_b['1300D_P_max_AMT_CREDIT'] = df_p.groupby('SK_ID_CURR')['AMT_CREDIT'].max()\n",
      "C:\\Users\\melx99\\AppData\\Local\\Temp\\ipykernel_14996\\2421835880.py:354: PerformanceWarning: DataFrame is highly fragmented.  This is usually the result of calling `frame.insert` many times, which has poor performance.  Consider joining all columns at once using pd.concat(axis=1) instead. To get a de-fragmented frame, use `newframe = frame.copy()`\n",
      "  df_b['1300D_P_Total_AMT_CREDIT_application'] = df_p.groupby('SK_ID_CURR')['AMT_CREDIT'].sum()\n",
      "C:\\Users\\melx99\\AppData\\Local\\Temp\\ipykernel_14996\\2421835880.py:356: PerformanceWarning: DataFrame is highly fragmented.  This is usually the result of calling `frame.insert` many times, which has poor performance.  Consider joining all columns at once using pd.concat(axis=1) instead. To get a de-fragmented frame, use `newframe = frame.copy()`\n",
      "  df_b['1300D_P_avg_application_AMT_CREDIT']=df_b['P_Total_AMT_CREDIT_application']/df_b['Number_of_Approved']\n",
      "C:\\Users\\melx99\\AppData\\Local\\Temp\\ipykernel_14996\\2421835880.py:360: PerformanceWarning: DataFrame is highly fragmented.  This is usually the result of calling `frame.insert` many times, which has poor performance.  Consider joining all columns at once using pd.concat(axis=1) instead. To get a de-fragmented frame, use `newframe = frame.copy()`\n",
      "  df_b['1300D_Difference_total'] = df_b['P_Total_AMT_CREDIT_application'] -df_b['P_Total_historical_application']\n",
      "C:\\Users\\melx99\\AppData\\Local\\Temp\\ipykernel_14996\\2421835880.py:363: PerformanceWarning: DataFrame is highly fragmented.  This is usually the result of calling `frame.insert` many times, which has poor performance.  Consider joining all columns at once using pd.concat(axis=1) instead. To get a de-fragmented frame, use `newframe = frame.copy()`\n",
      "  df_b['1300D_Difference_max'] = df_b['P_max_AMT_CREDIT']-df_b['P_max_amount']\n",
      "C:\\Users\\melx99\\AppData\\Local\\Temp\\ipykernel_14996\\2421835880.py:366: PerformanceWarning: DataFrame is highly fragmented.  This is usually the result of calling `frame.insert` many times, which has poor performance.  Consider joining all columns at once using pd.concat(axis=1) instead. To get a de-fragmented frame, use `newframe = frame.copy()`\n",
      "  df_b['1300D_Number_of_historical_applications'] = df.groupby('SK_ID_CURR')['SK_ID_PREV'].count()\n",
      "C:\\Users\\melx99\\AppData\\Local\\Temp\\ipykernel_14996\\2421835880.py:368: PerformanceWarning: DataFrame is highly fragmented.  This is usually the result of calling `frame.insert` many times, which has poor performance.  Consider joining all columns at once using pd.concat(axis=1) instead. To get a de-fragmented frame, use `newframe = frame.copy()`\n",
      "  df_b['1300D_Total_historical_application'] = df.groupby('SK_ID_CURR')['AMT_APPLICATION'].sum()\n",
      "C:\\Users\\melx99\\AppData\\Local\\Temp\\ipykernel_14996\\2421835880.py:370: PerformanceWarning: DataFrame is highly fragmented.  This is usually the result of calling `frame.insert` many times, which has poor performance.  Consider joining all columns at once using pd.concat(axis=1) instead. To get a de-fragmented frame, use `newframe = frame.copy()`\n",
      "  df_b['1300D_Total_historical'] = df.groupby('SK_ID_CURR')['AMT_CREDIT'].sum()\n",
      "C:\\Users\\melx99\\AppData\\Local\\Temp\\ipykernel_14996\\2421835880.py:372: PerformanceWarning: DataFrame is highly fragmented.  This is usually the result of calling `frame.insert` many times, which has poor performance.  Consider joining all columns at once using pd.concat(axis=1) instead. To get a de-fragmented frame, use `newframe = frame.copy()`\n",
      "  df_b['1300D_avg_application_amount']=df_b['Total_historical_application']/df_b['Number_of_historical_applications']\n",
      "C:\\Users\\melx99\\AppData\\Local\\Temp\\ipykernel_14996\\2421835880.py:374: PerformanceWarning: DataFrame is highly fragmented.  This is usually the result of calling `frame.insert` many times, which has poor performance.  Consider joining all columns at once using pd.concat(axis=1) instead. To get a de-fragmented frame, use `newframe = frame.copy()`\n",
      "  df_b['1300D_avg_amount']=df_b['Total_historical']/df_b['Number_of_historical_applications']\n",
      "C:\\Users\\melx99\\AppData\\Local\\Temp\\ipykernel_14996\\2421835880.py:376: PerformanceWarning: DataFrame is highly fragmented.  This is usually the result of calling `frame.insert` many times, which has poor performance.  Consider joining all columns at once using pd.concat(axis=1) instead. To get a de-fragmented frame, use `newframe = frame.copy()`\n",
      "  df_b['1300D_NAME_CASH_LOAN_PURPOSE_MAX'] = df.groupby('SK_ID_CURR')['NAME_CASH_LOAN_PURPOSE'].agg(lambda x:x.value_counts().index[0])\n",
      "C:\\Users\\melx99\\AppData\\Local\\Temp\\ipykernel_14996\\2421835880.py:378: PerformanceWarning: DataFrame is highly fragmented.  This is usually the result of calling `frame.insert` many times, which has poor performance.  Consider joining all columns at once using pd.concat(axis=1) instead. To get a de-fragmented frame, use `newframe = frame.copy()`\n",
      "  df_b['1300D_CODE_REJECT_REASON_MAX'] = df.groupby('SK_ID_CURR')['CODE_REJECT_REASON'].agg(lambda x:x.value_counts().index[0])\n",
      "C:\\Users\\melx99\\AppData\\Local\\Temp\\ipykernel_14996\\2421835880.py:380: PerformanceWarning: DataFrame is highly fragmented.  This is usually the result of calling `frame.insert` many times, which has poor performance.  Consider joining all columns at once using pd.concat(axis=1) instead. To get a de-fragmented frame, use `newframe = frame.copy()`\n",
      "  df_b['1300D_NAME_PORTFOLIO_MAX'] = df.groupby('SK_ID_CURR')['NAME_PORTFOLIO'].agg(lambda x:x.value_counts().index[0])\n",
      "C:\\Users\\melx99\\AppData\\Local\\Temp\\ipykernel_14996\\2421835880.py:382: PerformanceWarning: DataFrame is highly fragmented.  This is usually the result of calling `frame.insert` many times, which has poor performance.  Consider joining all columns at once using pd.concat(axis=1) instead. To get a de-fragmented frame, use `newframe = frame.copy()`\n",
      "  df_b['1300D_CNT_PAYMENT_MAX'] =df.groupby('SK_ID_CURR')['CNT_PAYMENT'].max()\n",
      "C:\\Users\\melx99\\AppData\\Local\\Temp\\ipykernel_14996\\2421835880.py:384: PerformanceWarning: DataFrame is highly fragmented.  This is usually the result of calling `frame.insert` many times, which has poor performance.  Consider joining all columns at once using pd.concat(axis=1) instead. To get a de-fragmented frame, use `newframe = frame.copy()`\n",
      "  df_b['1300D_CNT_PAYMENT_AVG'] =df.groupby('SK_ID_CURR')['CNT_PAYMENT'].mean()\n",
      "C:\\Users\\melx99\\AppData\\Local\\Temp\\ipykernel_14996\\2421835880.py:386: PerformanceWarning: DataFrame is highly fragmented.  This is usually the result of calling `frame.insert` many times, which has poor performance.  Consider joining all columns at once using pd.concat(axis=1) instead. To get a de-fragmented frame, use `newframe = frame.copy()`\n",
      "  df_b['1300D_CNT_PAYMENT_MIN'] =df.groupby('SK_ID_CURR')['CNT_PAYMENT'].min()\n",
      "C:\\Users\\melx99\\AppData\\Local\\Temp\\ipykernel_14996\\2421835880.py:388: PerformanceWarning: DataFrame is highly fragmented.  This is usually the result of calling `frame.insert` many times, which has poor performance.  Consider joining all columns at once using pd.concat(axis=1) instead. To get a de-fragmented frame, use `newframe = frame.copy()`\n",
      "  df_b['1300D_CNT_PAYMENT_SUM'] =df.groupby('SK_ID_CURR')['CNT_PAYMENT'].sum()\n",
      "C:\\Users\\melx99\\AppData\\Local\\Temp\\ipykernel_14996\\2421835880.py:390: PerformanceWarning: DataFrame is highly fragmented.  This is usually the result of calling `frame.insert` many times, which has poor performance.  Consider joining all columns at once using pd.concat(axis=1) instead. To get a de-fragmented frame, use `newframe = frame.copy()`\n",
      "  df_b['1300D_NAME_YIELD_GROUP_MAX'] = df.groupby('SK_ID_CURR')['NAME_YIELD_GROUP'].agg(lambda x:x.value_counts().index[0])\n"
     ]
    }
   ],
   "source": [
    "previous_application_ft_de = fe_previous_application_ft(previous_application_ft)"
   ],
   "metadata": {
    "collapsed": false,
    "ExecuteTime": {
     "end_time": "2025-08-25T09:46:52.322903700Z",
     "start_time": "2025-08-25T09:39:38.106840800Z"
    }
   },
   "id": "c4befdfdb387f8a3"
  },
  {
   "cell_type": "code",
   "execution_count": 134,
   "outputs": [
    {
     "data": {
      "text/plain": "                                       type    size missing  unique  \\\n90D_R_min_amount                    float64  338402  97.95%     851   \n90D_R_Total_historical_application  float64  338402  97.95%    1395   \n90D_Number_of_Refused               float64  338402  97.95%      21   \n90D_Number_of_Approved              float64  338402  93.48%       5   \n90D_P_max_amount                    float64  338402  93.48%   10435   \n...                                     ...     ...     ...     ...   \n280D_avg_amount                     float64  338402   0.00%  231269   \nDAYS_FIRST_DUE_MAX                  float64  338402   0.00%    2891   \nDAYS_FIRST_DRAWING_SUM              float64  338402   0.00%    2897   \nDAYS_FIRST_DRAWING_MIN              float64  338402   0.00%    2838   \nSK_ID_CURR                            int64  338402   0.00%  338402   \n\n                                     mean_or_top1     std_or_top2 min_or_top3  \\\n90D_R_min_amount                    443768.679846   443086.230793         0.0   \n90D_R_Total_historical_application  947386.932309  1346372.204386         0.0   \n90D_Number_of_Refused                    1.870162        1.583183         1.0   \n90D_Number_of_Approved                   1.100916        0.323864         1.0   \n90D_P_max_amount                    196014.807484     256422.8624         0.0   \n...                                           ...             ...         ...   \n280D_avg_amount                     203078.650876   198842.098358         0.0   \nDAYS_FIRST_DUE_MAX                    -358.355388      560.664936     -2891.0   \nDAYS_FIRST_DRAWING_SUM                -195.565936      566.158523     -3742.0   \nDAYS_FIRST_DRAWING_MIN                 -192.47417      565.011626     -2922.0   \nSK_ID_CURR                           278137.17572   102879.402241    100001.0   \n\n                                   1%_or_top4 10%_or_top5 50%_or_bottom5  \\\n90D_R_min_amount                          0.0         0.0       315000.0   \n90D_R_Total_historical_application        0.0     45000.0       537844.5   \n90D_Number_of_Refused                     1.0         1.0            1.0   \n90D_Number_of_Approved                    1.0         1.0            1.0   \n90D_P_max_amount                      16155.0     31911.3        99000.0   \n...                                       ...         ...            ...   \n280D_avg_amount                     19660.527     45000.0     136543.875   \nDAYS_FIRST_DUE_MAX                    -2557.0     -1000.0         -105.0   \nDAYS_FIRST_DRAWING_SUM                -2765.0      -549.0           -3.0   \nDAYS_FIRST_DRAWING_MIN                -2759.0      -545.0           -1.0   \nSK_ID_CURR                          103537.01    135552.1       278200.5   \n\n                                   75%_or_bottom4 90%_or_bottom3  \\\n90D_R_min_amount                         675000.0      1125000.0   \n90D_R_Total_historical_application     1225113.75      2250000.0   \n90D_Number_of_Refused                         2.0            3.0   \n90D_Number_of_Approved                        1.0            1.0   \n90D_P_max_amount                         225000.0       472500.0   \n...                                           ...            ...   \n280D_avg_amount                        261879.525      447281.25   \nDAYS_FIRST_DUE_MAX                           -1.0           -1.0   \nDAYS_FIRST_DRAWING_SUM                       -2.0           -1.0   \nDAYS_FIRST_DRAWING_MIN                       -1.0           -1.0   \nSK_ID_CURR                              367291.75       420984.9   \n\n                                   99%_or_bottom2 max_or_bottom1  \n90D_R_min_amount                        1800000.0      3600000.0  \n90D_R_Total_historical_application      6257430.0     19755000.0  \n90D_Number_of_Refused                         8.0           26.0  \n90D_Number_of_Approved                        2.0            5.0  \n90D_P_max_amount                        1309770.0      2475000.0  \n...                                           ...            ...  \n280D_avg_amount                     940856.592857      4050000.0  \nDAYS_FIRST_DUE_MAX                           -1.0           -1.0  \nDAYS_FIRST_DRAWING_SUM                       -1.0           -1.0  \nDAYS_FIRST_DRAWING_MIN                       -1.0           -1.0  \nSK_ID_CURR                              452724.99       456255.0  \n\n[152 rows x 14 columns]",
      "text/html": "<div>\n<style scoped>\n    .dataframe tbody tr th:only-of-type {\n        vertical-align: middle;\n    }\n\n    .dataframe tbody tr th {\n        vertical-align: top;\n    }\n\n    .dataframe thead th {\n        text-align: right;\n    }\n</style>\n<table border=\"1\" class=\"dataframe\">\n  <thead>\n    <tr style=\"text-align: right;\">\n      <th></th>\n      <th>type</th>\n      <th>size</th>\n      <th>missing</th>\n      <th>unique</th>\n      <th>mean_or_top1</th>\n      <th>std_or_top2</th>\n      <th>min_or_top3</th>\n      <th>1%_or_top4</th>\n      <th>10%_or_top5</th>\n      <th>50%_or_bottom5</th>\n      <th>75%_or_bottom4</th>\n      <th>90%_or_bottom3</th>\n      <th>99%_or_bottom2</th>\n      <th>max_or_bottom1</th>\n    </tr>\n  </thead>\n  <tbody>\n    <tr>\n      <th>90D_R_min_amount</th>\n      <td>float64</td>\n      <td>338402</td>\n      <td>97.95%</td>\n      <td>851</td>\n      <td>443768.679846</td>\n      <td>443086.230793</td>\n      <td>0.0</td>\n      <td>0.0</td>\n      <td>0.0</td>\n      <td>315000.0</td>\n      <td>675000.0</td>\n      <td>1125000.0</td>\n      <td>1800000.0</td>\n      <td>3600000.0</td>\n    </tr>\n    <tr>\n      <th>90D_R_Total_historical_application</th>\n      <td>float64</td>\n      <td>338402</td>\n      <td>97.95%</td>\n      <td>1395</td>\n      <td>947386.932309</td>\n      <td>1346372.204386</td>\n      <td>0.0</td>\n      <td>0.0</td>\n      <td>45000.0</td>\n      <td>537844.5</td>\n      <td>1225113.75</td>\n      <td>2250000.0</td>\n      <td>6257430.0</td>\n      <td>19755000.0</td>\n    </tr>\n    <tr>\n      <th>90D_Number_of_Refused</th>\n      <td>float64</td>\n      <td>338402</td>\n      <td>97.95%</td>\n      <td>21</td>\n      <td>1.870162</td>\n      <td>1.583183</td>\n      <td>1.0</td>\n      <td>1.0</td>\n      <td>1.0</td>\n      <td>1.0</td>\n      <td>2.0</td>\n      <td>3.0</td>\n      <td>8.0</td>\n      <td>26.0</td>\n    </tr>\n    <tr>\n      <th>90D_Number_of_Approved</th>\n      <td>float64</td>\n      <td>338402</td>\n      <td>93.48%</td>\n      <td>5</td>\n      <td>1.100916</td>\n      <td>0.323864</td>\n      <td>1.0</td>\n      <td>1.0</td>\n      <td>1.0</td>\n      <td>1.0</td>\n      <td>1.0</td>\n      <td>1.0</td>\n      <td>2.0</td>\n      <td>5.0</td>\n    </tr>\n    <tr>\n      <th>90D_P_max_amount</th>\n      <td>float64</td>\n      <td>338402</td>\n      <td>93.48%</td>\n      <td>10435</td>\n      <td>196014.807484</td>\n      <td>256422.8624</td>\n      <td>0.0</td>\n      <td>16155.0</td>\n      <td>31911.3</td>\n      <td>99000.0</td>\n      <td>225000.0</td>\n      <td>472500.0</td>\n      <td>1309770.0</td>\n      <td>2475000.0</td>\n    </tr>\n    <tr>\n      <th>...</th>\n      <td>...</td>\n      <td>...</td>\n      <td>...</td>\n      <td>...</td>\n      <td>...</td>\n      <td>...</td>\n      <td>...</td>\n      <td>...</td>\n      <td>...</td>\n      <td>...</td>\n      <td>...</td>\n      <td>...</td>\n      <td>...</td>\n      <td>...</td>\n    </tr>\n    <tr>\n      <th>280D_avg_amount</th>\n      <td>float64</td>\n      <td>338402</td>\n      <td>0.00%</td>\n      <td>231269</td>\n      <td>203078.650876</td>\n      <td>198842.098358</td>\n      <td>0.0</td>\n      <td>19660.527</td>\n      <td>45000.0</td>\n      <td>136543.875</td>\n      <td>261879.525</td>\n      <td>447281.25</td>\n      <td>940856.592857</td>\n      <td>4050000.0</td>\n    </tr>\n    <tr>\n      <th>DAYS_FIRST_DUE_MAX</th>\n      <td>float64</td>\n      <td>338402</td>\n      <td>0.00%</td>\n      <td>2891</td>\n      <td>-358.355388</td>\n      <td>560.664936</td>\n      <td>-2891.0</td>\n      <td>-2557.0</td>\n      <td>-1000.0</td>\n      <td>-105.0</td>\n      <td>-1.0</td>\n      <td>-1.0</td>\n      <td>-1.0</td>\n      <td>-1.0</td>\n    </tr>\n    <tr>\n      <th>DAYS_FIRST_DRAWING_SUM</th>\n      <td>float64</td>\n      <td>338402</td>\n      <td>0.00%</td>\n      <td>2897</td>\n      <td>-195.565936</td>\n      <td>566.158523</td>\n      <td>-3742.0</td>\n      <td>-2765.0</td>\n      <td>-549.0</td>\n      <td>-3.0</td>\n      <td>-2.0</td>\n      <td>-1.0</td>\n      <td>-1.0</td>\n      <td>-1.0</td>\n    </tr>\n    <tr>\n      <th>DAYS_FIRST_DRAWING_MIN</th>\n      <td>float64</td>\n      <td>338402</td>\n      <td>0.00%</td>\n      <td>2838</td>\n      <td>-192.47417</td>\n      <td>565.011626</td>\n      <td>-2922.0</td>\n      <td>-2759.0</td>\n      <td>-545.0</td>\n      <td>-1.0</td>\n      <td>-1.0</td>\n      <td>-1.0</td>\n      <td>-1.0</td>\n      <td>-1.0</td>\n    </tr>\n    <tr>\n      <th>SK_ID_CURR</th>\n      <td>int64</td>\n      <td>338402</td>\n      <td>0.00%</td>\n      <td>338402</td>\n      <td>278137.17572</td>\n      <td>102879.402241</td>\n      <td>100001.0</td>\n      <td>103537.01</td>\n      <td>135552.1</td>\n      <td>278200.5</td>\n      <td>367291.75</td>\n      <td>420984.9</td>\n      <td>452724.99</td>\n      <td>456255.0</td>\n    </tr>\n  </tbody>\n</table>\n<p>152 rows × 14 columns</p>\n</div>"
     },
     "execution_count": 134,
     "metadata": {},
     "output_type": "execute_result"
    }
   ],
   "source": [
    "sd=  toad.detect(previous_application_ft_de)\n",
    "sd.sort_values('missing',ascending = False)"
   ],
   "metadata": {
    "collapsed": false,
    "ExecuteTime": {
     "end_time": "2025-08-25T09:49:22.628995600Z",
     "start_time": "2025-08-25T09:49:19.898309800Z"
    }
   },
   "id": "b6f116b38603345"
  },
  {
   "cell_type": "code",
   "execution_count": 140,
   "outputs": [
    {
     "name": "stdout",
     "output_type": "stream",
     "text": [
      "<class 'pandas.core.frame.DataFrame'>\n",
      "RangeIndex: 338402 entries, 0 to 338401\n",
      "Columns: 152 entries, SK_ID_CURR to 1300D_NAME_YIELD_GROUP_MAX\n",
      "dtypes: float64(130), int64(2), object(20)\n",
      "memory usage: 392.4+ MB\n"
     ]
    }
   ],
   "source": [
    "previous_application_ft_de.info()"
   ],
   "metadata": {
    "collapsed": false,
    "ExecuteTime": {
     "end_time": "2025-08-25T09:52:16.813210800Z",
     "start_time": "2025-08-25T09:52:16.775076500Z"
    }
   },
   "id": "636b35122d254aca"
  },
  {
   "cell_type": "code",
   "execution_count": 137,
   "outputs": [],
   "source": [
    "def count_list_na(table_name):\n",
    "    count = 0 \n",
    "    for column in table_name.columns:\n",
    "        na_count = table_name[column][table_name[column].isna()].shape[0]\n",
    "        if na_count>0:\n",
    "            count+=1\n",
    "    print('缺失列数量'+str(count))\n"
   ],
   "metadata": {
    "collapsed": false,
    "ExecuteTime": {
     "end_time": "2025-08-25T09:51:46.835638800Z",
     "start_time": "2025-08-25T09:51:46.798523900Z"
    }
   },
   "id": "79566487e4e1abfe"
  },
  {
   "cell_type": "code",
   "execution_count": 138,
   "outputs": [
    {
     "name": "stdout",
     "output_type": "stream",
     "text": [
      "缺失列数量110\n"
     ]
    }
   ],
   "source": [
    "count_list_na(previous_application_ft_de)"
   ],
   "metadata": {
    "collapsed": false,
    "ExecuteTime": {
     "end_time": "2025-08-25T09:51:48.129959100Z",
     "start_time": "2025-08-25T09:51:47.794499700Z"
    }
   },
   "id": "24d954f0360d37d5"
  },
  {
   "cell_type": "code",
   "execution_count": 145,
   "outputs": [
    {
     "name": "stdout",
     "output_type": "stream",
     "text": [
      "<class 'pandas.core.frame.DataFrame'>\n",
      "RangeIndex: 338402 entries, 0 to 338401\n",
      "Data columns (total 152 columns):\n",
      " #    Column                                   Non-Null Count   Dtype  \n",
      "---   ------                                   --------------   -----  \n",
      " 0    SK_ID_CURR                               338402 non-null  int64  \n",
      " 1    Number_of_historical_applications        338402 non-null  int64  \n",
      " 2    Total_historical_application             338402 non-null  float64\n",
      " 3    Total_historical                         338402 non-null  float64\n",
      " 4    avg_application_amount                   338402 non-null  float64\n",
      " 5    avg_amount                               338402 non-null  float64\n",
      " 6    NAME_CASH_LOAN_PURPOSE_MAX               338402 non-null  object \n",
      " 7    CODE_REJECT_REASON_MAX                   338402 non-null  object \n",
      " 8    NAME_PORTFOLIO_MAX                       338402 non-null  object \n",
      " 9    CNT_PAYMENT_MAX                          338402 non-null  float64\n",
      " 10   CNT_PAYMENT_AVG                          338402 non-null  float64\n",
      " 11   CNT_PAYMENT_MIN                          338402 non-null  float64\n",
      " 12   CNT_PAYMENT_SUM                          338402 non-null  float64\n",
      " 13   NAME_YIELD_GROUP_MAX                     338402 non-null  object \n",
      " 14   DAYS_FIRST_DRAWING_MAX                   338402 non-null  float64\n",
      " 15   DAYS_FIRST_DRAWING_AVG                   338402 non-null  float64\n",
      " 16   DAYS_FIRST_DRAWING_MIN                   338402 non-null  float64\n",
      " 17   DAYS_FIRST_DRAWING_SUM                   338402 non-null  float64\n",
      " 18   DAYS_FIRST_DUE_MAX                       338402 non-null  float64\n",
      " 19   DAYS_FIRST_DUE_AVG                       338402 non-null  float64\n",
      " 20   DAYS_FIRST_DUE_MIN                       338402 non-null  float64\n",
      " 21   DAYS_FIRST_DUE_SUM                       338402 non-null  float64\n",
      " 22   DAYS_LAST_DUE_1ST_VERSION_MAX            338402 non-null  float64\n",
      " 23   DAYS_LAST_DUE_1ST_VERSION_AVG            338402 non-null  float64\n",
      " 24   DAYS_LAST_DUE_1ST_VERSION_MIN            338402 non-null  float64\n",
      " 25   DAYS_LAST_DUE_1ST_VERSION_SUM            338402 non-null  float64\n",
      " 26   DAYS_LAST_DUE_MAX                        338402 non-null  float64\n",
      " 27   DAYS_LAST_DUE_AVG                        338402 non-null  float64\n",
      " 28   DAYS_LAST_DUE_MIN                        338402 non-null  float64\n",
      " 29   DAYS_LAST_DUE_SUM                        338402 non-null  float64\n",
      " 30   DAYS_TERMINATION_MAX                     338402 non-null  float64\n",
      " 31   DAYS_TERMINATION_AVG                     338402 non-null  float64\n",
      " 32   DAYS_TERMINATION_MIN                     338402 non-null  float64\n",
      " 33   DAYS_TERMINATION_SUM                     338402 non-null  float64\n",
      " 34   Number_of_Refused                        118277 non-null  float64\n",
      " 35   R_Total_historical_application           118277 non-null  float64\n",
      " 36   R_avg_application_amount                 118277 non-null  float64\n",
      " 37   R_min_amount                             118277 non-null  float64\n",
      " 38   Number_of_Approved                       337698 non-null  float64\n",
      " 39   P_max_amount                             337698 non-null  float64\n",
      " 40   P_Total_historical_application           337698 non-null  float64\n",
      " 41   P_avg_application_amount                 337698 non-null  float64\n",
      " 42   P_max_AMT_CREDIT                         337698 non-null  float64\n",
      " 43   P_Total_AMT_CREDIT_application           337698 non-null  float64\n",
      " 44   P_avg_application_AMT_CREDIT             337698 non-null  float64\n",
      " 45   Difference_total                         337698 non-null  float64\n",
      " 46   Difference_max                           337698 non-null  float64\n",
      " 47   Pass_rate                                117573 non-null  float64\n",
      " 48   90D_Number_of_Refused                    6924 non-null    float64\n",
      " 49   90D_R_Total_historical_application       6924 non-null    float64\n",
      " 50   90D_R_avg_application_amount             118277 non-null  float64\n",
      " 51   90D_R_min_amount                         6924 non-null    float64\n",
      " 52   90D_Number_of_Approved                   22048 non-null   float64\n",
      " 53   90D_P_max_amount                         22048 non-null   float64\n",
      " 54   90D_P_Total_historical_application       22048 non-null   float64\n",
      " 55   90D_P_avg_application_amount             337698 non-null  float64\n",
      " 56   90D_P_max_AMT_CREDIT                     22048 non-null   float64\n",
      " 57   90D_P_Total_AMT_CREDIT_application       22048 non-null   float64\n",
      " 58   90D_P_avg_application_AMT_CREDIT         337698 non-null  float64\n",
      " 59   90D_Difference_total                     337698 non-null  float64\n",
      " 60   90D_Difference_max                       337698 non-null  float64\n",
      " 61   90D_Number_of_historical_applications    27520 non-null   float64\n",
      " 62   90D_Total_historical_application         27520 non-null   float64\n",
      " 63   90D_Total_historical                     27520 non-null   float64\n",
      " 64   90D_avg_application_amount               338402 non-null  float64\n",
      " 65   90D_avg_amount                           338402 non-null  float64\n",
      " 66   90D_NAME_CASH_LOAN_PURPOSE_MAX           27520 non-null   object \n",
      " 67   90D_CODE_REJECT_REASON_MAX               27520 non-null   object \n",
      " 68   90D_NAME_PORTFOLIO_MAX                   27520 non-null   object \n",
      " 69   90D_CNT_PAYMENT_MAX                      27520 non-null   float64\n",
      " 70   90D_CNT_PAYMENT_AVG                      27520 non-null   float64\n",
      " 71   90D_CNT_PAYMENT_MIN                      27520 non-null   float64\n",
      " 72   90D_CNT_PAYMENT_SUM                      27520 non-null   float64\n",
      " 73   90D_NAME_YIELD_GROUP_MAX                 27520 non-null   object \n",
      " 74   280D_Number_of_Refused                   41911 non-null   float64\n",
      " 75   280D_R_Total_historical_application      41911 non-null   float64\n",
      " 76   280D_R_avg_application_amount            118277 non-null  float64\n",
      " 77   280D_R_min_amount                        41911 non-null   float64\n",
      " 78   280D_Number_of_Approved                  100810 non-null  float64\n",
      " 79   280D_P_max_amount                        100810 non-null  float64\n",
      " 80   280D_P_Total_historical_application      100810 non-null  float64\n",
      " 81   280D_P_avg_application_amount            337698 non-null  float64\n",
      " 82   280D_P_max_AMT_CREDIT                    100810 non-null  float64\n",
      " 83   280D_P_Total_AMT_CREDIT_application      100810 non-null  float64\n",
      " 84   280D_P_avg_application_AMT_CREDIT        337698 non-null  float64\n",
      " 85   280D_Difference_total                    337698 non-null  float64\n",
      " 86   280D_Difference_max                      337698 non-null  float64\n",
      " 87   280D_Number_of_historical_applications   123965 non-null  float64\n",
      " 88   280D_Total_historical_application        123965 non-null  float64\n",
      " 89   280D_Total_historical                    123965 non-null  float64\n",
      " 90   280D_avg_application_amount              338402 non-null  float64\n",
      " 91   280D_avg_amount                          338402 non-null  float64\n",
      " 92   280D_NAME_CASH_LOAN_PURPOSE_MAX          123965 non-null  object \n",
      " 93   280D_CODE_REJECT_REASON_MAX              123965 non-null  object \n",
      " 94   280D_NAME_PORTFOLIO_MAX                  123965 non-null  object \n",
      " 95   280D_CNT_PAYMENT_MAX                     123965 non-null  float64\n",
      " 96   280D_CNT_PAYMENT_AVG                     123965 non-null  float64\n",
      " 97   280D_CNT_PAYMENT_MIN                     123965 non-null  float64\n",
      " 98   280D_CNT_PAYMENT_SUM                     123965 non-null  float64\n",
      " 99   280D_NAME_YIELD_GROUP_MAX                123965 non-null  object \n",
      " 100  581D_Number_of_Refused                   74031 non-null   float64\n",
      " 101  581D_R_Total_historical_application      74031 non-null   float64\n",
      " 102  581D_R_avg_application_amount            118277 non-null  float64\n",
      " 103  581D_R_min_amount                        74031 non-null   float64\n",
      " 104  581D_Number_of_Approved                  215698 non-null  float64\n",
      " 105  581D_P_max_amount                        215698 non-null  float64\n",
      " 106  581D_P_Total_historical_application      215698 non-null  float64\n",
      " 107  581D_P_avg_application_amount            337698 non-null  float64\n",
      " 108  581D_P_max_AMT_CREDIT                    215698 non-null  float64\n",
      " 109  581D_P_Total_AMT_CREDIT_application      215698 non-null  float64\n",
      " 110  581D_P_avg_application_AMT_CREDIT        337698 non-null  float64\n",
      " 111  581D_Difference_total                    337698 non-null  float64\n",
      " 112  581D_Difference_max                      337698 non-null  float64\n",
      " 113  581D_Number_of_historical_applications   232273 non-null  float64\n",
      " 114  581D_Total_historical_application        232273 non-null  float64\n",
      " 115  581D_Total_historical                    232273 non-null  float64\n",
      " 116  581D_avg_application_amount              338402 non-null  float64\n",
      " 117  581D_avg_amount                          338402 non-null  float64\n",
      " 118  581D_NAME_CASH_LOAN_PURPOSE_MAX          232273 non-null  object \n",
      " 119  581D_CODE_REJECT_REASON_MAX              232273 non-null  object \n",
      " 120  581D_NAME_PORTFOLIO_MAX                  232273 non-null  object \n",
      " 121  581D_CNT_PAYMENT_MAX                     232273 non-null  float64\n",
      " 122  581D_CNT_PAYMENT_AVG                     232273 non-null  float64\n",
      " 123  581D_CNT_PAYMENT_MIN                     232273 non-null  float64\n",
      " 124  581D_CNT_PAYMENT_SUM                     232273 non-null  float64\n",
      " 125  581D_NAME_YIELD_GROUP_MAX                232273 non-null  object \n",
      " 126  1300D_Number_of_Refused                  96024 non-null   float64\n",
      " 127  1300D_R_Total_historical_application     96024 non-null   float64\n",
      " 128  1300D_R_avg_application_amount           118277 non-null  float64\n",
      " 129  1300D_R_min_amount                       96024 non-null   float64\n",
      " 130  1300D_Number_of_Approved                 303886 non-null  float64\n",
      " 131  1300D_P_max_amount                       303886 non-null  float64\n",
      " 132  1300D_P_Total_historical_application     303886 non-null  float64\n",
      " 133  1300D_P_avg_application_amount           337698 non-null  float64\n",
      " 134  1300D_P_max_AMT_CREDIT                   303886 non-null  float64\n",
      " 135  1300D_P_Total_AMT_CREDIT_application     303886 non-null  float64\n",
      " 136  1300D_P_avg_application_AMT_CREDIT       337698 non-null  float64\n",
      " 137  1300D_Difference_total                   337698 non-null  float64\n",
      " 138  1300D_Difference_max                     337698 non-null  float64\n",
      " 139  1300D_Number_of_historical_applications  307409 non-null  float64\n",
      " 140  1300D_Total_historical_application       307409 non-null  float64\n",
      " 141  1300D_Total_historical                   307409 non-null  float64\n",
      " 142  1300D_avg_application_amount             338402 non-null  float64\n",
      " 143  1300D_avg_amount                         338402 non-null  float64\n",
      " 144  1300D_NAME_CASH_LOAN_PURPOSE_MAX         307409 non-null  object \n",
      " 145  1300D_CODE_REJECT_REASON_MAX             307409 non-null  object \n",
      " 146  1300D_NAME_PORTFOLIO_MAX                 307409 non-null  object \n",
      " 147  1300D_CNT_PAYMENT_MAX                    307409 non-null  float64\n",
      " 148  1300D_CNT_PAYMENT_AVG                    307409 non-null  float64\n",
      " 149  1300D_CNT_PAYMENT_MIN                    307409 non-null  float64\n",
      " 150  1300D_CNT_PAYMENT_SUM                    307409 non-null  float64\n",
      " 151  1300D_NAME_YIELD_GROUP_MAX               307409 non-null  object \n",
      "dtypes: float64(130), int64(2), object(20)\n",
      "memory usage: 392.4+ MB\n"
     ]
    }
   ],
   "source": [
    "previous_application_ft_de.info(verbose=True,show_counts=True)"
   ],
   "metadata": {
    "collapsed": false,
    "ExecuteTime": {
     "end_time": "2025-08-25T09:58:51.154188700Z",
     "start_time": "2025-08-25T09:58:50.467883700Z"
    }
   },
   "id": "21dc8239746cf611"
  },
  {
   "cell_type": "code",
   "execution_count": 126,
   "outputs": [
    {
     "data": {
      "text/plain": "   SK_ID_CURR      max2      min2       max       min\n0      100001   24835.5   24835.5   24835.5   24835.5\n1      100002  179055.0  179055.0  179055.0  179055.0\n2      100003  900000.0   68809.5  900000.0   68809.5\n3      100004   24282.0   24282.0   24282.0   24282.0\n4      100005   44617.5       0.0   44617.5   44617.5",
      "text/html": "<div>\n<style scoped>\n    .dataframe tbody tr th:only-of-type {\n        vertical-align: middle;\n    }\n\n    .dataframe tbody tr th {\n        vertical-align: top;\n    }\n\n    .dataframe thead th {\n        text-align: right;\n    }\n</style>\n<table border=\"1\" class=\"dataframe\">\n  <thead>\n    <tr style=\"text-align: right;\">\n      <th></th>\n      <th>SK_ID_CURR</th>\n      <th>max2</th>\n      <th>min2</th>\n      <th>max</th>\n      <th>min</th>\n    </tr>\n  </thead>\n  <tbody>\n    <tr>\n      <th>0</th>\n      <td>100001</td>\n      <td>24835.5</td>\n      <td>24835.5</td>\n      <td>24835.5</td>\n      <td>24835.5</td>\n    </tr>\n    <tr>\n      <th>1</th>\n      <td>100002</td>\n      <td>179055.0</td>\n      <td>179055.0</td>\n      <td>179055.0</td>\n      <td>179055.0</td>\n    </tr>\n    <tr>\n      <th>2</th>\n      <td>100003</td>\n      <td>900000.0</td>\n      <td>68809.5</td>\n      <td>900000.0</td>\n      <td>68809.5</td>\n    </tr>\n    <tr>\n      <th>3</th>\n      <td>100004</td>\n      <td>24282.0</td>\n      <td>24282.0</td>\n      <td>24282.0</td>\n      <td>24282.0</td>\n    </tr>\n    <tr>\n      <th>4</th>\n      <td>100005</td>\n      <td>44617.5</td>\n      <td>0.0</td>\n      <td>44617.5</td>\n      <td>44617.5</td>\n    </tr>\n  </tbody>\n</table>\n</div>"
     },
     "execution_count": 126,
     "metadata": {},
     "output_type": "execute_result"
    }
   ],
   "source": [
    "pp=pd.DataFrame()\n",
    "previous_application_ft_p = previous_application_ft[previous_application_ft['NAME_CONTRACT_STATUS']=='Approved']\n",
    "\n",
    "pp['max2']= previous_application_ft.groupby('SK_ID_CURR')['AMT_APPLICATION'].max()\n",
    "pp['min2']= previous_application_ft.groupby('SK_ID_CURR')['AMT_APPLICATION'].min()\n",
    "pp['max']= previous_application_ft_p.groupby('SK_ID_CURR')['AMT_APPLICATION'].max()\n",
    "pp['min']= previous_application_ft_p.groupby('SK_ID_CURR')['AMT_APPLICATION'].min()\n",
    "pp = pp.reset_index()\n",
    "pp.head()\n"
   ],
   "metadata": {
    "collapsed": false,
    "ExecuteTime": {
     "end_time": "2025-08-25T09:21:18.759676100Z",
     "start_time": "2025-08-25T09:21:17.975270400Z"
    }
   },
   "id": "64ab18b489dcb45d"
  },
  {
   "cell_type": "code",
   "execution_count": 99,
   "outputs": [
    {
     "ename": "KeyError",
     "evalue": "'SK_ID_CURR'",
     "output_type": "error",
     "traceback": [
      "\u001B[1;31m---------------------------------------------------------------------------\u001B[0m",
      "\u001B[1;31mKeyError\u001B[0m                                  Traceback (most recent call last)",
      "File \u001B[1;32mI:\\PYTHON\\Anaconda3\\Lib\\site-packages\\pandas\\core\\indexes\\base.py:3802\u001B[0m, in \u001B[0;36mIndex.get_loc\u001B[1;34m(self, key, method, tolerance)\u001B[0m\n\u001B[0;32m   3801\u001B[0m \u001B[38;5;28;01mtry\u001B[39;00m:\n\u001B[1;32m-> 3802\u001B[0m     \u001B[38;5;28;01mreturn\u001B[39;00m \u001B[38;5;28mself\u001B[39m\u001B[38;5;241m.\u001B[39m_engine\u001B[38;5;241m.\u001B[39mget_loc(casted_key)\n\u001B[0;32m   3803\u001B[0m \u001B[38;5;28;01mexcept\u001B[39;00m \u001B[38;5;167;01mKeyError\u001B[39;00m \u001B[38;5;28;01mas\u001B[39;00m err:\n",
      "File \u001B[1;32mI:\\PYTHON\\Anaconda3\\Lib\\site-packages\\pandas\\_libs\\index.pyx:138\u001B[0m, in \u001B[0;36mpandas._libs.index.IndexEngine.get_loc\u001B[1;34m()\u001B[0m\n",
      "File \u001B[1;32mI:\\PYTHON\\Anaconda3\\Lib\\site-packages\\pandas\\_libs\\index.pyx:165\u001B[0m, in \u001B[0;36mpandas._libs.index.IndexEngine.get_loc\u001B[1;34m()\u001B[0m\n",
      "File \u001B[1;32mpandas\\_libs\\hashtable_class_helper.pxi:5745\u001B[0m, in \u001B[0;36mpandas._libs.hashtable.PyObjectHashTable.get_item\u001B[1;34m()\u001B[0m\n",
      "File \u001B[1;32mpandas\\_libs\\hashtable_class_helper.pxi:5753\u001B[0m, in \u001B[0;36mpandas._libs.hashtable.PyObjectHashTable.get_item\u001B[1;34m()\u001B[0m\n",
      "\u001B[1;31mKeyError\u001B[0m: 'SK_ID_CURR'",
      "\nThe above exception was the direct cause of the following exception:\n",
      "\u001B[1;31mKeyError\u001B[0m                                  Traceback (most recent call last)",
      "Cell \u001B[1;32mIn[99], line 1\u001B[0m\n\u001B[1;32m----> 1\u001B[0m pp[pp[\u001B[38;5;124m'\u001B[39m\u001B[38;5;124mSK_ID_CURR\u001B[39m\u001B[38;5;124m'\u001B[39m]\u001B[38;5;241m==\u001B[39m\u001B[38;5;241m271877\u001B[39m]\n",
      "File \u001B[1;32mI:\\PYTHON\\Anaconda3\\Lib\\site-packages\\pandas\\core\\frame.py:3807\u001B[0m, in \u001B[0;36mDataFrame.__getitem__\u001B[1;34m(self, key)\u001B[0m\n\u001B[0;32m   3805\u001B[0m \u001B[38;5;28;01mif\u001B[39;00m \u001B[38;5;28mself\u001B[39m\u001B[38;5;241m.\u001B[39mcolumns\u001B[38;5;241m.\u001B[39mnlevels \u001B[38;5;241m>\u001B[39m \u001B[38;5;241m1\u001B[39m:\n\u001B[0;32m   3806\u001B[0m     \u001B[38;5;28;01mreturn\u001B[39;00m \u001B[38;5;28mself\u001B[39m\u001B[38;5;241m.\u001B[39m_getitem_multilevel(key)\n\u001B[1;32m-> 3807\u001B[0m indexer \u001B[38;5;241m=\u001B[39m \u001B[38;5;28mself\u001B[39m\u001B[38;5;241m.\u001B[39mcolumns\u001B[38;5;241m.\u001B[39mget_loc(key)\n\u001B[0;32m   3808\u001B[0m \u001B[38;5;28;01mif\u001B[39;00m is_integer(indexer):\n\u001B[0;32m   3809\u001B[0m     indexer \u001B[38;5;241m=\u001B[39m [indexer]\n",
      "File \u001B[1;32mI:\\PYTHON\\Anaconda3\\Lib\\site-packages\\pandas\\core\\indexes\\base.py:3804\u001B[0m, in \u001B[0;36mIndex.get_loc\u001B[1;34m(self, key, method, tolerance)\u001B[0m\n\u001B[0;32m   3802\u001B[0m     \u001B[38;5;28;01mreturn\u001B[39;00m \u001B[38;5;28mself\u001B[39m\u001B[38;5;241m.\u001B[39m_engine\u001B[38;5;241m.\u001B[39mget_loc(casted_key)\n\u001B[0;32m   3803\u001B[0m \u001B[38;5;28;01mexcept\u001B[39;00m \u001B[38;5;167;01mKeyError\u001B[39;00m \u001B[38;5;28;01mas\u001B[39;00m err:\n\u001B[1;32m-> 3804\u001B[0m     \u001B[38;5;28;01mraise\u001B[39;00m \u001B[38;5;167;01mKeyError\u001B[39;00m(key) \u001B[38;5;28;01mfrom\u001B[39;00m \u001B[38;5;21;01merr\u001B[39;00m\n\u001B[0;32m   3805\u001B[0m \u001B[38;5;28;01mexcept\u001B[39;00m \u001B[38;5;167;01mTypeError\u001B[39;00m:\n\u001B[0;32m   3806\u001B[0m     \u001B[38;5;66;03m# If we have a listlike key, _check_indexing_error will raise\u001B[39;00m\n\u001B[0;32m   3807\u001B[0m     \u001B[38;5;66;03m#  InvalidIndexError. Otherwise we fall through and re-raise\u001B[39;00m\n\u001B[0;32m   3808\u001B[0m     \u001B[38;5;66;03m#  the TypeError.\u001B[39;00m\n\u001B[0;32m   3809\u001B[0m     \u001B[38;5;28mself\u001B[39m\u001B[38;5;241m.\u001B[39m_check_indexing_error(key)\n",
      "\u001B[1;31mKeyError\u001B[0m: 'SK_ID_CURR'"
     ]
    }
   ],
   "source": [
    "pp[pp['SK_ID_CURR']==271877]"
   ],
   "metadata": {
    "collapsed": false,
    "ExecuteTime": {
     "end_time": "2025-08-25T08:50:46.170522100Z",
     "start_time": "2025-08-25T08:50:46.134297900Z"
    }
   },
   "id": "4abc8ce72886e8c"
  },
  {
   "cell_type": "code",
   "execution_count": 6,
   "outputs": [],
   "source": [
    "x=df_ft.drop(['TARGET'],axis=1)\n",
    "y=df_ft['TARGET']"
   ],
   "metadata": {
    "collapsed": false,
    "ExecuteTime": {
     "end_time": "2025-08-24T04:39:09.517427300Z",
     "start_time": "2025-08-24T04:39:09.408986600Z"
    }
   },
   "id": "2014184ef2a505da"
  },
  {
   "cell_type": "code",
   "execution_count": 7,
   "outputs": [
    {
     "data": {
      "text/plain": "        SK_ID_CURR  CNT_CHILDREN  DAYS_BIRTH  DAYS_EMPLOYED  DAYS_ID_PUBLISH  \\\n111026      228804             0      -15143        -4129.0            -4900   \n111731      229621             1      -12028         -866.0            -4094   \n71962       183452             0      -19007        -3401.0            -2542   \n262442      403830             1      -10491        -3473.0            -3154   \n285962      431192             0      -24047           -1.0            -4561   \n\n        FLAG_MOBIL  FLAG_EMP_PHONE  FLAG_WORK_PHONE  FLAG_CONT_MOBILE  \\\n111026           1               1                0                 1   \n111731           1               1                0                 1   \n71962            1               1                0                 1   \n262442           1               1                0                 1   \n285962           1               0                0                 1   \n\n        FLAG_PHONE  ...  ORGANIZATION_TYPE  FONDKAPREMONT_MODE  \\\n111026           0  ...      Self-employed                  -1   \n111731           0  ...  Transport: type 2    reg oper account   \n71962            0  ...      Self-employed                  -1   \n262442           0  ...      Trade: type 7                  -1   \n285962           0  ...                 -1    reg oper account   \n\n        HOUSETYPE_MODE  WALLSMATERIAL_MODE  EMERGENCYSTATE_MODE  \\\n111026              -1                  -1                   -1   \n111731  block of flats               Panel                   No   \n71962               -1                  -1                   -1   \n262442  block of flats        Stone, brick                   No   \n285962  block of flats        Stone, brick                   No   \n\n        DAYS_EMPLOYED_PERC  INCOME_CREDIT_PERC  INCOME_PER_PERSON  \\\n111026            0.272667            0.413551           112500.0   \n111731            0.071999            0.186211           112500.0   \n71962             0.178934            0.487031            78750.0   \n262442            0.331046            0.666667           225000.0   \n285962            0.000042            0.655141           162000.0   \n\n        ANNUITY_INCOME_PERC  PAYMENT_RATE  \n111026             0.113300      0.046855  \n111731             0.157400      0.029310  \n71962              0.123086      0.059947  \n262442             0.075000      0.050000  \n285962             0.107028      0.070118  \n\n[5 rows x 126 columns]",
      "text/html": "<div>\n<style scoped>\n    .dataframe tbody tr th:only-of-type {\n        vertical-align: middle;\n    }\n\n    .dataframe tbody tr th {\n        vertical-align: top;\n    }\n\n    .dataframe thead th {\n        text-align: right;\n    }\n</style>\n<table border=\"1\" class=\"dataframe\">\n  <thead>\n    <tr style=\"text-align: right;\">\n      <th></th>\n      <th>SK_ID_CURR</th>\n      <th>CNT_CHILDREN</th>\n      <th>DAYS_BIRTH</th>\n      <th>DAYS_EMPLOYED</th>\n      <th>DAYS_ID_PUBLISH</th>\n      <th>FLAG_MOBIL</th>\n      <th>FLAG_EMP_PHONE</th>\n      <th>FLAG_WORK_PHONE</th>\n      <th>FLAG_CONT_MOBILE</th>\n      <th>FLAG_PHONE</th>\n      <th>...</th>\n      <th>ORGANIZATION_TYPE</th>\n      <th>FONDKAPREMONT_MODE</th>\n      <th>HOUSETYPE_MODE</th>\n      <th>WALLSMATERIAL_MODE</th>\n      <th>EMERGENCYSTATE_MODE</th>\n      <th>DAYS_EMPLOYED_PERC</th>\n      <th>INCOME_CREDIT_PERC</th>\n      <th>INCOME_PER_PERSON</th>\n      <th>ANNUITY_INCOME_PERC</th>\n      <th>PAYMENT_RATE</th>\n    </tr>\n  </thead>\n  <tbody>\n    <tr>\n      <th>111026</th>\n      <td>228804</td>\n      <td>0</td>\n      <td>-15143</td>\n      <td>-4129.0</td>\n      <td>-4900</td>\n      <td>1</td>\n      <td>1</td>\n      <td>0</td>\n      <td>1</td>\n      <td>0</td>\n      <td>...</td>\n      <td>Self-employed</td>\n      <td>-1</td>\n      <td>-1</td>\n      <td>-1</td>\n      <td>-1</td>\n      <td>0.272667</td>\n      <td>0.413551</td>\n      <td>112500.0</td>\n      <td>0.113300</td>\n      <td>0.046855</td>\n    </tr>\n    <tr>\n      <th>111731</th>\n      <td>229621</td>\n      <td>1</td>\n      <td>-12028</td>\n      <td>-866.0</td>\n      <td>-4094</td>\n      <td>1</td>\n      <td>1</td>\n      <td>0</td>\n      <td>1</td>\n      <td>0</td>\n      <td>...</td>\n      <td>Transport: type 2</td>\n      <td>reg oper account</td>\n      <td>block of flats</td>\n      <td>Panel</td>\n      <td>No</td>\n      <td>0.071999</td>\n      <td>0.186211</td>\n      <td>112500.0</td>\n      <td>0.157400</td>\n      <td>0.029310</td>\n    </tr>\n    <tr>\n      <th>71962</th>\n      <td>183452</td>\n      <td>0</td>\n      <td>-19007</td>\n      <td>-3401.0</td>\n      <td>-2542</td>\n      <td>1</td>\n      <td>1</td>\n      <td>0</td>\n      <td>1</td>\n      <td>0</td>\n      <td>...</td>\n      <td>Self-employed</td>\n      <td>-1</td>\n      <td>-1</td>\n      <td>-1</td>\n      <td>-1</td>\n      <td>0.178934</td>\n      <td>0.487031</td>\n      <td>78750.0</td>\n      <td>0.123086</td>\n      <td>0.059947</td>\n    </tr>\n    <tr>\n      <th>262442</th>\n      <td>403830</td>\n      <td>1</td>\n      <td>-10491</td>\n      <td>-3473.0</td>\n      <td>-3154</td>\n      <td>1</td>\n      <td>1</td>\n      <td>0</td>\n      <td>1</td>\n      <td>0</td>\n      <td>...</td>\n      <td>Trade: type 7</td>\n      <td>-1</td>\n      <td>block of flats</td>\n      <td>Stone, brick</td>\n      <td>No</td>\n      <td>0.331046</td>\n      <td>0.666667</td>\n      <td>225000.0</td>\n      <td>0.075000</td>\n      <td>0.050000</td>\n    </tr>\n    <tr>\n      <th>285962</th>\n      <td>431192</td>\n      <td>0</td>\n      <td>-24047</td>\n      <td>-1.0</td>\n      <td>-4561</td>\n      <td>1</td>\n      <td>0</td>\n      <td>0</td>\n      <td>1</td>\n      <td>0</td>\n      <td>...</td>\n      <td>-1</td>\n      <td>reg oper account</td>\n      <td>block of flats</td>\n      <td>Stone, brick</td>\n      <td>No</td>\n      <td>0.000042</td>\n      <td>0.655141</td>\n      <td>162000.0</td>\n      <td>0.107028</td>\n      <td>0.070118</td>\n    </tr>\n  </tbody>\n</table>\n<p>5 rows × 126 columns</p>\n</div>"
     },
     "execution_count": 7,
     "metadata": {},
     "output_type": "execute_result"
    }
   ],
   "source": [
    "from sklearn.model_selection import train_test_split\n",
    "x_train,x_test,y_train,y_test = train_test_split(x,y,test_size=0.2,random_state=22)\n",
    "x_train.head()"
   ],
   "metadata": {
    "collapsed": false,
    "ExecuteTime": {
     "end_time": "2025-08-24T04:39:09.977019800Z",
     "start_time": "2025-08-24T04:39:09.519428Z"
    }
   },
   "id": "c177ea932a3a832f"
  },
  {
   "cell_type": "code",
   "execution_count": 46,
   "outputs": [
    {
     "data": {
      "text/plain": "1"
     },
     "execution_count": 46,
     "metadata": {},
     "output_type": "execute_result"
    }
   ],
   "source": [
    "df_ft['SK_ID_CURR'].value_counts().max()"
   ],
   "metadata": {
    "collapsed": false,
    "ExecuteTime": {
     "end_time": "2025-08-24T07:53:59.690086600Z",
     "start_time": "2025-08-24T07:53:59.673036300Z"
    }
   },
   "id": "727032902bac2009"
  },
  {
   "cell_type": "code",
   "execution_count": 17,
   "outputs": [],
   "source": [
    "import toad\n",
    "c = toad.transform.Combiner()\n",
    "c.fit(x_train,y_train,method='chi',min_samples=0.05)\n",
    "transer = toad.transform.WOETransformer()\n",
    "\n"
   ],
   "metadata": {
    "collapsed": false,
    "ExecuteTime": {
     "end_time": "2025-08-24T05:17:58.832886400Z",
     "start_time": "2025-08-24T05:05:54.963648Z"
    }
   },
   "id": "af7db2c8fb09b384"
  },
  {
   "cell_type": "code",
   "execution_count": 18,
   "outputs": [],
   "source": [
    "x_train_woe = transer.fit_transform(c.transform(x_train),y_train,exclude=['SK_ID_CURR'])\n",
    "x_test_woe = transer.transform(c.transform(x_test))"
   ],
   "metadata": {
    "collapsed": false,
    "ExecuteTime": {
     "end_time": "2025-08-24T06:15:10.478381700Z",
     "start_time": "2025-08-24T06:15:02.040052600Z"
    }
   },
   "id": "88a44ab481543c10"
  },
  {
   "cell_type": "code",
   "execution_count": 19,
   "outputs": [
    {
     "name": "stdout",
     "output_type": "stream",
     "text": [
      "<class 'pandas.core.series.Series'>\n",
      "Int64Index: 246008 entries, 111026 to 252036\n",
      "Series name: TARGET\n",
      "Non-Null Count   Dtype\n",
      "--------------   -----\n",
      "246008 non-null  int64\n",
      "dtypes: int64(1)\n",
      "memory usage: 3.8 MB\n"
     ]
    }
   ],
   "source": [
    "y_train.info()"
   ],
   "metadata": {
    "collapsed": false,
    "ExecuteTime": {
     "end_time": "2025-08-24T06:45:24.173369Z",
     "start_time": "2025-08-24T06:45:24.157454700Z"
    }
   },
   "id": "2f086c9b80215f32"
  },
  {
   "cell_type": "code",
   "execution_count": 20,
   "outputs": [
    {
     "name": "stdout",
     "output_type": "stream",
     "text": [
      "保留特征: 11 缺失删除: 0 低iv删除： 114 高相关删除： 1\n"
     ]
    },
    {
     "data": {
      "text/plain": "(246008, 11)"
     },
     "execution_count": 20,
     "metadata": {},
     "output_type": "execute_result"
    }
   ],
   "source": [
    "x_train_woe_stp,drop_list = toad.selection.select(x_train_woe,\n",
    "target=y_train,\n",
    "                                                  empty=0.5,\n",
    "                                                  iv=0.05,\n",
    "                                                  corr=0.7,\n",
    "                                                  return_drop=True)\n",
    "print('保留特征:',x_train_woe_stp.shape[1],'缺失删除:',len(drop_list['empty']),'低iv删除：',len(drop_list['iv']),'高相关删除：',len(drop_list['corr']))\n",
    "x_train_woe_stp.shape"
   ],
   "metadata": {
    "collapsed": false,
    "ExecuteTime": {
     "end_time": "2025-08-24T06:45:30.363293900Z",
     "start_time": "2025-08-24T06:45:28.373411800Z"
    }
   },
   "id": "cc547aa47948757"
  },
  {
   "cell_type": "code",
   "execution_count": 22,
   "outputs": [],
   "source": [
    "x_test_woe_stp = x_test_woe[x_train_woe_stp.columns]\n"
   ],
   "metadata": {
    "collapsed": false,
    "ExecuteTime": {
     "end_time": "2025-08-24T06:46:10.687463Z",
     "start_time": "2025-08-24T06:46:10.644926500Z"
    }
   },
   "id": "fd9316a9206a0d72"
  },
  {
   "cell_type": "code",
   "execution_count": 23,
   "outputs": [
    {
     "name": "stdout",
     "output_type": "stream",
     "text": [
      "<class 'pandas.core.frame.DataFrame'>\n",
      "Int64Index: 61503 entries, 83449 to 225618\n",
      "Data columns (total 11 columns):\n",
      " #   Column                       Non-Null Count  Dtype  \n",
      "---  ------                       --------------  -----  \n",
      " 0   DAYS_BIRTH                   61503 non-null  float64\n",
      " 1   DAYS_EMPLOYED                61503 non-null  float64\n",
      " 2   REGION_RATING_CLIENT_W_CITY  61503 non-null  float64\n",
      " 3   AMT_GOODS_PRICE              61503 non-null  float64\n",
      " 4   EXT_SOURCE_1                 61503 non-null  float64\n",
      " 5   EXT_SOURCE_2                 61503 non-null  float64\n",
      " 6   EXT_SOURCE_3                 61503 non-null  float64\n",
      " 7   NAME_INCOME_TYPE             61503 non-null  float64\n",
      " 8   OCCUPATION_TYPE              61503 non-null  float64\n",
      " 9   ORGANIZATION_TYPE            61503 non-null  float64\n",
      " 10  PAYMENT_RATE                 61503 non-null  float64\n",
      "dtypes: float64(11)\n",
      "memory usage: 5.6 MB\n"
     ]
    }
   ],
   "source": [
    "x_test_woe_stp.info()"
   ],
   "metadata": {
    "collapsed": false,
    "ExecuteTime": {
     "end_time": "2025-08-24T06:46:32.629276700Z",
     "start_time": "2025-08-24T06:46:32.622739100Z"
    }
   },
   "id": "4b64d0b286301a5d"
  },
  {
   "cell_type": "code",
   "execution_count": 32,
   "outputs": [],
   "source": [
    "def lgb_test(x_train,y_train,x_test,y_test):\n",
    "    import lightgbm as lgb\n",
    "    clf = lgb.LGBMClassifier(boosting_type='gbdt',\n",
    "                             objective='binary',\n",
    "                             metric = 'auc',\n",
    "                             learning_rate=0.1,\n",
    "                             n_estimators=24,\n",
    "                             max_depth=4,\n",
    "                             num_leaves=25,\n",
    "                             max_bin = 40,\n",
    "                             min_data_in_leaf=5,\n",
    "                             bagging_fraction=0.6,\n",
    "                             bagging_freq=0,\n",
    "                             feature_fraction=0.8)\n",
    "    clf.fit(x_train,y_train,eval_set=[(x_train,y_train),(x_test,y_test)],eval_metric = 'auc')\n",
    "    return clf,clf.best_score_['valid_1']['auc']"
   ],
   "metadata": {
    "collapsed": false,
    "ExecuteTime": {
     "end_time": "2025-08-24T07:12:56.592545300Z",
     "start_time": "2025-08-24T07:12:56.578501300Z"
    }
   },
   "id": "de55ae669307496"
  },
  {
   "cell_type": "code",
   "execution_count": 35,
   "outputs": [
    {
     "name": "stdout",
     "output_type": "stream",
     "text": [
      "[LightGBM] [Warning] min_data_in_leaf is set=5, min_child_samples=20 will be ignored. Current value: min_data_in_leaf=5\n",
      "[LightGBM] [Warning] feature_fraction is set=0.8, colsample_bytree=1.0 will be ignored. Current value: feature_fraction=0.8\n",
      "[LightGBM] [Warning] bagging_fraction is set=0.6, subsample=1.0 will be ignored. Current value: bagging_fraction=0.6\n",
      "[LightGBM] [Warning] bagging_freq is set=0, subsample_freq=0 will be ignored. Current value: bagging_freq=0\n",
      "[LightGBM] [Warning] min_data_in_leaf is set=5, min_child_samples=20 will be ignored. Current value: min_data_in_leaf=5\n",
      "[LightGBM] [Warning] feature_fraction is set=0.8, colsample_bytree=1.0 will be ignored. Current value: feature_fraction=0.8\n",
      "[LightGBM] [Warning] bagging_fraction is set=0.6, subsample=1.0 will be ignored. Current value: bagging_fraction=0.6\n",
      "[LightGBM] [Warning] bagging_freq is set=0, subsample_freq=0 will be ignored. Current value: bagging_freq=0\n",
      "[LightGBM] [Info] Number of positive: 19988, number of negative: 226020\n",
      "[LightGBM] [Info] Auto-choosing row-wise multi-threading, the overhead of testing was 0.001343 seconds.\n",
      "You can set `force_row_wise=true` to remove the overhead.\n",
      "And if memory is not enough, you can set `force_col_wise=true`.\n",
      "[LightGBM] [Info] Total Bins 68\n",
      "[LightGBM] [Info] Number of data points in the train set: 246008, number of used features: 11\n",
      "[LightGBM] [Warning] min_data_in_leaf is set=5, min_child_samples=20 will be ignored. Current value: min_data_in_leaf=5\n",
      "[LightGBM] [Warning] feature_fraction is set=0.8, colsample_bytree=1.0 will be ignored. Current value: feature_fraction=0.8\n",
      "[LightGBM] [Warning] bagging_fraction is set=0.6, subsample=1.0 will be ignored. Current value: bagging_fraction=0.6\n",
      "[LightGBM] [Warning] bagging_freq is set=0, subsample_freq=0 will be ignored. Current value: bagging_freq=0\n",
      "[LightGBM] [Info] [binary:BoostFromScore]: pavg=0.081249 -> initscore=-2.425491\n",
      "[LightGBM] [Info] Start training from score -2.425491\n",
      "[LightGBM] [Warning] No further splits with positive gain, best gain: -inf\n",
      "[LightGBM] [Warning] No further splits with positive gain, best gain: -inf\n",
      "[LightGBM] [Warning] No further splits with positive gain, best gain: -inf\n",
      "[LightGBM] [Warning] No further splits with positive gain, best gain: -inf\n",
      "[LightGBM] [Warning] No further splits with positive gain, best gain: -inf\n",
      "[LightGBM] [Warning] No further splits with positive gain, best gain: -inf\n",
      "[LightGBM] [Warning] No further splits with positive gain, best gain: -inf\n",
      "[LightGBM] [Warning] No further splits with positive gain, best gain: -inf\n",
      "[LightGBM] [Warning] No further splits with positive gain, best gain: -inf\n",
      "[LightGBM] [Warning] No further splits with positive gain, best gain: -inf\n",
      "[LightGBM] [Warning] No further splits with positive gain, best gain: -inf\n",
      "[LightGBM] [Warning] No further splits with positive gain, best gain: -inf\n",
      "[LightGBM] [Warning] No further splits with positive gain, best gain: -inf\n",
      "[LightGBM] [Warning] No further splits with positive gain, best gain: -inf\n",
      "[LightGBM] [Warning] No further splits with positive gain, best gain: -inf\n",
      "[LightGBM] [Warning] No further splits with positive gain, best gain: -inf\n",
      "[LightGBM] [Warning] No further splits with positive gain, best gain: -inf\n",
      "[LightGBM] [Warning] No further splits with positive gain, best gain: -inf\n",
      "[LightGBM] [Warning] No further splits with positive gain, best gain: -inf\n",
      "[LightGBM] [Warning] No further splits with positive gain, best gain: -inf\n",
      "[LightGBM] [Warning] No further splits with positive gain, best gain: -inf\n",
      "[LightGBM] [Warning] No further splits with positive gain, best gain: -inf\n",
      "[LightGBM] [Warning] No further splits with positive gain, best gain: -inf\n",
      "[LightGBM] [Warning] No further splits with positive gain, best gain: -inf\n",
      "[LightGBM] [Warning] min_data_in_leaf is set=5, min_child_samples=20 will be ignored. Current value: min_data_in_leaf=5\n",
      "[LightGBM] [Warning] feature_fraction is set=0.8, colsample_bytree=1.0 will be ignored. Current value: feature_fraction=0.8\n",
      "[LightGBM] [Warning] bagging_fraction is set=0.6, subsample=1.0 will be ignored. Current value: bagging_fraction=0.6\n",
      "[LightGBM] [Warning] bagging_freq is set=0, subsample_freq=0 will be ignored. Current value: bagging_freq=0\n"
     ]
    },
    {
     "data": {
      "text/plain": "0.018439804520722643"
     },
     "execution_count": 35,
     "metadata": {},
     "output_type": "execute_result"
    }
   ],
   "source": [
    "lgb_model,lgb_auc = lgb_test(x_train_woe_stp,y_train,x_test_woe_stp,y_test)\n",
    "sample = x_train_woe_stp.copy() \n",
    "sample['TARGET'] =y_train\n",
    "sample['pred'] = lgb_model.predict_proba(x_train_woe_stp)[:,1]\n",
    "\n",
    "sample = sample.sort_values(by=['pred'],ascending=False).reset_index()\n",
    "sample['rank'] = sample.index.values/len(sample)\n",
    "sample['pred'].min()"
   ],
   "metadata": {
    "collapsed": false,
    "ExecuteTime": {
     "end_time": "2025-08-24T07:18:14.282688700Z",
     "start_time": "2025-08-24T07:18:13.935988500Z"
    }
   },
   "id": "5ab46e82ef282183"
  },
  {
   "cell_type": "code",
   "execution_count": 36,
   "outputs": [
    {
     "data": {
      "text/plain": "(226010, 16)"
     },
     "execution_count": 36,
     "metadata": {},
     "output_type": "execute_result"
    }
   ],
   "source": [
    "def weight(x,y):\n",
    "    if x == 0 and y <0.1:\n",
    "        return 0.1\n",
    "    elif x == 1 and y >0.7:\n",
    "        return 0.1\n",
    "    else:\n",
    "        return 1\n",
    "\n",
    "sample['weight'] = sample.apply(lambda row:weight(row['TARGET'],row['rank']),axis = 1)\n",
    "#把预测相对比较准的取出来进行过采样\n",
    "smote_sample = sample[sample.weight == 1]\n",
    "x_train_woe_stp_smote = smote_sample[x_train_woe_stp.columns]\n",
    "y_train_smote = smote_sample['TARGET']\n",
    "smote_sample.shape"
   ],
   "metadata": {
    "collapsed": false,
    "ExecuteTime": {
     "end_time": "2025-08-24T07:22:39.732107400Z",
     "start_time": "2025-08-24T07:22:38.749974200Z"
    }
   },
   "id": "97cc3cabd82f3574"
  },
  {
   "cell_type": "code",
   "execution_count": 37,
   "outputs": [
    {
     "name": "stderr",
     "output_type": "stream",
     "text": [
      "I:\\PYTHON\\Anaconda3\\Lib\\site-packages\\imblearn\\over_sampling\\_smote\\base.py:336: FutureWarning: The parameter `n_jobs` has been deprecated in 0.10 and will be removed in 0.12. You can pass an nearest neighbors estimator where `n_jobs` is already set instead.\n",
      "  warnings.warn(\n"
     ]
    },
    {
     "data": {
      "text/plain": "1    207712\n0    207712\nName: TARGET, dtype: int64"
     },
     "execution_count": 37,
     "metadata": {},
     "output_type": "execute_result"
    }
   ],
   "source": [
    "def smote(train_x_smote,train_y_smote,K=15,random_state=0):\n",
    "    from imblearn.over_sampling import SMOTE\n",
    "    smote = SMOTE(k_neighbors=K, n_jobs=1,random_state=random_state)\n",
    "    #fit_resample，找K个邻居，然后进行过采样\n",
    "    rex,rey = smote.fit_resample(train_x_smote,train_y_smote)\n",
    "    return rex,rey\n",
    "rex,rey =smote(x_train_woe_stp_smote,y_train_smote)\n",
    "\n",
    "#查看数据\n",
    "rey.value_counts()"
   ],
   "metadata": {
    "collapsed": false,
    "ExecuteTime": {
     "end_time": "2025-08-24T07:23:50.518819900Z",
     "start_time": "2025-08-24T07:23:49.469169600Z"
    }
   },
   "id": "25b1f01fb485d066"
  },
  {
   "cell_type": "code",
   "execution_count": 24,
   "outputs": [],
   "source": [
    "from sklearn.metrics import roc_curve,roc_auc_score\n",
    "from sklearn.linear_model import LogisticRegression\n",
    "def lr_model(x,y,x_test,y_test,C=0.1):\n",
    "    model = LogisticRegression(C=C,class_weight='balanced')\n",
    "    model.fit(x,y)\n",
    "    \n",
    "    y_pred = model.predict_proba(x)[:,1]\n",
    "    fpr,tpr,_=roc_curve(y,y_pred)\n",
    "    x_ks = abs(fpr-tpr).max()\n",
    "    print('x_ks:',x_ks)\n",
    "    x_auc = roc_auc_score(y,y_pred)\n",
    "    print('x_auc:',x_auc)\n",
    "    \n",
    "    y_pred = model.predict_proba(x_test)[:,1]\n",
    "    fpr_test,tpr_test,_ = roc_curve(y_test,y_pred)\n",
    "    x_test_ks = abs(fpr_test-tpr_test).max()\n",
    "    print('x_test_ks:',x_test_ks)\n",
    "    x_test_auc = roc_auc_score(y_test,y_pred)\n",
    "    print('x_test_auc:',x_test_auc)\n",
    "    \n",
    "    from matplotlib import pyplot as plt\n",
    "    plt.plot(fpr,tpr,label='x')\n",
    "    plt.plot(fpr_test,tpr_test,label='x_test')\n",
    "    plt.plot([0,1],[0,1],'k--')\n",
    "    plt.xlabel('False positive rate')\n",
    "    plt.ylabel('True positive rate')\n",
    "    plt.title('ROC CURVE')\n",
    "    plt.legend(loc='best')\n",
    "    plt.show()\n",
    "\n"
   ],
   "metadata": {
    "collapsed": false,
    "ExecuteTime": {
     "end_time": "2025-08-24T06:46:42.395060600Z",
     "start_time": "2025-08-24T06:46:42.382278200Z"
    }
   },
   "id": "5ee41fb69837ce0a"
  },
  {
   "cell_type": "code",
   "execution_count": 38,
   "outputs": [
    {
     "name": "stdout",
     "output_type": "stream",
     "text": [
      "x_ks: 0.4864620243413958\n",
      "x_auc: 0.8463138314270797\n",
      "x_test_ks: 0.3553113977823665\n",
      "x_test_auc: 0.7360321904381791\n"
     ]
    },
    {
     "data": {
      "text/plain": "<Figure size 640x480 with 1 Axes>",
      "image/png": "[encoded data removed]"
     },
     "metadata": {},
     "output_type": "display_data"
    },
    {
     "data": {
      "text/plain": "<function __main__.lr_model(x, y, x_test, y_test, C=0.1)>"
     },
     "execution_count": 38,
     "metadata": {},
     "output_type": "execute_result"
    }
   ],
   "source": [
    "lr_model(rex,rey,x_test_woe_stp,y_test,C=0.1)\n",
    "lr_model"
   ],
   "metadata": {
    "collapsed": false,
    "ExecuteTime": {
     "end_time": "2025-08-24T07:25:05.544604800Z",
     "start_time": "2025-08-24T07:25:04.817750300Z"
    }
   },
   "id": "b31902650190d1f4"
  },
  {
   "cell_type": "code",
   "execution_count": null,
   "outputs": [],
   "source": [
    "# print('top 10 features with high iv')\n",
    "# display(toad.quality(application_train.drop('SK_ID_CURR',axis=1),'TARGET',iv_only=True)[:10])\n",
    "# print('last 10 features with low iv')\n",
    "# display(toad.quality(application_train.drop('SK_ID_CURR',axis=1),'TARGET',iv_only=True)[-10:])"
   ],
   "metadata": {
    "collapsed": false,
    "ExecuteTime": {
     "end_time": "2025-08-24T04:58:47.153336600Z",
     "start_time": "2025-08-24T04:58:47.150336800Z"
    }
   },
   "id": "16330cba097a3311"
  }
 ],
 "metadata": {
  "kernelspec": {
   "display_name": "Python 3",
   "language": "python",
   "name": "python3"
  },
  "language_info": {
   "codemirror_mode": {
    "name": "ipython",
    "version": 2
   },
   "file_extension": ".py",
   "mimetype": "text/x-python",
   "name": "python",
   "nbconvert_exporter": "python",
   "pygments_lexer": "ipython2",
   "version": "2.7.6"
  }
 },
 "nbformat": 4,
 "nbformat_minor": 5
}
