{
 "cells": [
  {
   "cell_type": "code",
   "execution_count": 150,
   "id": "initial_id",
   "metadata": {
    "collapsed": true,
    "ExecuteTime": {
     "end_time": "2025-08-25T10:33:31.916183900Z",
     "start_time": "2025-08-25T10:33:31.883702800Z"
    }
   },
   "outputs": [],
   "source": [
    "import pandas as pd\n",
    "import toad.transform\n",
    "\n",
    "\n",
    "def fe_application(df):\n",
    "    #上班天数比例\n",
    "    df['DAYS_EMPLOYED_PERC'] = df['DAYS_EMPLOYED'] / df['DAYS_BIRTH']\n",
    "    # 收入和授信比例\n",
    "    df['INCOME_CREDIT_PERC'] = df['AMT_INCOME_TOTAL'] / df['AMT_CREDIT']\n",
    "    # 家庭人均收入   收入/家庭人口\n",
    "    df['INCOME_PER_PERSON'] = df['AMT_INCOME_TOTAL'] / df['CNT_FAM_MEMBERS']\n",
    "    # 年金/收入 比例\n",
    "    df['ANNUITY_INCOME_PERC'] = df['AMT_ANNUITY'] / df['AMT_INCOME_TOTAL']\n",
    "    # 年金/授信比例\n",
    "    df['PAYMENT_RATE'] = df['AMT_ANNUITY'] / df['AMT_CREDIT']\n",
    "    ft_list = ['income_per_person', 'DAYS_EMPLOYED_PERC', 'INCOME_CREDIT_PERC', 'INCOME_PER_PERSON',\n",
    "               'ANNUITY_INCOME_PERC', 'PAYMENT_RATE']\n",
    "    return df, ft_list"
   ]
  },
  {
   "cell_type": "code",
   "execution_count": 151,
   "outputs": [],
   "source": [
    "import pandas as pd\n",
    "application_train_ft = pd.read_csv(r'I:\\PYTHON\\AI_datamining\\data\\processed\\application_train_cleaned.csv')\n",
    "application_train_ft, new_application_fts = fe_application(application_train_ft)\n",
    "df_ft = application_train_ft"
   ],
   "metadata": {
    "collapsed": false,
    "ExecuteTime": {
     "end_time": "2025-08-25T10:33:41.798510900Z",
     "start_time": "2025-08-25T10:33:39.730917400Z"
    }
   },
   "id": "feeee2177b16ceb"
  },
  {
   "cell_type": "code",
   "execution_count": 3,
   "outputs": [],
   "source": [
    "bureau_balance_ft = pd.read_csv(r'I:\\PYTHON\\AI_datamining\\data\\processed\\bureau_balance.csv')\n",
    "bureau_ft = pd.read_csv(r'I:\\PYTHON\\AI_datamining\\data\\processed\\bureau_cleaned.csv')\n",
    "pos_cash_balance_ft = pd.read_csv(r'I:\\PYTHON\\AI_datamining\\data\\processed\\pos_cash_balance_cleaned.csv')\n",
    "credit_card_balance_ft = pd.read_csv(r'I:\\PYTHON\\AI_datamining\\data\\processed\\credit_card_balance_cleaned.csv')\n",
    "previous_application_ft = pd.read_csv(r'I:\\PYTHON\\AI_datamining\\data\\processed\\previous_application_cleaned.csv')\n",
    "installment_payments_ft = pd.read_csv(r'I:\\PYTHON\\AI_datamining\\data\\processed\\installment_payments_cleaned.csv')"
   ],
   "metadata": {
    "collapsed": false,
    "ExecuteTime": {
     "end_time": "2025-08-25T04:02:25.032604900Z",
     "start_time": "2025-08-25T04:02:04.184896900Z"
    }
   },
   "id": "a4644747814293d9"
  },
  {
   "cell_type": "code",
   "execution_count": 130,
   "outputs": [],
   "source": [
    "def fe_previous_application_ft(df_a):\n",
    "    df_b = pd.DataFrame()\n",
    "    lists =['Unused offer','Canceled']\n",
    "    df = df_a[~df_a['NAME_CONTRACT_STATUS'].isin(lists)]\n",
    "    df_p = df_a[df_a['NAME_CONTRACT_STATUS']=='Approved']\n",
    "    df_r = df_a[df_a['NAME_CONTRACT_STATUS']=='Refused']\n",
    "\n",
    "    #历史申请次数\n",
    "    df_b['Number_of_historical_applications'] = df.groupby('SK_ID_CURR')['SK_ID_PREV'].count()\n",
    "    #历史申请总额度\n",
    "    df_b['Total_historical_application'] = df.groupby('SK_ID_CURR')['AMT_APPLICATION'].sum()\n",
    "    #历史发放总额度\n",
    "    df_b['Total_historical'] = df.groupby('SK_ID_CURR')['AMT_CREDIT'].sum()\n",
    "    #平均每次申请额度\n",
    "    df_b['avg_application_amount']=df_b['Total_historical_application']/df_b['Number_of_historical_applications']\n",
    "    #平均每次发放额度\n",
    "    df_b['avg_amount']=df_b['Total_historical']/df_b['Number_of_historical_applications']\n",
    "    #使用目的最多\n",
    "    df_b['NAME_CASH_LOAN_PURPOSE_MAX'] = df.groupby('SK_ID_CURR')['NAME_CASH_LOAN_PURPOSE'].agg(lambda x:x.value_counts().index[0])\n",
    "    #被拒绝原因最多\n",
    "    df_b['CODE_REJECT_REASON_MAX'] = df.groupby('SK_ID_CURR')['CODE_REJECT_REASON'].agg(lambda x:x.value_counts().index[0])\n",
    "    #申请贷款类型最多\n",
    "    df_b['NAME_PORTFOLIO_MAX'] = df.groupby('SK_ID_CURR')['NAME_PORTFOLIO'].agg(lambda x:x.value_counts().index[0])\n",
    "    #授信期数最多\n",
    "    df_b['CNT_PAYMENT_MAX'] =df.groupby('SK_ID_CURR')['CNT_PAYMENT'].max()\n",
    "    #授信期数平均\n",
    "    df_b['CNT_PAYMENT_AVG'] =df.groupby('SK_ID_CURR')['CNT_PAYMENT'].mean()\n",
    "    #授信期数最小\n",
    "    df_b['CNT_PAYMENT_MIN'] =df.groupby('SK_ID_CURR')['CNT_PAYMENT'].min()\n",
    "    #授信期数总数\n",
    "    df_b['CNT_PAYMENT_SUM'] =df.groupby('SK_ID_CURR')['CNT_PAYMENT'].sum()\n",
    "    #申请记录利率水平最多\n",
    "    df_b['NAME_YIELD_GROUP_MAX'] = df.groupby('SK_ID_CURR')['NAME_YIELD_GROUP'].agg(lambda x:x.value_counts().index[0])\n",
    "    #申请记录的第一次付款时间相隔天数最多\n",
    "    df_b['DAYS_FIRST_DRAWING_MAX'] =df.groupby('SK_ID_CURR')['DAYS_FIRST_DRAWING'].max()\n",
    "    #申请记录的第一次付款时间相隔天数平均\n",
    "    df_b['DAYS_FIRST_DRAWING_AVG'] =df.groupby('SK_ID_CURR')['DAYS_FIRST_DRAWING'].mean()\n",
    "    #申请记录的第一次付款时间相隔天数最小\n",
    "    df_b['DAYS_FIRST_DRAWING_MIN'] =df.groupby('SK_ID_CURR')['DAYS_FIRST_DRAWING'].min()\n",
    "    #申请记录的第一次付款时间相隔天数总数\n",
    "    df_b['DAYS_FIRST_DRAWING_SUM'] =df.groupby('SK_ID_CURR')['DAYS_FIRST_DRAWING'].sum()    \n",
    "    \n",
    "    #申请记录的首次到期时间相隔天数最多\n",
    "    df_b['DAYS_FIRST_DUE_MAX'] =df.groupby('SK_ID_CURR')['DAYS_FIRST_DUE'].max()\n",
    "    #平均\n",
    "    df_b['DAYS_FIRST_DUE_AVG'] =df.groupby('SK_ID_CURR')['DAYS_FIRST_DUE'].mean()\n",
    "    #最小\n",
    "    df_b['DAYS_FIRST_DUE_MIN'] =df.groupby('SK_ID_CURR')['DAYS_FIRST_DUE'].min()\n",
    "    #总数\n",
    "    df_b['DAYS_FIRST_DUE_SUM'] =df.groupby('SK_ID_CURR')['DAYS_FIRST_DUE'].sum()\n",
    "    \n",
    "    #申请记录的首次逾期时间相隔天数最多\n",
    "    df_b['DAYS_LAST_DUE_1ST_VERSION_MAX'] =df.groupby('SK_ID_CURR')['DAYS_LAST_DUE_1ST_VERSION'].max()\n",
    "    #平均\n",
    "    df_b['DAYS_LAST_DUE_1ST_VERSION_AVG'] =df.groupby('SK_ID_CURR')['DAYS_LAST_DUE_1ST_VERSION'].mean()\n",
    "    #最小\n",
    "    df_b['DAYS_LAST_DUE_1ST_VERSION_MIN'] =df.groupby('SK_ID_CURR')['DAYS_LAST_DUE_1ST_VERSION'].min()\n",
    "    #总数\n",
    "    df_b['DAYS_LAST_DUE_1ST_VERSION_SUM'] =df.groupby('SK_ID_CURR')['DAYS_LAST_DUE_1ST_VERSION'].sum()\n",
    "    \n",
    "    #申请记录的最后一次到期时间相隔天数最多\n",
    "    df_b['DAYS_LAST_DUE_MAX'] =df.groupby('SK_ID_CURR')['DAYS_LAST_DUE'].max()\n",
    "    #平均\n",
    "    df_b['DAYS_LAST_DUE_AVG'] =df.groupby('SK_ID_CURR')['DAYS_LAST_DUE'].mean()\n",
    "    #最小\n",
    "    df_b['DAYS_LAST_DUE_MIN'] =df.groupby('SK_ID_CURR')['DAYS_LAST_DUE'].min()\n",
    "    #总数\n",
    "    df_b['DAYS_LAST_DUE_SUM'] =df.groupby('SK_ID_CURR')['DAYS_LAST_DUE'].sum()\n",
    "    \n",
    "    #预期终止时间相隔天数最多\n",
    "    df_b['DAYS_TERMINATION_MAX'] =df.groupby('SK_ID_CURR')['DAYS_TERMINATION'].max()\n",
    "    #平均\n",
    "    df_b['DAYS_TERMINATION_AVG'] =df.groupby('SK_ID_CURR')['DAYS_TERMINATION'].mean()\n",
    "    #最小\n",
    "    df_b['DAYS_TERMINATION_MIN'] =df.groupby('SK_ID_CURR')['DAYS_TERMINATION'].min()\n",
    "    #总数\n",
    "    df_b['DAYS_TERMINATION_SUM'] =df.groupby('SK_ID_CURR')['DAYS_TERMINATION'].sum()\n",
    "    \n",
    "     #历史被拒次数\n",
    "    df_b['Number_of_Refused'] = df_r.groupby('SK_ID_CURR')['SK_ID_PREV'].count()\n",
    "    #历史被拒总金额\n",
    "    df_b['R_Total_historical_application'] = df_r.groupby('SK_ID_CURR')['AMT_APPLICATION'].sum()\n",
    "    #平均每次被拒额度\n",
    "    df_b['R_avg_application_amount']=df_b['R_Total_historical_application']/df_b['Number_of_Refused']\n",
    "    #最小被拒金额\n",
    "    df_b['R_min_amount'] = df_r.groupby('SK_ID_CURR')['AMT_APPLICATION'].min()\n",
    "    \n",
    " \n",
    "    #历史通过次数\n",
    "    df_b['Number_of_Approved'] = df_p.groupby('SK_ID_CURR')['SK_ID_PREV'].count()\n",
    "    #历史通过最大金额\n",
    "    df_b['P_max_amount'] = df_p.groupby('SK_ID_CURR')['AMT_APPLICATION'].max()\n",
    "    #历史通过总金额\n",
    "    df_b['P_Total_historical_application'] = df_p.groupby('SK_ID_CURR')['AMT_APPLICATION'].sum()   \n",
    "    #平均每次通过额度\n",
    "    df_b['P_avg_application_amount']=df_b['P_Total_historical_application']/df_b['Number_of_Approved']\n",
    "    \n",
    "    #历史实际通过最大金额\n",
    "    df_b['P_max_AMT_CREDIT'] = df_p.groupby('SK_ID_CURR')['AMT_CREDIT'].max()\n",
    "    #历史实际通过总金额\n",
    "    df_b['P_Total_AMT_CREDIT_application'] = df_p.groupby('SK_ID_CURR')['AMT_CREDIT'].sum()\n",
    "    #平均每次实际通过额度\n",
    "    df_b['P_avg_application_AMT_CREDIT']=df_b['P_Total_AMT_CREDIT_application']/df_b['Number_of_Approved']\n",
    "    \n",
    "    \n",
    "    #申请额度与实际额度差值\n",
    "    df_b['Difference_total'] = df_b['P_Total_AMT_CREDIT_application'] -df_b['P_Total_historical_application']\n",
    "      \n",
    "    ##最大申请额度与最大实际额度差值\n",
    "    df_b['Difference_max'] = df_b['P_max_AMT_CREDIT']-df_b['P_max_amount']\n",
    "    \n",
    "    #历史通过率\n",
    "    df_b['Pass_rate'] = (df_b['Number_of_Refused']+df_b['Number_of_Approved'])/df_b['Number_of_Approved']\n",
    "    \n",
    "    #距今90天内 DAYS_DECISION 距今时间\n",
    "    df = df_a[~df_a['NAME_CONTRACT_STATUS'].isin(lists)]\n",
    "    df = df[df['DAYS_DECISION']>=-90]\n",
    "\n",
    "    df_p = df_a[df_a['NAME_CONTRACT_STATUS']=='Approved']\n",
    "    df_p = df_p[df_p['DAYS_DECISION']>=-90]\n",
    "    df_r = df_a[df_a['NAME_CONTRACT_STATUS']=='Refused']\n",
    "    df_r = df_r[df_r['DAYS_DECISION']>=-90]\n",
    "    \n",
    "    #历史被拒次数\n",
    "    df_b['90D_Number_of_Refused'] = df_r.groupby('SK_ID_CURR')['SK_ID_PREV'].count()\n",
    "    #历史被拒总金额\n",
    "    df_b['90D_R_Total_historical_application'] = df_r.groupby('SK_ID_CURR')['AMT_APPLICATION'].sum()\n",
    "    #平均每次被拒额度\n",
    "    df_b['90D_R_avg_application_amount']=df_b['R_Total_historical_application']/df_b['Number_of_Refused']\n",
    "    #最小被拒金额\n",
    "    df_b['90D_R_min_amount'] = df_r.groupby('SK_ID_CURR')['AMT_APPLICATION'].min()\n",
    "    \n",
    " \n",
    "    #历史通过次数\n",
    "    df_b['90D_Number_of_Approved'] = df_p.groupby('SK_ID_CURR')['SK_ID_PREV'].count()\n",
    "    #历史通过最大金额\n",
    "    df_b['90D_P_max_amount'] = df_p.groupby('SK_ID_CURR')['AMT_APPLICATION'].max()\n",
    "    #历史通过总金额\n",
    "    df_b['90D_P_Total_historical_application'] = df_p.groupby('SK_ID_CURR')['AMT_APPLICATION'].sum()\n",
    "    #平均每次通过额度\n",
    "    df_b['90D_P_avg_application_amount']=df_b['P_Total_historical_application']/df_b['Number_of_Approved']\n",
    "    \n",
    "    #历史实际通过最大金额\n",
    "    df_b['90D_P_max_AMT_CREDIT'] = df_p.groupby('SK_ID_CURR')['AMT_CREDIT'].max()\n",
    "    #历史实际通过总金额\n",
    "    df_b['90D_P_Total_AMT_CREDIT_application'] = df_p.groupby('SK_ID_CURR')['AMT_CREDIT'].sum()\n",
    "    #平均每次实际通过额度\n",
    "    df_b['90D_P_avg_application_AMT_CREDIT']=df_b['P_Total_AMT_CREDIT_application']/df_b['Number_of_Approved']\n",
    "    \n",
    "    \n",
    "    #申请额度与实际额度差值\n",
    "    df_b['90D_Difference_total'] = df_b['P_Total_AMT_CREDIT_application'] -df_b['P_Total_historical_application']\n",
    "      \n",
    "    ##最大申请额度与最大实际额度差值\n",
    "    df_b['90D_Difference_max'] = df_b['P_max_AMT_CREDIT']-df_b['P_max_amount']\n",
    "\n",
    "    #历史申请次数\n",
    "    df_b['90D_Number_of_historical_applications'] = df.groupby('SK_ID_CURR')['SK_ID_PREV'].count()\n",
    "    #历史申请总额度\n",
    "    df_b['90D_Total_historical_application'] = df.groupby('SK_ID_CURR')['AMT_APPLICATION'].sum()\n",
    "    #历史发放总额度\n",
    "    df_b['90D_Total_historical'] = df.groupby('SK_ID_CURR')['AMT_CREDIT'].sum()\n",
    "    #平均每次申请额度\n",
    "    df_b['90D_avg_application_amount']=df_b['Total_historical_application']/df_b['Number_of_historical_applications']\n",
    "    #平均每次发放额度\n",
    "    df_b['90D_avg_amount']=df_b['Total_historical']/df_b['Number_of_historical_applications']\n",
    "    #使用目的最多\n",
    "    df_b['90D_NAME_CASH_LOAN_PURPOSE_MAX'] = df.groupby('SK_ID_CURR')['NAME_CASH_LOAN_PURPOSE'].agg(lambda x:x.value_counts().index[0])\n",
    "    #被拒绝原因最多\n",
    "    df_b['90D_CODE_REJECT_REASON_MAX'] = df.groupby('SK_ID_CURR')['CODE_REJECT_REASON'].agg(lambda x:x.value_counts().index[0])\n",
    "    #申请贷款类型最多\n",
    "    df_b['90D_NAME_PORTFOLIO_MAX'] = df.groupby('SK_ID_CURR')['NAME_PORTFOLIO'].agg(lambda x:x.value_counts().index[0])\n",
    "    #授信期数最多\n",
    "    df_b['90D_CNT_PAYMENT_MAX'] =df.groupby('SK_ID_CURR')['CNT_PAYMENT'].max()\n",
    "    #授信期数平均\n",
    "    df_b['90D_CNT_PAYMENT_AVG'] =df.groupby('SK_ID_CURR')['CNT_PAYMENT'].mean()\n",
    "    #授信期数最小\n",
    "    df_b['90D_CNT_PAYMENT_MIN'] =df.groupby('SK_ID_CURR')['CNT_PAYMENT'].min()\n",
    "    #授信期数总数\n",
    "    df_b['90D_CNT_PAYMENT_SUM'] =df.groupby('SK_ID_CURR')['CNT_PAYMENT'].sum()\n",
    "    #申请记录利率水平最多\n",
    "    df_b['90D_NAME_YIELD_GROUP_MAX'] = df.groupby('SK_ID_CURR')['NAME_YIELD_GROUP'].agg(lambda x:x.value_counts().index[0])\n",
    "\n",
    "\n",
    "    #距今280天内\n",
    "    df = df_a[~df_a['NAME_CONTRACT_STATUS'].isin(lists)]\n",
    "    df = df[df['DAYS_DECISION']>=-280]\n",
    "    \n",
    "    df_p = df_a[df_a['NAME_CONTRACT_STATUS']=='Approved']\n",
    "    df_p = df_p[df_p['DAYS_DECISION']>=-280]\n",
    "    df_r = df_a[df_a['NAME_CONTRACT_STATUS']=='Refused']\n",
    "    df_r = df_r[df_r['DAYS_DECISION']>=-280]\n",
    "    \n",
    "    #历史被拒次数\n",
    "    df_b['280D_Number_of_Refused'] = df_r.groupby('SK_ID_CURR')['SK_ID_PREV'].count()\n",
    "    #历史被拒总金额\n",
    "    df_b['280D_R_Total_historical_application'] = df_r.groupby('SK_ID_CURR')['AMT_APPLICATION'].sum()\n",
    "    #平均每次被拒额度\n",
    "    df_b['280D_R_avg_application_amount']=df_b['R_Total_historical_application']/df_b['Number_of_Refused']\n",
    "    #最小被拒金额\n",
    "    df_b['280D_R_min_amount'] = df_r.groupby('SK_ID_CURR')['AMT_APPLICATION'].min()\n",
    "    \n",
    " \n",
    "    #历史通过次数\n",
    "    df_b['280D_Number_of_Approved'] = df_p.groupby('SK_ID_CURR')['SK_ID_PREV'].count()\n",
    "    #历史通过最大金额\n",
    "    df_b['280D_P_max_amount'] = df_p.groupby('SK_ID_CURR')['AMT_APPLICATION'].max()\n",
    "    #历史通过总金额\n",
    "    df_b['280D_P_Total_historical_application'] = df_p.groupby('SK_ID_CURR')['AMT_APPLICATION'].sum()\n",
    "    #平均每次通过额度\n",
    "    df_b['280D_P_avg_application_amount']=df_b['P_Total_historical_application']/df_b['Number_of_Approved']\n",
    "    \n",
    "    #历史实际通过最大金额\n",
    "    df_b['280D_P_max_AMT_CREDIT'] = df_p.groupby('SK_ID_CURR')['AMT_CREDIT'].max()\n",
    "    #历史实际通过总金额\n",
    "    df_b['280D_P_Total_AMT_CREDIT_application'] = df_p.groupby('SK_ID_CURR')['AMT_CREDIT'].sum()\n",
    "    #平均每次实际通过额度\n",
    "    df_b['280D_P_avg_application_AMT_CREDIT']=df_b['P_Total_AMT_CREDIT_application']/df_b['Number_of_Approved']\n",
    "    \n",
    "    \n",
    "    #申请额度与实际额度差值\n",
    "    df_b['280D_Difference_total'] = df_b['P_Total_AMT_CREDIT_application'] -df_b['P_Total_historical_application']\n",
    "      \n",
    "    ##最大申请额度与最大实际额度差值\n",
    "    df_b['280D_Difference_max'] = df_b['P_max_AMT_CREDIT']-df_b['P_max_amount']\n",
    "\n",
    "    #历史申请次数\n",
    "    df_b['280D_Number_of_historical_applications'] = df.groupby('SK_ID_CURR')['SK_ID_PREV'].count()\n",
    "    #历史申请总额度\n",
    "    df_b['280D_Total_historical_application'] = df.groupby('SK_ID_CURR')['AMT_APPLICATION'].sum()\n",
    "    #历史发放总额度\n",
    "    df_b['280D_Total_historical'] = df.groupby('SK_ID_CURR')['AMT_CREDIT'].sum()\n",
    "    #平均每次申请额度\n",
    "    df_b['280D_avg_application_amount']=df_b['Total_historical_application']/df_b['Number_of_historical_applications']\n",
    "    #平均每次发放额度\n",
    "    df_b['280D_avg_amount']=df_b['Total_historical']/df_b['Number_of_historical_applications']\n",
    "    #使用目的最多\n",
    "    df_b['280D_NAME_CASH_LOAN_PURPOSE_MAX'] = df.groupby('SK_ID_CURR')['NAME_CASH_LOAN_PURPOSE'].agg(lambda x:x.value_counts().index[0])\n",
    "    #被拒绝原因最多\n",
    "    df_b['280D_CODE_REJECT_REASON_MAX'] = df.groupby('SK_ID_CURR')['CODE_REJECT_REASON'].agg(lambda x:x.value_counts().index[0])\n",
    "    #申请贷款类型最多\n",
    "    df_b['280D_NAME_PORTFOLIO_MAX'] = df.groupby('SK_ID_CURR')['NAME_PORTFOLIO'].agg(lambda x:x.value_counts().index[0])\n",
    "    #授信期数最多\n",
    "    df_b['280D_CNT_PAYMENT_MAX'] =df.groupby('SK_ID_CURR')['CNT_PAYMENT'].max()\n",
    "    #授信期数平均\n",
    "    df_b['280D_CNT_PAYMENT_AVG'] =df.groupby('SK_ID_CURR')['CNT_PAYMENT'].mean()\n",
    "    #授信期数最小\n",
    "    df_b['280D_CNT_PAYMENT_MIN'] =df.groupby('SK_ID_CURR')['CNT_PAYMENT'].min()\n",
    "    #授信期数总数\n",
    "    df_b['280D_CNT_PAYMENT_SUM'] =df.groupby('SK_ID_CURR')['CNT_PAYMENT'].sum()\n",
    "    #申请记录利率水平最多\n",
    "    df_b['280D_NAME_YIELD_GROUP_MAX'] = df.groupby('SK_ID_CURR')['NAME_YIELD_GROUP'].agg(lambda x:x.value_counts().index[0])\n",
    "    \n",
    "    #距今581天内\n",
    "    df = df_a[~df_a['NAME_CONTRACT_STATUS'].isin(lists)]\n",
    "    df = df[df['DAYS_DECISION']>=-581]\n",
    "\n",
    "    df_p = df_a[df_a['NAME_CONTRACT_STATUS']=='Approved']\n",
    "    df_p = df_p[df_p['DAYS_DECISION']>=-581]\n",
    "    df_r = df_a[df_a['NAME_CONTRACT_STATUS']=='Refused']\n",
    "    df_r = df_r[df_r['DAYS_DECISION']>=-581]\n",
    "    \n",
    "    #历史被拒次数\n",
    "    df_b['581D_Number_of_Refused'] = df_r.groupby('SK_ID_CURR')['SK_ID_PREV'].count()\n",
    "    #历史被拒总金额\n",
    "    df_b['581D_R_Total_historical_application'] = df_r.groupby('SK_ID_CURR')['AMT_APPLICATION'].sum()\n",
    "    #平均每次被拒额度\n",
    "    df_b['581D_R_avg_application_amount']=df_b['R_Total_historical_application']/df_b['Number_of_Refused']\n",
    "    #最小被拒金额\n",
    "    df_b['581D_R_min_amount'] = df_r.groupby('SK_ID_CURR')['AMT_APPLICATION'].min()\n",
    "    \n",
    " \n",
    "    #历史通过次数\n",
    "    df_b['581D_Number_of_Approved'] = df_p.groupby('SK_ID_CURR')['SK_ID_PREV'].count()\n",
    "    #历史通过最大金额\n",
    "    df_b['581D_P_max_amount'] = df_p.groupby('SK_ID_CURR')['AMT_APPLICATION'].max()\n",
    "    #历史通过总金额\n",
    "    df_b['581D_P_Total_historical_application'] = df_p.groupby('SK_ID_CURR')['AMT_APPLICATION'].sum()\n",
    "    #平均每次通过额度\n",
    "    df_b['581D_P_avg_application_amount']=df_b['P_Total_historical_application']/df_b['Number_of_Approved']\n",
    "    \n",
    "    #历史实际通过最大金额\n",
    "    df_b['581D_P_max_AMT_CREDIT'] = df_p.groupby('SK_ID_CURR')['AMT_CREDIT'].max()\n",
    "    #历史实际通过总金额\n",
    "    df_b['581D_P_Total_AMT_CREDIT_application'] = df_p.groupby('SK_ID_CURR')['AMT_CREDIT'].sum()\n",
    "    #平均每次实际通过额度\n",
    "    df_b['581D_P_avg_application_AMT_CREDIT']=df_b['P_Total_AMT_CREDIT_application']/df_b['Number_of_Approved']\n",
    "    \n",
    "    \n",
    "    #申请额度与实际额度差值\n",
    "    df_b['581D_Difference_total'] = df_b['P_Total_AMT_CREDIT_application'] -df_b['P_Total_historical_application']\n",
    "      \n",
    "    ##最大申请额度与最大实际额度差值\n",
    "    df_b['581D_Difference_max'] = df_b['P_max_AMT_CREDIT']-df_b['P_max_amount']\n",
    "\n",
    "    #历史申请次数\n",
    "    df_b['581D_Number_of_historical_applications'] = df.groupby('SK_ID_CURR')['SK_ID_PREV'].count()\n",
    "    #历史申请总额度\n",
    "    df_b['581D_Total_historical_application'] = df.groupby('SK_ID_CURR')['AMT_APPLICATION'].sum()\n",
    "    #历史发放总额度\n",
    "    df_b['581D_Total_historical'] = df.groupby('SK_ID_CURR')['AMT_CREDIT'].sum()\n",
    "    #平均每次申请额度\n",
    "    df_b['581D_avg_application_amount']=df_b['Total_historical_application']/df_b['Number_of_historical_applications']\n",
    "    #平均每次发放额度\n",
    "    df_b['581D_avg_amount']=df_b['Total_historical']/df_b['Number_of_historical_applications']\n",
    "    #使用目的最多\n",
    "    df_b['581D_NAME_CASH_LOAN_PURPOSE_MAX'] = df.groupby('SK_ID_CURR')['NAME_CASH_LOAN_PURPOSE'].agg(lambda x:x.value_counts().index[0])\n",
    "    #被拒绝原因最多\n",
    "    df_b['581D_CODE_REJECT_REASON_MAX'] = df.groupby('SK_ID_CURR')['CODE_REJECT_REASON'].agg(lambda x:x.value_counts().index[0])\n",
    "    #申请贷款类型最多\n",
    "    df_b['581D_NAME_PORTFOLIO_MAX'] = df.groupby('SK_ID_CURR')['NAME_PORTFOLIO'].agg(lambda x:x.value_counts().index[0])\n",
    "    #授信期数最多\n",
    "    df_b['581D_CNT_PAYMENT_MAX'] =df.groupby('SK_ID_CURR')['CNT_PAYMENT'].max()\n",
    "    #授信期数平均\n",
    "    df_b['581D_CNT_PAYMENT_AVG'] =df.groupby('SK_ID_CURR')['CNT_PAYMENT'].mean()\n",
    "    #授信期数最小\n",
    "    df_b['581D_CNT_PAYMENT_MIN'] =df.groupby('SK_ID_CURR')['CNT_PAYMENT'].min()\n",
    "    #授信期数总数\n",
    "    df_b['581D_CNT_PAYMENT_SUM'] =df.groupby('SK_ID_CURR')['CNT_PAYMENT'].sum()\n",
    "    #申请记录利率水平最多\n",
    "    df_b['581D_NAME_YIELD_GROUP_MAX'] = df.groupby('SK_ID_CURR')['NAME_YIELD_GROUP'].agg(lambda x:x.value_counts().index[0])\n",
    "    \n",
    "    #距今1300天内\n",
    "    df = df_a[~df_a['NAME_CONTRACT_STATUS'].isin(lists)]\n",
    "    df = df[df['DAYS_DECISION']>=-1300]\n",
    "\n",
    "    df_p = df_a[df_a['NAME_CONTRACT_STATUS']=='Approved']\n",
    "    df_p = df_p[df_p['DAYS_DECISION']>=-1300]\n",
    "    df_r = df_a[df_a['NAME_CONTRACT_STATUS']=='Refused']\n",
    "    df_r = df_r[df_r['DAYS_DECISION']>=-1300]\n",
    "    \n",
    "    #历史被拒次数\n",
    "    df_b['1300D_Number_of_Refused'] = df_r.groupby('SK_ID_CURR')['SK_ID_PREV'].count()\n",
    "    #历史被拒总金额\n",
    "    df_b['1300D_R_Total_historical_application'] = df_r.groupby('SK_ID_CURR')['AMT_APPLICATION'].sum()\n",
    "    #平均每次被拒额度\n",
    "    df_b['1300D_R_avg_application_amount']=df_b['R_Total_historical_application']/df_b['Number_of_Refused']\n",
    "    #最小被拒金额\n",
    "    df_b['1300D_R_min_amount'] = df_r.groupby('SK_ID_CURR')['AMT_APPLICATION'].min()\n",
    "    \n",
    " \n",
    "    #历史通过次数\n",
    "    df_b['1300D_Number_of_Approved'] = df_p.groupby('SK_ID_CURR')['SK_ID_PREV'].count()\n",
    "    #历史通过最大金额\n",
    "    df_b['1300D_P_max_amount'] = df_p.groupby('SK_ID_CURR')['AMT_APPLICATION'].max()\n",
    "    #历史通过总金额\n",
    "    df_b['1300D_P_Total_historical_application'] = df_p.groupby('SK_ID_CURR')['AMT_APPLICATION'].sum()\n",
    "    #平均每次通过额度\n",
    "    df_b['1300D_P_avg_application_amount']=df_b['P_Total_historical_application']/df_b['Number_of_Approved']\n",
    "    \n",
    "    #历史实际通过最大金额\n",
    "    df_b['1300D_P_max_AMT_CREDIT'] = df_p.groupby('SK_ID_CURR')['AMT_CREDIT'].max()\n",
    "    #历史实际通过总金额\n",
    "    df_b['1300D_P_Total_AMT_CREDIT_application'] = df_p.groupby('SK_ID_CURR')['AMT_CREDIT'].sum()\n",
    "    #平均每次实际通过额度\n",
    "    df_b['1300D_P_avg_application_AMT_CREDIT']=df_b['P_Total_AMT_CREDIT_application']/df_b['Number_of_Approved']\n",
    "    \n",
    "    \n",
    "    #申请额度与实际额度差值\n",
    "    df_b['1300D_Difference_total'] = df_b['P_Total_AMT_CREDIT_application'] -df_b['P_Total_historical_application']\n",
    "      \n",
    "    ##最大申请额度与最大实际额度差值\n",
    "    df_b['1300D_Difference_max'] = df_b['P_max_AMT_CREDIT']-df_b['P_max_amount']\n",
    "\n",
    "    #历史申请次数\n",
    "    df_b['1300D_Number_of_historical_applications'] = df.groupby('SK_ID_CURR')['SK_ID_PREV'].count()\n",
    "    #历史申请总额度\n",
    "    df_b['1300D_Total_historical_application'] = df.groupby('SK_ID_CURR')['AMT_APPLICATION'].sum()\n",
    "    #历史发放总额度\n",
    "    df_b['1300D_Total_historical'] = df.groupby('SK_ID_CURR')['AMT_CREDIT'].sum()\n",
    "    #平均每次申请额度\n",
    "    df_b['1300D_avg_application_amount']=df_b['Total_historical_application']/df_b['Number_of_historical_applications']\n",
    "    #平均每次发放额度\n",
    "    df_b['1300D_avg_amount']=df_b['Total_historical']/df_b['Number_of_historical_applications']\n",
    "    #使用目的最多\n",
    "    df_b['1300D_NAME_CASH_LOAN_PURPOSE_MAX'] = df.groupby('SK_ID_CURR')['NAME_CASH_LOAN_PURPOSE'].agg(lambda x:x.value_counts().index[0])\n",
    "    #被拒绝原因最多\n",
    "    df_b['1300D_CODE_REJECT_REASON_MAX'] = df.groupby('SK_ID_CURR')['CODE_REJECT_REASON'].agg(lambda x:x.value_counts().index[0])\n",
    "    #申请贷款类型最多\n",
    "    df_b['1300D_NAME_PORTFOLIO_MAX'] = df.groupby('SK_ID_CURR')['NAME_PORTFOLIO'].agg(lambda x:x.value_counts().index[0])\n",
    "    #授信期数最多\n",
    "    df_b['1300D_CNT_PAYMENT_MAX'] =df.groupby('SK_ID_CURR')['CNT_PAYMENT'].max()\n",
    "    #授信期数平均\n",
    "    df_b['1300D_CNT_PAYMENT_AVG'] =df.groupby('SK_ID_CURR')['CNT_PAYMENT'].mean()\n",
    "    #授信期数最小\n",
    "    df_b['1300D_CNT_PAYMENT_MIN'] =df.groupby('SK_ID_CURR')['CNT_PAYMENT'].min()\n",
    "    #授信期数总数\n",
    "    df_b['1300D_CNT_PAYMENT_SUM'] =df.groupby('SK_ID_CURR')['CNT_PAYMENT'].sum()\n",
    "    #申请记录利率水平最多\n",
    "    df_b['1300D_NAME_YIELD_GROUP_MAX'] = df.groupby('SK_ID_CURR')['NAME_YIELD_GROUP'].agg(lambda x:x.value_counts().index[0])\n",
    "    df_b = df_b.reset_index()\n",
    "    return df_b"
   ],
   "metadata": {
    "collapsed": false,
    "ExecuteTime": {
     "end_time": "2025-08-25T09:38:56.139096100Z",
     "start_time": "2025-08-25T09:38:56.120784500Z"
    }
   },
   "id": "96a63b6a734381c9"
  },
  {
   "cell_type": "code",
   "execution_count": 131,
   "outputs": [
    {
     "name": "stderr",
     "output_type": "stream",
     "text": [
      "C:\\Users\\melx99\\AppData\\Local\\Temp\\ipykernel_14996\\2421835880.py:266: PerformanceWarning: DataFrame is highly fragmented.  This is usually the result of calling `frame.insert` many times, which has poor performance.  Consider joining all columns at once using pd.concat(axis=1) instead. To get a de-fragmented frame, use `newframe = frame.copy()`\n",
      "  df_b['581D_R_Total_historical_application'] = df_r.groupby('SK_ID_CURR')['AMT_APPLICATION'].sum()\n",
      "C:\\Users\\melx99\\AppData\\Local\\Temp\\ipykernel_14996\\2421835880.py:268: PerformanceWarning: DataFrame is highly fragmented.  This is usually the result of calling `frame.insert` many times, which has poor performance.  Consider joining all columns at once using pd.concat(axis=1) instead. To get a de-fragmented frame, use `newframe = frame.copy()`\n",
      "  df_b['581D_R_avg_application_amount']=df_b['R_Total_historical_application']/df_b['Number_of_Refused']\n",
      "C:\\Users\\melx99\\AppData\\Local\\Temp\\ipykernel_14996\\2421835880.py:270: PerformanceWarning: DataFrame is highly fragmented.  This is usually the result of calling `frame.insert` many times, which has poor performance.  Consider joining all columns at once using pd.concat(axis=1) instead. To get a de-fragmented frame, use `newframe = frame.copy()`\n",
      "  df_b['581D_R_min_amount'] = df_r.groupby('SK_ID_CURR')['AMT_APPLICATION'].min()\n",
      "C:\\Users\\melx99\\AppData\\Local\\Temp\\ipykernel_14996\\2421835880.py:274: PerformanceWarning: DataFrame is highly fragmented.  This is usually the result of calling `frame.insert` many times, which has poor performance.  Consider joining all columns at once using pd.concat(axis=1) instead. To get a de-fragmented frame, use `newframe = frame.copy()`\n",
      "  df_b['581D_Number_of_Approved'] = df_p.groupby('SK_ID_CURR')['SK_ID_PREV'].count()\n",
      "C:\\Users\\melx99\\AppData\\Local\\Temp\\ipykernel_14996\\2421835880.py:276: PerformanceWarning: DataFrame is highly fragmented.  This is usually the result of calling `frame.insert` many times, which has poor performance.  Consider joining all columns at once using pd.concat(axis=1) instead. To get a de-fragmented frame, use `newframe = frame.copy()`\n",
      "  df_b['581D_P_max_amount'] = df_p.groupby('SK_ID_CURR')['AMT_APPLICATION'].max()\n",
      "C:\\Users\\melx99\\AppData\\Local\\Temp\\ipykernel_14996\\2421835880.py:278: PerformanceWarning: DataFrame is highly fragmented.  This is usually the result of calling `frame.insert` many times, which has poor performance.  Consider joining all columns at once using pd.concat(axis=1) instead. To get a de-fragmented frame, use `newframe = frame.copy()`\n",
      "  df_b['581D_P_Total_historical_application'] = df_p.groupby('SK_ID_CURR')['AMT_APPLICATION'].sum()\n",
      "C:\\Users\\melx99\\AppData\\Local\\Temp\\ipykernel_14996\\2421835880.py:280: PerformanceWarning: DataFrame is highly fragmented.  This is usually the result of calling `frame.insert` many times, which has poor performance.  Consider joining all columns at once using pd.concat(axis=1) instead. To get a de-fragmented frame, use `newframe = frame.copy()`\n",
      "  df_b['581D_P_avg_application_amount']=df_b['P_Total_historical_application']/df_b['Number_of_Approved']\n",
      "C:\\Users\\melx99\\AppData\\Local\\Temp\\ipykernel_14996\\2421835880.py:283: PerformanceWarning: DataFrame is highly fragmented.  This is usually the result of calling `frame.insert` many times, which has poor performance.  Consider joining all columns at once using pd.concat(axis=1) instead. To get a de-fragmented frame, use `newframe = frame.copy()`\n",
      "  df_b['581D_P_max_AMT_CREDIT'] = df_p.groupby('SK_ID_CURR')['AMT_CREDIT'].max()\n",
      "C:\\Users\\melx99\\AppData\\Local\\Temp\\ipykernel_14996\\2421835880.py:285: PerformanceWarning: DataFrame is highly fragmented.  This is usually the result of calling `frame.insert` many times, which has poor performance.  Consider joining all columns at once using pd.concat(axis=1) instead. To get a de-fragmented frame, use `newframe = frame.copy()`\n",
      "  df_b['581D_P_Total_AMT_CREDIT_application'] = df_p.groupby('SK_ID_CURR')['AMT_CREDIT'].sum()\n",
      "C:\\Users\\melx99\\AppData\\Local\\Temp\\ipykernel_14996\\2421835880.py:287: PerformanceWarning: DataFrame is highly fragmented.  This is usually the result of calling `frame.insert` many times, which has poor performance.  Consider joining all columns at once using pd.concat(axis=1) instead. To get a de-fragmented frame, use `newframe = frame.copy()`\n",
      "  df_b['581D_P_avg_application_AMT_CREDIT']=df_b['P_Total_AMT_CREDIT_application']/df_b['Number_of_Approved']\n",
      "C:\\Users\\melx99\\AppData\\Local\\Temp\\ipykernel_14996\\2421835880.py:291: PerformanceWarning: DataFrame is highly fragmented.  This is usually the result of calling `frame.insert` many times, which has poor performance.  Consider joining all columns at once using pd.concat(axis=1) instead. To get a de-fragmented frame, use `newframe = frame.copy()`\n",
      "  df_b['581D_Difference_total'] = df_b['P_Total_AMT_CREDIT_application'] -df_b['P_Total_historical_application']\n",
      "C:\\Users\\melx99\\AppData\\Local\\Temp\\ipykernel_14996\\2421835880.py:294: PerformanceWarning: DataFrame is highly fragmented.  This is usually the result of calling `frame.insert` many times, which has poor performance.  Consider joining all columns at once using pd.concat(axis=1) instead. To get a de-fragmented frame, use `newframe = frame.copy()`\n",
      "  df_b['581D_Difference_max'] = df_b['P_max_AMT_CREDIT']-df_b['P_max_amount']\n",
      "C:\\Users\\melx99\\AppData\\Local\\Temp\\ipykernel_14996\\2421835880.py:297: PerformanceWarning: DataFrame is highly fragmented.  This is usually the result of calling `frame.insert` many times, which has poor performance.  Consider joining all columns at once using pd.concat(axis=1) instead. To get a de-fragmented frame, use `newframe = frame.copy()`\n",
      "  df_b['581D_Number_of_historical_applications'] = df.groupby('SK_ID_CURR')['SK_ID_PREV'].count()\n",
      "C:\\Users\\melx99\\AppData\\Local\\Temp\\ipykernel_14996\\2421835880.py:299: PerformanceWarning: DataFrame is highly fragmented.  This is usually the result of calling `frame.insert` many times, which has poor performance.  Consider joining all columns at once using pd.concat(axis=1) instead. To get a de-fragmented frame, use `newframe = frame.copy()`\n",
      "  df_b['581D_Total_historical_application'] = df.groupby('SK_ID_CURR')['AMT_APPLICATION'].sum()\n",
      "C:\\Users\\melx99\\AppData\\Local\\Temp\\ipykernel_14996\\2421835880.py:301: PerformanceWarning: DataFrame is highly fragmented.  This is usually the result of calling `frame.insert` many times, which has poor performance.  Consider joining all columns at once using pd.concat(axis=1) instead. To get a de-fragmented frame, use `newframe = frame.copy()`\n",
      "  df_b['581D_Total_historical'] = df.groupby('SK_ID_CURR')['AMT_CREDIT'].sum()\n",
      "C:\\Users\\melx99\\AppData\\Local\\Temp\\ipykernel_14996\\2421835880.py:303: PerformanceWarning: DataFrame is highly fragmented.  This is usually the result of calling `frame.insert` many times, which has poor performance.  Consider joining all columns at once using pd.concat(axis=1) instead. To get a de-fragmented frame, use `newframe = frame.copy()`\n",
      "  df_b['581D_avg_application_amount']=df_b['Total_historical_application']/df_b['Number_of_historical_applications']\n",
      "C:\\Users\\melx99\\AppData\\Local\\Temp\\ipykernel_14996\\2421835880.py:305: PerformanceWarning: DataFrame is highly fragmented.  This is usually the result of calling `frame.insert` many times, which has poor performance.  Consider joining all columns at once using pd.concat(axis=1) instead. To get a de-fragmented frame, use `newframe = frame.copy()`\n",
      "  df_b['581D_avg_amount']=df_b['Total_historical']/df_b['Number_of_historical_applications']\n",
      "C:\\Users\\melx99\\AppData\\Local\\Temp\\ipykernel_14996\\2421835880.py:307: PerformanceWarning: DataFrame is highly fragmented.  This is usually the result of calling `frame.insert` many times, which has poor performance.  Consider joining all columns at once using pd.concat(axis=1) instead. To get a de-fragmented frame, use `newframe = frame.copy()`\n",
      "  df_b['581D_NAME_CASH_LOAN_PURPOSE_MAX'] = df.groupby('SK_ID_CURR')['NAME_CASH_LOAN_PURPOSE'].agg(lambda x:x.value_counts().index[0])\n",
      "C:\\Users\\melx99\\AppData\\Local\\Temp\\ipykernel_14996\\2421835880.py:309: PerformanceWarning: DataFrame is highly fragmented.  This is usually the result of calling `frame.insert` many times, which has poor performance.  Consider joining all columns at once using pd.concat(axis=1) instead. To get a de-fragmented frame, use `newframe = frame.copy()`\n",
      "  df_b['581D_CODE_REJECT_REASON_MAX'] = df.groupby('SK_ID_CURR')['CODE_REJECT_REASON'].agg(lambda x:x.value_counts().index[0])\n",
      "C:\\Users\\melx99\\AppData\\Local\\Temp\\ipykernel_14996\\2421835880.py:311: PerformanceWarning: DataFrame is highly fragmented.  This is usually the result of calling `frame.insert` many times, which has poor performance.  Consider joining all columns at once using pd.concat(axis=1) instead. To get a de-fragmented frame, use `newframe = frame.copy()`\n",
      "  df_b['581D_NAME_PORTFOLIO_MAX'] = df.groupby('SK_ID_CURR')['NAME_PORTFOLIO'].agg(lambda x:x.value_counts().index[0])\n",
      "C:\\Users\\melx99\\AppData\\Local\\Temp\\ipykernel_14996\\2421835880.py:313: PerformanceWarning: DataFrame is highly fragmented.  This is usually the result of calling `frame.insert` many times, which has poor performance.  Consider joining all columns at once using pd.concat(axis=1) instead. To get a de-fragmented frame, use `newframe = frame.copy()`\n",
      "  df_b['581D_CNT_PAYMENT_MAX'] =df.groupby('SK_ID_CURR')['CNT_PAYMENT'].max()\n",
      "C:\\Users\\melx99\\AppData\\Local\\Temp\\ipykernel_14996\\2421835880.py:315: PerformanceWarning: DataFrame is highly fragmented.  This is usually the result of calling `frame.insert` many times, which has poor performance.  Consider joining all columns at once using pd.concat(axis=1) instead. To get a de-fragmented frame, use `newframe = frame.copy()`\n",
      "  df_b['581D_CNT_PAYMENT_AVG'] =df.groupby('SK_ID_CURR')['CNT_PAYMENT'].mean()\n",
      "C:\\Users\\melx99\\AppData\\Local\\Temp\\ipykernel_14996\\2421835880.py:317: PerformanceWarning: DataFrame is highly fragmented.  This is usually the result of calling `frame.insert` many times, which has poor performance.  Consider joining all columns at once using pd.concat(axis=1) instead. To get a de-fragmented frame, use `newframe = frame.copy()`\n",
      "  df_b['581D_CNT_PAYMENT_MIN'] =df.groupby('SK_ID_CURR')['CNT_PAYMENT'].min()\n",
      "C:\\Users\\melx99\\AppData\\Local\\Temp\\ipykernel_14996\\2421835880.py:319: PerformanceWarning: DataFrame is highly fragmented.  This is usually the result of calling `frame.insert` many times, which has poor performance.  Consider joining all columns at once using pd.concat(axis=1) instead. To get a de-fragmented frame, use `newframe = frame.copy()`\n",
      "  df_b['581D_CNT_PAYMENT_SUM'] =df.groupby('SK_ID_CURR')['CNT_PAYMENT'].sum()\n",
      "C:\\Users\\melx99\\AppData\\Local\\Temp\\ipykernel_14996\\2421835880.py:321: PerformanceWarning: DataFrame is highly fragmented.  This is usually the result of calling `frame.insert` many times, which has poor performance.  Consider joining all columns at once using pd.concat(axis=1) instead. To get a de-fragmented frame, use `newframe = frame.copy()`\n",
      "  df_b['581D_NAME_YIELD_GROUP_MAX'] = df.groupby('SK_ID_CURR')['NAME_YIELD_GROUP'].agg(lambda x:x.value_counts().index[0])\n",
      "C:\\Users\\melx99\\AppData\\Local\\Temp\\ipykernel_14996\\2421835880.py:333: PerformanceWarning: DataFrame is highly fragmented.  This is usually the result of calling `frame.insert` many times, which has poor performance.  Consider joining all columns at once using pd.concat(axis=1) instead. To get a de-fragmented frame, use `newframe = frame.copy()`\n",
      "  df_b['1300D_Number_of_Refused'] = df_r.groupby('SK_ID_CURR')['SK_ID_PREV'].count()\n",
      "C:\\Users\\melx99\\AppData\\Local\\Temp\\ipykernel_14996\\2421835880.py:335: PerformanceWarning: DataFrame is highly fragmented.  This is usually the result of calling `frame.insert` many times, which has poor performance.  Consider joining all columns at once using pd.concat(axis=1) instead. To get a de-fragmented frame, use `newframe = frame.copy()`\n",
      "  df_b['1300D_R_Total_historical_application'] = df_r.groupby('SK_ID_CURR')['AMT_APPLICATION'].sum()\n",
      "C:\\Users\\melx99\\AppData\\Local\\Temp\\ipykernel_14996\\2421835880.py:337: PerformanceWarning: DataFrame is highly fragmented.  This is usually the result of calling `frame.insert` many times, which has poor performance.  Consider joining all columns at once using pd.concat(axis=1) instead. To get a de-fragmented frame, use `newframe = frame.copy()`\n",
      "  df_b['1300D_R_avg_application_amount']=df_b['R_Total_historical_application']/df_b['Number_of_Refused']\n",
      "C:\\Users\\melx99\\AppData\\Local\\Temp\\ipykernel_14996\\2421835880.py:339: PerformanceWarning: DataFrame is highly fragmented.  This is usually the result of calling `frame.insert` many times, which has poor performance.  Consider joining all columns at once using pd.concat(axis=1) instead. To get a de-fragmented frame, use `newframe = frame.copy()`\n",
      "  df_b['1300D_R_min_amount'] = df_r.groupby('SK_ID_CURR')['AMT_APPLICATION'].min()\n",
      "C:\\Users\\melx99\\AppData\\Local\\Temp\\ipykernel_14996\\2421835880.py:343: PerformanceWarning: DataFrame is highly fragmented.  This is usually the result of calling `frame.insert` many times, which has poor performance.  Consider joining all columns at once using pd.concat(axis=1) instead. To get a de-fragmented frame, use `newframe = frame.copy()`\n",
      "  df_b['1300D_Number_of_Approved'] = df_p.groupby('SK_ID_CURR')['SK_ID_PREV'].count()\n",
      "C:\\Users\\melx99\\AppData\\Local\\Temp\\ipykernel_14996\\2421835880.py:345: PerformanceWarning: DataFrame is highly fragmented.  This is usually the result of calling `frame.insert` many times, which has poor performance.  Consider joining all columns at once using pd.concat(axis=1) instead. To get a de-fragmented frame, use `newframe = frame.copy()`\n",
      "  df_b['1300D_P_max_amount'] = df_p.groupby('SK_ID_CURR')['AMT_APPLICATION'].max()\n",
      "C:\\Users\\melx99\\AppData\\Local\\Temp\\ipykernel_14996\\2421835880.py:347: PerformanceWarning: DataFrame is highly fragmented.  This is usually the result of calling `frame.insert` many times, which has poor performance.  Consider joining all columns at once using pd.concat(axis=1) instead. To get a de-fragmented frame, use `newframe = frame.copy()`\n",
      "  df_b['1300D_P_Total_historical_application'] = df_p.groupby('SK_ID_CURR')['AMT_APPLICATION'].sum()\n",
      "C:\\Users\\melx99\\AppData\\Local\\Temp\\ipykernel_14996\\2421835880.py:349: PerformanceWarning: DataFrame is highly fragmented.  This is usually the result of calling `frame.insert` many times, which has poor performance.  Consider joining all columns at once using pd.concat(axis=1) instead. To get a de-fragmented frame, use `newframe = frame.copy()`\n",
      "  df_b['1300D_P_avg_application_amount']=df_b['P_Total_historical_application']/df_b['Number_of_Approved']\n",
      "C:\\Users\\melx99\\AppData\\Local\\Temp\\ipykernel_14996\\2421835880.py:352: PerformanceWarning: DataFrame is highly fragmented.  This is usually the result of calling `frame.insert` many times, which has poor performance.  Consider joining all columns at once using pd.concat(axis=1) instead. To get a de-fragmented frame, use `newframe = frame.copy()`\n",
      "  df_b['1300D_P_max_AMT_CREDIT'] = df_p.groupby('SK_ID_CURR')['AMT_CREDIT'].max()\n",
      "C:\\Users\\melx99\\AppData\\Local\\Temp\\ipykernel_14996\\2421835880.py:354: PerformanceWarning: DataFrame is highly fragmented.  This is usually the result of calling `frame.insert` many times, which has poor performance.  Consider joining all columns at once using pd.concat(axis=1) instead. To get a de-fragmented frame, use `newframe = frame.copy()`\n",
      "  df_b['1300D_P_Total_AMT_CREDIT_application'] = df_p.groupby('SK_ID_CURR')['AMT_CREDIT'].sum()\n",
      "C:\\Users\\melx99\\AppData\\Local\\Temp\\ipykernel_14996\\2421835880.py:356: PerformanceWarning: DataFrame is highly fragmented.  This is usually the result of calling `frame.insert` many times, which has poor performance.  Consider joining all columns at once using pd.concat(axis=1) instead. To get a de-fragmented frame, use `newframe = frame.copy()`\n",
      "  df_b['1300D_P_avg_application_AMT_CREDIT']=df_b['P_Total_AMT_CREDIT_application']/df_b['Number_of_Approved']\n",
      "C:\\Users\\melx99\\AppData\\Local\\Temp\\ipykernel_14996\\2421835880.py:360: PerformanceWarning: DataFrame is highly fragmented.  This is usually the result of calling `frame.insert` many times, which has poor performance.  Consider joining all columns at once using pd.concat(axis=1) instead. To get a de-fragmented frame, use `newframe = frame.copy()`\n",
      "  df_b['1300D_Difference_total'] = df_b['P_Total_AMT_CREDIT_application'] -df_b['P_Total_historical_application']\n",
      "C:\\Users\\melx99\\AppData\\Local\\Temp\\ipykernel_14996\\2421835880.py:363: PerformanceWarning: DataFrame is highly fragmented.  This is usually the result of calling `frame.insert` many times, which has poor performance.  Consider joining all columns at once using pd.concat(axis=1) instead. To get a de-fragmented frame, use `newframe = frame.copy()`\n",
      "  df_b['1300D_Difference_max'] = df_b['P_max_AMT_CREDIT']-df_b['P_max_amount']\n",
      "C:\\Users\\melx99\\AppData\\Local\\Temp\\ipykernel_14996\\2421835880.py:366: PerformanceWarning: DataFrame is highly fragmented.  This is usually the result of calling `frame.insert` many times, which has poor performance.  Consider joining all columns at once using pd.concat(axis=1) instead. To get a de-fragmented frame, use `newframe = frame.copy()`\n",
      "  df_b['1300D_Number_of_historical_applications'] = df.groupby('SK_ID_CURR')['SK_ID_PREV'].count()\n",
      "C:\\Users\\melx99\\AppData\\Local\\Temp\\ipykernel_14996\\2421835880.py:368: PerformanceWarning: DataFrame is highly fragmented.  This is usually the result of calling `frame.insert` many times, which has poor performance.  Consider joining all columns at once using pd.concat(axis=1) instead. To get a de-fragmented frame, use `newframe = frame.copy()`\n",
      "  df_b['1300D_Total_historical_application'] = df.groupby('SK_ID_CURR')['AMT_APPLICATION'].sum()\n",
      "C:\\Users\\melx99\\AppData\\Local\\Temp\\ipykernel_14996\\2421835880.py:370: PerformanceWarning: DataFrame is highly fragmented.  This is usually the result of calling `frame.insert` many times, which has poor performance.  Consider joining all columns at once using pd.concat(axis=1) instead. To get a de-fragmented frame, use `newframe = frame.copy()`\n",
      "  df_b['1300D_Total_historical'] = df.groupby('SK_ID_CURR')['AMT_CREDIT'].sum()\n",
      "C:\\Users\\melx99\\AppData\\Local\\Temp\\ipykernel_14996\\2421835880.py:372: PerformanceWarning: DataFrame is highly fragmented.  This is usually the result of calling `frame.insert` many times, which has poor performance.  Consider joining all columns at once using pd.concat(axis=1) instead. To get a de-fragmented frame, use `newframe = frame.copy()`\n",
      "  df_b['1300D_avg_application_amount']=df_b['Total_historical_application']/df_b['Number_of_historical_applications']\n",
      "C:\\Users\\melx99\\AppData\\Local\\Temp\\ipykernel_14996\\2421835880.py:374: PerformanceWarning: DataFrame is highly fragmented.  This is usually the result of calling `frame.insert` many times, which has poor performance.  Consider joining all columns at once using pd.concat(axis=1) instead. To get a de-fragmented frame, use `newframe = frame.copy()`\n",
      "  df_b['1300D_avg_amount']=df_b['Total_historical']/df_b['Number_of_historical_applications']\n",
      "C:\\Users\\melx99\\AppData\\Local\\Temp\\ipykernel_14996\\2421835880.py:376: PerformanceWarning: DataFrame is highly fragmented.  This is usually the result of calling `frame.insert` many times, which has poor performance.  Consider joining all columns at once using pd.concat(axis=1) instead. To get a de-fragmented frame, use `newframe = frame.copy()`\n",
      "  df_b['1300D_NAME_CASH_LOAN_PURPOSE_MAX'] = df.groupby('SK_ID_CURR')['NAME_CASH_LOAN_PURPOSE'].agg(lambda x:x.value_counts().index[0])\n",
      "C:\\Users\\melx99\\AppData\\Local\\Temp\\ipykernel_14996\\2421835880.py:378: PerformanceWarning: DataFrame is highly fragmented.  This is usually the result of calling `frame.insert` many times, which has poor performance.  Consider joining all columns at once using pd.concat(axis=1) instead. To get a de-fragmented frame, use `newframe = frame.copy()`\n",
      "  df_b['1300D_CODE_REJECT_REASON_MAX'] = df.groupby('SK_ID_CURR')['CODE_REJECT_REASON'].agg(lambda x:x.value_counts().index[0])\n",
      "C:\\Users\\melx99\\AppData\\Local\\Temp\\ipykernel_14996\\2421835880.py:380: PerformanceWarning: DataFrame is highly fragmented.  This is usually the result of calling `frame.insert` many times, which has poor performance.  Consider joining all columns at once using pd.concat(axis=1) instead. To get a de-fragmented frame, use `newframe = frame.copy()`\n",
      "  df_b['1300D_NAME_PORTFOLIO_MAX'] = df.groupby('SK_ID_CURR')['NAME_PORTFOLIO'].agg(lambda x:x.value_counts().index[0])\n",
      "C:\\Users\\melx99\\AppData\\Local\\Temp\\ipykernel_14996\\2421835880.py:382: PerformanceWarning: DataFrame is highly fragmented.  This is usually the result of calling `frame.insert` many times, which has poor performance.  Consider joining all columns at once using pd.concat(axis=1) instead. To get a de-fragmented frame, use `newframe = frame.copy()`\n",
      "  df_b['1300D_CNT_PAYMENT_MAX'] =df.groupby('SK_ID_CURR')['CNT_PAYMENT'].max()\n",
      "C:\\Users\\melx99\\AppData\\Local\\Temp\\ipykernel_14996\\2421835880.py:384: PerformanceWarning: DataFrame is highly fragmented.  This is usually the result of calling `frame.insert` many times, which has poor performance.  Consider joining all columns at once using pd.concat(axis=1) instead. To get a de-fragmented frame, use `newframe = frame.copy()`\n",
      "  df_b['1300D_CNT_PAYMENT_AVG'] =df.groupby('SK_ID_CURR')['CNT_PAYMENT'].mean()\n",
      "C:\\Users\\melx99\\AppData\\Local\\Temp\\ipykernel_14996\\2421835880.py:386: PerformanceWarning: DataFrame is highly fragmented.  This is usually the result of calling `frame.insert` many times, which has poor performance.  Consider joining all columns at once using pd.concat(axis=1) instead. To get a de-fragmented frame, use `newframe = frame.copy()`\n",
      "  df_b['1300D_CNT_PAYMENT_MIN'] =df.groupby('SK_ID_CURR')['CNT_PAYMENT'].min()\n",
      "C:\\Users\\melx99\\AppData\\Local\\Temp\\ipykernel_14996\\2421835880.py:388: PerformanceWarning: DataFrame is highly fragmented.  This is usually the result of calling `frame.insert` many times, which has poor performance.  Consider joining all columns at once using pd.concat(axis=1) instead. To get a de-fragmented frame, use `newframe = frame.copy()`\n",
      "  df_b['1300D_CNT_PAYMENT_SUM'] =df.groupby('SK_ID_CURR')['CNT_PAYMENT'].sum()\n",
      "C:\\Users\\melx99\\AppData\\Local\\Temp\\ipykernel_14996\\2421835880.py:390: PerformanceWarning: DataFrame is highly fragmented.  This is usually the result of calling `frame.insert` many times, which has poor performance.  Consider joining all columns at once using pd.concat(axis=1) instead. To get a de-fragmented frame, use `newframe = frame.copy()`\n",
      "  df_b['1300D_NAME_YIELD_GROUP_MAX'] = df.groupby('SK_ID_CURR')['NAME_YIELD_GROUP'].agg(lambda x:x.value_counts().index[0])\n"
     ]
    }
   ],
   "source": [
    "previous_application_ft_de = fe_previous_application_ft(previous_application_ft)"
   ],
   "metadata": {
    "collapsed": false,
    "ExecuteTime": {
     "end_time": "2025-08-25T09:46:52.322903700Z",
     "start_time": "2025-08-25T09:39:38.106840800Z"
    }
   },
   "id": "c4befdfdb387f8a3"
  },
  {
   "cell_type": "code",
   "execution_count": 140,
   "outputs": [
    {
     "name": "stdout",
     "output_type": "stream",
     "text": [
      "<class 'pandas.core.frame.DataFrame'>\n",
      "RangeIndex: 338402 entries, 0 to 338401\n",
      "Columns: 152 entries, SK_ID_CURR to 1300D_NAME_YIELD_GROUP_MAX\n",
      "dtypes: float64(130), int64(2), object(20)\n",
      "memory usage: 392.4+ MB\n"
     ]
    }
   ],
   "source": [
    "previous_application_ft_de.info()"
   ],
   "metadata": {
    "collapsed": false,
    "ExecuteTime": {
     "end_time": "2025-08-25T09:52:16.813210800Z",
     "start_time": "2025-08-25T09:52:16.775076500Z"
    }
   },
   "id": "636b35122d254aca"
  },
  {
   "cell_type": "code",
   "execution_count": 137,
   "outputs": [],
   "source": [
    "def count_list_na(table_name):\n",
    "    count = 0 \n",
    "    for column in table_name.columns:\n",
    "        na_count = table_name[column][table_name[column].isna()].shape[0]\n",
    "        if na_count>0:\n",
    "            count+=1\n",
    "    print('缺失列数量'+str(count))\n"
   ],
   "metadata": {
    "collapsed": false,
    "ExecuteTime": {
     "end_time": "2025-08-25T09:51:46.835638800Z",
     "start_time": "2025-08-25T09:51:46.798523900Z"
    }
   },
   "id": "79566487e4e1abfe"
  },
  {
   "cell_type": "code",
   "execution_count": 138,
   "outputs": [
    {
     "name": "stdout",
     "output_type": "stream",
     "text": [
      "缺失列数量110\n"
     ]
    }
   ],
   "source": [
    "count_list_na(previous_application_ft_de)"
   ],
   "metadata": {
    "collapsed": false,
    "ExecuteTime": {
     "end_time": "2025-08-25T09:51:48.129959100Z",
     "start_time": "2025-08-25T09:51:47.794499700Z"
    }
   },
   "id": "24d954f0360d37d5"
  },
  {
   "cell_type": "code",
   "execution_count": 145,
   "outputs": [
    {
     "name": "stdout",
     "output_type": "stream",
     "text": [
      "<class 'pandas.core.frame.DataFrame'>\n",
      "RangeIndex: 338402 entries, 0 to 338401\n",
      "Data columns (total 152 columns):\n",
      " #    Column                                   Non-Null Count   Dtype  \n",
      "---   ------                                   --------------   -----  \n",
      " 0    SK_ID_CURR                               338402 non-null  int64  \n",
      " 1    Number_of_historical_applications        338402 non-null  int64  \n",
      " 2    Total_historical_application             338402 non-null  float64\n",
      " 3    Total_historical                         338402 non-null  float64\n",
      " 4    avg_application_amount                   338402 non-null  float64\n",
      " 5    avg_amount                               338402 non-null  float64\n",
      " 6    NAME_CASH_LOAN_PURPOSE_MAX               338402 non-null  object \n",
      " 7    CODE_REJECT_REASON_MAX                   338402 non-null  object \n",
      " 8    NAME_PORTFOLIO_MAX                       338402 non-null  object \n",
      " 9    CNT_PAYMENT_MAX                          338402 non-null  float64\n",
      " 10   CNT_PAYMENT_AVG                          338402 non-null  float64\n",
      " 11   CNT_PAYMENT_MIN                          338402 non-null  float64\n",
      " 12   CNT_PAYMENT_SUM                          338402 non-null  float64\n",
      " 13   NAME_YIELD_GROUP_MAX                     338402 non-null  object \n",
      " 14   DAYS_FIRST_DRAWING_MAX                   338402 non-null  float64\n",
      " 15   DAYS_FIRST_DRAWING_AVG                   338402 non-null  float64\n",
      " 16   DAYS_FIRST_DRAWING_MIN                   338402 non-null  float64\n",
      " 17   DAYS_FIRST_DRAWING_SUM                   338402 non-null  float64\n",
      " 18   DAYS_FIRST_DUE_MAX                       338402 non-null  float64\n",
      " 19   DAYS_FIRST_DUE_AVG                       338402 non-null  float64\n",
      " 20   DAYS_FIRST_DUE_MIN                       338402 non-null  float64\n",
      " 21   DAYS_FIRST_DUE_SUM                       338402 non-null  float64\n",
      " 22   DAYS_LAST_DUE_1ST_VERSION_MAX            338402 non-null  float64\n",
      " 23   DAYS_LAST_DUE_1ST_VERSION_AVG            338402 non-null  float64\n",
      " 24   DAYS_LAST_DUE_1ST_VERSION_MIN            338402 non-null  float64\n",
      " 25   DAYS_LAST_DUE_1ST_VERSION_SUM            338402 non-null  float64\n",
      " 26   DAYS_LAST_DUE_MAX                        338402 non-null  float64\n",
      " 27   DAYS_LAST_DUE_AVG                        338402 non-null  float64\n",
      " 28   DAYS_LAST_DUE_MIN                        338402 non-null  float64\n",
      " 29   DAYS_LAST_DUE_SUM                        338402 non-null  float64\n",
      " 30   DAYS_TERMINATION_MAX                     338402 non-null  float64\n",
      " 31   DAYS_TERMINATION_AVG                     338402 non-null  float64\n",
      " 32   DAYS_TERMINATION_MIN                     338402 non-null  float64\n",
      " 33   DAYS_TERMINATION_SUM                     338402 non-null  float64\n",
      " 34   Number_of_Refused                        118277 non-null  float64\n",
      " 35   R_Total_historical_application           118277 non-null  float64\n",
      " 36   R_avg_application_amount                 118277 non-null  float64\n",
      " 37   R_min_amount                             118277 non-null  float64\n",
      " 38   Number_of_Approved                       337698 non-null  float64\n",
      " 39   P_max_amount                             337698 non-null  float64\n",
      " 40   P_Total_historical_application           337698 non-null  float64\n",
      " 41   P_avg_application_amount                 337698 non-null  float64\n",
      " 42   P_max_AMT_CREDIT                         337698 non-null  float64\n",
      " 43   P_Total_AMT_CREDIT_application           337698 non-null  float64\n",
      " 44   P_avg_application_AMT_CREDIT             337698 non-null  float64\n",
      " 45   Difference_total                         337698 non-null  float64\n",
      " 46   Difference_max                           337698 non-null  float64\n",
      " 47   Pass_rate                                117573 non-null  float64\n",
      " 48   90D_Number_of_Refused                    6924 non-null    float64\n",
      " 49   90D_R_Total_historical_application       6924 non-null    float64\n",
      " 50   90D_R_avg_application_amount             118277 non-null  float64\n",
      " 51   90D_R_min_amount                         6924 non-null    float64\n",
      " 52   90D_Number_of_Approved                   22048 non-null   float64\n",
      " 53   90D_P_max_amount                         22048 non-null   float64\n",
      " 54   90D_P_Total_historical_application       22048 non-null   float64\n",
      " 55   90D_P_avg_application_amount             337698 non-null  float64\n",
      " 56   90D_P_max_AMT_CREDIT                     22048 non-null   float64\n",
      " 57   90D_P_Total_AMT_CREDIT_application       22048 non-null   float64\n",
      " 58   90D_P_avg_application_AMT_CREDIT         337698 non-null  float64\n",
      " 59   90D_Difference_total                     337698 non-null  float64\n",
      " 60   90D_Difference_max                       337698 non-null  float64\n",
      " 61   90D_Number_of_historical_applications    27520 non-null   float64\n",
      " 62   90D_Total_historical_application         27520 non-null   float64\n",
      " 63   90D_Total_historical                     27520 non-null   float64\n",
      " 64   90D_avg_application_amount               338402 non-null  float64\n",
      " 65   90D_avg_amount                           338402 non-null  float64\n",
      " 66   90D_NAME_CASH_LOAN_PURPOSE_MAX           27520 non-null   object \n",
      " 67   90D_CODE_REJECT_REASON_MAX               27520 non-null   object \n",
      " 68   90D_NAME_PORTFOLIO_MAX                   27520 non-null   object \n",
      " 69   90D_CNT_PAYMENT_MAX                      27520 non-null   float64\n",
      " 70   90D_CNT_PAYMENT_AVG                      27520 non-null   float64\n",
      " 71   90D_CNT_PAYMENT_MIN                      27520 non-null   float64\n",
      " 72   90D_CNT_PAYMENT_SUM                      27520 non-null   float64\n",
      " 73   90D_NAME_YIELD_GROUP_MAX                 27520 non-null   object \n",
      " 74   280D_Number_of_Refused                   41911 non-null   float64\n",
      " 75   280D_R_Total_historical_application      41911 non-null   float64\n",
      " 76   280D_R_avg_application_amount            118277 non-null  float64\n",
      " 77   280D_R_min_amount                        41911 non-null   float64\n",
      " 78   280D_Number_of_Approved                  100810 non-null  float64\n",
      " 79   280D_P_max_amount                        100810 non-null  float64\n",
      " 80   280D_P_Total_historical_application      100810 non-null  float64\n",
      " 81   280D_P_avg_application_amount            337698 non-null  float64\n",
      " 82   280D_P_max_AMT_CREDIT                    100810 non-null  float64\n",
      " 83   280D_P_Total_AMT_CREDIT_application      100810 non-null  float64\n",
      " 84   280D_P_avg_application_AMT_CREDIT        337698 non-null  float64\n",
      " 85   280D_Difference_total                    337698 non-null  float64\n",
      " 86   280D_Difference_max                      337698 non-null  float64\n",
      " 87   280D_Number_of_historical_applications   123965 non-null  float64\n",
      " 88   280D_Total_historical_application        123965 non-null  float64\n",
      " 89   280D_Total_historical                    123965 non-null  float64\n",
      " 90   280D_avg_application_amount              338402 non-null  float64\n",
      " 91   280D_avg_amount                          338402 non-null  float64\n",
      " 92   280D_NAME_CASH_LOAN_PURPOSE_MAX          123965 non-null  object \n",
      " 93   280D_CODE_REJECT_REASON_MAX              123965 non-null  object \n",
      " 94   280D_NAME_PORTFOLIO_MAX                  123965 non-null  object \n",
      " 95   280D_CNT_PAYMENT_MAX                     123965 non-null  float64\n",
      " 96   280D_CNT_PAYMENT_AVG                     123965 non-null  float64\n",
      " 97   280D_CNT_PAYMENT_MIN                     123965 non-null  float64\n",
      " 98   280D_CNT_PAYMENT_SUM                     123965 non-null  float64\n",
      " 99   280D_NAME_YIELD_GROUP_MAX                123965 non-null  object \n",
      " 100  581D_Number_of_Refused                   74031 non-null   float64\n",
      " 101  581D_R_Total_historical_application      74031 non-null   float64\n",
      " 102  581D_R_avg_application_amount            118277 non-null  float64\n",
      " 103  581D_R_min_amount                        74031 non-null   float64\n",
      " 104  581D_Number_of_Approved                  215698 non-null  float64\n",
      " 105  581D_P_max_amount                        215698 non-null  float64\n",
      " 106  581D_P_Total_historical_application      215698 non-null  float64\n",
      " 107  581D_P_avg_application_amount            337698 non-null  float64\n",
      " 108  581D_P_max_AMT_CREDIT                    215698 non-null  float64\n",
      " 109  581D_P_Total_AMT_CREDIT_application      215698 non-null  float64\n",
      " 110  581D_P_avg_application_AMT_CREDIT        337698 non-null  float64\n",
      " 111  581D_Difference_total                    337698 non-null  float64\n",
      " 112  581D_Difference_max                      337698 non-null  float64\n",
      " 113  581D_Number_of_historical_applications   232273 non-null  float64\n",
      " 114  581D_Total_historical_application        232273 non-null  float64\n",
      " 115  581D_Total_historical                    232273 non-null  float64\n",
      " 116  581D_avg_application_amount              338402 non-null  float64\n",
      " 117  581D_avg_amount                          338402 non-null  float64\n",
      " 118  581D_NAME_CASH_LOAN_PURPOSE_MAX          232273 non-null  object \n",
      " 119  581D_CODE_REJECT_REASON_MAX              232273 non-null  object \n",
      " 120  581D_NAME_PORTFOLIO_MAX                  232273 non-null  object \n",
      " 121  581D_CNT_PAYMENT_MAX                     232273 non-null  float64\n",
      " 122  581D_CNT_PAYMENT_AVG                     232273 non-null  float64\n",
      " 123  581D_CNT_PAYMENT_MIN                     232273 non-null  float64\n",
      " 124  581D_CNT_PAYMENT_SUM                     232273 non-null  float64\n",
      " 125  581D_NAME_YIELD_GROUP_MAX                232273 non-null  object \n",
      " 126  1300D_Number_of_Refused                  96024 non-null   float64\n",
      " 127  1300D_R_Total_historical_application     96024 non-null   float64\n",
      " 128  1300D_R_avg_application_amount           118277 non-null  float64\n",
      " 129  1300D_R_min_amount                       96024 non-null   float64\n",
      " 130  1300D_Number_of_Approved                 303886 non-null  float64\n",
      " 131  1300D_P_max_amount                       303886 non-null  float64\n",
      " 132  1300D_P_Total_historical_application     303886 non-null  float64\n",
      " 133  1300D_P_avg_application_amount           337698 non-null  float64\n",
      " 134  1300D_P_max_AMT_CREDIT                   303886 non-null  float64\n",
      " 135  1300D_P_Total_AMT_CREDIT_application     303886 non-null  float64\n",
      " 136  1300D_P_avg_application_AMT_CREDIT       337698 non-null  float64\n",
      " 137  1300D_Difference_total                   337698 non-null  float64\n",
      " 138  1300D_Difference_max                     337698 non-null  float64\n",
      " 139  1300D_Number_of_historical_applications  307409 non-null  float64\n",
      " 140  1300D_Total_historical_application       307409 non-null  float64\n",
      " 141  1300D_Total_historical                   307409 non-null  float64\n",
      " 142  1300D_avg_application_amount             338402 non-null  float64\n",
      " 143  1300D_avg_amount                         338402 non-null  float64\n",
      " 144  1300D_NAME_CASH_LOAN_PURPOSE_MAX         307409 non-null  object \n",
      " 145  1300D_CODE_REJECT_REASON_MAX             307409 non-null  object \n",
      " 146  1300D_NAME_PORTFOLIO_MAX                 307409 non-null  object \n",
      " 147  1300D_CNT_PAYMENT_MAX                    307409 non-null  float64\n",
      " 148  1300D_CNT_PAYMENT_AVG                    307409 non-null  float64\n",
      " 149  1300D_CNT_PAYMENT_MIN                    307409 non-null  float64\n",
      " 150  1300D_CNT_PAYMENT_SUM                    307409 non-null  float64\n",
      " 151  1300D_NAME_YIELD_GROUP_MAX               307409 non-null  object \n",
      "dtypes: float64(130), int64(2), object(20)\n",
      "memory usage: 392.4+ MB\n"
     ]
    }
   ],
   "source": [
    "previous_application_ft_de.info(verbose=True,show_counts=True)"
   ],
   "metadata": {
    "collapsed": false,
    "ExecuteTime": {
     "end_time": "2025-08-25T09:58:51.154188700Z",
     "start_time": "2025-08-25T09:58:50.467883700Z"
    }
   },
   "id": "21dc8239746cf611"
  },
  {
   "cell_type": "code",
   "execution_count": 146,
   "outputs": [],
   "source": [
    "previous_application_ft_cleaned=previous_application_ft_de.fillna(0)\n"
   ],
   "metadata": {
    "collapsed": false,
    "ExecuteTime": {
     "end_time": "2025-08-25T10:26:26.618375800Z",
     "start_time": "2025-08-25T10:26:25.878392Z"
    }
   },
   "id": "64ab18b489dcb45d"
  },
  {
   "cell_type": "code",
   "execution_count": 147,
   "outputs": [
    {
     "name": "stdout",
     "output_type": "stream",
     "text": [
      "缺失列数量0\n"
     ]
    }
   ],
   "source": [
    "count_list_na(previous_application_ft_cleaned)"
   ],
   "metadata": {
    "collapsed": false,
    "ExecuteTime": {
     "end_time": "2025-08-25T10:26:54.199499Z",
     "start_time": "2025-08-25T10:26:54.049842600Z"
    }
   },
   "id": "4abc8ce72886e8c"
  },
  {
   "cell_type": "code",
   "execution_count": 148,
   "outputs": [],
   "source": [
    "previous_application_ft_cleaned.to_csv(r'I:\\PYTHON\\AI_datamining\\src\\data\\previous_application_ft_cleaned.csv',index=False)"
   ],
   "metadata": {
    "collapsed": false,
    "ExecuteTime": {
     "end_time": "2025-08-25T10:29:13.777886500Z",
     "start_time": "2025-08-25T10:28:58.987238Z"
    }
   },
   "id": "ff23683120fb936a"
  },
  {
   "cell_type": "code",
   "execution_count": 152,
   "outputs": [],
   "source": [
    "df_ft = df_ft.merge(previous_application_ft_cleaned,on='SK_ID_CURR',how='left')"
   ],
   "metadata": {
    "collapsed": false,
    "ExecuteTime": {
     "end_time": "2025-08-25T10:35:07.442333600Z",
     "start_time": "2025-08-25T10:35:06.404151Z"
    }
   },
   "id": "c21acbf0d3c8ebb"
  },
  {
   "cell_type": "code",
   "execution_count": 158,
   "outputs": [
    {
     "name": "stdout",
     "output_type": "stream",
     "text": [
      "<class 'pandas.core.frame.DataFrame'>\n",
      "Int64Index: 307511 entries, 0 to 307510\n",
      "Data columns (total 278 columns):\n",
      " #    Column                                   Non-Null Count   Dtype  \n",
      "---   ------                                   --------------   -----  \n",
      " 0    SK_ID_CURR                               307511 non-null  int64  \n",
      " 1    TARGET                                   307511 non-null  int64  \n",
      " 2    CNT_CHILDREN                             307511 non-null  int64  \n",
      " 3    DAYS_BIRTH                               307511 non-null  int64  \n",
      " 4    DAYS_EMPLOYED                            307511 non-null  float64\n",
      " 5    DAYS_ID_PUBLISH                          307511 non-null  int64  \n",
      " 6    FLAG_MOBIL                               307511 non-null  int64  \n",
      " 7    FLAG_EMP_PHONE                           307511 non-null  int64  \n",
      " 8    FLAG_WORK_PHONE                          307511 non-null  int64  \n",
      " 9    FLAG_CONT_MOBILE                         307511 non-null  int64  \n",
      " 10   FLAG_PHONE                               307511 non-null  int64  \n",
      " 11   FLAG_EMAIL                               307511 non-null  int64  \n",
      " 12   REGION_RATING_CLIENT                     307511 non-null  int64  \n",
      " 13   REGION_RATING_CLIENT_W_CITY              307511 non-null  int64  \n",
      " 14   HOUR_APPR_PROCESS_START                  307511 non-null  int64  \n",
      " 15   REG_REGION_NOT_LIVE_REGION               307511 non-null  int64  \n",
      " 16   REG_REGION_NOT_WORK_REGION               307511 non-null  int64  \n",
      " 17   LIVE_REGION_NOT_WORK_REGION              307511 non-null  int64  \n",
      " 18   REG_CITY_NOT_LIVE_CITY                   307511 non-null  int64  \n",
      " 19   REG_CITY_NOT_WORK_CITY                   307511 non-null  int64  \n",
      " 20   LIVE_CITY_NOT_WORK_CITY                  307511 non-null  int64  \n",
      " 21   FLAG_DOCUMENT_2                          307511 non-null  int64  \n",
      " 22   FLAG_DOCUMENT_3                          307511 non-null  int64  \n",
      " 23   FLAG_DOCUMENT_4                          307511 non-null  int64  \n",
      " 24   FLAG_DOCUMENT_5                          307511 non-null  int64  \n",
      " 25   FLAG_DOCUMENT_6                          307511 non-null  int64  \n",
      " 26   FLAG_DOCUMENT_7                          307511 non-null  int64  \n",
      " 27   FLAG_DOCUMENT_8                          307511 non-null  int64  \n",
      " 28   FLAG_DOCUMENT_9                          307511 non-null  int64  \n",
      " 29   FLAG_DOCUMENT_10                         307511 non-null  int64  \n",
      " 30   FLAG_DOCUMENT_11                         307511 non-null  int64  \n",
      " 31   FLAG_DOCUMENT_12                         307511 non-null  int64  \n",
      " 32   FLAG_DOCUMENT_13                         307511 non-null  int64  \n",
      " 33   FLAG_DOCUMENT_14                         307511 non-null  int64  \n",
      " 34   FLAG_DOCUMENT_15                         307511 non-null  int64  \n",
      " 35   FLAG_DOCUMENT_16                         307511 non-null  int64  \n",
      " 36   FLAG_DOCUMENT_17                         307511 non-null  int64  \n",
      " 37   FLAG_DOCUMENT_18                         307511 non-null  int64  \n",
      " 38   FLAG_DOCUMENT_19                         307511 non-null  int64  \n",
      " 39   FLAG_DOCUMENT_20                         307511 non-null  int64  \n",
      " 40   FLAG_DOCUMENT_21                         307511 non-null  int64  \n",
      " 41   AMT_INCOME_TOTAL                         307511 non-null  float64\n",
      " 42   AMT_CREDIT                               307511 non-null  float64\n",
      " 43   AMT_ANNUITY                              307511 non-null  float64\n",
      " 44   AMT_GOODS_PRICE                          307511 non-null  float64\n",
      " 45   REGION_POPULATION_RELATIVE               307511 non-null  float64\n",
      " 46   DAYS_REGISTRATION                        307511 non-null  float64\n",
      " 47   OWN_CAR_AGE                              307511 non-null  float64\n",
      " 48   CNT_FAM_MEMBERS                          307511 non-null  float64\n",
      " 49   EXT_SOURCE_1                             307511 non-null  float64\n",
      " 50   EXT_SOURCE_2                             307511 non-null  float64\n",
      " 51   EXT_SOURCE_3                             307511 non-null  float64\n",
      " 52   APARTMENTS_AVG                           307511 non-null  float64\n",
      " 53   BASEMENTAREA_AVG                         307511 non-null  float64\n",
      " 54   YEARS_BEGINEXPLUATATION_AVG              307511 non-null  float64\n",
      " 55   YEARS_BUILD_AVG                          307511 non-null  float64\n",
      " 56   COMMONAREA_AVG                           307511 non-null  float64\n",
      " 57   ELEVATORS_AVG                            307511 non-null  float64\n",
      " 58   ENTRANCES_AVG                            307511 non-null  float64\n",
      " 59   FLOORSMAX_AVG                            307511 non-null  float64\n",
      " 60   FLOORSMIN_AVG                            307511 non-null  float64\n",
      " 61   LANDAREA_AVG                             307511 non-null  float64\n",
      " 62   LIVINGAPARTMENTS_AVG                     307511 non-null  float64\n",
      " 63   LIVINGAREA_AVG                           307511 non-null  float64\n",
      " 64   NONLIVINGAPARTMENTS_AVG                  307511 non-null  float64\n",
      " 65   NONLIVINGAREA_AVG                        307511 non-null  float64\n",
      " 66   APARTMENTS_MODE                          307511 non-null  float64\n",
      " 67   BASEMENTAREA_MODE                        307511 non-null  float64\n",
      " 68   YEARS_BEGINEXPLUATATION_MODE             307511 non-null  float64\n",
      " 69   YEARS_BUILD_MODE                         307511 non-null  float64\n",
      " 70   COMMONAREA_MODE                          307511 non-null  float64\n",
      " 71   ELEVATORS_MODE                           307511 non-null  float64\n",
      " 72   ENTRANCES_MODE                           307511 non-null  float64\n",
      " 73   FLOORSMAX_MODE                           307511 non-null  float64\n",
      " 74   FLOORSMIN_MODE                           307511 non-null  float64\n",
      " 75   LANDAREA_MODE                            307511 non-null  float64\n",
      " 76   LIVINGAPARTMENTS_MODE                    307511 non-null  float64\n",
      " 77   LIVINGAREA_MODE                          307511 non-null  float64\n",
      " 78   NONLIVINGAPARTMENTS_MODE                 307511 non-null  float64\n",
      " 79   NONLIVINGAREA_MODE                       307511 non-null  float64\n",
      " 80   APARTMENTS_MEDI                          307511 non-null  float64\n",
      " 81   BASEMENTAREA_MEDI                        307511 non-null  float64\n",
      " 82   YEARS_BEGINEXPLUATATION_MEDI             307511 non-null  float64\n",
      " 83   YEARS_BUILD_MEDI                         307511 non-null  float64\n",
      " 84   COMMONAREA_MEDI                          307511 non-null  float64\n",
      " 85   ELEVATORS_MEDI                           307511 non-null  float64\n",
      " 86   ENTRANCES_MEDI                           307511 non-null  float64\n",
      " 87   FLOORSMAX_MEDI                           307511 non-null  float64\n",
      " 88   FLOORSMIN_MEDI                           307511 non-null  float64\n",
      " 89   LANDAREA_MEDI                            307511 non-null  float64\n",
      " 90   LIVINGAPARTMENTS_MEDI                    307511 non-null  float64\n",
      " 91   LIVINGAREA_MEDI                          307511 non-null  float64\n",
      " 92   NONLIVINGAPARTMENTS_MEDI                 307511 non-null  float64\n",
      " 93   NONLIVINGAREA_MEDI                       307511 non-null  float64\n",
      " 94   TOTALAREA_MODE                           307511 non-null  float64\n",
      " 95   OBS_30_CNT_SOCIAL_CIRCLE                 307511 non-null  float64\n",
      " 96   DEF_30_CNT_SOCIAL_CIRCLE                 307511 non-null  float64\n",
      " 97   OBS_60_CNT_SOCIAL_CIRCLE                 307511 non-null  float64\n",
      " 98   DEF_60_CNT_SOCIAL_CIRCLE                 307511 non-null  float64\n",
      " 99   DAYS_LAST_PHONE_CHANGE                   307511 non-null  float64\n",
      " 100  AMT_REQ_CREDIT_BUREAU_HOUR               307511 non-null  float64\n",
      " 101  AMT_REQ_CREDIT_BUREAU_DAY                307511 non-null  float64\n",
      " 102  AMT_REQ_CREDIT_BUREAU_WEEK               307511 non-null  float64\n",
      " 103  AMT_REQ_CREDIT_BUREAU_MON                307511 non-null  float64\n",
      " 104  AMT_REQ_CREDIT_BUREAU_QRT                307511 non-null  float64\n",
      " 105  AMT_REQ_CREDIT_BUREAU_YEAR               307511 non-null  float64\n",
      " 106  NAME_CONTRACT_TYPE                       307511 non-null  object \n",
      " 107  CODE_GENDER                              307511 non-null  object \n",
      " 108  FLAG_OWN_CAR                             307511 non-null  object \n",
      " 109  FLAG_OWN_REALTY                          307511 non-null  object \n",
      " 110  NAME_TYPE_SUITE                          307511 non-null  object \n",
      " 111  NAME_INCOME_TYPE                         307511 non-null  object \n",
      " 112  NAME_EDUCATION_TYPE                      307511 non-null  object \n",
      " 113  NAME_FAMILY_STATUS                       307511 non-null  object \n",
      " 114  NAME_HOUSING_TYPE                        307511 non-null  object \n",
      " 115  OCCUPATION_TYPE                          307511 non-null  object \n",
      " 116  WEEKDAY_APPR_PROCESS_START               307511 non-null  object \n",
      " 117  ORGANIZATION_TYPE                        307511 non-null  object \n",
      " 118  FONDKAPREMONT_MODE                       307511 non-null  object \n",
      " 119  HOUSETYPE_MODE                           307511 non-null  object \n",
      " 120  WALLSMATERIAL_MODE                       307511 non-null  object \n",
      " 121  EMERGENCYSTATE_MODE                      307511 non-null  object \n",
      " 122  DAYS_EMPLOYED_PERC                       307511 non-null  float64\n",
      " 123  INCOME_CREDIT_PERC                       307511 non-null  float64\n",
      " 124  INCOME_PER_PERSON                        307511 non-null  float64\n",
      " 125  ANNUITY_INCOME_PERC                      307511 non-null  float64\n",
      " 126  PAYMENT_RATE                             307511 non-null  float64\n",
      " 127  Number_of_historical_applications        290664 non-null  float64\n",
      " 128  Total_historical_application             290664 non-null  float64\n",
      " 129  Total_historical                         290664 non-null  float64\n",
      " 130  avg_application_amount                   290664 non-null  float64\n",
      " 131  avg_amount                               290664 non-null  float64\n",
      " 132  NAME_CASH_LOAN_PURPOSE_MAX               290664 non-null  object \n",
      " 133  CODE_REJECT_REASON_MAX                   290664 non-null  object \n",
      " 134  NAME_PORTFOLIO_MAX                       290664 non-null  object \n",
      " 135  CNT_PAYMENT_MAX                          290664 non-null  float64\n",
      " 136  CNT_PAYMENT_AVG                          290664 non-null  float64\n",
      " 137  CNT_PAYMENT_MIN                          290664 non-null  float64\n",
      " 138  CNT_PAYMENT_SUM                          290664 non-null  float64\n",
      " 139  NAME_YIELD_GROUP_MAX                     290664 non-null  object \n",
      " 140  DAYS_FIRST_DRAWING_MAX                   290664 non-null  float64\n",
      " 141  DAYS_FIRST_DRAWING_AVG                   290664 non-null  float64\n",
      " 142  DAYS_FIRST_DRAWING_MIN                   290664 non-null  float64\n",
      " 143  DAYS_FIRST_DRAWING_SUM                   290664 non-null  float64\n",
      " 144  DAYS_FIRST_DUE_MAX                       290664 non-null  float64\n",
      " 145  DAYS_FIRST_DUE_AVG                       290664 non-null  float64\n",
      " 146  DAYS_FIRST_DUE_MIN                       290664 non-null  float64\n",
      " 147  DAYS_FIRST_DUE_SUM                       290664 non-null  float64\n",
      " 148  DAYS_LAST_DUE_1ST_VERSION_MAX            290664 non-null  float64\n",
      " 149  DAYS_LAST_DUE_1ST_VERSION_AVG            290664 non-null  float64\n",
      " 150  DAYS_LAST_DUE_1ST_VERSION_MIN            290664 non-null  float64\n",
      " 151  DAYS_LAST_DUE_1ST_VERSION_SUM            290664 non-null  float64\n",
      " 152  DAYS_LAST_DUE_MAX                        290664 non-null  float64\n",
      " 153  DAYS_LAST_DUE_AVG                        290664 non-null  float64\n",
      " 154  DAYS_LAST_DUE_MIN                        290664 non-null  float64\n",
      " 155  DAYS_LAST_DUE_SUM                        290664 non-null  float64\n",
      " 156  DAYS_TERMINATION_MAX                     290664 non-null  float64\n",
      " 157  DAYS_TERMINATION_AVG                     290664 non-null  float64\n",
      " 158  DAYS_TERMINATION_MIN                     290664 non-null  float64\n",
      " 159  DAYS_TERMINATION_SUM                     290664 non-null  float64\n",
      " 160  Number_of_Refused                        290664 non-null  float64\n",
      " 161  R_Total_historical_application           290664 non-null  float64\n",
      " 162  R_avg_application_amount                 290664 non-null  float64\n",
      " 163  R_min_amount                             290664 non-null  float64\n",
      " 164  Number_of_Approved                       290664 non-null  float64\n",
      " 165  P_max_amount                             290664 non-null  float64\n",
      " 166  P_Total_historical_application           290664 non-null  float64\n",
      " 167  P_avg_application_amount                 290664 non-null  float64\n",
      " 168  P_max_AMT_CREDIT                         290664 non-null  float64\n",
      " 169  P_Total_AMT_CREDIT_application           290664 non-null  float64\n",
      " 170  P_avg_application_AMT_CREDIT             290664 non-null  float64\n",
      " 171  Difference_total                         290664 non-null  float64\n",
      " 172  Difference_max                           290664 non-null  float64\n",
      " 173  Pass_rate                                290664 non-null  float64\n",
      " 174  90D_Number_of_Refused                    290664 non-null  float64\n",
      " 175  90D_R_Total_historical_application       290664 non-null  float64\n",
      " 176  90D_R_avg_application_amount             290664 non-null  float64\n",
      " 177  90D_R_min_amount                         290664 non-null  float64\n",
      " 178  90D_Number_of_Approved                   290664 non-null  float64\n",
      " 179  90D_P_max_amount                         290664 non-null  float64\n",
      " 180  90D_P_Total_historical_application       290664 non-null  float64\n",
      " 181  90D_P_avg_application_amount             290664 non-null  float64\n",
      " 182  90D_P_max_AMT_CREDIT                     290664 non-null  float64\n",
      " 183  90D_P_Total_AMT_CREDIT_application       290664 non-null  float64\n",
      " 184  90D_P_avg_application_AMT_CREDIT         290664 non-null  float64\n",
      " 185  90D_Difference_total                     290664 non-null  float64\n",
      " 186  90D_Difference_max                       290664 non-null  float64\n",
      " 187  90D_Number_of_historical_applications    290664 non-null  float64\n",
      " 188  90D_Total_historical_application         290664 non-null  float64\n",
      " 189  90D_Total_historical                     290664 non-null  float64\n",
      " 190  90D_avg_application_amount               290664 non-null  float64\n",
      " 191  90D_avg_amount                           290664 non-null  float64\n",
      " 192  90D_NAME_CASH_LOAN_PURPOSE_MAX           290664 non-null  object \n",
      " 193  90D_CODE_REJECT_REASON_MAX               290664 non-null  object \n",
      " 194  90D_NAME_PORTFOLIO_MAX                   290664 non-null  object \n",
      " 195  90D_CNT_PAYMENT_MAX                      290664 non-null  float64\n",
      " 196  90D_CNT_PAYMENT_AVG                      290664 non-null  float64\n",
      " 197  90D_CNT_PAYMENT_MIN                      290664 non-null  float64\n",
      " 198  90D_CNT_PAYMENT_SUM                      290664 non-null  float64\n",
      " 199  90D_NAME_YIELD_GROUP_MAX                 290664 non-null  object \n",
      " 200  280D_Number_of_Refused                   290664 non-null  float64\n",
      " 201  280D_R_Total_historical_application      290664 non-null  float64\n",
      " 202  280D_R_avg_application_amount            290664 non-null  float64\n",
      " 203  280D_R_min_amount                        290664 non-null  float64\n",
      " 204  280D_Number_of_Approved                  290664 non-null  float64\n",
      " 205  280D_P_max_amount                        290664 non-null  float64\n",
      " 206  280D_P_Total_historical_application      290664 non-null  float64\n",
      " 207  280D_P_avg_application_amount            290664 non-null  float64\n",
      " 208  280D_P_max_AMT_CREDIT                    290664 non-null  float64\n",
      " 209  280D_P_Total_AMT_CREDIT_application      290664 non-null  float64\n",
      " 210  280D_P_avg_application_AMT_CREDIT        290664 non-null  float64\n",
      " 211  280D_Difference_total                    290664 non-null  float64\n",
      " 212  280D_Difference_max                      290664 non-null  float64\n",
      " 213  280D_Number_of_historical_applications   290664 non-null  float64\n",
      " 214  280D_Total_historical_application        290664 non-null  float64\n",
      " 215  280D_Total_historical                    290664 non-null  float64\n",
      " 216  280D_avg_application_amount              290664 non-null  float64\n",
      " 217  280D_avg_amount                          290664 non-null  float64\n",
      " 218  280D_NAME_CASH_LOAN_PURPOSE_MAX          290664 non-null  object \n",
      " 219  280D_CODE_REJECT_REASON_MAX              290664 non-null  object \n",
      " 220  280D_NAME_PORTFOLIO_MAX                  290664 non-null  object \n",
      " 221  280D_CNT_PAYMENT_MAX                     290664 non-null  float64\n",
      " 222  280D_CNT_PAYMENT_AVG                     290664 non-null  float64\n",
      " 223  280D_CNT_PAYMENT_MIN                     290664 non-null  float64\n",
      " 224  280D_CNT_PAYMENT_SUM                     290664 non-null  float64\n",
      " 225  280D_NAME_YIELD_GROUP_MAX                290664 non-null  object \n",
      " 226  581D_Number_of_Refused                   290664 non-null  float64\n",
      " 227  581D_R_Total_historical_application      290664 non-null  float64\n",
      " 228  581D_R_avg_application_amount            290664 non-null  float64\n",
      " 229  581D_R_min_amount                        290664 non-null  float64\n",
      " 230  581D_Number_of_Approved                  290664 non-null  float64\n",
      " 231  581D_P_max_amount                        290664 non-null  float64\n",
      " 232  581D_P_Total_historical_application      290664 non-null  float64\n",
      " 233  581D_P_avg_application_amount            290664 non-null  float64\n",
      " 234  581D_P_max_AMT_CREDIT                    290664 non-null  float64\n",
      " 235  581D_P_Total_AMT_CREDIT_application      290664 non-null  float64\n",
      " 236  581D_P_avg_application_AMT_CREDIT        290664 non-null  float64\n",
      " 237  581D_Difference_total                    290664 non-null  float64\n",
      " 238  581D_Difference_max                      290664 non-null  float64\n",
      " 239  581D_Number_of_historical_applications   290664 non-null  float64\n",
      " 240  581D_Total_historical_application        290664 non-null  float64\n",
      " 241  581D_Total_historical                    290664 non-null  float64\n",
      " 242  581D_avg_application_amount              290664 non-null  float64\n",
      " 243  581D_avg_amount                          290664 non-null  float64\n",
      " 244  581D_NAME_CASH_LOAN_PURPOSE_MAX          290664 non-null  object \n",
      " 245  581D_CODE_REJECT_REASON_MAX              290664 non-null  object \n",
      " 246  581D_NAME_PORTFOLIO_MAX                  290664 non-null  object \n",
      " 247  581D_CNT_PAYMENT_MAX                     290664 non-null  float64\n",
      " 248  581D_CNT_PAYMENT_AVG                     290664 non-null  float64\n",
      " 249  581D_CNT_PAYMENT_MIN                     290664 non-null  float64\n",
      " 250  581D_CNT_PAYMENT_SUM                     290664 non-null  float64\n",
      " 251  581D_NAME_YIELD_GROUP_MAX                290664 non-null  object \n",
      " 252  1300D_Number_of_Refused                  290664 non-null  float64\n",
      " 253  1300D_R_Total_historical_application     290664 non-null  float64\n",
      " 254  1300D_R_avg_application_amount           290664 non-null  float64\n",
      " 255  1300D_R_min_amount                       290664 non-null  float64\n",
      " 256  1300D_Number_of_Approved                 290664 non-null  float64\n",
      " 257  1300D_P_max_amount                       290664 non-null  float64\n",
      " 258  1300D_P_Total_historical_application     290664 non-null  float64\n",
      " 259  1300D_P_avg_application_amount           290664 non-null  float64\n",
      " 260  1300D_P_max_AMT_CREDIT                   290664 non-null  float64\n",
      " 261  1300D_P_Total_AMT_CREDIT_application     290664 non-null  float64\n",
      " 262  1300D_P_avg_application_AMT_CREDIT       290664 non-null  float64\n",
      " 263  1300D_Difference_total                   290664 non-null  float64\n",
      " 264  1300D_Difference_max                     290664 non-null  float64\n",
      " 265  1300D_Number_of_historical_applications  290664 non-null  float64\n",
      " 266  1300D_Total_historical_application       290664 non-null  float64\n",
      " 267  1300D_Total_historical                   290664 non-null  float64\n",
      " 268  1300D_avg_application_amount             290664 non-null  float64\n",
      " 269  1300D_avg_amount                         290664 non-null  float64\n",
      " 270  1300D_NAME_CASH_LOAN_PURPOSE_MAX         290664 non-null  object \n",
      " 271  1300D_CODE_REJECT_REASON_MAX             290664 non-null  object \n",
      " 272  1300D_NAME_PORTFOLIO_MAX                 290664 non-null  object \n",
      " 273  1300D_CNT_PAYMENT_MAX                    290664 non-null  float64\n",
      " 274  1300D_CNT_PAYMENT_AVG                    290664 non-null  float64\n",
      " 275  1300D_CNT_PAYMENT_MIN                    290664 non-null  float64\n",
      " 276  1300D_CNT_PAYMENT_SUM                    290664 non-null  float64\n",
      " 277  1300D_NAME_YIELD_GROUP_MAX               290664 non-null  object \n",
      "dtypes: float64(202), int64(40), object(36)\n",
      "memory usage: 654.6+ MB\n"
     ]
    }
   ],
   "source": [
    "df_ft.info(verbose=True,show_counts=True)"
   ],
   "metadata": {
    "collapsed": false,
    "ExecuteTime": {
     "end_time": "2025-08-25T10:37:29.952641500Z",
     "start_time": "2025-08-25T10:37:29.000267400Z"
    }
   },
   "id": "13531df6ed266785"
  },
  {
   "cell_type": "code",
   "execution_count": 160,
   "outputs": [
    {
     "name": "stdout",
     "output_type": "stream",
     "text": [
      "缺失列数量0\n"
     ]
    }
   ],
   "source": [
    "count_list_na(df_ft)"
   ],
   "metadata": {
    "collapsed": false,
    "ExecuteTime": {
     "end_time": "2025-08-25T10:40:33.748564100Z",
     "start_time": "2025-08-25T10:40:33.506496200Z"
    }
   },
   "id": "6dbb9985cdc88e3"
  },
  {
   "cell_type": "code",
   "execution_count": 159,
   "outputs": [],
   "source": [
    "df_ft = df_ft.fillna(-1)"
   ],
   "metadata": {
    "collapsed": false,
    "ExecuteTime": {
     "end_time": "2025-08-25T10:40:31.934922600Z",
     "start_time": "2025-08-25T10:40:30.401960200Z"
    }
   },
   "id": "33fe7358766aa007"
  },
  {
   "cell_type": "code",
   "execution_count": 161,
   "outputs": [],
   "source": [
    "x=df_ft.drop(['TARGET'],axis=1)\n",
    "y=df_ft['TARGET']"
   ],
   "metadata": {
    "collapsed": false,
    "ExecuteTime": {
     "end_time": "2025-08-25T10:43:56.931401800Z",
     "start_time": "2025-08-25T10:43:56.870013Z"
    }
   },
   "id": "2014184ef2a505da"
  },
  {
   "cell_type": "code",
   "execution_count": 175,
   "outputs": [],
   "source": [
    "df_ft.to_csv(r'I:\\PYTHON\\AI_datamining\\src\\data\\previous_application_ft_cleaned_fillna.csv',index=False)"
   ],
   "metadata": {
    "collapsed": false,
    "ExecuteTime": {
     "end_time": "2025-08-25T16:21:52.008915100Z",
     "start_time": "2025-08-25T16:21:28.017407300Z"
    }
   },
   "id": "52f8060f1360ba55"
  },
  {
   "cell_type": "code",
   "execution_count": 162,
   "outputs": [
    {
     "data": {
      "text/plain": "        SK_ID_CURR  CNT_CHILDREN  DAYS_BIRTH  DAYS_EMPLOYED  DAYS_ID_PUBLISH  \\\n111026      228804             0      -15143        -4129.0            -4900   \n111731      229621             1      -12028         -866.0            -4094   \n71962       183452             0      -19007        -3401.0            -2542   \n262442      403830             1      -10491        -3473.0            -3154   \n285962      431192             0      -24047           -1.0            -4561   \n\n        FLAG_MOBIL  FLAG_EMP_PHONE  FLAG_WORK_PHONE  FLAG_CONT_MOBILE  \\\n111026           1               1                0                 1   \n111731           1               1                0                 1   \n71962            1               1                0                 1   \n262442           1               1                0                 1   \n285962           1               0                0                 1   \n\n        FLAG_PHONE  ...  1300D_avg_application_amount  1300D_avg_amount  \\\n111026           0  ...                 103327.714286     154446.428571   \n111731           0  ...                 184475.250000     187634.250000   \n71962            0  ...                  64782.000000      51822.000000   \n262442           0  ...                     -1.000000         -1.000000   \n285962           0  ...                 195994.500000     207850.500000   \n\n        1300D_NAME_CASH_LOAN_PURPOSE_MAX  1300D_CODE_REJECT_REASON_MAX  \\\n111026                                -1                           XAP   \n111731                               XAP                           XAP   \n71962                                XAP                           XAP   \n262442                                -1                            -1   \n285962                               XAP                           XAP   \n\n        1300D_NAME_PORTFOLIO_MAX  1300D_CNT_PAYMENT_MAX  \\\n111026                      Cash                   48.0   \n111731                     Cards                   24.0   \n71962                        POS                   12.0   \n262442                        -1                   -1.0   \n285962                       POS                   24.0   \n\n        1300D_CNT_PAYMENT_AVG  1300D_CNT_PAYMENT_MIN  1300D_CNT_PAYMENT_SUM  \\\n111026              25.333333                    4.0                   76.0   \n111731              12.000000                    0.0                   24.0   \n71962               12.000000                   12.0                   12.0   \n262442              -1.000000                   -1.0                   -1.0   \n285962              16.666667                   12.0                   50.0   \n\n        1300D_NAME_YIELD_GROUP_MAX  \n111026                        high  \n111731                          -1  \n71962                       middle  \n262442                          -1  \n285962                  low_action  \n\n[5 rows x 277 columns]",
      "text/html": "<div>\n<style scoped>\n    .dataframe tbody tr th:only-of-type {\n        vertical-align: middle;\n    }\n\n    .dataframe tbody tr th {\n        vertical-align: top;\n    }\n\n    .dataframe thead th {\n        text-align: right;\n    }\n</style>\n<table border=\"1\" class=\"dataframe\">\n  <thead>\n    <tr style=\"text-align: right;\">\n      <th></th>\n      <th>SK_ID_CURR</th>\n      <th>CNT_CHILDREN</th>\n      <th>DAYS_BIRTH</th>\n      <th>DAYS_EMPLOYED</th>\n      <th>DAYS_ID_PUBLISH</th>\n      <th>FLAG_MOBIL</th>\n      <th>FLAG_EMP_PHONE</th>\n      <th>FLAG_WORK_PHONE</th>\n      <th>FLAG_CONT_MOBILE</th>\n      <th>FLAG_PHONE</th>\n      <th>...</th>\n      <th>1300D_avg_application_amount</th>\n      <th>1300D_avg_amount</th>\n      <th>1300D_NAME_CASH_LOAN_PURPOSE_MAX</th>\n      <th>1300D_CODE_REJECT_REASON_MAX</th>\n      <th>1300D_NAME_PORTFOLIO_MAX</th>\n      <th>1300D_CNT_PAYMENT_MAX</th>\n      <th>1300D_CNT_PAYMENT_AVG</th>\n      <th>1300D_CNT_PAYMENT_MIN</th>\n      <th>1300D_CNT_PAYMENT_SUM</th>\n      <th>1300D_NAME_YIELD_GROUP_MAX</th>\n    </tr>\n  </thead>\n  <tbody>\n    <tr>\n      <th>111026</th>\n      <td>228804</td>\n      <td>0</td>\n      <td>-15143</td>\n      <td>-4129.0</td>\n      <td>-4900</td>\n      <td>1</td>\n      <td>1</td>\n      <td>0</td>\n      <td>1</td>\n      <td>0</td>\n      <td>...</td>\n      <td>103327.714286</td>\n      <td>154446.428571</td>\n      <td>-1</td>\n      <td>XAP</td>\n      <td>Cash</td>\n      <td>48.0</td>\n      <td>25.333333</td>\n      <td>4.0</td>\n      <td>76.0</td>\n      <td>high</td>\n    </tr>\n    <tr>\n      <th>111731</th>\n      <td>229621</td>\n      <td>1</td>\n      <td>-12028</td>\n      <td>-866.0</td>\n      <td>-4094</td>\n      <td>1</td>\n      <td>1</td>\n      <td>0</td>\n      <td>1</td>\n      <td>0</td>\n      <td>...</td>\n      <td>184475.250000</td>\n      <td>187634.250000</td>\n      <td>XAP</td>\n      <td>XAP</td>\n      <td>Cards</td>\n      <td>24.0</td>\n      <td>12.000000</td>\n      <td>0.0</td>\n      <td>24.0</td>\n      <td>-1</td>\n    </tr>\n    <tr>\n      <th>71962</th>\n      <td>183452</td>\n      <td>0</td>\n      <td>-19007</td>\n      <td>-3401.0</td>\n      <td>-2542</td>\n      <td>1</td>\n      <td>1</td>\n      <td>0</td>\n      <td>1</td>\n      <td>0</td>\n      <td>...</td>\n      <td>64782.000000</td>\n      <td>51822.000000</td>\n      <td>XAP</td>\n      <td>XAP</td>\n      <td>POS</td>\n      <td>12.0</td>\n      <td>12.000000</td>\n      <td>12.0</td>\n      <td>12.0</td>\n      <td>middle</td>\n    </tr>\n    <tr>\n      <th>262442</th>\n      <td>403830</td>\n      <td>1</td>\n      <td>-10491</td>\n      <td>-3473.0</td>\n      <td>-3154</td>\n      <td>1</td>\n      <td>1</td>\n      <td>0</td>\n      <td>1</td>\n      <td>0</td>\n      <td>...</td>\n      <td>-1.000000</td>\n      <td>-1.000000</td>\n      <td>-1</td>\n      <td>-1</td>\n      <td>-1</td>\n      <td>-1.0</td>\n      <td>-1.000000</td>\n      <td>-1.0</td>\n      <td>-1.0</td>\n      <td>-1</td>\n    </tr>\n    <tr>\n      <th>285962</th>\n      <td>431192</td>\n      <td>0</td>\n      <td>-24047</td>\n      <td>-1.0</td>\n      <td>-4561</td>\n      <td>1</td>\n      <td>0</td>\n      <td>0</td>\n      <td>1</td>\n      <td>0</td>\n      <td>...</td>\n      <td>195994.500000</td>\n      <td>207850.500000</td>\n      <td>XAP</td>\n      <td>XAP</td>\n      <td>POS</td>\n      <td>24.0</td>\n      <td>16.666667</td>\n      <td>12.0</td>\n      <td>50.0</td>\n      <td>low_action</td>\n    </tr>\n  </tbody>\n</table>\n<p>5 rows × 277 columns</p>\n</div>"
     },
     "execution_count": 162,
     "metadata": {},
     "output_type": "execute_result"
    }
   ],
   "source": [
    "from sklearn.model_selection import train_test_split\n",
    "x_train,x_test,y_train,y_test = train_test_split(x,y,test_size=0.2,random_state=22)\n",
    "x_train.head()"
   ],
   "metadata": {
    "collapsed": false,
    "ExecuteTime": {
     "end_time": "2025-08-25T10:43:58.971464800Z",
     "start_time": "2025-08-25T10:43:57.946988Z"
    }
   },
   "id": "c177ea932a3a832f"
  },
  {
   "cell_type": "code",
   "execution_count": 163,
   "outputs": [],
   "source": [
    "import toad\n",
    "c = toad.transform.Combiner()\n",
    "c.fit(x_train,y_train,method='chi',min_samples=0.05)\n",
    "transer = toad.transform.WOETransformer()\n",
    "\n"
   ],
   "metadata": {
    "collapsed": false,
    "ExecuteTime": {
     "end_time": "2025-08-25T12:08:44.978915400Z",
     "start_time": "2025-08-25T10:44:00.211462400Z"
    }
   },
   "id": "af7db2c8fb09b384"
  },
  {
   "cell_type": "code",
   "execution_count": 164,
   "outputs": [],
   "source": [
    "x_train_woe = transer.fit_transform(c.transform(x_train),y_train,exclude=['SK_ID_CURR'])\n",
    "x_test_woe = transer.transform(c.transform(x_test))"
   ],
   "metadata": {
    "collapsed": false,
    "ExecuteTime": {
     "end_time": "2025-08-25T12:09:23.078791800Z",
     "start_time": "2025-08-25T12:08:44.978915400Z"
    }
   },
   "id": "88a44ab481543c10"
  },
  {
   "cell_type": "code",
   "execution_count": 176,
   "outputs": [],
   "source": [
    "x_train_woe.to_csv(r'I:\\PYTHON\\AI_datamining\\src\\data\\x_train_woe.csv',index=False)\n",
    "x_test_woe.to_csv(r'I:\\PYTHON\\AI_datamining\\src\\data\\x_test_woe.csv',index=False)\n",
    "\n",
    "\n"
   ],
   "metadata": {
    "collapsed": false,
    "ExecuteTime": {
     "end_time": "2025-08-25T16:26:02.771917400Z",
     "start_time": "2025-08-25T16:25:10.650916300Z"
    }
   },
   "id": "2f086c9b80215f32"
  },
  {
   "cell_type": "code",
   "execution_count": 166,
   "outputs": [
    {
     "name": "stdout",
     "output_type": "stream",
     "text": [
      "保留特征: 16 缺失删除: 0 低iv删除： 256 高相关删除： 5\n"
     ]
    },
    {
     "data": {
      "text/plain": "(246008, 16)"
     },
     "execution_count": 166,
     "metadata": {},
     "output_type": "execute_result"
    }
   ],
   "source": [
    "x_train_woe_stp,drop_list = toad.selection.select(x_train_woe,\n",
    "target=y_train,\n",
    "                                                  empty=0.5,\n",
    "                                                  iv=0.05,\n",
    "                                                  corr=0.7,\n",
    "                                                  return_drop=True)\n",
    "print('保留特征:',x_train_woe_stp.shape[1],'缺失删除:',len(drop_list['empty']),'低iv删除：',len(drop_list['iv']),'高相关删除：',len(drop_list['corr']))\n",
    "x_train_woe_stp.shape"
   ],
   "metadata": {
    "collapsed": false,
    "ExecuteTime": {
     "end_time": "2025-08-25T12:09:27.370356200Z",
     "start_time": "2025-08-25T12:09:23.087103900Z"
    }
   },
   "id": "cc547aa47948757"
  },
  {
   "cell_type": "code",
   "execution_count": 167,
   "outputs": [],
   "source": [
    "x_test_woe_stp = x_test_woe[x_train_woe_stp.columns]\n"
   ],
   "metadata": {
    "collapsed": false,
    "ExecuteTime": {
     "end_time": "2025-08-25T12:09:27.441937400Z",
     "start_time": "2025-08-25T12:09:27.368357300Z"
    }
   },
   "id": "fd9316a9206a0d72"
  },
  {
   "cell_type": "code",
   "execution_count": 168,
   "outputs": [
    {
     "name": "stdout",
     "output_type": "stream",
     "text": [
      "<class 'pandas.core.frame.DataFrame'>\n",
      "Int64Index: 61503 entries, 83449 to 225618\n",
      "Data columns (total 16 columns):\n",
      " #   Column                         Non-Null Count  Dtype  \n",
      "---  ------                         --------------  -----  \n",
      " 0   DAYS_BIRTH                     61503 non-null  float64\n",
      " 1   DAYS_EMPLOYED                  61503 non-null  float64\n",
      " 2   REGION_RATING_CLIENT_W_CITY    61503 non-null  float64\n",
      " 3   AMT_GOODS_PRICE                61503 non-null  float64\n",
      " 4   EXT_SOURCE_1                   61503 non-null  float64\n",
      " 5   EXT_SOURCE_2                   61503 non-null  float64\n",
      " 6   EXT_SOURCE_3                   61503 non-null  float64\n",
      " 7   NAME_INCOME_TYPE               61503 non-null  float64\n",
      " 8   OCCUPATION_TYPE                61503 non-null  float64\n",
      " 9   ORGANIZATION_TYPE              61503 non-null  float64\n",
      " 10  PAYMENT_RATE                   61503 non-null  float64\n",
      " 11  DAYS_FIRST_DUE_AVG             61503 non-null  float64\n",
      " 12  DAYS_LAST_DUE_1ST_VERSION_SUM  61503 non-null  float64\n",
      " 13  Pass_rate                      61503 non-null  float64\n",
      " 14  581D_Number_of_Refused         61503 non-null  float64\n",
      " 15  1300D_NAME_YIELD_GROUP_MAX     61503 non-null  float64\n",
      "dtypes: float64(16)\n",
      "memory usage: 8.0 MB\n"
     ]
    }
   ],
   "source": [
    "x_test_woe_stp.info()"
   ],
   "metadata": {
    "collapsed": false,
    "ExecuteTime": {
     "end_time": "2025-08-25T12:09:27.452143200Z",
     "start_time": "2025-08-25T12:09:27.442938500Z"
    }
   },
   "id": "4b64d0b286301a5d"
  },
  {
   "cell_type": "code",
   "execution_count": 177,
   "outputs": [],
   "source": [
    "x_train_woe_stp.to_csv(r'I:\\PYTHON\\AI_datamining\\src\\data\\x_train_woe_stp.csv',index=False)\n",
    "x_test_woe_stp.to_csv(r'I:\\PYTHON\\AI_datamining\\src\\data\\x_test_woe_stp.csv',index=False)\n",
    "y_train.to_csv(r'I:\\PYTHON\\AI_datamining\\src\\data\\y_train.csv',index=False)\n",
    "y_test.to_csv(r'I:\\PYTHON\\AI_datamining\\src\\data\\y_test.csv',index=False)"
   ],
   "metadata": {
    "collapsed": false,
    "ExecuteTime": {
     "end_time": "2025-08-25T16:26:20.267278200Z",
     "start_time": "2025-08-25T16:26:16.911820500Z"
    }
   },
   "id": "c51eeb2e0a4b0b25"
  },
  {
   "cell_type": "code",
   "execution_count": 169,
   "outputs": [],
   "source": [
    "# 过采样\n",
    "\n",
    "# def lgb_test(x_train,y_train,x_test,y_test):\n",
    "#     import lightgbm as lgb\n",
    "#     clf = lgb.LGBMClassifier(boosting_type='gbdt',\n",
    "#                              objective='binary',\n",
    "#                              metric = 'auc',\n",
    "#                              learning_rate=0.1,\n",
    "#                              n_estimators=24,\n",
    "#                              max_depth=4,\n",
    "#                              num_leaves=25,\n",
    "#                              max_bin = 40,\n",
    "#                              min_data_in_leaf=5,\n",
    "#                              bagging_fraction=0.6,\n",
    "#                              bagging_freq=0,\n",
    "#                              feature_fraction=0.8)\n",
    "#     clf.fit(x_train,y_train,eval_set=[(x_train,y_train),(x_test,y_test)],eval_metric = 'auc')\n",
    "#     return clf,clf.best_score_['valid_1']['auc']"
   ],
   "metadata": {
    "collapsed": false,
    "ExecuteTime": {
     "end_time": "2025-08-25T12:09:27.466010400Z",
     "start_time": "2025-08-25T12:09:27.448413Z"
    }
   },
   "id": "de55ae669307496"
  },
  {
   "cell_type": "code",
   "execution_count": 170,
   "outputs": [],
   "source": [
    "# 过采样\n",
    "\n",
    "# lgb_model,lgb_auc = lgb_test(x_train_woe_stp,y_train,x_test_woe_stp,y_test)\n",
    "# sample = x_train_woe_stp.copy() \n",
    "# sample['TARGET'] =y_train\n",
    "# sample['pred'] = lgb_model.predict_proba(x_train_woe_stp)[:,1]\n",
    "# \n",
    "# sample = sample.sort_values(by=['pred'],ascending=False).reset_index()\n",
    "# sample['rank'] = sample.index.values/len(sample)\n",
    "# sample['pred'].min()"
   ],
   "metadata": {
    "collapsed": false,
    "ExecuteTime": {
     "end_time": "2025-08-25T12:09:27.469694500Z",
     "start_time": "2025-08-25T12:09:27.452143200Z"
    }
   },
   "id": "5ab46e82ef282183"
  },
  {
   "cell_type": "code",
   "execution_count": 171,
   "outputs": [],
   "source": [
    "# def weight(x,y):\n",
    "#     if x == 0 and y <0.1:\n",
    "#         return 0.1\n",
    "#     elif x == 1 and y >0.7:\n",
    "#         return 0.1\n",
    "#     else:\n",
    "#         return 1\n",
    "# \n",
    "# sample['weight'] = sample.apply(lambda row:weight(row['TARGET'],row['rank']),axis = 1)\n",
    "# #把预测相对比较准的取出来进行过采样\n",
    "# smote_sample = sample[sample.weight == 1]\n",
    "# x_train_woe_stp_smote = smote_sample[x_train_woe_stp.columns]\n",
    "# y_train_smote = smote_sample['TARGET']\n",
    "# smote_sample.shape"
   ],
   "metadata": {
    "collapsed": false,
    "ExecuteTime": {
     "end_time": "2025-08-25T12:09:27.469694500Z",
     "start_time": "2025-08-25T12:09:27.455944300Z"
    }
   },
   "id": "97cc3cabd82f3574"
  },
  {
   "cell_type": "code",
   "execution_count": 172,
   "outputs": [],
   "source": [
    "# def smote(train_x_smote,train_y_smote,K=15,random_state=0):\n",
    "#     from imblearn.over_sampling import SMOTE\n",
    "#     smote = SMOTE(k_neighbors=K, n_jobs=1,random_state=random_state)\n",
    "#     #fit_resample，找K个邻居，然后进行过采样\n",
    "#     rex,rey = smote.fit_resample(train_x_smote,train_y_smote)\n",
    "#     return rex,rey\n",
    "# rex,rey =smote(x_train_woe_stp_smote,y_train_smote)\n",
    "# \n",
    "# #查看数据\n",
    "# rey.value_counts()"
   ],
   "metadata": {
    "collapsed": false,
    "ExecuteTime": {
     "end_time": "2025-08-25T12:09:27.469694500Z",
     "start_time": "2025-08-25T12:09:27.461071500Z"
    }
   },
   "id": "25b1f01fb485d066"
  },
  {
   "cell_type": "code",
   "execution_count": 179,
   "outputs": [],
   "source": [
    "from sklearn.metrics import roc_curve,roc_auc_score\n",
    "from sklearn.linear_model import LogisticRegression\n",
    "def lr_model(x,y,x_test,y_test,C=0.1):\n",
    "    model = LogisticRegression(class_weight='balanced',C= 0.1, penalty= 'l2', solver= 'liblinear')\n",
    "    model.fit(x,y)\n",
    "    \n",
    "    y_pred = model.predict_proba(x)[:,1]\n",
    "    fpr,tpr,_=roc_curve(y,y_pred)\n",
    "    x_ks = abs(fpr-tpr).max()\n",
    "    print('x_ks:',x_ks)\n",
    "    x_auc = roc_auc_score(y,y_pred)\n",
    "    print('x_auc:',x_auc)\n",
    "    \n",
    "    y_pred = model.predict_proba(x_test)[:,1]\n",
    "    fpr_test,tpr_test,_ = roc_curve(y_test,y_pred)\n",
    "    x_test_ks = abs(fpr_test-tpr_test).max()\n",
    "    print('x_test_ks:',x_test_ks)\n",
    "    x_test_auc = roc_auc_score(y_test,y_pred)\n",
    "    print('x_test_auc:',x_test_auc)\n",
    "    \n",
    "    from matplotlib import pyplot as plt\n",
    "    plt.plot(fpr,tpr,label='x')\n",
    "    plt.plot(fpr_test,tpr_test,label='x_test')\n",
    "    plt.plot([0,1],[0,1],'k--')\n",
    "    plt.xlabel('False positive rate')\n",
    "    plt.ylabel('True positive rate')\n",
    "    plt.title('ROC CURVE')\n",
    "    plt.legend(loc='best')\n",
    "    plt.show()\n",
    "\n"
   ],
   "metadata": {
    "collapsed": false,
    "ExecuteTime": {
     "end_time": "2025-08-25T20:35:01.177270800Z",
     "start_time": "2025-08-25T20:35:01.134219100Z"
    }
   },
   "id": "5ee41fb69837ce0a"
  },
  {
   "cell_type": "code",
   "execution_count": 178,
   "outputs": [
    {
     "data": {
      "text/plain": "        DAYS_BIRTH  DAYS_EMPLOYED  REGION_RATING_CLIENT_W_CITY  \\\n111026   -0.057307      -0.299790                     0.379401   \n111731    0.314966       0.346783                    -0.019092   \n71962    -0.057307      -0.299790                    -0.019092   \n262442    0.314966      -0.299790                    -0.019092   \n285962   -0.461107      -0.425346                    -0.019092   \n\n        AMT_GOODS_PRICE  EXT_SOURCE_1  EXT_SOURCE_2  EXT_SOURCE_3  \\\n111026         0.280778      0.059653     -0.024724     -0.536881   \n111731        -0.369444      0.059653     -0.433897     -0.536881   \n71962          0.280778      0.059653     -0.024724     -0.536881   \n262442        -0.048267     -0.307442     -0.719424      0.150675   \n285962        -0.030156      0.059653     -1.127877     -0.941891   \n\n        NAME_INCOME_TYPE  OCCUPATION_TYPE  ORGANIZATION_TYPE  PAYMENT_RATE  \\\n111026          0.188671         0.296605           0.252281      0.681557   \n111731         -0.084208         0.296605          -0.069765     -0.261624   \n71962           0.188671        -0.261897           0.252281      0.095865   \n262442         -0.084208        -0.261897           0.150505     -0.407766   \n285962         -0.408665        -0.261897          -0.439746      0.390900   \n\n        DAYS_FIRST_DUE_AVG  DAYS_LAST_DUE_1ST_VERSION_SUM  Pass_rate  \\\n111026           -0.230996                      -0.042733   0.169652   \n111731            0.531387                       0.407109  -0.140983   \n71962             0.249919                       0.195682  -0.140983   \n262442           -0.287930                      -0.235353  -0.335896   \n285962            0.249919                       0.407109  -0.140983   \n\n        581D_Number_of_Refused  1300D_NAME_YIELD_GROUP_MAX  \n111026               -0.116590                    0.403751  \n111731               -0.116590                    0.176398  \n71962                -0.116590                   -0.054110  \n262442               -0.335896                    0.176398  \n285962               -0.116590                   -0.385796  ",
      "text/html": "<div>\n<style scoped>\n    .dataframe tbody tr th:only-of-type {\n        vertical-align: middle;\n    }\n\n    .dataframe tbody tr th {\n        vertical-align: top;\n    }\n\n    .dataframe thead th {\n        text-align: right;\n    }\n</style>\n<table border=\"1\" class=\"dataframe\">\n  <thead>\n    <tr style=\"text-align: right;\">\n      <th></th>\n      <th>DAYS_BIRTH</th>\n      <th>DAYS_EMPLOYED</th>\n      <th>REGION_RATING_CLIENT_W_CITY</th>\n      <th>AMT_GOODS_PRICE</th>\n      <th>EXT_SOURCE_1</th>\n      <th>EXT_SOURCE_2</th>\n      <th>EXT_SOURCE_3</th>\n      <th>NAME_INCOME_TYPE</th>\n      <th>OCCUPATION_TYPE</th>\n      <th>ORGANIZATION_TYPE</th>\n      <th>PAYMENT_RATE</th>\n      <th>DAYS_FIRST_DUE_AVG</th>\n      <th>DAYS_LAST_DUE_1ST_VERSION_SUM</th>\n      <th>Pass_rate</th>\n      <th>581D_Number_of_Refused</th>\n      <th>1300D_NAME_YIELD_GROUP_MAX</th>\n    </tr>\n  </thead>\n  <tbody>\n    <tr>\n      <th>111026</th>\n      <td>-0.057307</td>\n      <td>-0.299790</td>\n      <td>0.379401</td>\n      <td>0.280778</td>\n      <td>0.059653</td>\n      <td>-0.024724</td>\n      <td>-0.536881</td>\n      <td>0.188671</td>\n      <td>0.296605</td>\n      <td>0.252281</td>\n      <td>0.681557</td>\n      <td>-0.230996</td>\n      <td>-0.042733</td>\n      <td>0.169652</td>\n      <td>-0.116590</td>\n      <td>0.403751</td>\n    </tr>\n    <tr>\n      <th>111731</th>\n      <td>0.314966</td>\n      <td>0.346783</td>\n      <td>-0.019092</td>\n      <td>-0.369444</td>\n      <td>0.059653</td>\n      <td>-0.433897</td>\n      <td>-0.536881</td>\n      <td>-0.084208</td>\n      <td>0.296605</td>\n      <td>-0.069765</td>\n      <td>-0.261624</td>\n      <td>0.531387</td>\n      <td>0.407109</td>\n      <td>-0.140983</td>\n      <td>-0.116590</td>\n      <td>0.176398</td>\n    </tr>\n    <tr>\n      <th>71962</th>\n      <td>-0.057307</td>\n      <td>-0.299790</td>\n      <td>-0.019092</td>\n      <td>0.280778</td>\n      <td>0.059653</td>\n      <td>-0.024724</td>\n      <td>-0.536881</td>\n      <td>0.188671</td>\n      <td>-0.261897</td>\n      <td>0.252281</td>\n      <td>0.095865</td>\n      <td>0.249919</td>\n      <td>0.195682</td>\n      <td>-0.140983</td>\n      <td>-0.116590</td>\n      <td>-0.054110</td>\n    </tr>\n    <tr>\n      <th>262442</th>\n      <td>0.314966</td>\n      <td>-0.299790</td>\n      <td>-0.019092</td>\n      <td>-0.048267</td>\n      <td>-0.307442</td>\n      <td>-0.719424</td>\n      <td>0.150675</td>\n      <td>-0.084208</td>\n      <td>-0.261897</td>\n      <td>0.150505</td>\n      <td>-0.407766</td>\n      <td>-0.287930</td>\n      <td>-0.235353</td>\n      <td>-0.335896</td>\n      <td>-0.335896</td>\n      <td>0.176398</td>\n    </tr>\n    <tr>\n      <th>285962</th>\n      <td>-0.461107</td>\n      <td>-0.425346</td>\n      <td>-0.019092</td>\n      <td>-0.030156</td>\n      <td>0.059653</td>\n      <td>-1.127877</td>\n      <td>-0.941891</td>\n      <td>-0.408665</td>\n      <td>-0.261897</td>\n      <td>-0.439746</td>\n      <td>0.390900</td>\n      <td>0.249919</td>\n      <td>0.407109</td>\n      <td>-0.140983</td>\n      <td>-0.116590</td>\n      <td>-0.385796</td>\n    </tr>\n  </tbody>\n</table>\n</div>"
     },
     "execution_count": 178,
     "metadata": {},
     "output_type": "execute_result"
    }
   ],
   "source": [
    "x_train_woe_stp.head()"
   ],
   "metadata": {
    "collapsed": false,
    "ExecuteTime": {
     "end_time": "2025-08-25T19:08:09.778725300Z",
     "start_time": "2025-08-25T19:08:09.768332500Z"
    }
   },
   "id": "626509571338c981"
  },
  {
   "cell_type": "code",
   "execution_count": 180,
   "outputs": [
    {
     "name": "stdout",
     "output_type": "stream",
     "text": [
      "x_ks: 0.3720603214065418\n",
      "x_auc: 0.7485959389322648\n",
      "x_test_ks: 0.36742142849225845\n",
      "x_test_auc: 0.7421374605525951\n"
     ]
    },
    {
     "data": {
      "text/plain": "<Figure size 640x480 with 1 Axes>",
      "image/png": "[encoded data removed]"
     },
     "metadata": {},
     "output_type": "display_data"
    },
    {
     "data": {
      "text/plain": "<function __main__.lr_model(x, y, x_test, y_test, C=0.1)>"
     },
     "execution_count": 180,
     "metadata": {},
     "output_type": "execute_result"
    }
   ],
   "source": [
    "lr_model(x_train_woe_stp,y_train,x_test_woe_stp,y_test,C=0.1)\n",
    "lr_model"
   ],
   "metadata": {
    "collapsed": false,
    "ExecuteTime": {
     "end_time": "2025-08-25T20:35:03.644935Z",
     "start_time": "2025-08-25T20:35:02.573718700Z"
    }
   },
   "id": "b31902650190d1f4"
  },
  {
   "cell_type": "code",
   "execution_count": 181,
   "outputs": [
    {
     "name": "stdout",
     "output_type": "stream",
     "text": [
      "Fitting 5 folds for each of 8 candidates, totalling 40 fits\n",
      "最优参数: {'C': 0.1, 'penalty': 'l1', 'solver': 'liblinear'}\n",
      "最优AUC: 0.7483893774570707\n"
     ]
    }
   ],
   "source": [
    "from sklearn.model_selection import GridSearchCV,StratifiedKFold\n",
    "param_grid = {'C':[0.01,0.1,1,10],'penalty':['l1','l2'],'solver':['liblinear']}\n",
    "model = LogisticRegression(C=0.1,class_weight='balanced')\n",
    "grd = GridSearchCV(estimator=model,param_grid=param_grid,scoring='roc_auc',cv=StratifiedKFold(n_splits=5,shuffle=True,random_state=22),n_jobs=-1,refit=True,verbose=1)\n",
    "grd.fit(x_train_woe_stp,y_train)\n",
    "print('最优参数:',grd.best_params_)\n",
    "print('最优AUC:',grd.best_score_)"
   ],
   "metadata": {
    "collapsed": false,
    "ExecuteTime": {
     "end_time": "2025-08-25T20:35:36.289572Z",
     "start_time": "2025-08-25T20:35:23.120327100Z"
    }
   },
   "id": "e44afe9df9b0b4bb"
  },
  {
   "cell_type": "code",
   "execution_count": null,
   "outputs": [],
   "source": [
    "# print('top 10 features with high iv')\n",
    "# display(toad.quality(application_train.drop('SK_ID_CURR',axis=1),'TARGET',iv_only=True)[:10])\n",
    "# print('last 10 features with low iv')\n",
    "# display(toad.quality(application_train.drop('SK_ID_CURR',axis=1),'TARGET',iv_only=True)[-10:])"
   ],
   "metadata": {
    "collapsed": false,
    "ExecuteTime": {
     "end_time": "2025-08-24T04:58:47.153336600Z",
     "start_time": "2025-08-24T04:58:47.150336800Z"
    }
   },
   "id": "16330cba097a3311"
  }
 ],
 "metadata": {
  "kernelspec": {
   "display_name": "Python 3",
   "language": "python",
   "name": "python3"
  },
  "language_info": {
   "codemirror_mode": {
    "name": "ipython",
    "version": 2
   },
   "file_extension": ".py",
   "mimetype": "text/x-python",
   "name": "python",
   "nbconvert_exporter": "python",
   "pygments_lexer": "ipython2",
   "version": "2.7.6"
  }
 },
 "nbformat": 4,
 "nbformat_minor": 5
}
